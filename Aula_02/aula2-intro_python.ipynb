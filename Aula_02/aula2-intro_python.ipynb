{
 "cells": [
  {
   "cell_type": "markdown",
   "metadata": {},
   "source": [
    "<font size=\"4\">\n",
    "<h1>Introdução à programação em Python</h1>\n",
    "\n",
    "<p>Neste notebook, vamos aprender alguns elementos básicos de programação em Python.</p>\n",
    "\n",
    "<p>Lembre-se que para executar uma célula de código, basta clicar nela e digitar `SHIFT+ENTER`.</p>\n",
    "\n",
    "<p>Você deve ler os textos e ir executando as células de código para fixar o aprendizado.</p>\n",
    "\n",
    "<hr>\n",
    "\n",
    "<h2>Variáveis</h2>\n",
    "\n",
    "<p>Uma variável é uma porção de memória que guarda um valor. Ela tem um nome que a identifica.</p>\n",
    "\n",
    "<p>Uma expressão da forma `variavel = valor` é chamada de <b>atribuição</b>.</p>\n",
    "\n",
    "<p>Comandos de atribuição servem para atribuir valores à variáveis.</p>\n",
    "\n",
    "</font>"
   ]
  },
  {
   "cell_type": "code",
   "execution_count": 1,
   "metadata": {},
   "outputs": [
    {
     "name": "stdout",
     "output_type": "stream",
     "text": [
      "21\n"
     ]
    }
   ],
   "source": [
    "var = 21   # comando de atribuição (atribuindo o valor 6 à variável \"var\")\n",
    "print(var)  # comando de impressão (para mostrar um valor na tela)"
   ]
  },
  {
   "cell_type": "markdown",
   "metadata": {},
   "source": [
    "<font size=4><p>O conceito de variável em programação é diferente do conceito matemático. Aqui, você pode mudar o conteúdo de uma variável a qualquer momento.</p>"
   ]
  },
  {
   "cell_type": "code",
   "execution_count": 2,
   "metadata": {},
   "outputs": [
    {
     "name": "stdout",
     "output_type": "stream",
     "text": [
      "666\n",
      "5.2\n",
      "Hello World\n"
     ]
    }
   ],
   "source": [
    "var = 666   # valor inteiro\n",
    "print(var)\n",
    "var = 5.2   # valor decimal\n",
    "print(var)\n",
    "var = \"Hello World\"  # texto\n",
    "print(var)"
   ]
  },
  {
   "cell_type": "markdown",
   "metadata": {},
   "source": [
    "<font size=\"4\"><p>Nomes de variáveis só podem conter letras (maiúsculas ou minúsculas, mas sem acentos), números e o símbolo underline ( _ ) e, além disso, nunca podem começar com número.</p>\n",
    "\n",
    "<p>Nomes de variáveis devem ser descritivos, mas procure não usar nomes muito grandes.</p>\n",
    "</font>"
   ]
  },
  {
   "cell_type": "code",
   "execution_count": 3,
   "metadata": {},
   "outputs": [
    {
     "name": "stdout",
     "output_type": "stream",
     "text": [
      "-5\n"
     ]
    }
   ],
   "source": [
    "numero = -5\n",
    "print(numero)"
   ]
  },
  {
   "cell_type": "code",
   "execution_count": 4,
   "metadata": {},
   "outputs": [
    {
     "name": "stdout",
     "output_type": "stream",
     "text": [
      "O nome da professora é Fabiana\n"
     ]
    }
   ],
   "source": [
    "nome_professora = \"Fabiana\"\n",
    "print(\"O nome da professora é\", nome_professora)"
   ]
  },
  {
   "cell_type": "code",
   "execution_count": 5,
   "metadata": {},
   "outputs": [
    {
     "name": "stdout",
     "output_type": "stream",
     "text": [
      "12.4\n",
      "56\n"
     ]
    }
   ],
   "source": [
    "Valor1 = 12.4\n",
    "print(Valor1)\n",
    "Valor2 = 56\n",
    "print(Valor2)"
   ]
  },
  {
   "cell_type": "code",
   "execution_count": 6,
   "metadata": {},
   "outputs": [
    {
     "name": "stdout",
     "output_type": "stream",
     "text": [
      "4\n"
     ]
    }
   ],
   "source": [
    "# 3invalido = 4 - Ao fazer isso dá erro\n",
    "# print(3invalido)\n",
    "\n",
    "valido = 4\n",
    "print(valido)"
   ]
  },
  {
   "cell_type": "markdown",
   "metadata": {},
   "source": [
    "<font size=\"4\"><p>Execute as próximas células e veja um erro comum que pode acontecer:</p>\n",
    "</font>"
   ]
  },
  {
   "cell_type": "code",
   "execution_count": 7,
   "metadata": {},
   "outputs": [
    {
     "name": "stdout",
     "output_type": "stream",
     "text": [
      "Carla Negri Lintzmayer\n"
     ]
    }
   ],
   "source": [
    "# nome_professora = \"Carla Negri Lintzmayer\"\n",
    "# print(nome_profesora) // O nome da variável está diferente\n",
    "\n",
    "nome_professora = \"Carla Negri Lintzmayer\"\n",
    "print(nome_professora) "
   ]
  },
  {
   "cell_type": "code",
   "execution_count": 8,
   "metadata": {},
   "outputs": [
    {
     "name": "stdout",
     "output_type": "stream",
     "text": [
      "A sala de aula é L502\n"
     ]
    }
   ],
   "source": [
    "# sala_de_aula = \"L502\"\n",
    "# print(\"A sala de aula é\", Sala_de_aula) // O nome da variável está diferente\n",
    "\n",
    "sala_de_aula = \"L502\"\n",
    "print(\"A sala de aula é\", sala_de_aula)"
   ]
  },
  {
   "cell_type": "markdown",
   "metadata": {},
   "source": [
    "<font size=4>Quais foram os erros? <b>Volte e conserte-os.</b></font>"
   ]
  },
  {
   "cell_type": "markdown",
   "metadata": {},
   "source": [
    "<font size=4><hr><h2>Números</h2>\n",
    "\n",
    "<p>Lidar com números é bem fácil em Python.</p>\n",
    "    \n",
    "<h3>Inteiros</h3>\n",
    "\n",
    "<p>Você pode fazer todas as operações básicas com inteiros: adição com símbolo `+`, subtração com símbolo `-`, multiplicação com símbolo `*`, divisão exata com símbolo `/`, divisão inteira com símbolo `//`, resto de divisão com símbolo `%` e exponenciação com símbolo `**`.</p>\n",
    "</font>"
   ]
  },
  {
   "cell_type": "code",
   "execution_count": 9,
   "metadata": {},
   "outputs": [
    {
     "name": "stdout",
     "output_type": "stream",
     "text": [
      "71\n"
     ]
    }
   ],
   "source": [
    "print(4 + 67)"
   ]
  },
  {
   "cell_type": "code",
   "execution_count": 10,
   "metadata": {},
   "outputs": [
    {
     "name": "stdout",
     "output_type": "stream",
     "text": [
      "5\n"
     ]
    }
   ],
   "source": [
    "print(9 - 4)"
   ]
  },
  {
   "cell_type": "code",
   "execution_count": 11,
   "metadata": {},
   "outputs": [
    {
     "name": "stdout",
     "output_type": "stream",
     "text": [
      "6\n"
     ]
    }
   ],
   "source": [
    "print(3 * 2)"
   ]
  },
  {
   "cell_type": "code",
   "execution_count": 12,
   "metadata": {},
   "outputs": [
    {
     "name": "stdout",
     "output_type": "stream",
     "text": [
      "3.8\n"
     ]
    }
   ],
   "source": [
    "# o símbolo \"/\" indica divisão exata\n",
    "print(19 / 5)"
   ]
  },
  {
   "cell_type": "code",
   "execution_count": 13,
   "metadata": {},
   "outputs": [
    {
     "name": "stdout",
     "output_type": "stream",
     "text": [
      "3\n"
     ]
    }
   ],
   "source": [
    "# o símbolo \"//\" indica divisão inteira\n",
    "print(19 // 5)"
   ]
  },
  {
   "cell_type": "code",
   "execution_count": 14,
   "metadata": {},
   "outputs": [
    {
     "name": "stdout",
     "output_type": "stream",
     "text": [
      "4\n"
     ]
    }
   ],
   "source": [
    "# o símbolo \"%\" indica o resto da divisão\n",
    "print(19 % 5)"
   ]
  },
  {
   "cell_type": "code",
   "execution_count": 15,
   "metadata": {},
   "outputs": [
    {
     "name": "stdout",
     "output_type": "stream",
     "text": [
      "9\n"
     ]
    }
   ],
   "source": [
    "# o símbolo \"**\" indica exponenciação\n",
    "print(3**2)"
   ]
  },
  {
   "cell_type": "markdown",
   "metadata": {},
   "source": [
    "<font size=4><p>Você pode criar expressões maiores, que utilizem mais de um operador ao mesmo tempo.</p>\n",
    "    \n",
    "<p>Tente adivinhar o resultado da expressão a seguir antes de executá-la:</p>\n",
    "\n",
    "</font>"
   ]
  },
  {
   "cell_type": "code",
   "execution_count": 16,
   "metadata": {},
   "outputs": [
    {
     "name": "stdout",
     "output_type": "stream",
     "text": [
      "13.0\n"
     ]
    }
   ],
   "source": [
    "print(4 + 3 * 5 - 8 + 2**3 / 4) #[(4 + (3 * 5) - 8 + ((2**3) / 4)] = 13"
   ]
  },
  {
   "cell_type": "markdown",
   "metadata": {},
   "source": [
    "<font size=4><p>O Python executa as operações na seguinte ordem:</p>\n",
    "<ul>\n",
    "<li>`**`, `¬`</li>\n",
    "<li>`*`, `/`, `//` e `%`</li>\n",
    "<li>`+` e `-` </li>\n",
    "</ul>\n",
    "<p> Na dúvida, você pode colocar parênteses para deixar a ordem clara.</p></font>"
   ]
  },
  {
   "cell_type": "code",
   "execution_count": 17,
   "metadata": {},
   "outputs": [
    {
     "name": "stdout",
     "output_type": "stream",
     "text": [
      "16\n"
     ]
    }
   ],
   "source": [
    "ordem_padrao = 1 + 5 * 3 # 1 + (5 * 3) = 16\n",
    "print(ordem_padrao)"
   ]
  },
  {
   "cell_type": "code",
   "execution_count": 18,
   "metadata": {},
   "outputs": [
    {
     "name": "stdout",
     "output_type": "stream",
     "text": [
      "18\n"
     ]
    }
   ],
   "source": [
    "minha_ordem = (1 + 5) * 3 # 18\n",
    "print(minha_ordem)"
   ]
  },
  {
   "cell_type": "markdown",
   "metadata": {},
   "source": [
    "<font size=4>Note pelos exemplos anteriores que também podemos atribuir resultados de expressões a variáveis.</font>"
   ]
  },
  {
   "cell_type": "markdown",
   "metadata": {},
   "source": [
    "<font size=\"4\">\n",
    "<h4>Faça você mesmo!</h4>\n",
    "\n",
    "<p>Coloque parênteses abaixo de modo que a resposta seja `600`</p>\n",
    "\n",
    "<p>*Dica:* Tente fazer com que `2**3-1+2` seja `6` e depois seja multiplicado por `100`.</p>\n",
    "</font>"
   ]
  },
  {
   "cell_type": "code",
   "execution_count": 19,
   "metadata": {},
   "outputs": [
    {
     "name": "stdout",
     "output_type": "stream",
     "text": [
      "600\n"
     ]
    }
   ],
   "source": [
    "expressao = ((2 ** (3 - 1)) + 2) * 100\n",
    "print(expressao)"
   ]
  },
  {
   "cell_type": "markdown",
   "metadata": {},
   "source": [
    "<font size=\"4\">\n",
    "<h4>Faça você mesmo!</h4>\n",
    "\n",
    "<p> João faz 10 anos de idade hoje, neste exato momento!</p>\n",
    "<p>Na célula abaixo, calcule quantos segundos de vida ele acabou de comemorar.</p>\n",
    "    \n",
    "<p>Suponha que um ano sempre tem 365 dias, ou seja, ignore os anos bissextos.</p>\n",
    "</font>"
   ]
  },
  {
   "cell_type": "code",
   "execution_count": 20,
   "metadata": {},
   "outputs": [
    {
     "name": "stdout",
     "output_type": "stream",
     "text": [
      "315360000 seg\n"
     ]
    }
   ],
   "source": [
    "expressao = ((((60 * 60) * 24) * 365) * 10)\n",
    "print(expressao,\"seg\")"
   ]
  },
  {
   "cell_type": "markdown",
   "metadata": {},
   "source": [
    "<font size=\"2\">\n",
    "<p>Para salvar o seu trabalho, cliquem em `File > Save and Checkpoint` ou no ícone do disquete.</p>\n",
    "\n",
    "<p>Mas se você estiver usando jupyter em um site, ele não salva arquivos!</p>\n",
    "\n",
    "<p>Nesse caso, clique em <b><i>File > Download as > IPython Notebook (.ipynb)</i></b> para baixar uma cópia para o seu computador. Baixe cópias frequentemente para não perder o seu trabalho!</p>\n",
    "</font>"
   ]
  },
  {
   "cell_type": "markdown",
   "metadata": {},
   "source": [
    "<font size=4><h3>Pontos flutuantes</h3>\n",
    "    \n",
    "<p>Números de ponto flutuante se referem a números com casas decimais e em geral eles vão se comportar como tais.</p>\n",
    "\n",
    "</font>"
   ]
  },
  {
   "cell_type": "code",
   "execution_count": 21,
   "metadata": {},
   "outputs": [
    {
     "name": "stdout",
     "output_type": "stream",
     "text": [
      "0.2\n",
      "0.596\n"
     ]
    }
   ],
   "source": [
    "print(0.1 + 0.1)\n",
    "print(0.366 + 0.23)"
   ]
  },
  {
   "cell_type": "code",
   "execution_count": 23,
   "metadata": {
    "scrolled": true
   },
   "outputs": [
    {
     "name": "stdout",
     "output_type": "stream",
     "text": [
      "2.16\n",
      "0.25568\n"
     ]
    }
   ],
   "source": [
    "print(0.54 * 4)\n",
    "print(0.544 * 0.47)"
   ]
  },
  {
   "cell_type": "markdown",
   "metadata": {},
   "source": [
    "<font size=4><p>Porém pode ser que às vezes o resultado não saia como esperado:</p>"
   ]
  },
  {
   "cell_type": "code",
   "execution_count": 23,
   "metadata": {},
   "outputs": [
    {
     "name": "stdout",
     "output_type": "stream",
     "text": [
      "0.30000000000000004\n"
     ]
    }
   ],
   "source": [
    "print(0.1 + 0.2)"
   ]
  },
  {
   "cell_type": "markdown",
   "metadata": {},
   "source": [
    "<font size=4><p>Isso acontece devido à forma como os computadores armazenam os números de ponto flutuante: não tem nada a ver com Python ou com você ter feito algo errado.</p>\n",
    "    \n",
    "<p>Mas não se preocupe com isso, esse exemplo foi apenas para que você não se surpreenda em outros momentos.</p>\n",
    "\n",
    "<p>Em disciplinas futuras você entenderá isso melhor.</p>\n",
    "\n",
    "</font>"
   ]
  },
  {
   "cell_type": "markdown",
   "metadata": {},
   "source": [
    "<font size=\"4\"><hr>\n",
    "<h2>Strings</h2>\n",
    "\n",
    "<p>Conjuntos de caracteres em linguagens de programação são chamados de \"strings\".</p>\n",
    "    \n",
    "<p>Strings em Python são qualquer conjunto de caracteres que estejam dentro de aspas.</p>\n",
    "</font>"
   ]
  },
  {
   "cell_type": "code",
   "execution_count": 24,
   "metadata": {},
   "outputs": [
    {
     "name": "stdout",
     "output_type": "stream",
     "text": [
      "essa é uma string válida\n",
      "Essa também, mesmo contendo números (3 5 4) e símbolos (* $ & @ %)\n"
     ]
    }
   ],
   "source": [
    "uma_string = \"essa é uma string válida\"\n",
    "print(uma_string)\n",
    "outra_string = \"Essa também, mesmo contendo números (3 5 4) e símbolos (* $ & @ %)\"\n",
    "print(outra_string)"
   ]
  },
  {
   "cell_type": "markdown",
   "metadata": {},
   "source": [
    "<font size=4><p>O operador `+` funciona em strings como um concatenador: ele une em uma só as strings que estiverem ao seu redor.</p></font>"
   ]
  },
  {
   "cell_type": "code",
   "execution_count": 25,
   "metadata": {},
   "outputs": [
    {
     "name": "stdout",
     "output_type": "stream",
     "text": [
      "CarlaNegriLintzmayer\n",
      "Carla Negri Lintzmayer\n"
     ]
    }
   ],
   "source": [
    "nome = \"Carla\"\n",
    "sobrenome1 = \"Negri\"\n",
    "sobrenome2 = \"Lintzmayer\"\n",
    "print(nome + sobrenome1 + sobrenome2)\n",
    "print(nome + \" \" + sobrenome1 + \" \" + sobrenome2)"
   ]
  },
  {
   "cell_type": "markdown",
   "metadata": {},
   "source": [
    "<font size=4><hr><h2>Mais sobre atribuições</h2>\n",
    "    \n",
    "<p>Vimos que variáveis podem receber valores (inteiros, pontos flutuantes ou strings).</p>\n",
    "\n",
    "<p>Vimos também que elas podem receber resultados de expressões envolvendo esses valores (`soma = 2 + 5`).</p>\n",
    "\n",
    "<p>Mas variáveis também podem receber resultados de expressões que envolvem outras variáveis. Veja a seguir.</p></font>"
   ]
  },
  {
   "cell_type": "code",
   "execution_count": 3,
   "metadata": {},
   "outputs": [
    {
     "name": "stdout",
     "output_type": "stream",
     "text": [
      "10\n"
     ]
    }
   ],
   "source": [
    "x = 3\n",
    "f = 2 * x + 4\n",
    "print(f)"
   ]
  },
  {
   "cell_type": "markdown",
   "metadata": {},
   "source": [
    "<font size=4><p>No código anterior, `x` é utilizada na expressão que é atribuída a `f`. Como `x` tem um valor inteiro atribuído à ela, faz sentido multiplicá-la por `2` e então somar esse resultado com `4`.</p>\n",
    "\n",
    "<p>Mais especificamente, o que acontece é o seguinte:\n",
    "<ul>\n",
    "    <li> primeiro é calculado o valor da expressão `2 * x + 4`, onde `x` está bem definido com o valor `3`</li>\n",
    "    <li> em seguida guarda-se esse resultado na variável `f`</li>\n",
    "</ul></p>\n",
    "\n",
    "<p>Agora veja o código a seguir:</p></font>"
   ]
  },
  {
   "cell_type": "code",
   "execution_count": 4,
   "metadata": {},
   "outputs": [
    {
     "name": "stdout",
     "output_type": "stream",
     "text": [
      "7\n",
      "11\n"
     ]
    }
   ],
   "source": [
    "x = 7\n",
    "print(x)\n",
    "x = x + 4\n",
    "print(x)"
   ]
  },
  {
   "cell_type": "markdown",
   "metadata": {},
   "source": [
    "<font size=4><p>Achou essa expressão mais estranha que a anterior?</p>\n",
    "\n",
    "<p>Pois o que está acontecendo é exatamente a mesma coisa do exemplo anterior: primeiro é calculado o valor da expressão `x + 4` (onde `x` claramente vale 7) e então esse resultado é atribuído à variável `x` (pois uma variável pode receber qualquer valor).</p>\n",
    "\n",
    "<p>Assim, o novo valor de `x` é o valor anterior que ela tinha somado com o valor 4.</p>\n",
    "\n",
    "</font>"
   ]
  },
  {
   "cell_type": "markdown",
   "metadata": {},
   "source": [
    "<font size=4>Execute o exemplo a seguir para ver um erro comum que pode acontecer:</font>"
   ]
  },
  {
   "cell_type": "code",
   "execution_count": 26,
   "metadata": {},
   "outputs": [
    {
     "name": "stdout",
     "output_type": "stream",
     "text": [
      "68\n"
     ]
    }
   ],
   "source": [
    "resultado = 8\n",
    "expressao = resultado**2 + 4\n",
    "\n",
    "print(expressao)"
   ]
  },
  {
   "cell_type": "markdown",
   "metadata": {},
   "source": [
    "<font size=4>Moral da história: você pode usar variáveis em expressões, contanto que as variáveis estejam definidas (isto é, que estejam setadas, que elas tenham valores atribuídos a elas anteriormente).</font>"
   ]
  },
  {
   "cell_type": "markdown",
   "metadata": {},
   "source": [
    "<font size=\"4\">\n",
    "<h4>Exemplo</h4>\n",
    "\n",
    "<p>Vamos fazer o cálculo de conversão de temperatura de Celsius para Fahrenheit.</p>\n",
    "    \n",
    "<p>Se $C$ é o valor da temperatura em graus Celsius, então $\\frac{9}{5}C + 32$ é a temperatura em Fahrenheit.</p>\n",
    "\n",
    "<p>Veja a seguir um programa que faz esse cálculo.</p>\n",
    "\n",
    "</font>"
   ]
  },
  {
   "cell_type": "code",
   "execution_count": 27,
   "metadata": {},
   "outputs": [
    {
     "name": "stdout",
     "output_type": "stream",
     "text": [
      "131.0  F\n",
      "212.0  F\n",
      "373  K\n",
      "100  C\n",
      "212.0  F\n",
      "100  C\n",
      "373.15  K\n"
     ]
    }
   ],
   "source": [
    "C = 55\n",
    "# a expressão a seguir converte uma temperatura de Celsius para Fahrenheit\n",
    "F = C * 9/5 + 32\n",
    "print(F,\" F\")\n",
    "\n",
    "C = 100\n",
    "# a expressão a seguir converte uma temperatura de Celsius para Fahrenheit\n",
    "F = C * 9/5 + 32\n",
    "print(F,\" F\")\n",
    "\n",
    "C = 100\n",
    "# a expressão a seguir converte uma temperatura de Celsius para temperatura absoluta(K)\n",
    "TK = C + 273\n",
    "print(TK,\" K\")\n",
    "\n",
    "TK = 373\n",
    "# a expressão a seguir converte uma temperatura de Kelvin para temperatura Celsius(°C)\n",
    "C = TK - 273\n",
    "print(C,\" C\")\n",
    "\n",
    "C = 100\n",
    "# Para converter de Fahrenheit para Kelvin, primeiro converte de Fahrenheit para Celsius \n",
    "# e depois soma Celsius com 273.\n",
    "# a expressão a seguir converte uma temperatura de fahrenheit para Celsius\n",
    "# C = 5 * (F - 32) / 9 => T(C) + 273.15 = T(K)\n",
    "\n",
    "F = C * 9/5 + 32\n",
    "K = C + 273.15\n",
    "print(F,\" F\")\n",
    "print(C,\" C\")\n",
    "print(K,\" K\")"
   ]
  },
  {
   "cell_type": "markdown",
   "metadata": {},
   "source": [
    "<font size=\"4\">\n",
    "<p>Mas e se você quisesse converter 65 em vez de 55? Ou 39, ou 27?</p>\n",
    "\n",
    "<p>Basta voltar na linha em que você definiu `C = 55` e mudar para `C = 65` (ou qualquer outro valor desejado) e reexecutar a célula.</p>\n",
    "</font>"
   ]
  },
  {
   "cell_type": "markdown",
   "metadata": {},
   "source": [
    "<hr><font size=\"4\"><h4>Faça você mesmo!</h4>\n",
    "<p>Preencha a célula abaixo com os dados que você quiser para calcular a área de um trapézio cuja base menor é $b$, a base maior é $B$ e a altura é $h$.</p>\n",
    "    \n",
    "<p>Preencha também a fórmula para a área, que é dada por $$\\frac{(b+B)\\cdot h}{2}$$</p>\n",
    "\n",
    "<p>Não se esqueça de colocar todos os operadores (por exemplo o `*`).</p>\n",
    "</font>"
   ]
  },
  {
   "cell_type": "code",
   "execution_count": 28,
   "metadata": {},
   "outputs": [
    {
     "name": "stdout",
     "output_type": "stream",
     "text": [
      "32.0\n"
     ]
    }
   ],
   "source": [
    "b = 6\n",
    "B = 10\n",
    "h = 4\n",
    "area = ((B + b) * h) / 2 \n",
    "print(area)"
   ]
  },
  {
   "cell_type": "markdown",
   "metadata": {},
   "source": [
    "<font size=4><h3>Outro exemplo</h3>\n",
    "\n",
    "<p>No futuro, será útil fazer troca de valores entre variáveis.</p>\n",
    "    \n",
    "<p>Por exemplo, se temos as variáveis `x` com valor `4` e `y` com valor `-9`, vamos querer realizar uma troca de forma que `x` fique com o valor `-9` e `y` fique com o valor `4`.</p>\n",
    "\n",
    "<p>Se fizermos `x = y`, então estaremos atribuindo o valor `-9` a `x` e a primeira parte do problema está resolvida:</p>\n",
    "\n",
    "</font>"
   ]
  },
  {
   "cell_type": "code",
   "execution_count": 29,
   "metadata": {},
   "outputs": [
    {
     "name": "stdout",
     "output_type": "stream",
     "text": [
      "O valor de x é 4 e o valor de y é -9\n",
      "O valor de x é -9 e o valor de y é -9\n"
     ]
    }
   ],
   "source": [
    "x = 4\n",
    "y = -9\n",
    "print(\"O valor de x é\", x, \"e o valor de y é\", y)\n",
    "x = y\n",
    "print(\"O valor de x é\", x, \"e o valor de y é\", y)"
   ]
  },
  {
   "cell_type": "markdown",
   "metadata": {},
   "source": [
    "<font size=4><p>Mas agora o valor anterior de `x` o (`4`) se perdeu!</p>\n",
    "\n",
    "<p>Precisamos então de uma variável auxiliar, que guarde o valor anterior de `x` enquanto ele é atualizado para o novo valor.</p></font>"
   ]
  },
  {
   "cell_type": "code",
   "execution_count": 30,
   "metadata": {},
   "outputs": [
    {
     "name": "stdout",
     "output_type": "stream",
     "text": [
      "O valor de x é 4 e o valor de y é -9\n",
      "O valor de x é -9 e o valor de y é 4\n"
     ]
    }
   ],
   "source": [
    "x = 4\n",
    "y = -9\n",
    "print(\"O valor de x é\", x, \"e o valor de y é\", y)\n",
    "\n",
    "# salve na variável \"aux\" o valor atual de x:\n",
    "aux = x # aux é igual a 4\n",
    "# agora atualize o valor de x:\n",
    "x = y # x é igual a -9\n",
    "# o valor de y recebe o antigo valor de x, que está salvo em \"aux\":\n",
    "y = aux # y é igual a 4\n",
    "print(\"O valor de x é\", x, \"e o valor de y é\", y)"
   ]
  },
  {
   "cell_type": "markdown",
   "metadata": {},
   "source": [
    "<font size=\"4\">\n",
    "    <hr>\n",
    "<h2>Entrada e saída</h2>\n",
    "\n",
    "<p>Todo programa de computador </p>\n",
    "<ul>\n",
    "<li>recebe dados de alguma fonte (teclado, mouse, arquivo, etc.), </li>\n",
    "<li>processa esses dados e, </li>\n",
    "<li>envia o resultado do processamento para algum lugar (tela, arquivo, impressora, web, etc.).</li>\n",
    "</ul>\n",
    "\n",
    "<p>Então, quando tratamos do fluxo de dados por um programa de computador, é comum classificar os dados como</p>\n",
    "<ul>\n",
    "<li>dados de entrada: são aqueles que o programa **recebe**</li>\n",
    "<li>dados de saída: são aqueles que programa **mostra** ao usuário</li>\n",
    "</ul>\n",
    "\n",
    "<h3>Mostrando dados (saída)</h3></font>"
   ]
  },
  {
   "cell_type": "markdown",
   "metadata": {},
   "source": [
    "<font size=\"4\">\n",
    "\n",
    "<p>A forma mais comum de mostrar dados ao usuário é usando a <font color = red>função</font> `print()`, que já estamos usando.</p>\n",
    "</font>"
   ]
  },
  {
   "cell_type": "code",
   "execution_count": 32,
   "metadata": {},
   "outputs": [
    {
     "name": "stdout",
     "output_type": "stream",
     "text": [
      "131.0 53.6\n",
      "131.0   53.6\n",
      "184.6\n"
     ]
    }
   ],
   "source": [
    "C = 55\n",
    "C2 = 12\n",
    "F = C * 9 / 5 + 32\n",
    "F2 = C2 * 9 / 5 + 32\n",
    "print(F,F2)\n",
    "print(F,\" \",F2)\n",
    "print(F+F2) # O resultado será 184.6"
   ]
  },
  {
   "cell_type": "markdown",
   "metadata": {},
   "source": [
    "<font size=\"4\">\n",
    "<p>Ela, a função print, pode receber vários valores entre vírgulas para imprimir.</p>\n",
    "</font>"
   ]
  },
  {
   "cell_type": "code",
   "execution_count": 33,
   "metadata": {},
   "outputs": [
    {
     "name": "stdout",
     "output_type": "stream",
     "text": [
      "55 graus Celcius equivale a 131.0 Fahrenheit\n"
     ]
    }
   ],
   "source": [
    "C = 55\n",
    "F = C * 9 / 5 + 32\n",
    "print(C,\"graus Celcius equivale a\",F,\"Fahrenheit\")"
   ]
  },
  {
   "cell_type": "markdown",
   "metadata": {},
   "source": [
    "<font size=\"4\">\n",
    "<h3>Recebendo dados (entrada)</h3>\n",
    "\n",
    "<p>É importante também que você aprenda a fazer perguntas ao usuário e saiba receber a reposta que ele dará.</p>\n",
    "\n",
    "<p>Para pedir que o usuário entre com um dado de texto, use a função `input()`. Veja os exemplos:</p>\n",
    "</font>"
   ]
  },
  {
   "cell_type": "code",
   "execution_count": 34,
   "metadata": {},
   "outputs": [
    {
     "name": "stdin",
     "output_type": "stream",
     "text": [
      "Qual é  seu nome?  Luis\n"
     ]
    },
    {
     "name": "stdout",
     "output_type": "stream",
     "text": [
      "Olá, Luis\n"
     ]
    },
    {
     "name": "stdin",
     "output_type": "stream",
     "text": [
      "Qual o sabor do sorvete?  Morango\n"
     ]
    },
    {
     "name": "stdout",
     "output_type": "stream",
     "text": [
      "Sabor Morango saindo\n"
     ]
    }
   ],
   "source": [
    "nome = input(\"Qual é  seu nome? \")\n",
    "print(\"Olá,\", nome)\n",
    "\n",
    "sorvete = input(\"Qual o sabor do sorvete? \")\n",
    "print(\"Sabor \"+ sorvete+\" saindo\")"
   ]
  },
  {
   "cell_type": "markdown",
   "metadata": {},
   "source": [
    "<font size=\"4\">\n",
    "<p>No código a seguir, tente entender o erro antes de prosseguir com a explicação:</p>\n",
    "</font>"
   ]
  },
  {
   "cell_type": "code",
   "execution_count": 35,
   "metadata": {},
   "outputs": [
    {
     "name": "stdin",
     "output_type": "stream",
     "text": [
      "Qual é a sua idade?  23\n"
     ]
    },
    {
     "name": "stdout",
     "output_type": "stream",
     "text": [
      "O dobro da sua idade é 2323\n"
     ]
    }
   ],
   "source": [
    "idade = input(\"Qual é a sua idade? \")\n",
    "dobro = idade + idade\n",
    "print(\"O dobro da sua idade é\", dobro)"
   ]
  },
  {
   "cell_type": "markdown",
   "metadata": {},
   "source": [
    "<font size=\"4\">\n",
    "<p>Se você digitou o valor, por exemplo, 18, então a resposta foi 1818 (ao invés de 36).</p>\n",
    "\n",
    "<p>O que acontece é que o Python assume que a entrada é uma string, independente do conteúdo.</p>\n",
    "</font>"
   ]
  },
  {
   "cell_type": "markdown",
   "metadata": {},
   "source": [
    "<font size=\"4\">\n",
    "<p>E o que fazer se queremos lidar com números ao invés de texto?</p>\n",
    "\n",
    "<p>Basta converter o texto para um número:</p>\n",
    "</font>"
   ]
  },
  {
   "cell_type": "code",
   "execution_count": 36,
   "metadata": {},
   "outputs": [
    {
     "name": "stdin",
     "output_type": "stream",
     "text": [
      "Qual é a sua idade?  44\n"
     ]
    },
    {
     "name": "stdout",
     "output_type": "stream",
     "text": [
      "O dobro da sua idade é 88\n"
     ]
    },
    {
     "name": "stdin",
     "output_type": "stream",
     "text": [
      "Qual é a sua idade?  44\n"
     ]
    },
    {
     "name": "stdout",
     "output_type": "stream",
     "text": [
      "O dobro da sua idade é 88\n"
     ]
    }
   ],
   "source": [
    "idade_texto = input(\"Qual é a sua idade? \")\n",
    "idade = int(idade_texto)\n",
    "dobro = idade + idade\n",
    "print(\"O dobro da sua idade é\", dobro)\n",
    "\n",
    "idade_int = int(input(\"Qual é a sua idade? \"))\n",
    "dobro = 2 * idade_int \n",
    "print(\"O dobro da sua idade é\", dobro)"
   ]
  },
  {
   "cell_type": "markdown",
   "metadata": {},
   "source": [
    "<font size=\"4\">\n",
    "<p>A linha `idade = int(idade_texto)` converte idade_texto para o tipo inteiro e guarda o resultado em `idade`.</p>\n",
    "\n",
    "<p>Escolhemos converter para inteiro pois consideramos idade como sendo um número inteiro.</p>\n",
    "\n",
    "<p>Se você precisar que o dado lido seja um número decimal, você pode fazer o seguinte:</p>\n",
    "</font>"
   ]
  },
  {
   "cell_type": "code",
   "execution_count": 48,
   "metadata": {},
   "outputs": [
    {
     "name": "stdin",
     "output_type": "stream",
     "text": [
      "Qual é a temperatura atual?  4\n"
     ]
    },
    {
     "name": "stdout",
     "output_type": "stream",
     "text": [
      "O dobro da temperatura atual é 8.0\n"
     ]
    },
    {
     "name": "stdin",
     "output_type": "stream",
     "text": [
      "Qual é a temperatura atual?  8\n"
     ]
    },
    {
     "name": "stdout",
     "output_type": "stream",
     "text": [
      "O dobro da temperatura atual é 16.0\n"
     ]
    }
   ],
   "source": [
    "temp_texto = input(\"Qual é a temperatura atual? \")\n",
    "temp = float(temp_texto)\n",
    "dobro = temp + temp\n",
    "print(\"O dobro da temperatura atual é\", dobro)\n",
    "\n",
    "temp_float = float(input(\"Qual é a temperatura atual? \"))\n",
    "dobro = 2 * temp_float\n",
    "print(\"O dobro da temperatura atual é\", dobro)"
   ]
  },
  {
   "cell_type": "markdown",
   "metadata": {},
   "source": [
    "<font size=\"4\">\n",
    "<h4>Faça você mesmo!</h4>\n",
    "<p>Escreva na célula abaixo um programa que auxilia na hora de fazer uma venda. Seu programa deve:</p>\n",
    "<ol>\n",
    "<li>perguntar e receber o preço do produto;</li>\n",
    "<li>perguntar e receber o número de parcelas em que o cliente deseja pagar (sem juros);</li>\n",
    "<li>mostrar o valor de cada parcela.</li>\n",
    "</ol>\n",
    "</font>"
   ]
  },
  {
   "cell_type": "code",
   "execution_count": 49,
   "metadata": {},
   "outputs": [
    {
     "name": "stdin",
     "output_type": "stream",
     "text": [
      "Qual é o preço do produto?  78\n",
      "Em quantas parcelas você deseja pagar?  3\n"
     ]
    },
    {
     "name": "stdout",
     "output_type": "stream",
     "text": [
      "O valor de cada parcela será:  26.0\n"
     ]
    }
   ],
   "source": [
    "preco = float(input(\"Qual é o preço do produto? \"))\n",
    "\n",
    "parcelas = int(input(\"Em quantas parcelas você deseja pagar? \"))\n",
    "\n",
    "valor_parc = preco / parcelas\n",
    "\n",
    "print(\"O valor de cada parcela será: \",valor_parc)\n"
   ]
  },
  {
   "cell_type": "markdown",
   "metadata": {},
   "source": [
    "<font size=4>\n",
    "    <hr>\n",
    "<h2>Listas</h2>\n",
    "    <p>Uma lista é uma coleção de valores quaisquer, mantidos em ordem. Ela é armazenada em uma única variável.</p>\n",
    "</font>"
   ]
  },
  {
   "cell_type": "code",
   "execution_count": 1,
   "metadata": {
    "scrolled": true
   },
   "outputs": [
    {
     "name": "stdout",
     "output_type": "stream",
     "text": [
      "{'terceiro', 'primeiro', 'segundo'}\n",
      "{'três', 'dois', 'um'}\n"
     ]
    }
   ],
   "source": [
    "lista_escola = {'primeiro', 'segundo', 'terceiro'} # Está desordenado porque a ordem foi trocada no comando um pouco abaixo\n",
    "list_One = {'um','dois','três'}\n",
    "\n",
    "print (lista_escola)\n",
    "\n",
    "print (list_One)\n"
   ]
  },
  {
   "cell_type": "markdown",
   "metadata": {},
   "source": [
    "<font size=4><p>Apesar de uma lista poder manter valores de qualquer tipo, é interessante que eles tenham alguma relação entre si.</p>"
   ]
  },
  {
   "cell_type": "code",
   "execution_count": 3,
   "metadata": {
    "scrolled": true
   },
   "outputs": [
    {
     "name": "stdout",
     "output_type": "stream",
     "text": [
      "('terça-feira', 8, 'L502', 'Carla')\n"
     ]
    }
   ],
   "source": [
    "#aula_bases = [\"terça-feira\", 8, \"L502\", \"Carla\"]\n",
    "aula_bases = (\"terça-feira\", 8, \"L502\", \"Carla\")\n",
    "print(aula_bases)"
   ]
  },
  {
   "cell_type": "markdown",
   "metadata": {},
   "source": [
    "<font size=4><p>Os valores são mantidos em ordem, como dissemos antes, e por isso eles podem ser acessados por meio de índices inteiros.</p>\n",
    "    \n",
    "<p>Em várias linguagens de computação, incluindo Python, o primeiro elemento da lista sempre está na posição 0.</p>\n",
    "\n",
    "<p>De forma geral: o i-ésimo elemento armazenado está na posição i-1.</p></font>"
   ]
  },
  {
   "cell_type": "code",
   "execution_count": 4,
   "metadata": {},
   "outputs": [
    {
     "name": "stdout",
     "output_type": "stream",
     "text": [
      "('primeiro', 'segundo', 'terceiro')\n",
      "\n",
      "terceiro\n",
      "primeiro\n",
      "segundo\n",
      "\n",
      "terceiro primeiro segundo\n"
     ]
    }
   ],
   "source": [
    "lista_escola = \"primeiro\", \"segundo\", \"terceiro\"\n",
    "\n",
    "print(lista_escola)\n",
    "print()\n",
    "print(lista_escola[2])\n",
    "print(lista_escola[0])\n",
    "print(lista_escola[1])\n",
    "print()\n",
    "print(lista_escola[2], lista_escola[0], lista_escola[1])"
   ]
  },
  {
   "cell_type": "code",
   "execution_count": 5,
   "metadata": {},
   "outputs": [
    {
     "name": "stdout",
     "output_type": "stream",
     "text": [
      "A aula de bases computacionais acontece toda terça-feira na sala L502\n"
     ]
    }
   ],
   "source": [
    "aula_bases = [\"terça-feira\", 8, \"L502\", \"Carla\"]\n",
    "print(\"A aula de bases computacionais acontece toda\", aula_bases[0], \"na sala\", aula_bases[2])"
   ]
  },
  {
   "cell_type": "markdown",
   "metadata": {},
   "source": [
    "<font size=4><h3>Listas numéricas</h3>\n",
    "    \n",
    "<p>No futuro, nos será útil criar listas que contenham apenas números.</p>\n",
    "\n",
    "<p>Por exemplo, a lista a seguir contém os 10 primeiros números inteiros.</p>\n",
    "\n",
    "</font>"
   ]
  },
  {
   "cell_type": "code",
   "execution_count": 5,
   "metadata": {},
   "outputs": [
    {
     "name": "stdout",
     "output_type": "stream",
     "text": [
      "[1, 2, 3, 4, 5, 6, 7, 8, 9, 10]\n"
     ]
    }
   ],
   "source": [
    "primeiros_10 = [1, 2, 3, 4, 5, 6, 7, 8, 9, 10]\n",
    "print(primeiros_10)"
   ]
  },
  {
   "cell_type": "markdown",
   "metadata": {},
   "source": [
    "<font size=4><p>É até fácil criá-la, mas e se precisássemos de uma lista com os 100 primeiros números inteiros? Ou os primeiros 1000?</p>\n",
    "    \n",
    "<p>Para isso, o Python fornece o comando `range()`.</p>\n",
    "\n",
    "<p>Seu resultado não é exatamente uma lista, mas podemos usar o comando `list()` para convertê-lo (como fizemos com `int()` e `float()` sobre o resultado do `input()`).</p>\n",
    "</font>"
   ]
  },
  {
   "cell_type": "code",
   "execution_count": 6,
   "metadata": {},
   "outputs": [
    {
     "name": "stdout",
     "output_type": "stream",
     "text": [
      "[1, 2, 3, 4, 5, 6, 7, 8, 9, 10, 11, 12, 13, 14, 15]\n",
      "\n",
      "[1, 2, 3, 4, 5, 6, 7, 8, 9, 10, 11, 12, 13, 14, 15, 16, 17, 18, 19, 20, 21, 22, 23, 24, 25, 26, 27, 28, 29]\n"
     ]
    }
   ],
   "source": [
    "x = 1\n",
    "y = 15\n",
    "primeiros_15 = list(range(x,y+1))\n",
    "print(primeiros_15)\n",
    "print() #Para pular uma linha\n",
    "primeiros_30 = list(range(1,30))\n",
    "print(primeiros_30)"
   ]
  },
  {
   "cell_type": "markdown",
   "metadata": {},
   "source": [
    "<font size=4><p>Note que `range(x,y)` cria uma lista com valores entre `x` e `y-1` (e não `y`).</p></font>"
   ]
  },
  {
   "cell_type": "code",
   "execution_count": 6,
   "metadata": {},
   "outputs": [
    {
     "name": "stdout",
     "output_type": "stream",
     "text": [
      "[6, 7, 8, 9, 10, 11, 12, 13, 14, 15, 16]\n"
     ]
    }
   ],
   "source": [
    "lista = list(range(6,17))\n",
    "print(lista)"
   ]
  },
  {
   "cell_type": "markdown",
   "metadata": {},
   "source": [
    "<font size=4>Se especificarmos um único valor, `range(x)`, o que teremos é uma lista com valores entre `0` e `x-1`.</font>"
   ]
  },
  {
   "cell_type": "code",
   "execution_count": 7,
   "metadata": {},
   "outputs": [
    {
     "name": "stdout",
     "output_type": "stream",
     "text": [
      "[0, 1, 2, 3, 4, 5, 6, 7]\n"
     ]
    }
   ],
   "source": [
    "lista = list(range(8))\n",
    "print(lista)"
   ]
  },
  {
   "cell_type": "markdown",
   "metadata": {},
   "source": [
    "<font size=4><p>Podemos ainda especificar um terceiro valor, que indica qual a diferença entre dois números da lista.</p>\n",
    "    \n",
    "<p>Isto é, `range(x,y,z)` cria uma lista que só possui valores entre `x` e `y-1`, começando em `x` e seguindo a cada `z` unidades.</p></font>"
   ]
  },
  {
   "cell_type": "code",
   "execution_count": 13,
   "metadata": {},
   "outputs": [
    {
     "name": "stdout",
     "output_type": "stream",
     "text": [
      "[6, 8, 10, 12, 14, 16]\n",
      "[1, 6, 11, 16, 21, 26, 31]\n"
     ]
    }
   ],
   "source": [
    "lista = list(range(6,17,2))\n",
    "print(lista)\n",
    "lista = list(range(1,32,5))\n",
    "print(lista)"
   ]
  },
  {
   "cell_type": "markdown",
   "metadata": {},
   "source": [
    "<font size=4><hr><h2>Agora é a sua vez!</h2>\n",
    "    \n",
    "<p>Resolva a lista de exercícios dessa aula para fixar melhor todo esse conteúdo!</p>\n",
    "\n",
    "<p>Boa sorte e não se esqueça de ir ao horário de atendimento da professora caso esteja com dúvidas ou tenha algum problema.</p>\n",
    "\n",
    "</font>"
   ]
  }
 ],
 "metadata": {
  "kernelspec": {
   "display_name": "Python 3 (ipykernel)",
   "language": "python",
   "name": "python3"
  },
  "language_info": {
   "codemirror_mode": {
    "name": "ipython",
    "version": 3
   },
   "file_extension": ".py",
   "mimetype": "text/x-python",
   "name": "python",
   "nbconvert_exporter": "python",
   "pygments_lexer": "ipython3",
   "version": "3.12.4"
  }
 },
 "nbformat": 4,
 "nbformat_minor": 4
}
