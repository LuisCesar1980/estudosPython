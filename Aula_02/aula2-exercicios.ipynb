{
 "cells": [
  {
   "cell_type": "markdown",
   "metadata": {},
   "source": [
    "<font size=4>\n",
    "<h1>Exercícios (para serem entregues)</h1>\n",
    "\n",
    "<p>Agora é sua vez: faça os exercícios para praticar os conceitos vistos na primeira aula de introdução à programação.</p>\n",
    "\n",
    "<p>Lembre-se de <b>salvar</b> sempre o seu notebook. Ele deverá ser <b>entregue pelo tidia</b> para que você receba sua nota!</p>\n",
    "\n",
    "</font>"
   ]
  },
  {
   "cell_type": "markdown",
   "metadata": {},
   "source": [
    "<h2>Questão 0 (exemplo)</h2>\n",
    "<p>Leia os gastos com cada refeição de um usuário e mostre o total gasto no dia.</p>\n",
    "\n",
    "<p><b>Entrada:</b> O programa deve receber o preço pago no almoço e em seguida o preço pago na janta, que são valores decimais.</p>\n",
    "\n",
    "<p><b>Saída:</b> A resposta deve ser no formato `Valor total gasto: x`, onde $x$ deve ser devidamente substituído.</p>\n"
   ]
  },
  {
   "cell_type": "code",
   "execution_count": 2,
   "metadata": {},
   "outputs": [
    {
     "name": "stdout",
     "output_type": "stream",
     "text": [
      "Entre com o valor gasto no almoço: 15.0\n",
      "Entre com o valor gasto na janta: 18.7\n",
      "Valor total gasto: 33.7\n"
     ]
    }
   ],
   "source": [
    "almoco = float(input(\"Entre com o valor gasto no almoço: \"))\n",
    "janta = float(input(\"Entre com o valor gasto na janta: \"))\n",
    "total = almoco + janta\n",
    "print(\"Valor total gasto:\", total)"
   ]
  },
  {
   "cell_type": "markdown",
   "metadata": {},
   "source": [
    "<h2>Questão 1</h2>\n",
    "<p>Leia um número inteiro e escreva o seu sucessor e seu antecessor.</p>\n",
    "\n",
    "<p><b>Entrada:</b> O programa deve receber um único número inteiro $x$.</p>\n",
    "\n",
    "<p><b>Saída:</b> A resposta deverá ser no formato `O sucessor de x é s e o antecessor é a`, onde $x$, $s$, e $a$ devem ser devidamente substituídos.</p>\n"
   ]
  },
  {
   "cell_type": "code",
   "execution_count": 4,
   "metadata": {},
   "outputs": [
    {
     "name": "stdout",
     "output_type": "stream",
     "text": [
      "Digite um número inteiro: 7\n",
      "O sucessor de  7  é  8  e o antecessor é  6\n"
     ]
    }
   ],
   "source": [
    "inteiro = int(input(\"Digite um número inteiro: \"))\n",
    "\n",
    "sucessor = inteiro + 1\n",
    "antecessor = inteiro - 1\n",
    "\n",
    "print(\"O sucessor de\",inteiro,\"é\",sucessor,\"e o antecessor é\",antecessor)"
   ]
  },
  {
   "cell_type": "markdown",
   "metadata": {},
   "source": [
    "<h2>Questão 2</h2>\n",
    "\n",
    "<p>Calcule o perímetro de um círculo.</p>\n",
    "\n",
    "<p><b>Entrada:</b> O programa deve receber o raio do círculo (número decimal).</p>\n",
    "    \n",
    "<p><b>Saída:</b> A resposta deverá ser no formato `O perímetro do círculo é x`, onde $x$ deve ser devidamente substituído.</p>\n",
    "\n",
    "obs.: Use  o valor `3.1415926` para $\\pi$ (atenção para o ponto ao invés de vírgula!). A fórmula para o perímetro é $2 \\pi r$, onde $r$ é o raio do círculo."
   ]
  },
  {
   "cell_type": "code",
   "execution_count": 5,
   "metadata": {},
   "outputs": [
    {
     "name": "stdout",
     "output_type": "stream",
     "text": [
      "Informe o raio do círculo: 3\n",
      "O perímetro do círculo é  18.849555600000002\n"
     ]
    }
   ],
   "source": [
    "raio = float(input(\"Informe o raio do círculo: \"))\n",
    "\n",
    "perim_circul = 2 * 3.1415926 * raio\n",
    "\n",
    "print(\"O perímetro do círculo é \",perim_circul)"
   ]
  },
  {
   "cell_type": "markdown",
   "metadata": {},
   "source": [
    "<h2>Questão 3</h2>\n",
    "<p>Calcule a autonomia de um carro com tanque cheio.</p>\n",
    "\n",
    "<p><b>Entrada:</b> O programa deve receber a capacidade do tanque de gasolina do carro (em litros) e em seguida o consumo de gasolina (em km/l).</p>\n",
    "\n",
    "<p><b>Saída:</b> A resposta deverá ser um único número decimal, que indica a autonomia do carro.</p>"
   ]
  },
  {
   "cell_type": "code",
   "execution_count": 6,
   "metadata": {},
   "outputs": [
    {
     "name": "stdout",
     "output_type": "stream",
     "text": [
      "Informe a capacidade do tanque de gasolina(em litros): 17\n",
      "Informe o consumo de gasolina (em km/L): 26\n",
      "A autonomia do carro com tanque cheio é  442.0 Km\n"
     ]
    }
   ],
   "source": [
    "tanque = float(input(\"Informe a capacidade do tanque de gasolina em litros: \"))\n",
    "\n",
    "consumo = float(input(\"Informe o consumo de gasolina em km/L: \")) \n",
    "\n",
    "autonomia = tanque * consumo                      \n",
    "\n",
    "print(\"A autonomia do carro com tanque cheio é\",autonomia,\"Km\")"
   ]
  },
  {
   "cell_type": "markdown",
   "metadata": {},
   "source": [
    "<h2>Questão 4</h2>\n",
    "\n",
    "<p>Calcule o volume de uma esfera.</p>\n",
    "\n",
    "<p><b>Entrada:</b> O programa deve receber o raio da esfera (número decimal).</p>\n",
    "    \n",
    "<p><b>Saída:</b> A resposta deverá ser no formato `O volume da esfera é x`, onde $x$ deve ser devidamente substituído.\n",
    "\n",
    "obs: lembre-se de que a fórmula para o cálculo do volume de uma esfera de raio $R$ é $$\\frac{4 \\pi R^3}{3}.$$"
   ]
  },
  {
   "cell_type": "code",
   "execution_count": 41,
   "metadata": {},
   "outputs": [
    {
     "name": "stdout",
     "output_type": "stream",
     "text": [
      "Entre com o raio da esfera: 3\n",
      "O volume da esfera é  113.0973336 cm³\n"
     ]
    }
   ],
   "source": [
    "raio = float(input(\"Entre com o raio da esfera: \"))\n",
    "\n",
    "volume = (4 * 3.1415926 * (raio**3))/3\n",
    "\n",
    "print(\"O volume da esfera é\",volume,\"cm³\")\n"
   ]
  },
  {
   "cell_type": "markdown",
   "metadata": {},
   "source": [
    "<h2>Questão 5</h2>\n",
    "\n",
    "<p> Calcule a média final de um aluno de Bases Computacionais da Ciência. Lembre-se de que a prova vale 45% da nota, o trabalho vale 35% e os exercícios valem 20%. </p>\n",
    "\n",
    "<p><b>Entrada:</b> O programa deve receber primeiro a nota da prova (decimal), em seguida a nota do trabalho (decimal) e por último a média dos exercícios (decimal).</p>\n",
    "    \n",
    "<p><b>Saída:</b> A resposta deverá ser um único valor decimal, que é a média final do aluno.</p>"
   ]
  },
  {
   "cell_type": "code",
   "execution_count": 7,
   "metadata": {},
   "outputs": [
    {
     "name": "stdout",
     "output_type": "stream",
     "text": [
      "Entre com a nota da prova: 8.5\n",
      "Entre com a nota do trabalho: 9\n",
      "Entre com a nota média dos exercícios: 8\n",
      "A sua média final em BCC é  8.575\n"
     ]
    }
   ],
   "source": [
    "prova = float(input(\"Entre com a nota da prova: \"))\n",
    "\n",
    "trabalho = float(input(\"Entre com a nota do trabalho: \"))\n",
    "\n",
    "exercicios = float(input(\"Entre com a nota média dos exercícios: \"))\n",
    "\n",
    "media_final = (prova * 0.45) + (trabalho * 0.35) + (exercicios * 0.20)\n",
    "\n",
    "print(\"A sua média final em BCC é \",media_final)"
   ]
  },
  {
   "cell_type": "markdown",
   "metadata": {},
   "source": [
    "<h2>Questão 6</h2>\n",
    "<p> Calcule a distância entre dois pontos quaisquer do plano $(x_1,y_1)$ e $(x_2,y_2)$, segundo a fórmula $$\\sqrt{(x_2 - x_1)^2 + (y_2 - y_1)^2}.$$</p>\n",
    "\n",
    "<p><b>Entrada:</b> O programa deverá receber quatro valores decimais quaisquer $x_1$, $y_1$, $x_2$ e $y_2$, nessa ordem, que representam os pontos $(x_1,y_1)$ e $(x_2,y_2)$.</p>\n",
    "\n",
    "<p><b>Saída:</b> A resposta deverá ser um único valor decimal, que indica a distância entre os pontos.</p>\n",
    "\n",
    "<p><i>Dica:</i> $\\sqrt{n}$ é equivalente a $n^{0.5}$, para qualquer valor $n$.</p>"
   ]
  },
  {
   "cell_type": "code",
   "execution_count": 8,
   "metadata": {},
   "outputs": [
    {
     "name": "stdout",
     "output_type": "stream",
     "text": [
      "Entre com o valor da coordenada de x1: 3\n",
      "Entre com o valor da coordenada de y1: 2\n",
      "Entre com o valor da coordenada de x2: 7\n",
      "Entre com o valor da coordenada de y2: -2\n",
      "A distância entre os pontos é  5.656854249492381\n"
     ]
    }
   ],
   "source": [
    "x1 = float(input(\"Entre com o valor da coordenada de x1: \"))\n",
    "y1 = float(input(\"Entre com o valor da coordenada de y1: \"))\n",
    "x2 = float(input(\"Entre com o valor da coordenada de x2: \"))\n",
    "y2 = float(input(\"Entre com o valor da coordenada de y2: \"))\n",
    "\n",
    "distancia = ((x2 - x1) ** 2 + (y2 - y1) ** 2) ** 0.5\n",
    "\n",
    "print(\"A distância entre os pontos é \",distancia)\n"
   ]
  },
  {
   "cell_type": "markdown",
   "metadata": {},
   "source": [
    "<h2>Questão 7</h2>\n",
    "\n",
    "<p>Alice tem várias moedas de 1 real e ela quer distribuí-las entre seus 3 irmãos mais novos.</p>\n",
    "\n",
    "<p>Para não ter briga, ela vai distribuir o máximo possível desde que todos eles recebam exatamente o mesmo número de moedas.</p>\n",
    "\n",
    "<p>Isso significa que podem sobrar algumas moedas sem distribuir.</p>\n",
    "\n",
    "<p>Faça um programa que calcule quantas moedas cada irmão recebeu e quantas moedas sobraram.<p>\n",
    "    \n",
    "<p><b>Entrada:</b> O programa deve receber o número de moedas que Alice tem.</p>\n",
    "\n",
    "<p><b>Saída:</b> A resposta deverá ser no formato `Cada irmão recebeu x moedas e sobraram y moedas com Alice`, onde $x$ e $y$ devem ser devidamente substituídos.</p>\n",
    "\n",
    "*Dica:* use o operador de divisão inteira `//` e o operador de resto `%`."
   ]
  },
  {
   "cell_type": "code",
   "execution_count": 27,
   "metadata": {},
   "outputs": [
    {
     "name": "stdout",
     "output_type": "stream",
     "text": [
      "Informe o número de moedas que Alice possui: 11\n",
      "Cada irmão recebeu 3 moedas e sobraram 2 moedas com Alice.\n"
     ]
    }
   ],
   "source": [
    "moedas = int(input(\"Informe o número de moedas que Alice possui: \"))\n",
    "\n",
    "divisao = moedas // 3\n",
    "sobra = moedas % 3\n",
    "\n",
    "if sobra == 0:\n",
    "    print(\"Cada irmão recebeu\",divisao,\"moedas e não sobrou nenhuma moeda com Alice.\")\n",
    "elif sobra == 1:\n",
    "    print(\"Cada irmão recebeu\",divisao,\"moedas e sobrou\",sobra,\"moeda com Alice.\")\n",
    "else:\n",
    "    print(\"Cada irmão recebeu\",divisao,\"moedas e sobraram\",sobra,\"moedas com Alice.\")"
   ]
  },
  {
   "cell_type": "markdown",
   "metadata": {},
   "source": [
    "\n",
    "<h2>Questão 8</h2>\n",
    "\n",
    "<p>Dada a duração, em segundos, de um determinado evento em uma fábrica, informe essa duração em horas, minutos e segundos.</p>\n",
    "\n",
    "<p><b>Entrada:</b> O programa deve receber um valor inteiro, que é o tempo de duração em segundos do evento.</p>\n",
    "\n",
    "<p><b>Saída:</b> A resposta deverá ser no formato `horas:minutos:segundos`, onde $horas$, $minutos$ e $segundos$ devem ser devidamente substituídos.</p>"
   ]
  },
  {
   "cell_type": "code",
   "execution_count": 37,
   "metadata": {},
   "outputs": [
    {
     "name": "stdout",
     "output_type": "stream",
     "text": [
      "Informe o tempo de duração do evento em segundos: 3600\n",
      "A duração do evento foi de  1 h: 0 min: 0 seg\n"
     ]
    }
   ],
   "source": [
    "segundos = int(input(\"Informe o tempo de duração do evento em segundos(s): \"))\n",
    "\n",
    "horas = (segundos // 3600) \n",
    "minutos = (segundos % 3600) // 60 \n",
    "segundos_2 = (segundos % 3600) % 60 \n",
    "\n",
    "print(\"A duração do evento foi de \",horas,\"h:\",minutos,\"min:\",segundos_2,\"seg\")"
   ]
  },
  {
   "cell_type": "markdown",
   "metadata": {},
   "source": [
    "<h2>Questão 9</h2>\n",
    "\n",
    "<p>Faça um programa que mostra os números ímpares entre dois números.</p>\n",
    "\n",
    "<p><b>Entrada:</b> O programa deve receber dois números inteiros $x$ e $y$. Considere que $x$ é sempre ímpar.</p>\n",
    "\n",
    "<p><b>Saída:</b> A resposta deverá ser uma lista que contém os números ímpares entre $x$ e $y$, inclusive o $x$ (e o $y$, se for o caso).</p>"
   ]
  },
  {
   "cell_type": "code",
   "execution_count": 38,
   "metadata": {},
   "outputs": [
    {
     "name": "stdout",
     "output_type": "stream",
     "text": [
      "Informe o menor número inteiro: 4\n",
      "Informe o maior número inteiro: 30\n",
      "[5, 7, 9, 11, 13, 15, 17, 19, 21, 23, 25, 27, 29]\n"
     ]
    }
   ],
   "source": [
    "x = int(input(\"Informe o menor número inteiro: \"))\n",
    "y = int(input(\"Informe o maior número inteiro: \"))\n",
    "z = 2\n",
    "if x % 2 == 0:#Quer dizer que o valor de \"x\" é par.\n",
    "    x = x + 1 #Para que o valor de \"x\" fique ímpar.\n",
    "    lista = list(range(x,(y + 1),z))\n",
    "else: #O valor de \"x\" é ímpar, e ele vem direto para cá.\n",
    "    lista = list(range(x,(y + 1),z))\n",
    "print(lista) \n",
    "\n",
    "#print(list(range(x,(y + 1),z)))"
   ]
  },
  {
   "cell_type": "markdown",
   "metadata": {},
   "source": [
    "<h2>Questão 10</h2>\n",
    "\n",
    "<p>Faça um programa que determine o maior dentre três números. Você deve utilizar a fórmula $\\frac{a+b+abs(a-b)}{2}$,  que indica o maior valor dentre dois valores $a$ e $b$, onde $abs(x)$ é igual a $x$ se $x>0$, ou é igual a $-x$, se $x < 0$. <i>Dica:</i> Python fornece `abs(x)`.</p>\n",
    "\n",
    "<p><b>Entrada:</b> O programa deve receber três valores inteiros quaisquer $x$, $y$ e $z$.</p>\n",
    "\n",
    "<p><b>Saída:</b> A resposta consistirá em uma única linha, contendo o texto `K é o maior`, onde $K$ deve ser corretamente substituído.</p>"
   ]
  },
  {
   "cell_type": "code",
   "execution_count": 40,
   "metadata": {},
   "outputs": [
    {
     "name": "stdout",
     "output_type": "stream",
     "text": [
      "informe o 1° número: 55\n",
      "informe o 2° número: 89\n",
      "informe o 3° número: 201\n",
      "O maior número é o  201.0\n"
     ]
    }
   ],
   "source": [
    "number_1 = int(input(\"informe o 1° número: \"))\n",
    "number_2 = int(input(\"informe o 2° número: \"))\n",
    "number_3 = int(input(\"informe o 3° número: \"))\n",
    "\n",
    "a = (number_1 + number_2 + abs(number_1 - number_2)) / 2\n",
    "b = (number_1 + number_3 + abs(number_1 - number_3)) / 2\n",
    "c = (a + b + abs(a - b)) / 2\n",
    "\n",
    "print(\"O maior número é o \",c)\n"
   ]
  }
 ],
 "metadata": {
  "kernelspec": {
   "display_name": "Python 3 (ipykernel)",
   "language": "python",
   "name": "python3"
  },
  "language_info": {
   "codemirror_mode": {
    "name": "ipython",
    "version": 3
   },
   "file_extension": ".py",
   "mimetype": "text/x-python",
   "name": "python",
   "nbconvert_exporter": "python",
   "pygments_lexer": "ipython3",
   "version": "3.9.12"
  },
  "widgets": {
   "state": {},
   "version": "1.1.2"
  }
 },
 "nbformat": 4,
 "nbformat_minor": 1
}
