{
 "cells": [
  {
   "cell_type": "code",
   "execution_count": 2,
   "id": "a61e1b7d",
   "metadata": {},
   "outputs": [
    {
     "name": "stdout",
     "output_type": "stream",
     "text": [
      "5\n"
     ]
    }
   ],
   "source": [
    "var = 5   # comando de atribuição (atribuindo o valor 5 à variável \"var\")\n",
    "print(var)  # comando de impressão (para mostrar um valor na tela)"
   ]
  },
  {
   "cell_type": "code",
   "execution_count": 3,
   "id": "021babd2",
   "metadata": {},
   "outputs": [
    {
     "name": "stdout",
     "output_type": "stream",
     "text": [
      "134\n",
      "4.2\n",
      "hello world\n"
     ]
    }
   ],
   "source": [
    "var = 134   # valor inteiro\n",
    "print(var)\n",
    "var = 4.2   # valor decimal\n",
    "print(var)\n",
    "var = \"hello world\"  # texto\n",
    "print(var)"
   ]
  },
  {
   "cell_type": "code",
   "execution_count": 4,
   "id": "ffde7f9a",
   "metadata": {},
   "outputs": [
    {
     "name": "stdout",
     "output_type": "stream",
     "text": [
      "-5\n"
     ]
    }
   ],
   "source": [
    "numero = -5\n",
    "print(numero)"
   ]
  },
  {
   "cell_type": "code",
   "execution_count": 1,
   "id": "40db0141",
   "metadata": {},
   "outputs": [
    {
     "name": "stdout",
     "output_type": "stream",
     "text": [
      "O nome da professora é Carla\n"
     ]
    }
   ],
   "source": [
    "nome_professora = \"Carla\"\n",
    "print(\"O nome da professora é\", nome_professora)"
   ]
  },
  {
   "cell_type": "code",
   "execution_count": 5,
   "id": "4978df0e",
   "metadata": {},
   "outputs": [
    {
     "name": "stdout",
     "output_type": "stream",
     "text": [
      "12.4\n",
      "56\n"
     ]
    }
   ],
   "source": [
    "Valor1 = 12.4\n",
    "print(Valor1)\n",
    "Valor2 = 56\n",
    "print(Valor2)"
   ]
  },
  {
   "cell_type": "code",
   "execution_count": 6,
   "id": "9ec6d17d",
   "metadata": {},
   "outputs": [
    {
     "name": "stdout",
     "output_type": "stream",
     "text": [
      "4\n"
     ]
    }
   ],
   "source": [
    "# 3invalido = 4 - Ao fazer isso dá erro\n",
    "# print(3invalido)\n",
    "\n",
    "valido = 4\n",
    "print(valido)"
   ]
  },
  {
   "cell_type": "code",
   "execution_count": 7,
   "id": "93875a7e",
   "metadata": {},
   "outputs": [
    {
     "name": "stdout",
     "output_type": "stream",
     "text": [
      "Carla Negri Lintzmayer\n"
     ]
    }
   ],
   "source": [
    "# nome_professora = \"Carla Negri Lintzmayer\"\n",
    "# print(nome_profesora) // O nome da variável está diferente\n",
    "\n",
    "nome_professora = \"Carla Negri Lintzmayer\"\n",
    "print(nome_professora) "
   ]
  },
  {
   "cell_type": "code",
   "execution_count": 8,
   "id": "a287cd25",
   "metadata": {},
   "outputs": [
    {
     "name": "stdout",
     "output_type": "stream",
     "text": [
      "A sala de aula é L502\n"
     ]
    }
   ],
   "source": [
    "# sala_de_aula = \"L502\"\n",
    "# print(\"A sala de aula é\", Sala_de_aula) // O nome da variável está diferente\n",
    "\n",
    "sala_de_aula = \"L502\"\n",
    "print(\"A sala de aula é\", sala_de_aula)"
   ]
  },
  {
   "cell_type": "code",
   "execution_count": 9,
   "id": "df26ce7e",
   "metadata": {},
   "outputs": [
    {
     "name": "stdout",
     "output_type": "stream",
     "text": [
      "71\n"
     ]
    }
   ],
   "source": [
    "print(4 + 67)"
   ]
  },
  {
   "cell_type": "code",
   "execution_count": 10,
   "id": "572d483f",
   "metadata": {},
   "outputs": [
    {
     "name": "stdout",
     "output_type": "stream",
     "text": [
      "5\n"
     ]
    }
   ],
   "source": [
    "print(9 - 4)"
   ]
  },
  {
   "cell_type": "code",
   "execution_count": 11,
   "id": "80f68aab",
   "metadata": {},
   "outputs": [
    {
     "name": "stdout",
     "output_type": "stream",
     "text": [
      "6\n"
     ]
    }
   ],
   "source": [
    "print(3 * 2)"
   ]
  },
  {
   "cell_type": "code",
   "execution_count": 12,
   "id": "9b93e212",
   "metadata": {},
   "outputs": [
    {
     "name": "stdout",
     "output_type": "stream",
     "text": [
      "3.8\n"
     ]
    }
   ],
   "source": [
    "# o símbolo \"/\" indica divisão exata\n",
    "print(19 / 5)"
   ]
  },
  {
   "cell_type": "code",
   "execution_count": 13,
   "id": "395b4410",
   "metadata": {},
   "outputs": [
    {
     "name": "stdout",
     "output_type": "stream",
     "text": [
      "3\n"
     ]
    }
   ],
   "source": [
    "# o símbolo \"//\" indica divisão inteira\n",
    "print(19 // 5)"
   ]
  },
  {
   "cell_type": "code",
   "execution_count": 1,
   "id": "6320149c",
   "metadata": {},
   "outputs": [
    {
     "name": "stdout",
     "output_type": "stream",
     "text": [
      "1\n"
     ]
    }
   ],
   "source": [
    "# o símbolo \"%\" indica o resto da divisão\n",
    "print(1 % 60)"
   ]
  },
  {
   "cell_type": "code",
   "execution_count": 15,
   "id": "657fdf52",
   "metadata": {},
   "outputs": [
    {
     "name": "stdout",
     "output_type": "stream",
     "text": [
      "9\n"
     ]
    }
   ],
   "source": [
    "# o símbolo \"**\" indica exponenciação\n",
    "print(3**2)"
   ]
  },
  {
   "cell_type": "code",
   "execution_count": 1,
   "id": "d2e1f607",
   "metadata": {},
   "outputs": [
    {
     "name": "stdout",
     "output_type": "stream",
     "text": [
      "13.0\n"
     ]
    }
   ],
   "source": [
    "print(4 + 3 * 5 - 8 + 2**3 / 4) #[(4 + (3 * 5) - 8 + ((2**3) / 4)] = 13"
   ]
  },
  {
   "cell_type": "code",
   "execution_count": 3,
   "id": "20cca9e4",
   "metadata": {},
   "outputs": [
    {
     "name": "stdout",
     "output_type": "stream",
     "text": [
      "16\n"
     ]
    }
   ],
   "source": [
    "ordem_padrao = 1 + 5 * 3 # 1 + (5 * 3) = 16\n",
    "print(ordem_padrao)"
   ]
  },
  {
   "cell_type": "code",
   "execution_count": 4,
   "id": "13660057",
   "metadata": {},
   "outputs": [
    {
     "name": "stdout",
     "output_type": "stream",
     "text": [
      "18\n"
     ]
    }
   ],
   "source": [
    "minha_ordem = (1 + 5) * 3\n",
    "print(minha_ordem)"
   ]
  },
  {
   "cell_type": "markdown",
   "id": "ae01e286",
   "metadata": {},
   "source": [
    "<font size=\"4\">\n",
    "<h4>Faça você mesmo!</h4>\n",
    "\n",
    "<p>Coloque parênteses abaixo de modo que a resposta seja `600`</p>\n",
    "\n",
    "<p>*Dica:* Tente fazer com que `2**3-1+2` seja `6` e depois seja multiplicado por `100`.</p>\n",
    "</font>"
   ]
  },
  {
   "cell_type": "code",
   "execution_count": 5,
   "id": "33bc0e9e",
   "metadata": {},
   "outputs": [
    {
     "name": "stdout",
     "output_type": "stream",
     "text": [
      "600\n"
     ]
    }
   ],
   "source": [
    "expressao = ((2 ** (3 - 1)) + 2) * 100\n",
    "print(expressao)"
   ]
  },
  {
   "cell_type": "markdown",
   "id": "4ad422f4",
   "metadata": {},
   "source": [
    "<font size=\"4\">\n",
    "<h4>Faça você mesmo!</h4>\n",
    "\n",
    "<p> João faz 10 anos de idade hoje, neste exato momento!</p>\n",
    "<p>Na célula abaixo, calcule quantos segundos de vida ele acabou de comemorar.</p>\n",
    "    \n",
    "<p>Suponha que um ano sempre tem 365 dias, ou seja, ignore os anos bissextos.</p>\n",
    "</font>"
   ]
  },
  {
   "cell_type": "code",
   "execution_count": 6,
   "id": "6c39f553",
   "metadata": {},
   "outputs": [
    {
     "name": "stdout",
     "output_type": "stream",
     "text": [
      "315360000 seg\n"
     ]
    }
   ],
   "source": [
    "expressao = ((((60 * 60) * 24) * 365) * 10)\n",
    "print(expressao,\"seg\")"
   ]
  },
  {
   "cell_type": "markdown",
   "id": "119f3f4e",
   "metadata": {},
   "source": [
    "<font size=4><h3>Pontos flutuantes</h3>\n",
    "    \n",
    "<p>Números de ponto flutuante se referem a números com casas decimais e em geral eles vão se comportar como tais.</p>\n",
    "\n",
    "</font>"
   ]
  },
  {
   "cell_type": "code",
   "execution_count": 7,
   "id": "c1ee39ce",
   "metadata": {},
   "outputs": [
    {
     "name": "stdout",
     "output_type": "stream",
     "text": [
      "0.2\n",
      "0.596\n"
     ]
    }
   ],
   "source": [
    "print(0.1 + 0.1)\n",
    "print(0.366 + 0.23)"
   ]
  },
  {
   "cell_type": "code",
   "execution_count": 8,
   "id": "a4ac3a85",
   "metadata": {},
   "outputs": [
    {
     "name": "stdout",
     "output_type": "stream",
     "text": [
      "2.16\n",
      "0.25568\n"
     ]
    }
   ],
   "source": [
    "print(0.54 * 4)\n",
    "print(0.544 * 0.47)"
   ]
  },
  {
   "cell_type": "markdown",
   "id": "4e591c27",
   "metadata": {},
   "source": [
    "<font size=4><p>Porém pode ser que às vezes o resultado não saia como esperado:</p>"
   ]
  },
  {
   "cell_type": "code",
   "execution_count": 9,
   "id": "5f716e82",
   "metadata": {},
   "outputs": [
    {
     "name": "stdout",
     "output_type": "stream",
     "text": [
      "0.30000000000000004\n"
     ]
    }
   ],
   "source": [
    "print(0.1 + 0.2)"
   ]
  },
  {
   "cell_type": "markdown",
   "id": "8479a9f2",
   "metadata": {},
   "source": [
    "<font size=\"4\"><hr>\n",
    "<h2>Strings</h2>\n",
    "\n",
    "<p>Conjuntos de caracteres em linguagens de programação são chamados de \"strings\".</p>\n",
    "    \n",
    "<p>Strings em Python são qualquer conjunto de caracteres que estejam dentro de aspas.</p>\n",
    "</font>"
   ]
  },
  {
   "cell_type": "code",
   "execution_count": 10,
   "id": "5f096ce1",
   "metadata": {},
   "outputs": [
    {
     "name": "stdout",
     "output_type": "stream",
     "text": [
      "essa é uma string válida\n",
      "Essa também, mesmo contendo números (3 5 4) e símbolos (* $ & @ %)\n"
     ]
    }
   ],
   "source": [
    "uma_string = \"essa é uma string válida\"\n",
    "print(uma_string)\n",
    "outra_string = \"Essa também, mesmo contendo números (3 5 4) e símbolos (* $ & @ %)\"\n",
    "print(outra_string)"
   ]
  },
  {
   "cell_type": "markdown",
   "id": "fe21395b",
   "metadata": {},
   "source": [
    "<font size=4><p>O operador `+` funciona em strings como um concatenador: ele une em uma só as strings que estiverem ao seu redor.</p></font>"
   ]
  },
  {
   "cell_type": "code",
   "execution_count": 11,
   "id": "dfa28027",
   "metadata": {},
   "outputs": [
    {
     "name": "stdout",
     "output_type": "stream",
     "text": [
      "CarlaNegriLintzmayer\n",
      "Carla Negri Lintzmayer\n"
     ]
    }
   ],
   "source": [
    "nome = \"Carla\"\n",
    "sobrenome1 = \"Negri\"\n",
    "sobrenome2 = \"Lintzmayer\"\n",
    "print(nome + sobrenome1 + sobrenome2)\n",
    "print(nome + \" \" + sobrenome1 + \" \" + sobrenome2)"
   ]
  },
  {
   "cell_type": "code",
   "execution_count": 12,
   "id": "4e69379e",
   "metadata": {},
   "outputs": [
    {
     "name": "stdout",
     "output_type": "stream",
     "text": [
      "10\n"
     ]
    }
   ],
   "source": [
    "x = 3\n",
    "f = 2 * x + 4\n",
    "print(f)"
   ]
  },
  {
   "cell_type": "code",
   "execution_count": 13,
   "id": "9fb4f2c3",
   "metadata": {},
   "outputs": [
    {
     "name": "stdout",
     "output_type": "stream",
     "text": [
      "7\n",
      "11\n"
     ]
    }
   ],
   "source": [
    "x = 7\n",
    "print(x)\n",
    "x = x + 4\n",
    "print(x)"
   ]
  },
  {
   "cell_type": "code",
   "execution_count": 14,
   "id": "8b82f7a0",
   "metadata": {},
   "outputs": [
    {
     "name": "stdout",
     "output_type": "stream",
     "text": [
      "68\n"
     ]
    }
   ],
   "source": [
    "resultado = 8\n",
    "expressao = resultado**2 + 4\n",
    "\n",
    "print(expressao)"
   ]
  },
  {
   "cell_type": "code",
   "execution_count": 15,
   "id": "ce1e16b9",
   "metadata": {},
   "outputs": [
    {
     "name": "stdout",
     "output_type": "stream",
     "text": [
      "131.0\n",
      "212.0\n",
      "373\n",
      "100\n",
      "212.0\n"
     ]
    }
   ],
   "source": [
    "C = 55\n",
    "# a expressão a seguir converte uma temperatura de Celsius para Fahrenheit\n",
    "F = C * 9/5 + 32\n",
    "print(F)\n",
    "\n",
    "C = 100\n",
    "# a expressão a seguir converte uma temperatura de Celsius para Fahrenheit\n",
    "F = C * 9/5 + 32\n",
    "print(F)\n",
    "\n",
    "C = 100\n",
    "# a expressão a seguir converte uma temperatura de Celsius para temperatura absoluta(K)\n",
    "TK = C + 273\n",
    "print(TK)\n",
    "\n",
    "TK = 373\n",
    "# a expressão a seguir converte uma temperatura de Kelvin para temperatura Celsius(°C)\n",
    "C = TK - 273\n",
    "print(C)\n",
    "\n",
    "C = 100\n",
    "# Para converter de Fahrenheit para Kelvin, primeiro converte de Fahrenheit para Celsius \n",
    "# e depois soma Celsius com 273.\n",
    "# a expressão a seguir converte uma temperatura de fahrenheit para Celsius\n",
    "F = C * 9/5 + 32\n",
    "C = 5 * (F - 32) / 9 # (5 * (F - 32) / 9) = T(C) + 273.15 = T(K)\n",
    "print(F)"
   ]
  },
  {
   "cell_type": "markdown",
   "id": "850294e4",
   "metadata": {},
   "source": [
    "<hr><font size=\"4\"><h4>Faça você mesmo!</h4>\n",
    "<p>Preencha a célula abaixo com os dados que você quiser para calcular a área de um trapézio cuja base menor é $b$, a base maior é $B$ e a altura é $h$.</p>\n",
    "    \n",
    "<p>Preencha também a fórmula para a área, que é dada por $$\\frac{(b+B)\\cdot h}{2}$$</p>\n",
    "\n",
    "<p>Não se esqueça de colocar todos os operadores (por exemplo o `*`).</p>\n",
    "</font>"
   ]
  },
  {
   "cell_type": "code",
   "execution_count": 16,
   "id": "8b2c5354",
   "metadata": {},
   "outputs": [
    {
     "name": "stdout",
     "output_type": "stream",
     "text": [
      "30.0\n"
     ]
    }
   ],
   "source": [
    "b = 6\n",
    "B = 9\n",
    "h = 4\n",
    "area = ((B + b) * h) / 2 \n",
    "print(area)"
   ]
  },
  {
   "cell_type": "markdown",
   "id": "23066f54",
   "metadata": {},
   "source": [
    "<font size=4><h3>Outro exemplo</h3>\n",
    "\n",
    "<p>No futuro, será útil fazer troca de valores entre variáveis.</p>\n",
    "    \n",
    "<p>Por exemplo, se temos as variáveis `x` com valor `4` e `y` com valor `-9`, vamos querer realizar uma troca de forma que `x` fique com o valor `-9` e `y` fique com o valor `4`.</p>\n",
    "\n",
    "<p>Se fizermos `x = y`, então estaremos atribuindo o valor `-9` a `x` e a primeira parte do problema está resolvida:</p>\n",
    "\n",
    "</font>"
   ]
  },
  {
   "cell_type": "code",
   "execution_count": 17,
   "id": "5b57f7d8",
   "metadata": {},
   "outputs": [
    {
     "name": "stdout",
     "output_type": "stream",
     "text": [
      "O valor de x é 4 e o valor de y é -9\n",
      "O valor de x é -9 e o valor de y é -9\n"
     ]
    }
   ],
   "source": [
    "x = 4\n",
    "y = -9\n",
    "print(\"O valor de x é\", x, \"e o valor de y é\", y)\n",
    "x = y\n",
    "print(\"O valor de x é\", x, \"e o valor de y é\", y)"
   ]
  },
  {
   "cell_type": "markdown",
   "id": "e66940a1",
   "metadata": {},
   "source": [
    "<font size=4><p>Mas agora o valor anterior de `x` o (`4`) se perdeu!</p>\n",
    "\n",
    "<p>Precisamos então de uma variável auxiliar, que guarde o valor anterior de `x` enquanto ele é atualizado para o novo valor.</p></font>"
   ]
  },
  {
   "cell_type": "code",
   "execution_count": 19,
   "id": "fcfd4614",
   "metadata": {},
   "outputs": [
    {
     "name": "stdout",
     "output_type": "stream",
     "text": [
      "O valor de x é 4 e o valor de y é -9\n",
      "O valor de x é -9 e o valor de y é 4\n"
     ]
    }
   ],
   "source": [
    "x = 4\n",
    "y = -9\n",
    "print(\"O valor de x é\", x, \"e o valor de y é\", y)\n",
    "\n",
    "# salve na variável \"aux\" o valor atual de x:\n",
    "aux = x # aux é igual a 4\n",
    "# agora atualize o valor de x:\n",
    "x = y # x é igual a -9\n",
    "# o valor de y recebe o antigo valor de x, que está salvo em \"aux\":\n",
    "y = aux # y é igual a 4\n",
    "print(\"O valor de x é\", x, \"e o valor de y é\", y)"
   ]
  },
  {
   "cell_type": "code",
   "execution_count": 20,
   "id": "690eb749",
   "metadata": {},
   "outputs": [
    {
     "name": "stdout",
     "output_type": "stream",
     "text": [
      "131.0 53.6\n",
      "131.0   53.6\n",
      "184.6\n"
     ]
    }
   ],
   "source": [
    "C = 55\n",
    "d = 12\n",
    "F = C * 9 / 5 + 32\n",
    "g = d * 9 / 5 + 32\n",
    "print(F,g)\n",
    "print(F,\" \",g)\n",
    "print(F+g) # O resultado será 184.6"
   ]
  },
  {
   "cell_type": "code",
   "execution_count": 21,
   "id": "ebe6315b",
   "metadata": {},
   "outputs": [
    {
     "name": "stdout",
     "output_type": "stream",
     "text": [
      "55 graus Celcius equivale a 131.0 Fahrenheit\n"
     ]
    }
   ],
   "source": [
    "C = 55\n",
    "F = C * 9 / 5 + 32\n",
    "print(C, \"graus Celcius equivale a\", F, \"Fahrenheit\")"
   ]
  },
  {
   "cell_type": "code",
   "execution_count": 22,
   "id": "e8927dfa",
   "metadata": {},
   "outputs": [
    {
     "name": "stdout",
     "output_type": "stream",
     "text": [
      "Qual é  seu nome? Luis\n",
      "Olá, Luis\n",
      "Qual o sabor do sorvete? morango\n",
      "Sabor morango saindo\n"
     ]
    }
   ],
   "source": [
    "nome = input(\"Qual é  seu nome? \")\n",
    "print(\"Olá,\", nome)\n",
    "\n",
    "sorvete = input(\"Qual o sabor do sorvete? \")\n",
    "print(\"Sabor \" + sorvete+ \" saindo\")"
   ]
  },
  {
   "cell_type": "code",
   "execution_count": 23,
   "id": "04fea115",
   "metadata": {},
   "outputs": [
    {
     "name": "stdout",
     "output_type": "stream",
     "text": [
      "Qual é a sua idade? 42\n",
      "O dobro da sua idade é 4242\n"
     ]
    }
   ],
   "source": [
    "idade = input(\"Qual é a sua idade? \")\n",
    "dobro = idade + idade\n",
    "print(\"O dobro da sua idade é\", dobro)"
   ]
  },
  {
   "cell_type": "code",
   "execution_count": 24,
   "id": "38c77ae7",
   "metadata": {},
   "outputs": [
    {
     "name": "stdout",
     "output_type": "stream",
     "text": [
      "Qual é a sua idade? 42\n",
      "O dobro da sua idade é 84\n"
     ]
    }
   ],
   "source": [
    "idade_texto = input(\"Qual é a sua idade? \")\n",
    "idade = int(idade_texto)\n",
    "dobro = idade + idade\n",
    "print(\"O dobro da sua idade é\", dobro)"
   ]
  },
  {
   "cell_type": "code",
   "execution_count": 26,
   "id": "c534c71a",
   "metadata": {},
   "outputs": [
    {
     "name": "stdout",
     "output_type": "stream",
     "text": [
      "Qual é a temperatura atual? 24.5\n",
      "O dobro da temperatura atual é 49.0\n"
     ]
    }
   ],
   "source": [
    "temp_texto = input(\"Qual é a temperatura atual? \")\n",
    "temp = float(temp_texto)\n",
    "dobro = temp + temp\n",
    "print(\"O dobro da temperatura atual é\", dobro)"
   ]
  },
  {
   "cell_type": "code",
   "execution_count": 27,
   "id": "a9af2f1b",
   "metadata": {},
   "outputs": [
    {
     "name": "stdout",
     "output_type": "stream",
     "text": [
      "Qual é o preço do produto? 1500\n",
      "Em quantas parcelas você deseja pagar? 7\n",
      "O valor de cada parcela será:  214.28571428571428\n"
     ]
    }
   ],
   "source": [
    "preco = float(input(\"Qual é o preço do produto? \"))\n",
    "\n",
    "parcelas = int(input(\"Em quantas parcelas você deseja pagar? \"))\n",
    "\n",
    "valor_parc = preco / parcelas\n",
    "\n",
    "print(\"O valor de cada parcela será: \",valor_parc)"
   ]
  },
  {
   "cell_type": "code",
   "execution_count": 33,
   "id": "8ab9de72",
   "metadata": {},
   "outputs": [
    {
     "name": "stdout",
     "output_type": "stream",
     "text": [
      "{'segundo', 'terceiro', 'primeiro'}\n",
      "{'um', 'dois', 'três'}\n"
     ]
    }
   ],
   "source": [
    "lista_escola = {'primeiro','segundo','terceiro'} # Está desordenado porque a ordem foi trocada no comando abaixo\n",
    "list_One = {'um','dois','três'}\n",
    "\n",
    "print (lista_escola)\n",
    "print (list_One)"
   ]
  },
  {
   "cell_type": "code",
   "execution_count": 34,
   "id": "228bd23c",
   "metadata": {},
   "outputs": [
    {
     "name": "stdout",
     "output_type": "stream",
     "text": [
      "['terça-feira', 8, 'L502', 'Carla']\n"
     ]
    }
   ],
   "source": [
    "aula_bases = [\"terça-feira\", 8, \"L502\", \"Carla\"]\n",
    "print(aula_bases)"
   ]
  },
  {
   "cell_type": "code",
   "execution_count": 35,
   "id": "f6b7c389",
   "metadata": {},
   "outputs": [
    {
     "name": "stdout",
     "output_type": "stream",
     "text": [
      "('primeiro', 'segundo', 'terceiro')\n",
      "\n",
      "terceiro\n",
      "primeiro\n",
      "segundo\n",
      "\n",
      "terceiro primeiro segundo\n"
     ]
    }
   ],
   "source": [
    "lista_escola = \"primeiro\", \"segundo\", \"terceiro\"\n",
    "\n",
    "print(lista_escola)\n",
    "print()\n",
    "print(lista_escola[2])\n",
    "print(lista_escola[0])\n",
    "print(lista_escola[1])\n",
    "print()\n",
    "print(lista_escola[2], lista_escola[0], lista_escola[1])"
   ]
  },
  {
   "cell_type": "code",
   "execution_count": 36,
   "id": "eeacc2a1",
   "metadata": {},
   "outputs": [
    {
     "name": "stdout",
     "output_type": "stream",
     "text": [
      "A aula de bases computacionais acontece toda terça-feira na sala L502\n"
     ]
    }
   ],
   "source": [
    "aula_bases = [\"terça-feira\", 8, \"L502\", \"Carla\"]\n",
    "print(\"A aula de bases computacionais acontece toda\", aula_bases[0], \"na sala\", aula_bases[2])"
   ]
  },
  {
   "cell_type": "code",
   "execution_count": 37,
   "id": "ede7385f",
   "metadata": {},
   "outputs": [
    {
     "name": "stdout",
     "output_type": "stream",
     "text": [
      "[1, 2, 3, 4, 5, 6, 7, 8, 9, 10]\n"
     ]
    }
   ],
   "source": [
    "primeiros_10 = [1, 2, 3, 4, 5, 6, 7, 8, 9, 10]\n",
    "print(primeiros_10)"
   ]
  },
  {
   "cell_type": "code",
   "execution_count": 38,
   "id": "c7d00d16",
   "metadata": {},
   "outputs": [
    {
     "name": "stdout",
     "output_type": "stream",
     "text": [
      "[1, 2, 3, 4, 5, 6, 7, 8, 9, 10, 11, 12, 13, 14, 15, 16]\n",
      "\n",
      "[1, 2, 3, 4, 5, 6, 7, 8, 9, 10, 11, 12, 13, 14, 15, 16, 17, 18, 19, 20, 21, 22, 23, 24, 25, 26, 27, 28, 29]\n"
     ]
    }
   ],
   "source": [
    "x = 1\n",
    "y = 16\n",
    "primeiros_15 = list(range(x,y+1))\n",
    "print(primeiros_15)\n",
    "print() #Para pular uma linha\n",
    "primeiros_30 = list(range(1,30))\n",
    "print(primeiros_30)"
   ]
  },
  {
   "cell_type": "code",
   "execution_count": 39,
   "id": "a7b1530b",
   "metadata": {},
   "outputs": [
    {
     "name": "stdout",
     "output_type": "stream",
     "text": [
      "[6, 7, 8, 9, 10, 11, 12, 13, 14, 15, 16]\n"
     ]
    }
   ],
   "source": [
    "lista = list(range(6,17))\n",
    "print(lista)"
   ]
  },
  {
   "cell_type": "code",
   "execution_count": 40,
   "id": "a0493f4a",
   "metadata": {},
   "outputs": [
    {
     "name": "stdout",
     "output_type": "stream",
     "text": [
      "[0, 1, 2, 3, 4, 5, 6, 7]\n"
     ]
    }
   ],
   "source": [
    "lista = list(range(8))\n",
    "print(lista)"
   ]
  },
  {
   "cell_type": "code",
   "execution_count": 1,
   "id": "028d0f92",
   "metadata": {},
   "outputs": [
    {
     "name": "stdout",
     "output_type": "stream",
     "text": [
      "[6, 8, 10, 12, 14, 16]\n",
      "[1, 3, 5, 7, 9, 11, 13, 15, 17, 19, 21, 23, 25, 27, 29, 31, 33, 35, 37, 39, 41, 43, 45, 47, 49, 51, 53, 55, 57, 59, 61, 63, 65, 67, 69, 71, 73, 75, 77, 79, 81, 83, 85, 87, 89, 91, 93, 95, 97, 99]\n"
     ]
    }
   ],
   "source": [
    "lista = list(range(6,17,2))\n",
    "print(lista)\n",
    "lista = list(range(1,100,2))\n",
    "print(lista)"
   ]
  }
 ],
 "metadata": {
  "kernelspec": {
   "display_name": "Python 3 (ipykernel)",
   "language": "python",
   "name": "python3"
  },
  "language_info": {
   "codemirror_mode": {
    "name": "ipython",
    "version": 3
   },
   "file_extension": ".py",
   "mimetype": "text/x-python",
   "name": "python",
   "nbconvert_exporter": "python",
   "pygments_lexer": "ipython3",
   "version": "3.9.12"
  }
 },
 "nbformat": 4,
 "nbformat_minor": 5
}
