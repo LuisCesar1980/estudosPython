{
 "cells": [
  {
   "cell_type": "markdown",
   "metadata": {},
   "source": [
    "# Prova de Recuperação\n",
    "    \n",
    "Leia atentamente as instruções a seguir. Elas fazem parte da prova:\n",
    "\n",
    "*  Desligue seu celular e guarde em sua bolsa.\n",
    "*  Salve seu trabalho frequentemente.\n",
    "*  Ao término, salve e submeta este arquivo ao tidia na atividade Recuperação, da mesma forma como é feito nas listas de exercícios.\n",
    "*  A compreensão e interpretação do enunciado é parte integrante da avaliação.\n",
    "*  Não é permitida a consulta a nenhum material online (Internet) nem offline (cadernos, livros, etc.) e nem a colegas.\n",
    "*  Em caso de fraude, **todos** os envolvidos receberão **nota final zero** na disciplina, sem prejuı́zo de outras sanções.\n",
    "\n",
    "Critério de correção de cada exercı́cio: 0 se incorreto e/ou não executa; 0.5 se correto e executa mas não segue os padrões de submissão (**leia com atenção como deve ser a saı́da: nenhum outro texto deve ser impresso pelo seu programa além do que estiver especificado no campo \"Saı́da\"**); 1 caso contrário. Seu programa está **correto** se funciona para qualquer entrada especificada no campo \"Entrada\" do problema.\n",
    "\n",
    "***\n",
    "\n",
    "<center>**_BOA PROVA!_**</center>\n",
    "\n",
    "***"
   ]
  },
  {
   "cell_type": "markdown",
   "metadata": {},
   "source": [
    "## Questão 1 (Valor: 2)"
   ]
  },
  {
   "cell_type": "code",
   "execution_count": null,
   "metadata": {},
   "outputs": [],
   "source": []
  },
  {
   "cell_type": "markdown",
   "metadata": {},
   "source": [
    "## Questão 2 (Valor: 2)"
   ]
  },
  {
   "cell_type": "code",
   "execution_count": null,
   "metadata": {},
   "outputs": [],
   "source": []
  },
  {
   "cell_type": "markdown",
   "metadata": {},
   "source": [
    "## Questão 3 (Valor: 2)"
   ]
  },
  {
   "cell_type": "code",
   "execution_count": null,
   "metadata": {},
   "outputs": [],
   "source": []
  },
  {
   "cell_type": "markdown",
   "metadata": {},
   "source": [
    "### As questões a seguir envolvem o uso do Pandas para manipulação de arquivos"
   ]
  },
  {
   "cell_type": "code",
   "execution_count": 20,
   "metadata": {},
   "outputs": [],
   "source": [
    "import pandas as pd\n",
    "import matplotlib.pyplot as plt\n",
    "import numpy as np\n",
    "%matplotlib inline\n",
    "from IPython.display import display"
   ]
  },
  {
   "cell_type": "markdown",
   "metadata": {},
   "source": [
    "## Questão 4 (Valor: 2)"
   ]
  },
  {
   "cell_type": "code",
   "execution_count": null,
   "metadata": {},
   "outputs": [],
   "source": []
  },
  {
   "cell_type": "markdown",
   "metadata": {},
   "source": [
    "## Questão 5 (Valor: 2)"
   ]
  },
  {
   "cell_type": "code",
   "execution_count": null,
   "metadata": {},
   "outputs": [],
   "source": []
  }
 ],
 "metadata": {
  "kernelspec": {
   "display_name": "Python 3 (ipykernel)",
   "language": "python",
   "name": "python3"
  },
  "language_info": {
   "codemirror_mode": {
    "name": "ipython",
    "version": 3
   },
   "file_extension": ".py",
   "mimetype": "text/x-python",
   "name": "python",
   "nbconvert_exporter": "python",
   "pygments_lexer": "ipython3",
   "version": "3.12.4"
  }
 },
 "nbformat": 4,
 "nbformat_minor": 4
}
