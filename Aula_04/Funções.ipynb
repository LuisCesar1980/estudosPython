{
 "cells": [
  {
   "cell_type": "markdown",
   "metadata": {},
   "source": [
    "<h2>Questão 1</h2>\n",
    "\n",
    "<p>Faça um programa para imprimir:</p>\n",
    "\n",
    "<p>Use uma função que receba um valor <b>\"n\"</b> inteiro e imprima até a n-ésima linha.</p>\n",
    "\n",
    "<p><b>Entrada:</b> O programa deve receber um <b>\"n\"</b> informado pelo usuário.</p>\n",
    "\n",
    "<p><b>Saída:</b> Imprima a saída conforme o exemplo abaixo.</p>\n",
    "\n",
    "<pre>\n",
    "| Entrada | Saída esperada  | \n",
    "|---------|-----------------|\n",
    "| n       | 1               |\n",
    "|         | 2  2            |\n",
    "|         | 3  3  3         |\n",
    "|         | n  n  n  n .. n |\n",
    "</pre>\n",
    "\n"
   ]
  },
  {
   "cell_type": "code",
   "execution_count": 2,
   "metadata": {},
   "outputs": [
    {
     "name": "stdin",
     "output_type": "stream",
     "text": [
      "Informe o valor de n:  6\n"
     ]
    },
    {
     "name": "stdout",
     "output_type": "stream",
     "text": [
      "1 \n",
      "2 2 \n",
      "3 3 3 \n",
      "4 4 4 4 \n",
      "5 5 5 5 5 \n",
      "6 6 6 6 6 6 \n"
     ]
    }
   ],
   "source": [
    "def exercicio_1(n):\n",
    "    for i in range(1, n + 1):  # Começamos de 1 até n\n",
    "        for j in range(i):  # Controlamos o número de repetições na linha\n",
    "            print(i, end=\" \")  # Imprimimos o número atual sem pular linha\n",
    "        print()  # Pula para a próxima linha após terminar as repetições\n",
    "\n",
    "# Entrada do usuário\n",
    "n = int(input(\"Informe o valor de n: \"))\n",
    "\n",
    "# Chamada da função\n",
    "exercicio_1(n)\n",
    "\n",
    "# 1-Laço for i in range(1, n + 1):\n",
    "# O loop externo percorre de 1 até n, já que cada linha deve começar a partir do número 1.\n",
    "\n",
    "# 2-Laço interno for j in range(i):\n",
    "# Controla o número de vezes que o número da linha atual será repetido.\n",
    "\n",
    "# 3-print(i, end=\" \"):\n",
    "# Garante que os números sejam impressos na mesma linha, separados por espaços.\n",
    "\n",
    "# 4-print():\n",
    "# Após terminar a impressão de uma linha, usamos print() para avançar para a próxima linha."
   ]
  },
  {
   "cell_type": "markdown",
   "metadata": {},
   "source": [
    "<h2>Questão 2</h2>\n",
    "\n",
    "<p>Faça um programa para imprimir:</p>\n",
    "\n",
    "<p>Use uma função que receba um valor <b>\"n\"</b> inteiro e imprima até a n-ésima linha.</p>\n",
    "\n",
    "<p><b>Entrada:</b> O programa deve receber um <b>\"n\"</b> informado pelo usuário.</p>\n",
    "\n",
    "<p><b>Saída:</b> Imprima a saída conforme o exemplo abaixo.</p>\n",
    "\n",
    "<pre>\n",
    "| Entrada | Saída esperada  | \n",
    "|---------|-----------------|\n",
    "| n       | 1               |\n",
    "|         | 1  2            |\n",
    "|         | 1  2  3         |\n",
    "|         | n  n  n  n  n  n|\n",
    "</pre>"
   ]
  },
  {
   "cell_type": "code",
   "execution_count": 3,
   "metadata": {},
   "outputs": [
    {
     "name": "stdin",
     "output_type": "stream",
     "text": [
      "Informe o valor de n:  10\n"
     ]
    },
    {
     "name": "stdout",
     "output_type": "stream",
     "text": [
      "1 \n",
      "1 2 \n",
      "1 2 3 \n",
      "1 2 3 4 \n",
      "1 2 3 4 5 \n",
      "1 2 3 4 5 6 \n",
      "1 2 3 4 5 6 7 \n",
      "1 2 3 4 5 6 7 8 \n",
      "1 2 3 4 5 6 7 8 9 \n",
      "1 2 3 4 5 6 7 8 9 10 \n"
     ]
    }
   ],
   "source": [
    "def exercicio_2(n):\n",
    "    for i in range(1, n + 1):  # Começa em 1 e vai até n (inclusive)\n",
    "        for j in range(1, i + 1):  # Imprime de 1 até o número da linha atual\n",
    "            print(j, end=\" \")  # Exibe os números na mesma linha com espaço\n",
    "        print()  # Pula para a próxima linha após cada iteração externa\n",
    "\n",
    "# Entrada do usuário\n",
    "n = int(input(\"Informe o valor de n: \"))\n",
    "\n",
    "# Chamada da função\n",
    "exercicio_2(n)\n",
    "\n",
    "# Explicação:\n",
    "\n",
    "# 1-Loop externo (for i):\n",
    "# Controla o número de linhas a serem impressas.\n",
    "# Começa em 1 e vai até n (incluindo n).\n",
    "\n",
    "# 2-Loop interno (for j):\n",
    "# Gera os números de 1 até o valor da linha atual (i).\n",
    "# Cada número é exibido na mesma linha.\n",
    "\n",
    "# 3-print(j, end=\" \"):\n",
    "# O argumento end=\" \" evita que o print pule para a próxima linha, deixando os números na mesma linha com um espaço entre eles.\n",
    "\n",
    "# 4-print() fora do loop interno:\n",
    "# Esse print() garante que, após imprimir os números da linha atual, o cursor pule para a próxima linha."
   ]
  },
  {
   "cell_type": "markdown",
   "metadata": {},
   "source": [
    "<h2>Questão 3</h2>\n",
    "\n",
    "<p>Faça um programa com uma função que necessite de três argumentos e que forneça a soma desses três argumentos.</p>\n",
    "\n",
    "<p><b>Entrada:</b> O programa deve receber três valores <b>\"A\", \"B\" e \"C\"</b> informados pelo usuário.</p>\n",
    "\n",
    "<p><b>Saída:</b> imprima a soma desses três valores.</p>"
   ]
  },
  {
   "cell_type": "code",
   "execution_count": 1,
   "metadata": {},
   "outputs": [
    {
     "name": "stdin",
     "output_type": "stream",
     "text": [
      "Informe o primeiro valor: 4\n",
      "Informe o segundo valor: 8\n",
      "Informe o terceiro valor: 7\n"
     ]
    },
    {
     "name": "stdout",
     "output_type": "stream",
     "text": [
      "Soma dos valores informados 19.0\n"
     ]
    }
   ],
   "source": [
    "def exercicio3(a, b, c):\n",
    "     return a + b + c\n",
    "    \n",
    "    \n",
    "a = float(input(\"Informe o primeiro valor:\"))\n",
    "b = float(input(\"Informe o segundo valor:\"))\n",
    "c = float(input(\"Informe o terceiro valor:\"))\n",
    "\n",
    "d = exercicio3(a,b,c)\n",
    "\n",
    "print(\"Soma dos valores informados\",d)"
   ]
  },
  {
   "cell_type": "markdown",
   "metadata": {},
   "source": [
    "<h2>Questão 4</h2>\n",
    "\n",
    "<p>Faça um programa com uma função que necessite de um argumento. A função retorna <br>o valor de caractere ‘P’ se seu argumento for positivo e ‘N’ se seu argumento for zero ou negativo.</p>\n",
    "\n",
    "<p><b>Entrada:</b> O programa deve receber um valor <b>\"Y\"</b> informado pelo usuário.</p>\n",
    "\n",
    "<p><b>Saída:</b> imprima o caractere ‘P’ se seu argumento for positivo e ‘N’ se seu <br>argumento for zero ou negativo.</p>"
   ]
  },
  {
   "cell_type": "code",
   "execution_count": 3,
   "metadata": {},
   "outputs": [
    {
     "name": "stdin",
     "output_type": "stream",
     "text": [
      "Informe o valor: -1\n"
     ]
    },
    {
     "name": "stdout",
     "output_type": "stream",
     "text": [
      "N\n"
     ]
    }
   ],
   "source": [
    "def pn(y):\n",
    "    \n",
    "    if y >= 0:\n",
    "        return \"P\"\n",
    "    else:\n",
    "        return \"N\"\n",
    "    \n",
    "y = float(input(\"Informe o valor:\"))\n",
    "\n",
    "z = pn(y)\n",
    "\n",
    "print(z)"
   ]
  },
  {
   "cell_type": "markdown",
   "metadata": {},
   "source": [
    "<h2>Questão 5</h2>\n",
    "\n",
    "<p>Faça um programa com uma função chamada somaimposto. A função possui dois parâmetros formais: taxaimposto, que é a quantia de imposto sobre vendas, expressa em porcentagem, e custo, que é o custo de um item antes do imposto. A função altera o valor de custo para incluir o imposto sobre vendas</p>"
   ]
  },
  {
   "cell_type": "code",
   "execution_count": 37,
   "metadata": {},
   "outputs": [
    {
     "name": "stdout",
     "output_type": "stream",
     "text": [
      "Informe o valor do produto sem imposto:100\n",
      "Informe quanto será cobrado de imposto: 10\n",
      "\n",
      "Valor do produto com imposto: 110.0\n"
     ]
    }
   ],
   "source": [
    "#def somaimposto(x,y):\n",
    "#    return (0.01*y)*x + x\n",
    "\n",
    "def somaimposto(custo, taxaImposto):\n",
    "    return (0.01*taxaImposto)*custo + custo\n",
    "\n",
    "custo = float(input(\"Informe o valor do produto sem imposto:\"))\n",
    "taxaImposto = float(input(\"Informe quanto será cobrado de imposto: \"))\n",
    "\n",
    "y = somaimposto(custo, taxaImposto)\n",
    "\n",
    "print(\"\\nValor do produto com imposto:\",y)"
   ]
  },
  {
   "cell_type": "markdown",
   "metadata": {},
   "source": [
    "<h2>Questão 6</h2>\n",
    "\n",
    "<p>Faça um programa que converta da notação de 24 horas para a notação de 12 horas. \n",
    "Por exemplo, o programa deve converter 14:25 em 2:25 P.M. A entrada é dada em dois \n",
    "inteiros. Deve haver pelo menos duas funções: uma para fazer a conversão e uma para a \n",
    "saída. Registre a informação A.M./P.M. como um valor ‘A’ para A.M. e ‘P’ para P.M. Assim, a \n",
    "função para efetuar as conversões terá um parâmetro formal para registrar se é A.M. ou P.M.\n",
    "Inclua um loop que permita que o usuário repita esse cálculo para novos valores de entrada todas\n",
    "as vezes que desejar.</p>\n",
    "\n",
    "<p><b>Entrada:</b> O programa deve receber um valor <b>\"Y\"</b> informado pelo usuário.</p>\n",
    "\n",
    "<p><b>Saída:</b> imprima o caractere ‘P’, se seu argumento for positivo, e ‘N’, se seu <br>\n",
    "argumento for zero ou negativo.</p>\n"
   ]
  },
  {
   "cell_type": "code",
   "execution_count": 1,
   "metadata": {},
   "outputs": [
    {
     "name": "stdout",
     "output_type": "stream",
     "text": [
      "\n",
      "Digite o horário no formato 24 horas (horas e minutos):\n"
     ]
    },
    {
     "name": "stdin",
     "output_type": "stream",
     "text": [
      "Horas (0-23):  12:23\n"
     ]
    },
    {
     "name": "stdout",
     "output_type": "stream",
     "text": [
      "Entrada inválida. Por favor, insira números inteiros para as horas e minutos.\n",
      "\n",
      "Digite o horário no formato 24 horas (horas e minutos):\n"
     ]
    },
    {
     "name": "stdin",
     "output_type": "stream",
     "text": [
      "Horas (0-23):  12\n",
      "Minutos (0-59):  56\n"
     ]
    },
    {
     "name": "stdout",
     "output_type": "stream",
     "text": [
      "Horário convertido:\n",
      "12:56 P.M.\n"
     ]
    },
    {
     "name": "stdin",
     "output_type": "stream",
     "text": [
      "Deseja converter outro horário? (S/N):  n\n"
     ]
    },
    {
     "name": "stdout",
     "output_type": "stream",
     "text": [
      "Programa encerrado. Até logo!\n"
     ]
    }
   ],
   "source": [
    "def converter_horario(horas, minutos):\n",
    "    \"\"\"\n",
    "    Converte o horário da notação de 24 horas para a notação de 12 horas.\n",
    "    Retorna uma tupla com a hora convertida, os minutos e se é A.M. ou P.M.\n",
    "    \"\"\"\n",
    "    periodo = 'A'  # A.M. por padrão\n",
    "    if horas >= 12:\n",
    "        periodo = 'P'  # Troca para P.M. se for após meio-dia\n",
    "    horas_12 = horas % 12  # Converte para a notação de 12 horas\n",
    "    if horas_12 == 0:  # Trata o caso de meia-noite e meio-dia\n",
    "        horas_12 = 12\n",
    "    return horas_12, minutos, periodo\n",
    "\n",
    "\n",
    "def exibir_horario(horas, minutos, periodo):\n",
    "    \"\"\"\n",
    "    Exibe o horário convertido no formato desejado.\n",
    "    \"\"\"\n",
    "    sufixo = \"A.M.\" if periodo == 'A' else \"P.M.\"\n",
    "    print(f\"{horas}:{minutos:02d} {sufixo}\")\n",
    "\n",
    "\n",
    "def main():\n",
    "    while True:\n",
    "        # Solicita a entrada do horário no formato de 24 horas\n",
    "        print(\"\\nDigite o horário no formato 24 horas (horas e minutos):\")\n",
    "        try:\n",
    "            horas = int(input(\"Horas (0-23): \"))\n",
    "            minutos = int(input(\"Minutos (0-59): \"))\n",
    "            \n",
    "            # Valida a entrada\n",
    "            if not (0 <= horas <= 23) or not (0 <= minutos <= 59):\n",
    "                print(\"Horário inválido. Tente novamente.\")\n",
    "                continue\n",
    "            \n",
    "            # Realiza a conversão\n",
    "            horas_12, minutos, periodo = converter_horario(horas, minutos)\n",
    "            \n",
    "            # Exibe o resultado\n",
    "            print(\"Horário convertido:\")\n",
    "            exibir_horario(horas_12, minutos, periodo)\n",
    "            \n",
    "            # Pergunta se o usuário deseja repetir\n",
    "            repetir = input(\"Deseja converter outro horário? (S/N): \").strip().upper()\n",
    "            if repetir != 'S':\n",
    "                print(\"Programa encerrado. Até logo!\")\n",
    "                break\n",
    "        except ValueError:\n",
    "            print(\"Entrada inválida. Por favor, insira números inteiros para as horas e minutos.\")\n",
    "\n",
    "\n",
    "if __name__ == \"__main__\":\n",
    "    main()\n",
    "\n",
    "# Como o programa funciona:\n",
    "\n",
    "# 1.\tFunção converter_horario:\n",
    "#     o\tRecebe as horas e os minutos em notação de 24 horas.\n",
    "#     o\tConverte as horas para o formato de 12 horas.\n",
    "#     o\tRetorna as horas, os minutos, e o indicativo de A (A.M.) ou P (P.M.).\n",
    "# 2.\tFunção exibir_horario:\n",
    "#     o\tFormata e imprime o horário no formato HH:MM A.M./P.M..\n",
    "# 3.\tFunção main:\n",
    "#     o\tControla o fluxo do programa:\n",
    "#         \tSolicita entrada do usuário.\n",
    "#         \tRealiza a conversão usando converter_horario.\n",
    "#         \tExibe o resultado com exibir_horario.\n",
    "#         \tPermite ao usuário realizar novas conversões até que escolha sair.\n"
   ]
  },
  {
   "cell_type": "code",
   "execution_count": null,
   "metadata": {},
   "outputs": [],
   "source": []
  }
 ],
 "metadata": {
  "kernelspec": {
   "display_name": "Python 3 (ipykernel)",
   "language": "python",
   "name": "python3"
  },
  "language_info": {
   "codemirror_mode": {
    "name": "ipython",
    "version": 3
   },
   "file_extension": ".py",
   "mimetype": "text/x-python",
   "name": "python",
   "nbconvert_exporter": "python",
   "pygments_lexer": "ipython3",
   "version": "3.12.4"
  }
 },
 "nbformat": 4,
 "nbformat_minor": 4
}
