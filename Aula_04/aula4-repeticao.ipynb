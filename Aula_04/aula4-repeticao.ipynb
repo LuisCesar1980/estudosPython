{
 "cells": [
  {
   "cell_type": "markdown",
   "metadata": {},
   "source": [
    "<font size=4>\n",
    "<h1>Introdução à programação em Python: comandos de repetição</h1>\n",
    "\n",
    "<p>Neste notebook você vai aprender como fazer para executar um trecho do seu programa várias vezes.</p>\n",
    "\n",
    "<p>Isso é muito útil quando o problema que estamos tentando resolver envolve tarefas repetitivas!</p>\n",
    "</font>"
   ]
  },
  {
   "cell_type": "markdown",
   "metadata": {},
   "source": [
    "<hr><font size=4><h2>Tarefas repetidas</h2>\n",
    "\n",
    "<p>Vamos começar com um exemplo simples: suponha que você queira imprimir os números de **1** a **5**.</p>\n",
    "\n",
    "<p>Já vimos como fazer isso com uma lista:<p>\n",
    "</font>"
   ]
  },
  {
   "cell_type": "code",
   "execution_count": 1,
   "metadata": {},
   "outputs": [
    {
     "name": "stdout",
     "output_type": "stream",
     "text": [
      "[1, 2, 3, 4, 5]\n"
     ]
    }
   ],
   "source": [
    "print(list(range(1,6)))"
   ]
  },
  {
   "cell_type": "markdown",
   "metadata": {},
   "source": [
    "<font size=4><p>Mas, e se quisermos imprimir um número por linha?</p>\n",
    "\n",
    "<p>Nesse caso, você poderia fazer o seguinte:</p></font>"
   ]
  },
  {
   "cell_type": "code",
   "execution_count": 2,
   "metadata": {},
   "outputs": [
    {
     "name": "stdout",
     "output_type": "stream",
     "text": [
      "1\n",
      "2\n",
      "3\n",
      "4\n",
      "5\n"
     ]
    }
   ],
   "source": [
    "print(1)\n",
    "print(2)\n",
    "print(3)\n",
    "print(4)\n",
    "print(5)"
   ]
  },
  {
   "cell_type": "markdown",
   "metadata": {},
   "source": [
    "<font size=4><p>Agora, e se você quisesse imprimir os números de **1** a **100**, um por linha?</p>\n",
    "\n",
    "<p>Tudo bem, imprimir os números de **1** a **100** com um monte de linhas `print()` é muito tedioso, mas também é factível.</p>\n",
    "\n",
    "<p>O problema complica mesmo se você quisesse imprimir os números de **1** a <b>$n$</b>, onde $n$ é um número que você obteve do usuário através de uma chamada do `input()`.</p>\n",
    "\n",
    "<p>Isso não seria nem chato nem tedioso, seria impossível!</p>\n",
    "\n",
    "<p>Para lidar com esse tipo de situação que exige repetição de tarefas, as linguagens de programação possuem estruturas de repetição (ou laços), como os comandos **`for`** e **`while`**.</p>\n",
    "\n",
    "<p>Veja a seguir como você pode fazer para imprimir os números de 1 a 5 com o comando **`for`**:</p>"
   ]
  },
  {
   "cell_type": "code",
   "execution_count": 3,
   "metadata": {},
   "outputs": [
    {
     "name": "stdout",
     "output_type": "stream",
     "text": [
      "1\n",
      "2\n",
      "3\n",
      "4\n",
      "5\n"
     ]
    }
   ],
   "source": [
    "for n in [1, 2, 3, 4, 5]:\n",
    "    print(n)"
   ]
  },
  {
   "cell_type": "code",
   "execution_count": 4,
   "metadata": {},
   "outputs": [
    {
     "name": "stdout",
     "output_type": "stream",
     "text": [
      "1\n",
      "2\n",
      "3\n",
      "4\n",
      "5\n"
     ]
    }
   ],
   "source": [
    "for n in range(1,6):\n",
    "    print(n)"
   ]
  },
  {
   "cell_type": "markdown",
   "metadata": {},
   "source": [
    "<font size=4><p>O que ambos os códigos acima estão fazendo?</p>\n",
    "    \n",
    "<p>Eles estão iterando sobre os valores da lista: para cada valor distinto que está na lista, a variável `n` assume um desses valores. O corpo do laço está apenas mandando imprimir o valor que está nessa variável.</p>\n",
    "\n",
    "</font>"
   ]
  },
  {
   "cell_type": "markdown",
   "metadata": {},
   "source": [
    "<font size=4><p>Laços do tipo **`for`** em Python servem precisamente para isso: iterar em elementos de uma lista.</p>\n",
    "    \n",
    "<p>Como vimos na primeira aula, listas podem armazenar qualquer tipo de valor. Assim, podemos ter o seguinte tipo de construção:</p></font>"
   ]
  },
  {
   "cell_type": "code",
   "execution_count": 5,
   "metadata": {},
   "outputs": [
    {
     "name": "stdout",
     "output_type": "stream",
     "text": [
      "gato\n",
      "cachorro\n",
      "True\n",
      "34\n"
     ]
    }
   ],
   "source": [
    "for e in ['gato', 'cachorro', True, 34]:\n",
    "    print(e)"
   ]
  },
  {
   "cell_type": "markdown",
   "metadata": {},
   "source": [
    "<font size=4><p>Podemos também interagir com o usuário:</p></font>"
   ]
  },
  {
   "cell_type": "code",
   "execution_count": 6,
   "metadata": {},
   "outputs": [
    {
     "name": "stdin",
     "output_type": "stream",
     "text": [
      "Digite um número maior do que 1:  3\n"
     ]
    },
    {
     "name": "stdout",
     "output_type": "stream",
     "text": [
      "1\n",
      "2\n",
      "3\n"
     ]
    },
    {
     "name": "stdin",
     "output_type": "stream",
     "text": [
      "\n",
      "Digite um número maior do que 5:  30\n"
     ]
    },
    {
     "name": "stdout",
     "output_type": "stream",
     "text": [
      "5\n",
      "8\n",
      "11\n",
      "14\n",
      "17\n",
      "20\n",
      "23\n",
      "26\n",
      "29\n"
     ]
    }
   ],
   "source": [
    "limiteA = int(input(\"Digite um número maior do que 1: \"))\n",
    "for n in range(1, limiteA + 1):\n",
    "    print(n)\n",
    "    \n",
    "limiteB = int(input(\"\\nDigite um número maior do que 5: \"))\n",
    "for y in range(5, limiteB + 1, 3):\n",
    "    print(y)"
   ]
  },
  {
   "cell_type": "markdown",
   "metadata": {},
   "source": [
    "<font size=4><h4>Faça você mesmo!</h4>\n",
    "<p>Modifique o código acima para que ele também peça o número inicial para o usuário. Execute uma vez de modo que ele imprima os números de **10** a **50**.</p>\n",
    "</font>"
   ]
  },
  {
   "cell_type": "markdown",
   "metadata": {},
   "source": [
    "<font size=4><h2>O comando **`for`**</h2>\n",
    "\n",
    "<p>Como você já deve ter percebido, o comando **`for`** faz com que uma variável receba, repetidamente, valores de uma dada lista e, para cada um desses valores, executa o bloco de código indentado logo abaixo dele.</p>\n",
    "\n",
    "<p>A estrutura do comando **`for`** é a seguinte:</p>\n",
    "<code>for variável in lista:\n",
    "    comando\n",
    "    comando\n",
    "    etc.\n",
    "restante do programa\n",
    "</code>\n",
    "\n",
    "<p>Assim como no comando **`if`**, a primeira linha de código não indentada depois do comando marca o fim do bloco de código associado.</p>\n",
    "\n",
    "\n",
    "</font>       "
   ]
  },
  {
   "cell_type": "markdown",
   "metadata": {},
   "source": [
    "<font size=4><h4>Exemplo</h4>\n",
    "\n",
    "<p>Suponha que queremos calcular a soma dos números de $1$ a $n$.</p>\n",
    "\n",
    "<p>Por exemplo, se $n = 5$, queremos calcular $1 + 2 + 3 + 4 + 5 = 15$.</p>\n",
    "\n",
    "<p>Na verdade, existe uma fórmula fechada para essa soma, mas suponha que queremos fazer isso usando o comando **`for`**:</p></font>"
   ]
  },
  {
   "cell_type": "code",
   "execution_count": 2,
   "metadata": {},
   "outputs": [
    {
     "name": "stdin",
     "output_type": "stream",
     "text": [
      "Digite o valor de m:  3\n"
     ]
    },
    {
     "name": "stdout",
     "output_type": "stream",
     "text": [
      "1 + 2 + 3 = 6\n",
      "\n",
      "\n"
     ]
    },
    {
     "name": "stdin",
     "output_type": "stream",
     "text": [
      "Digite o valor de n:  3\n"
     ]
    },
    {
     "name": "stdout",
     "output_type": "stream",
     "text": [
      "1 ² + 2 ² + 3 ² = 14\n"
     ]
    }
   ],
   "source": [
    "m = int(input(\"Digite o valor de m: \"))\n",
    "total2 = 0\n",
    "\n",
    "for y in range(1, m): # Vai de 1 até m-1\n",
    "    total2 = total2 + y\n",
    "    \n",
    "    print(y,\"+ \", end=\"\") \n",
    "    \n",
    "total2 = total2 + m # Ou assim: print(m, \" = \", total2 + m)     \n",
    "\n",
    "print(m,\"=\",total2)\n",
    "print(\"\\n\")\n",
    "\n",
    "#===========================================================================\n",
    "\n",
    "n = int(input(\"Digite o valor de n: \"))\n",
    "total = 0\n",
    "\n",
    "for i in range(1, n): # Vai de 1 até n-1\n",
    "    total = total + i**2 \n",
    "\n",
    "    print(i,\"² + \", end=\"\") \n",
    "    \n",
    "total = total + n**2 # Ou assim: print(n, \"² = \", total + n**2) \n",
    "\n",
    "print(n,\"² =\", total) "
   ]
  },
  {
   "cell_type": "markdown",
   "metadata": {},
   "source": [
    "<font size=4>**Atenção:** Por que a segunda linha do código acima é `total = 0`?</font>"
   ]
  },
  {
   "cell_type": "markdown",
   "metadata": {},
   "source": [
    "<font size=4><h4>Faça você mesmo!</h4> \n",
    "\n",
    "<p>Modifique o código abaixo para calcular a soma dos quadrados dos números de $1$ até $n$. Ou seja, quando o usuário digitar um número $n$, o programa deverá mostrar a soma\n",
    "$$1^2 + 2^2 + 3^2 + \\cdots + n^2.$$</p>\n",
    "</font>"
   ]
  },
  {
   "cell_type": "code",
   "execution_count": 1,
   "metadata": {},
   "outputs": [
    {
     "name": "stdout",
     "output_type": "stream",
     "text": [
      "teste 2!\n"
     ]
    },
    {
     "name": "stdin",
     "output_type": "stream",
     "text": [
      "Digite o valor de n:  3\n"
     ]
    },
    {
     "name": "stdout",
     "output_type": "stream",
     "text": [
      "1 ² + 2 ² + 3 ² = 14\n"
     ]
    }
   ],
   "source": [
    "#TypeError: 'str' object cannot be interpreted as an integer\n",
    "#print(list(range(i,\"²\",total)))\n",
    "    \n",
    "print(\"t\", end=\"\")\n",
    "print(\"e\", end=\"\")\n",
    "print(\"s\", end=\"\")\n",
    "print(\"t\", end=\"\")\n",
    "print(\"e\", end=\"\")\n",
    "print(\" 2!\")\n",
    "# Vai imprimir a palavra teste 2!\n",
    "\n",
    "# ======================================================================== \n",
    "\n",
    "n = int(input(\"Digite o valor de n: \"))\n",
    "\n",
    "total = 0\n",
    "\n",
    "for i in range(1, n): # Vai de 1 até n-1\n",
    "    total = total + i**2 \n",
    "\n",
    "    print(i,\"² + \", end=\"\") \n",
    "    \n",
    "total = total + n**2 # Ou assim: print(n, \"² = \", total + n**2) \n",
    "\n",
    "print(n,\"² =\", total) "
   ]
  },
  {
   "cell_type": "markdown",
   "metadata": {},
   "source": [
    "<font size=4><h4>Exemplo</h4>\n",
    "    \n",
    "<p>Também podemos utilizar um laço do tipo `for` em Python quando queremos realizar um bloco de comandos um certo número $n$ de vezes.</p>\n",
    "    \n",
    "<p>Para isso, podemos iterar sobre uma lista que tenha tamanho $n$.</p></font>"
   ]
  },
  {
   "cell_type": "code",
   "execution_count": 8,
   "metadata": {},
   "outputs": [
    {
     "name": "stdin",
     "output_type": "stream",
     "text": [
      "Digite a quantidade de repetições desejadas:  4\n"
     ]
    },
    {
     "name": "stdout",
     "output_type": "stream",
     "text": [
      "\n",
      "Hello world\n",
      "Hello world\n",
      "Hello world\n",
      "Hello world\n"
     ]
    }
   ],
   "source": [
    "n = int(input(\"Digite a quantidade de repetições desejadas: \"))\n",
    "\n",
    "print()\n",
    "for i in range(n): #Ele vai de 0 até n-1 (o índice começa em zero)\n",
    "    print(\"Hello world\")"
   ]
  },
  {
   "cell_type": "markdown",
   "metadata": {},
   "source": [
    "<font size=4>Note que não importa qual o valor de `i` em cada iteração (apesar de que sabemos que ele assumirá valores `0`, `1`, ..., `n-1`), apenas importa que ele assume `n` valores diferentes, que é a quantidade de vezes que queremos repetir os comandos.</font>"
   ]
  },
  {
   "cell_type": "markdown",
   "metadata": {},
   "source": [
    "<font size=4><h4>Exemplo</h4>\n",
    "\n",
    "<p>O código a seguir pede que o usuário digite o número de vendas e um valor para cada venda. Depois, o programa calcula e imprime o valor total das vendas.</p></font>"
   ]
  },
  {
   "cell_type": "code",
   "execution_count": 10,
   "metadata": {},
   "outputs": [
    {
     "name": "stdin",
     "output_type": "stream",
     "text": [
      "Qual o número de vendas?  3\n"
     ]
    },
    {
     "name": "stdout",
     "output_type": "stream",
     "text": [
      "\n"
     ]
    },
    {
     "name": "stdin",
     "output_type": "stream",
     "text": [
      "Qual o valor da venda?  100\n",
      "Qual o valor da venda?  50\n",
      "Qual o valor da venda?  96\n"
     ]
    },
    {
     "name": "stdout",
     "output_type": "stream",
     "text": [
      "\n",
      "O total das vendas é: 246.0\n",
      "A média de todas as vendas:  82.0\n"
     ]
    }
   ],
   "source": [
    "n = int(input(\"Qual o número de vendas? \"))\n",
    "\n",
    "total = 0.0\n",
    "print()\n",
    "\n",
    "# i vai de 0 até n-1 (o índice começa em zero)\n",
    "for i in range(n):\n",
    "    valor = float(input(\"Qual o valor da venda? \"))\n",
    "    total = total + valor\n",
    "    media = total / n\n",
    "\n",
    "print(\"\\nO total das vendas é:\", total)\n",
    "print(\"A média de todas as vendas: \",media)"
   ]
  },
  {
   "cell_type": "markdown",
   "metadata": {},
   "source": [
    "<font size=4><h4>Faça você mesmo!</h4>\n",
    "\n",
    "<p>Modifique o código acima de modo que, além do valor total das vendas, o programa imprima também o valor médio das vendas.</p>\n",
    "</font>"
   ]
  },
  {
   "cell_type": "markdown",
   "metadata": {},
   "source": [
    "<font size=4><h3>Importante</h3>\n",
    "    \n",
    "<p>Assim como nos comandos `if`, um bloco de comandos ligados a um comando `for` pode conter quaisquer um dos comandos que vimos até agora, incluindo outros comandos `for`.</p>\n",
    "\n",
    "<p>No exemplo a seguir, queremos contar quantos números digitados pelo usuário são pares.</p>\n",
    "\n",
    "</font>"
   ]
  },
  {
   "cell_type": "code",
   "execution_count": 12,
   "metadata": {},
   "outputs": [
    {
     "name": "stdin",
     "output_type": "stream",
     "text": [
      "Digite a quantidade de números inteiros:  4\n"
     ]
    },
    {
     "name": "stdout",
     "output_type": "stream",
     "text": [
      "\n"
     ]
    },
    {
     "name": "stdin",
     "output_type": "stream",
     "text": [
      "Digite um número inteiro:  1\n",
      "Digite um número inteiro:  2\n",
      "Digite um número inteiro:  3\n",
      "Digite um número inteiro:  4\n"
     ]
    },
    {
     "name": "stdout",
     "output_type": "stream",
     "text": [
      "\n",
      "Quantidade total de números pares: 2\n"
     ]
    }
   ],
   "source": [
    "n = int(input(\"Digite a quantidade de números inteiros: \"))\n",
    "\n",
    "qtd_pares = 0\n",
    "print()\n",
    "\n",
    "for i in range(n): # i vai de 0 até n-1\n",
    "    novo_numero = int(input(\"Digite um número inteiro: \"))\n",
    "    if novo_numero % 2 == 0:\n",
    "        qtd_pares = qtd_pares + 1\n",
    "print()\n",
    "print(\"Quantidade total de números pares:\", qtd_pares)"
   ]
  },
  {
   "cell_type": "markdown",
   "metadata": {},
   "source": [
    "<font size=4><h4>Faça você mesmo!</h4>\n",
    "\n",
    "<p>Modifique o código abaixo de modo que, toda vez que o usuário digitar uma venda com o valor maior do que 100, o programa mostre naquele mesmo momento uma mensagem de parabéns para o vendedor.</p>\n",
    "\n",
    "<p> Faça com que seu programa conte quantas vendas ultrapassaram R$ 100 e, no final, imprima uma mensagem informando essa quantidade.</p>\n",
    "</font>"
   ]
  },
  {
   "cell_type": "code",
   "execution_count": 4,
   "metadata": {},
   "outputs": [
    {
     "name": "stdin",
     "output_type": "stream",
     "text": [
      "Informe o número de vendas realizadas:  1\n"
     ]
    },
    {
     "name": "stdout",
     "output_type": "stream",
     "text": [
      "\n"
     ]
    },
    {
     "name": "stdin",
     "output_type": "stream",
     "text": [
      "Informe o valor da venda: R$  1\n"
     ]
    },
    {
     "name": "stdout",
     "output_type": "stream",
     "text": [
      "\n",
      "O valor total das vendas é: R$ 1.0\n",
      "A média das vendas realizadas é: 1.0\n",
      "Você não realizou nenhuma venda acima de R$ 100,00\n"
     ]
    }
   ],
   "source": [
    "n = int(input(\"Informe o número de vendas realizadas: \"))\n",
    "\n",
    "print()\n",
    "\n",
    "total = 0.0\n",
    "media = 0.0\n",
    "vendMaior100 = 0\n",
    "\n",
    "for i in range(n): # i vai de 0 até n-1\n",
    "    valor = float(input(\"Informe o valor da venda: R$ \"))\n",
    "    total = total + valor\n",
    "    media = total / n\n",
    "    if (valor > 100):\n",
    "        print(\"Parabéns, você realizou uma venda acima de R$ 100,00\\n\")\n",
    "        vendMaior100 = vendMaior100 + 1\n",
    "        \n",
    "print(\"\\nO valor total das vendas é: R$\", total)\n",
    "print(\"A média das vendas realizadas é:\",media)\n",
    "\n",
    "if vendMaior100 == 1:\n",
    "    print(\"Você realizou\",vendMaior100,\"venda acima de R$ 100,00\")\n",
    "elif vendMaior100 > 1:\n",
    "    print(\"Você realizou\",vendMaior100,\"vendas acima de R$ 100,00\")\n",
    "else:\n",
    "    print(\"Você não realizou nenhuma venda acima de R$ 100,00\")"
   ]
  },
  {
   "cell_type": "markdown",
   "metadata": {},
   "source": [
    "<font size=4><h2>O comando while</h2>\n",
    "\n",
    "<p>Agora vamos ver um outro comando para fazer repetições.</p>\n",
    "\n",
    "<p>O nome desse comando é **`while`**, que quer dizer _enquanto_ em português.</p>\n",
    "\n",
    "<p>Vejamos um exemplo.</p></font>"
   ]
  },
  {
   "cell_type": "code",
   "execution_count": 47,
   "metadata": {},
   "outputs": [
    {
     "name": "stdout",
     "output_type": "stream",
     "text": [
      "1\n",
      "2\n",
      "3\n",
      "4\n",
      "5\n",
      "\n",
      "5\n",
      "4\n",
      "3\n",
      "2\n",
      "1\n",
      "\n",
      "1 , 2 , 3 , 4 , 5 , 6 , 7 , 8 , 9 , 10 , 11 , 12 , 13 , 14 , 15 , 16 , 17 , 18 , 19 , 20 , 21 , 22 , 23 , 24 , 25 , 26 , 27 , 28 , 29 , 30 , 31 , 32 , 33 , 34 , 35 , 36 , 37 , 38 , 39 , 40 , 41 , 42 , 43 , 44 , 45 , 46 , 47 , 48 , 49 , 50\n",
      "\n",
      "50 , 49 , 48 , 47 , 46 , 45 , 44 , 43 , 42 , 41 , 40 , 39 , 38 , 37 , 36 , 35 , 34 , 33 , 32 , 31 , 30 , 29 , 28 , 27 , 26 , 25 , 24 , 23 , 22 , 21 , 20 , 19 , 18 , 17 , 16 , 15 , 14 , 13 , 12 , 11 , 10 , 9 , 8 , 7 , 6 , 5 , 4 , 3 , 2 , 1\n"
     ]
    }
   ],
   "source": [
    "n = 1               \n",
    "while n <= 5:       \n",
    "    print(n)       \n",
    "    n = n + 1  \n",
    "\n",
    "print()\n",
    "\n",
    "n = 5               \n",
    "while n >= 1:       \n",
    "    print(n)       \n",
    "    n = n - 1  \n",
    "    \n",
    "print()\n",
    "\n",
    "n = 1               \n",
    "while n <= 49:       \n",
    "    print(n,\", \",end=\"\")       \n",
    "    n = n + 1 \n",
    "print(n)\n",
    "\n",
    "print()\n",
    "\n",
    "n = 50              \n",
    "while n > 1:       \n",
    "    print(n,\", \",end=\"\")       \n",
    "    n = n - 1 \n",
    "print(n)\n",
    "\n"
   ]
  },
  {
   "cell_type": "markdown",
   "metadata": {},
   "source": [
    "<font size=4><p>O que exatamente o nosso código está fazendo?</p>\n",
    "    \n",
    "<p>O primeiro passo é colocar o valor 1 em uma variável de nome `n`. O segundo passo é verificar a condição `n <= 5`. Se essa condição for verdadeira (e, no caso, é), então o conteúdo indentado logo abaixo do comando é executado.</p>\n",
    "    \n",
    "<p>No conjunto de comandos, temos a impressão do valor de `n` seguida do aumento no valor de `n` em uma unidade. O próximo passo do programa é verificar novamente a condição `n <= 5`.</p>\n",
    "    \n",
    "<p>Novamente, se a condição for verdadeira, o conteúdo indentado logo abaixo do comando while é executado.</p>\n",
    "\n",
    "<p>Essa repetição se mantém até o primeiro momento em que a condição fique falsa. Nesse caso, quando `n` armazena o valor 6 a condição `n <= 5` fica falsa.<p>\n",
    "    \n",
    "<p>Quando a condição do while fica falsa, o conteúdo indentado logo abaixo dele não é mais executado e o programa segue para o próximo comando não indentado.</p></font>"
   ]
  },
  {
   "cell_type": "markdown",
   "metadata": {},
   "source": [
    "<hr><font size=4><p>O comando **`while`** tem sempre a seguinte estrutura:</p>\n",
    "<code>while condição:\n",
    "    código indentado\n",
    "    código indentado\n",
    "    etc.\n",
    "restante do programa\n",
    "</code>\n",
    "\n",
    "<p>Observe que o comando **`while`** tem uma condição e um bloco de código associado que deve vir _indentado_. </p>\n",
    "\n",
    "<p>No nosso exemplo acima, a condição é `n <= 5` e o bloco de código é</p>\n",
    "<code>print(n)       \n",
    "n = n + 1</code>\n",
    "\n",
    "<p>O comando **`while`** executa o bloco de código indentado enquanto a condição dada for verdadeira.</p></font>"
   ]
  },
  {
   "cell_type": "markdown",
   "metadata": {},
   "source": [
    "<font size=4><h4>Faça você mesmo!</h4>\n",
    "\n",
    "<p>Modifique o código acima para que ele imprima os números de **10 a 50**.</p>\n",
    "</font>"
   ]
  },
  {
   "cell_type": "markdown",
   "metadata": {},
   "source": [
    "<font size=4><p>**Atenção:** sempre tome muito cuidado quando você for usar o comando **`while`** pois, se acontecer da condição ser sempre verdadeira, seu programa irá **_entrar em loop infinito_**, ou seja, ele ficará rodando \"para sempre\" e irá travar o kernel do Python!</p>"
   ]
  },
  {
   "cell_type": "markdown",
   "metadata": {},
   "source": [
    "<font size=4><h4>Faça você mesmo!</h4>\n",
    "\n",
    "<p>O código a seguir imprime os números de 1 a 10. Modifique **apenas** o bloco de código do  **`while`** de modo que ele imprima o seguinte:</p>\n",
    "<code>1 é ímpar\n",
    "2 é par \n",
    "3 é ímpar\n",
    "4 é par \n",
    "5 é ímpar\n",
    "etc. (até 10)\n",
    "</code>\n",
    "\n",
    "<p>**Dica:** use o comando **`if`** dentro do bloco de código do **`while`**.</p>\n",
    "</font>"
   ]
  },
  {
   "cell_type": "code",
   "execution_count": 1,
   "metadata": {},
   "outputs": [
    {
     "name": "stdout",
     "output_type": "stream",
     "text": [
      "1 é impar\n",
      "2 é par\n",
      "3 é impar\n",
      "4 é par\n",
      "5 é impar\n",
      "6 é par\n",
      "7 é impar\n",
      "8 é par\n",
      "9 é impar\n",
      "10 é par\n"
     ]
    }
   ],
   "source": [
    "n = 1 \n",
    "\n",
    "while n <= 10: \n",
    "    if (n % 2 == 0):\n",
    "        print(n,\"é par\")\n",
    "        n = n + 1 \n",
    "    else:\n",
    "        print(n,\"é impar\")\n",
    "        n = n + 1"
   ]
  },
  {
   "cell_type": "markdown",
   "metadata": {},
   "source": [
    "<hr><font size=4><p>O **`while`** é usado no lugar do **`for`** quando não sabemos quantas vezes devemos repetir um bloco de código. </p>\n",
    "    \n",
    "<p>Suponha novamente que queremos saber quantos números pares o usuário digitou, mas que dessa vez ele não sabe quantos números vai digitar.</p>\n",
    "\n",
    "<p>Dessa vez, vamos pedir para o usuário digitar a palavra \"fim\" quando ele quiser parar de digitar números.</p>\n",
    "\n",
    "<p>Veja a solução a seguir.</p>\n",
    "\n",
    "</font>"
   ]
  },
  {
   "cell_type": "code",
   "execution_count": 2,
   "metadata": {},
   "outputs": [
    {
     "name": "stdin",
     "output_type": "stream",
     "text": [
      "Digite um número da sequência ou a palavra 'fim':  fim\n"
     ]
    },
    {
     "name": "stdout",
     "output_type": "stream",
     "text": [
      "A quantidade total de números pares foi 0\n"
     ]
    }
   ],
   "source": [
    "qtd_pares = 0\n",
    "# É possível (talvez improvável) que o usuário não queira digitar nenhum número\n",
    "# Assim, ele pode digitar a palavra fim logo no início\n",
    "dado = input(\"Digite um número da sequência ou a palavra 'fim': \")\n",
    "# Se o que ele digitou não for a palavra fim, então executaremos o laço para pedir novos números\n",
    "# Esse laço vai executar enquanto o usuário não digitar a palavra \"fim\"\n",
    "while dado != \"fim\":\n",
    "    # Se o programa está aqui dentro do laço, é porque a variável \"dado\" não tem a palavra fim\n",
    "    # Ou seja, ela tem um número\n",
    "    novo_numero = int(dado)\n",
    "    # e agora podemos testar se esse número é par ou não\n",
    "    if novo_numero % 2 == 0:\n",
    "        qtd_pares = qtd_pares + 1\n",
    "    # Agora precisamos pedir por uma nova informação ao usuário\n",
    "    dado = input(\"Digite um número da sequência ou a palavra 'fim': \")\n",
    "        \n",
    "print(\"A quantidade total de números pares foi\", qtd_pares)"
   ]
  },
  {
   "cell_type": "markdown",
   "metadata": {},
   "source": [
    "<font size=4>\n",
    "<hr>\n",
    "<p>O código abaixo imprime \"SENHA CORRETA\" se o usuário digita 1234 e \"SENHA INCORRETA\" se o usuário digita qualquer outro número. </p>\n",
    "\n",
    "<p>Note como ele fica executando até o usuário acertar a senha!</p></font>\n",
    "    \n",
    "    \n",
    "</font>"
   ]
  },
  {
   "cell_type": "code",
   "execution_count": 7,
   "metadata": {},
   "outputs": [
    {
     "name": "stdin",
     "output_type": "stream",
     "text": [
      "Digite a sua senha numérica:  1\n"
     ]
    },
    {
     "name": "stdout",
     "output_type": "stream",
     "text": [
      "SENHA INCORRETA\n"
     ]
    },
    {
     "name": "stdin",
     "output_type": "stream",
     "text": [
      "Digite a sua senha numérica:  3\n"
     ]
    },
    {
     "name": "stdout",
     "output_type": "stream",
     "text": [
      "SENHA INCORRETA\n"
     ]
    },
    {
     "name": "stdin",
     "output_type": "stream",
     "text": [
      "Digite a sua senha numérica:  3\n"
     ]
    },
    {
     "name": "stdout",
     "output_type": "stream",
     "text": [
      "SENHA INCORRETA\n",
      "\n",
      "Fim\n",
      "\n"
     ]
    },
    {
     "name": "stdin",
     "output_type": "stream",
     "text": [
      "Digite a sua senha numérica:  3\n"
     ]
    },
    {
     "name": "stdout",
     "output_type": "stream",
     "text": [
      "SENHA INCORRETA\n"
     ]
    },
    {
     "name": "stdin",
     "output_type": "stream",
     "text": [
      "Digite a sua senha numérica:  3\n"
     ]
    },
    {
     "name": "stdout",
     "output_type": "stream",
     "text": [
      "SENHA INCORRETA\n"
     ]
    },
    {
     "name": "stdin",
     "output_type": "stream",
     "text": [
      "Digite a sua senha numérica:  3\n"
     ]
    },
    {
     "name": "stdout",
     "output_type": "stream",
     "text": [
      "SENHA INCORRETA\n"
     ]
    },
    {
     "name": "stdin",
     "output_type": "stream",
     "text": [
      "Digite a sua senha numérica:  3\n"
     ]
    },
    {
     "name": "stdout",
     "output_type": "stream",
     "text": [
      "SENHA INCORRETA\n"
     ]
    },
    {
     "name": "stdin",
     "output_type": "stream",
     "text": [
      "Digite a sua senha numérica:  1234\n"
     ]
    },
    {
     "name": "stdout",
     "output_type": "stream",
     "text": [
      "SENHA CORRETA\n",
      "\n",
      "Fim\n"
     ]
    }
   ],
   "source": [
    "senha_estah_errada = True\n",
    "quant_tentativ = 0\n",
    "\n",
    "while senha_estah_errada and (quant_tentativ < 3): \n",
    "    \n",
    "        senha = int(input(\"Digite a sua senha numérica: \"))\n",
    "    \n",
    "        if senha == 1234:\n",
    "            print(\"SENHA CORRETA\")\n",
    "            senha_estah_errada = False\n",
    "        else: \n",
    "            print(\"SENHA INCORRETA\")\n",
    "            \n",
    "        quant_tentativ = quant_tentativ + 1\n",
    "        \n",
    "print(\"\\nFim\\n\")\n",
    "\n",
    "#====================================================================\n",
    "\n",
    "senha_estah_errada = True\n",
    "#quant_tentativ = 0\n",
    "\n",
    "while senha_estah_errada: # Vai ficar executando até o usuário acertar a senha! \n",
    "    \n",
    "        senha = int(input(\"Digite a sua senha numérica: \"))\n",
    "    \n",
    "        if senha == 1234:\n",
    "            print(\"SENHA CORRETA\")\n",
    "            senha_estah_errada = False\n",
    "        else: \n",
    "            print(\"SENHA INCORRETA\")\n",
    "            \n",
    "        #quant_tentativ = quant_tentativ + 1\n",
    "        \n",
    "print(\"\\nFim\")\n",
    "\n"
   ]
  },
  {
   "cell_type": "markdown",
   "metadata": {},
   "source": [
    "<font size=4><p>Note que o mesmo comportamento pode ser replicado colocando-se a linha `print(\"SENHA CORRETA\")` para fora do bloco de código do **`while`** como feito abaixo.</p></font>"
   ]
  },
  {
   "cell_type": "code",
   "execution_count": 6,
   "metadata": {},
   "outputs": [
    {
     "name": "stdout",
     "output_type": "stream",
     "text": [
      "Digite a sua senha numérica: 3241\n",
      "SENHA INCORRETA\n",
      "\n",
      "ACESSO NEGADO\n",
      "\n",
      "Digite a sua senha numérica: 324\n",
      "SENHA INCORRETA\n",
      "\n",
      "ACESSO NEGADO\n",
      "\n",
      "Digite a sua senha numérica: 3241\n",
      "SENHA INCORRETA\n",
      "\n",
      "ACESSO NEGADO\n",
      "\n",
      "\n",
      "=========================\n"
     ]
    }
   ],
   "source": [
    "senha_estah_errada = True\n",
    "quant_tentativ = 0\n",
    "\n",
    "while senha_estah_errada and quant_tentativ < 3:\n",
    "    senha = int(input(\"Digite a sua senha numérica: \"))\n",
    "    if senha == 1234:\n",
    "        print(\"SENHA CORRETA\")\n",
    "        print(\"ACESSO LIBERADO\\n\")\n",
    "        senha_estah_errada = False \n",
    "    else:\n",
    "        print(\"SENHA INCORRETA\\n\")\n",
    "        print(\"ACESSO NEGADO\\n\")\n",
    "        quant_tentativ = quant_tentativ + 1\n",
    "        \n",
    "print(\"\\n=========================\")"
   ]
  },
  {
   "cell_type": "markdown",
   "metadata": {},
   "source": [
    "<font size=4><h4>Faça você mesmo!</h4>\n",
    "<p>Modifique o código acima de modo que ele permita no máximo 3 tentativas para acertar a senha.</p>\n",
    "<p>**Dica:** use uma variável para contar quantas tentativas foram feitas!</p>\n",
    "</font>"
   ]
  },
  {
   "cell_type": "markdown",
   "metadata": {},
   "source": [
    "<hr><font size=4><h2>Mais exemplos</h2>\n",
    "    \n",
    "</font>"
   ]
  },
  {
   "cell_type": "markdown",
   "metadata": {},
   "source": [
    "<font size=4><p>Os divisores de um número $n$ são todos os números entre $1$ e $n$ que dividem $n$ de forma exata (sem resto).</p>\n",
    "    \n",
    "<p>Para descobrir quais são os divisores de $n$, portanto, precisamos de um laço que, a cada iteração, assuma um valor diferente entre $1$ e $n$ e teste se esse valor é divisor de $n$.</p></font>"
   ]
  },
  {
   "cell_type": "code",
   "execution_count": 3,
   "metadata": {},
   "outputs": [
    {
     "name": "stdout",
     "output_type": "stream",
     "text": [
      "Os divisores de um número 𝑛 são todos os números entre 1 \n",
      "e 𝑛 que dividem 𝑛 de forma exata (sem resto)\n"
     ]
    },
    {
     "name": "stdin",
     "output_type": "stream",
     "text": [
      "Digite um valor para n:  10\n"
     ]
    },
    {
     "name": "stdout",
     "output_type": "stream",
     "text": [
      "\n",
      "1 é um divisor de 10 => 10 / 1 = 10.0\n",
      "2 é um divisor de 10 => 10 / 2 = 5.0\n",
      "3 não é um divisor de 10 => 10 / 3 = 3  => resto = 1\n",
      "4 não é um divisor de 10 => 10 / 4 = 2  => resto = 2\n",
      "5 é um divisor de 10 => 10 / 5 = 2.0\n",
      "6 não é um divisor de 10 => 10 / 6 = 1  => resto = 4\n",
      "7 não é um divisor de 10 => 10 / 7 = 1  => resto = 3\n",
      "8 não é um divisor de 10 => 10 / 8 = 1  => resto = 2\n",
      "9 não é um divisor de 10 => 10 / 9 = 1  => resto = 1\n",
      "10 é um divisor de 10 => 10 / 10 = 1.0\n"
     ]
    }
   ],
   "source": [
    "print(\"Os divisores de um número 𝑛 são todos os números entre 1 \\ne 𝑛 que dividem 𝑛 de forma exata (sem resto)\")\n",
    "\n",
    "n = int(input(\"Digite um valor para n: \"))\n",
    "\n",
    "print()\n",
    "for i in range(1,n+1):\n",
    "    if n % i == 0:\n",
    "        print(i,\"é um divisor de\", n,\"=>\",n,\"/\",i,\"=\",n/i)\n",
    "    else:\n",
    "        print(i,\"não é um divisor de\",n,\"=>\",n,\"/\",i,\"=\",n//i,\" => resto =\",n%i)"
   ]
  },
  {
   "cell_type": "markdown",
   "metadata": {},
   "source": [
    "<hr><font size=4><p>Outro problema interessante é descobrir qual é o maior elemento dentre vários que foram digitados pelo usuário.</p>\n",
    "\n",
    "<p>Na aula anterior vimos como fazer isso quando o usuário digita 2 ou 3 números: com `if..elif..else` em algumas comparações já tínhamos a resposta.</p>\n",
    "\n",
    "<p>Mas quando o usuário entra com um valor desconhecido de números ($n$ números), o problema fica mais complicado, pois mesmo que você soubesse qual é o valor de $n$, as comparações seriam muitas!</p>\n",
    "\n",
    "<p>Uma boa ideia para resolver esse problema é a seguinte: vamos manter qual é o maior número dentre os números já lidos. Por exemplo, se o usuário já digitou a sequência de números $3,7,2,6,-3,8,1,4$, então o maior lido até o momento é o 8. Quando o usuário digitar um novo número $x$, temos apenas duas possibilidades: $x$ é maior do que 8 ou não, isto é, o novo número lido pode ser ou não maior do que o maior número que foi lido até o momento. Se $x > 8$, então certamente $x$ é maior do que qualquer outro número na sequência (não é necessário comparar $x$ com todos os números da sequência para decidir isso). Note então que basta duas comparações para corretamente manter o maior número.</p>\n",
    "\n",
    "<p>Veja a solução a seguir.</p>\n",
    "\n",
    "</font>"
   ]
  },
  {
   "cell_type": "code",
   "execution_count": 8,
   "metadata": {},
   "outputs": [
    {
     "name": "stdout",
     "output_type": "stream",
     "text": [
      "Digite a quantidade de números que serão fornecidos: 4\n",
      "\n",
      "Digite um novo número: 3\n",
      "Digite um novo número: 2\n",
      "Digite um novo número: 4\n",
      "Digite um novo número: 1\n",
      "\n",
      "Maior valor fornecido: 4.0\n"
     ]
    }
   ],
   "source": [
    "n = int(input(\"Digite a quantidade de números que serão verificados: \"))\n",
    "# não sabemos quais números serão fornecidos (podem ser negativos ou positivos)\n",
    "# então vamos assumir que o primeiro desses números é o maior\n",
    "\n",
    "print()\n",
    "maior = float(input(\"Digite um novo número: \"))\n",
    "\n",
    "# o laço a seguir se repete n-1 vezes pois já lemos um dos números\n",
    "# note como o valor que i assume em cada iteração não é importante\n",
    "for i in range(n - 1):\n",
    "    valor = float(input(\"Digite um novo número: \"))\n",
    "    # esse novo valor que foi fornecido pode ser maior do que o que estávamos considerando como maior antes\n",
    "    # então atualizamos o valor da variável \"maior\" para armazenar corretamente o maior valor de todos\n",
    "    if valor > maior:\n",
    "        maior = valor\n",
    "        \n",
    "# apenas depois que todos os n números foram fornecidos é que temos certeza de qual é o maior\n",
    "# por isso esse comando está fora do bloco do laço for\n",
    "print()\n",
    "print(\"Maior valor fornecido:\", maior)"
   ]
  },
  {
   "cell_type": "markdown",
   "metadata": {},
   "source": [
    "<hr><font size=4><p>O logaritmo de um número é o expoente a que outro valor fixo, a base, deve ser elevado para produzir este número. Por exemplo, o logaritmo de $1000$ na base $10$ é $3$ porque $10$ ao cubo é $1000$ ($1000 = 10 \\times 10 \\times 10 = 10^3$). De maneira geral, para quaisquer dois números reais $b$ e $x$, onde $b$ é positivo e $b \\neq 1$, $$y=b^{x}\\Leftrightarrow x=\\log_{b}(y).$$ -| - $$1000=10^{3}\\Leftrightarrow 3=\\log_{10}1000.$$</p>\n",
    "    \n",
    "<p>Uma definição equivalente é a seguinte. O logaritmo de um número $y$ na base $b$ é no máximo a quantidade de vezes que $y$ pode ser dividido por $b$ até atingir um valor menor do que 1.</p>\n",
    "\n",
    "<p>Por exemplo, o logaritmo de $9$ na base $2$ é no máximo $4$, pois $9/2 = 4.5$, $4.5/2 = 2.25$, $2.25/2 = 1.125$ e $1.125/2 = 0.5625$.</p>"
   ]
  },
  {
   "cell_type": "code",
   "execution_count": 3,
   "metadata": {},
   "outputs": [
    {
     "name": "stdin",
     "output_type": "stream",
     "text": [
      "Digite o número para o qual deseja calcular o logaritmo:  10\n",
      "Digite a base do logaritmo:  2\n"
     ]
    },
    {
     "name": "stdout",
     "output_type": "stream",
     "text": [
      "O logaritmo é no máximo 4\n"
     ]
    },
    {
     "name": "stdin",
     "output_type": "stream",
     "text": [
      "\n",
      "Digite o número para o qual deseja calcular o logaritmo:  10\n",
      "Digite a base do logaritmo:  2\n"
     ]
    },
    {
     "name": "stdout",
     "output_type": "stream",
     "text": [
      "O logaritmo inteiro é: 3\n"
     ]
    },
    {
     "name": "stdin",
     "output_type": "stream",
     "text": [
      "\n",
      "Digite o número para o qual deseja calcular o logaritmo:  10\n",
      "Digite a base do logaritmo:  2\n"
     ]
    },
    {
     "name": "stdout",
     "output_type": "stream",
     "text": [
      "O logaritmo de 10 na base 2 é: 3.3219\n"
     ]
    }
   ],
   "source": [
    "y = int(input(\"Digite o número para o qual deseja calcular o logaritmo: \"))\n",
    "b = int(input(\"Digite a base do logaritmo: \"))\n",
    "\n",
    "log = 0\n",
    "while y > 1:\n",
    "    y = y/b\n",
    "    log = log + 1\n",
    "    \n",
    "print(\"O logaritmo é no máximo\", log)\n",
    "\n",
    "# O código está quase correto, mas há um problema de precisão que pode ocorrer dependendo dos valores de y e b. \n",
    "# Além disso, a mensagem de saída sugere que o logaritmo pode ser impreciso, mas o algoritmo implementado fornece \n",
    "# apenas uma aproximação inteira do logaritmo na base especificada, já que não considera valores decimais.\n",
    "\n",
    "# Corrigido com Observações:\n",
    "# 1 - O cálculo do logaritmo feito dessa forma só é exato se y for uma potência inteira de b.\n",
    "# 2 - Para melhorar o código e torná-lo mais robusto, é importante ajustar a mensagem de saída e, \n",
    "# se necessário, incluir uma lógica para resultados mais precisos.\n",
    "    \n",
    "# Aqui está a versão revisada:\n",
    "\n",
    "y = int(input(\"\\nDigite o número para o qual deseja calcular o logaritmo: \"))\n",
    "b = int(input(\"Digite a base do logaritmo: \"))\n",
    "\n",
    "if y <= 0 or b <= 1:  # Validando entrada\n",
    "    print(\"O número deve ser maior que 0 e a base maior que 1.\")\n",
    "else:\n",
    "    log = 0\n",
    "    while y >= b:  # Enquanto y for maior ou igual à base\n",
    "        y = y / b\n",
    "        log += 1\n",
    "\n",
    "    print(\"O logaritmo inteiro é:\", log)\n",
    "\n",
    "# Alterações e Melhorias:\n",
    "# 1 - Validação da entrada: Adicionada verificação para evitar bases inválidas (base <= 1) ou números não positivos para y.\n",
    "# 2 - Correção na mensagem de saída: Agora indica que o resultado é o logaritmo inteiro.\n",
    "# 3 - Condição no while: Usado y >= b para assegurar a precisão na divisão.\n",
    "\n",
    "##################################################################################\n",
    "\n",
    "# Para Cálculo Mais Preciso:\n",
    "# Se você quiser calcular o logaritmo com casas decimais, use a função math.log da biblioteca padrão de Python:\n",
    "# Essa abordagem usa a função math.log para maior precisão e permite trabalhar com números decimais.\n",
    "\n",
    "import math\n",
    "\n",
    "y = int(input(\"\\nDigite o número para o qual deseja calcular o logaritmo: \"))\n",
    "b = int(input(\"Digite a base do logaritmo: \"))\n",
    "\n",
    "if y <= 0 or b <= 1:  # Validando entrada\n",
    "    print(\"O número deve ser maior que 0 e a base maior que 1.\")\n",
    "else:\n",
    "    log = math.log(y, b)  # Calcula o logaritmo com precisão\n",
    "    print(f\"O logaritmo de {y} na base {b} é: {log:.4f}\")\n"
   ]
  },
  {
   "cell_type": "markdown",
   "metadata": {},
   "source": [
    "<font size=4><p>Note que no código anterior o valor de `y` era constantemente atualizado, de forma que nós \"perdemos\" o valor inicial.</p>\n",
    "    \n",
    "<p>Caso a mensagem final precisasse mostrar esse valor, não seria possível. Podemos corrigir isso usando uma nova variável para guardar o valor inicial de `y`.</p></font>"
   ]
  },
  {
   "cell_type": "code",
   "execution_count": 4,
   "metadata": {},
   "outputs": [
    {
     "name": "stdout",
     "output_type": "stream",
     "text": [
      "Digite o número para o qual deseja calcular o logaritmo: 2\n",
      "Digite a base do logaritmo: 4\n",
      "\n",
      "Valor de y dentro do laço while: 0.5\n",
      "O logaritmo de 2 na base 4 é no máximo 1\n"
     ]
    }
   ],
   "source": [
    "y = int(input(\"Digite o número para o qual deseja calcular o logaritmo: \"))\n",
    "b = int(input(\"Digite a base do logaritmo: \"))\n",
    "\n",
    "auxy = y\n",
    "log = 0\n",
    "while y > 1:\n",
    "    y = y/b\n",
    "    log = log + 1\n",
    "\n",
    "print(\"\\nValor de y dentro do laço while:\",y)\n",
    "print(\"O logaritmo de\", auxy, \"na base\", b, \"é no máximo\", log)"
   ]
  },
  {
   "cell_type": "markdown",
   "metadata": {},
   "source": [
    "<hr><font size=4><p>Suponha agora que queremos encontrar todas soluções para a equação $x_1 + x_2 = C$, onde $C$ é algum valor fornecido pelo usuário.</p>\n",
    "   \n",
    "<p>Vamos assumir que $x_1 \\geq 0$ e $x_2 \\geq 0$ são ambas variáveis inteiras.</p>\n",
    "    \n",
    "<p>Por exemplo, se $C = 3$, então todas as soluções possíveis são:</p></font>\n",
    "\n",
    "| $x_1$ | $x_2$ | \n",
    "|-------|-------|\n",
    "| 0     |  3    |\n",
    "| 1     |  2    |\n",
    "| 2     |  1    |\n",
    "| 3     |  0    |\n",
    "\n",
    "<font size=4><p>Note como o valor máximo que tanto $x_1$ quanto $x_2$ podem assumir é $C$.</p></font>"
   ]
  },
  {
   "cell_type": "code",
   "execution_count": 2,
   "metadata": {},
   "outputs": [
    {
     "name": "stdout",
     "output_type": "stream",
     "text": [
      "Digite o valor de C: 2\n",
      "\n",
      "x1 = 0  + x2 = 0  não é solução para C = 2\n",
      "x1 = 0  + x2 = 1  não é solução para C = 2\n",
      "\n",
      "x1 = 0 + x2 = 2 é uma solução possível para C = 2 \n",
      "\n",
      "x1 = 1  + x2 = 0  não é solução para C = 2\n",
      "\n",
      "x1 = 1 + x2 = 1 é uma solução possível para C = 2 \n",
      "\n",
      "x1 = 1  + x2 = 2  não é solução para C = 2\n",
      "\n",
      "x1 = 2 + x2 = 0 é uma solução possível para C = 2 \n",
      "\n",
      "x1 = 2  + x2 = 1  não é solução para C = 2\n",
      "x1 = 2  + x2 = 2  não é solução para C = 2\n"
     ]
    }
   ],
   "source": [
    "C = int(input(\"Digite o valor de C: \"))\n",
    "\n",
    "print()\n",
    "for x1 in range(C+1): # x1 pode assumir valores entre 0 e C\n",
    "    # para cada valor que x1 assume, devemos testar todos os valores possíveis de x2\n",
    "    \n",
    "    for x2 in range(C+1): # x2 também pode assumir valores entre 0 e C\n",
    "        \n",
    "        # agora que temos um valor para x1 e outro para x2, verificamos se eles somam C\n",
    "        if x1 + x2 == C:\n",
    "            print(\"\\nx1 =\",x1,\"+ x2 =\",x2,\"é uma solução possível para C =\",C,\"\\n\")\n",
    "        else:\n",
    "            print(\"x1 =\",x1,\" + x2 =\",x2,\" não é solução para C =\",C)"
   ]
  },
  {
   "cell_type": "markdown",
   "metadata": {},
   "source": [
    "<font size=4>E se a equação fosse $x_1 + x_2 + x_3 = C$?</font>"
   ]
  },
  {
   "cell_type": "code",
   "execution_count": 109,
   "metadata": {},
   "outputs": [
    {
     "name": "stdout",
     "output_type": "stream",
     "text": [
      "Digite o valor de C: 2\n",
      "\n",
      "x1 = 0 ; x2 = 0 ; x3 = 0 => não é solução para C = 2\n",
      "x1 = 0 ; x2 = 0 ; x3 = 1 => não é solução para C = 2\n",
      "\n",
      "Solução possível para C = 2 : x1 = 0 ; x2 = 0 ; x3 = 2 \n",
      "\n",
      "x1 = 0 ; x2 = 1 ; x3 = 0 => não é solução para C = 2\n",
      "\n",
      "Solução possível para C = 2 : x1 = 0 ; x2 = 1 ; x3 = 1 \n",
      "\n",
      "x1 = 0 ; x2 = 1 ; x3 = 2 => não é solução para C = 2\n",
      "\n",
      "Solução possível para C = 2 : x1 = 0 ; x2 = 2 ; x3 = 0 \n",
      "\n",
      "x1 = 0 ; x2 = 2 ; x3 = 1 => não é solução para C = 2\n",
      "x1 = 0 ; x2 = 2 ; x3 = 2 => não é solução para C = 2\n",
      "x1 = 1 ; x2 = 0 ; x3 = 0 => não é solução para C = 2\n",
      "\n",
      "Solução possível para C = 2 : x1 = 1 ; x2 = 0 ; x3 = 1 \n",
      "\n",
      "x1 = 1 ; x2 = 0 ; x3 = 2 => não é solução para C = 2\n",
      "\n",
      "Solução possível para C = 2 : x1 = 1 ; x2 = 1 ; x3 = 0 \n",
      "\n",
      "x1 = 1 ; x2 = 1 ; x3 = 1 => não é solução para C = 2\n",
      "x1 = 1 ; x2 = 1 ; x3 = 2 => não é solução para C = 2\n",
      "x1 = 1 ; x2 = 2 ; x3 = 0 => não é solução para C = 2\n",
      "x1 = 1 ; x2 = 2 ; x3 = 1 => não é solução para C = 2\n",
      "x1 = 1 ; x2 = 2 ; x3 = 2 => não é solução para C = 2\n",
      "\n",
      "Solução possível para C = 2 : x1 = 2 ; x2 = 0 ; x3 = 0 \n",
      "\n",
      "x1 = 2 ; x2 = 0 ; x3 = 1 => não é solução para C = 2\n",
      "x1 = 2 ; x2 = 0 ; x3 = 2 => não é solução para C = 2\n",
      "x1 = 2 ; x2 = 1 ; x3 = 0 => não é solução para C = 2\n",
      "x1 = 2 ; x2 = 1 ; x3 = 1 => não é solução para C = 2\n",
      "x1 = 2 ; x2 = 1 ; x3 = 2 => não é solução para C = 2\n",
      "x1 = 2 ; x2 = 2 ; x3 = 0 => não é solução para C = 2\n",
      "x1 = 2 ; x2 = 2 ; x3 = 1 => não é solução para C = 2\n",
      "x1 = 2 ; x2 = 2 ; x3 = 2 => não é solução para C = 2\n"
     ]
    }
   ],
   "source": [
    "C = int(input(\"Digite o valor de C: \"))\n",
    "\n",
    "print()\n",
    "for x1 in range(C+1): # x1 pode assumir valores entre 0 e C\n",
    "    # para cada valor que x1 assume, devemos testar todos os valores possíveis de x2 e x3\n",
    "    \n",
    "    for x2 in range(C+1): # x2 pode assumir valores entre 0 e C\n",
    "        \n",
    "        for x3 in range(C+1): # x3 pode assumir valores entre 0 e C\n",
    "            \n",
    "            # agora que temos um valor para x1, X2 e outro para x3, verificamos se eles somam C\n",
    "            if x1 + x2 + x3 == C:\n",
    "                print(\"\\nSolução possível para C =\",C,\": x1 =\",x1,\"; x2 =\",x2,\"; x3 =\",x3,\"\\n\")\n",
    "            else:\n",
    "                print(\"x1 =\",x1,\"; x2 =\",x2,\"; x3 =\",x3,\"=> não é solução para C =\",C)"
   ]
  },
  {
   "cell_type": "markdown",
   "metadata": {},
   "source": [
    "<font size=4><p>Note que, na equação $x_1 + x_2 = C$, quando temos um valor de $x_1$, então $x_2$ pode ser unicamente determinado: $x_2$ é igual à $C - x_1$.</p>\n",
    "    \n",
    "<p>Similarmente, na equação $x_1 + x_2 + x_3 = C$, quando temos um valor de $x_1$ e um valor de $x_2$, então $x_3$ pode ser unicamente determinado: $x_3$ é igual à $C - x_1 - x_2$.</p>\n",
    "\n",
    "<p>Volte aos códigos acima e melhore-os levando em consideração essas novas informações.</p></font>"
   ]
  }
 ],
 "metadata": {
  "anaconda-cloud": {},
  "kernelspec": {
   "display_name": "Python 3 (ipykernel)",
   "language": "python",
   "name": "python3"
  },
  "language_info": {
   "codemirror_mode": {
    "name": "ipython",
    "version": 3
   },
   "file_extension": ".py",
   "mimetype": "text/x-python",
   "name": "python",
   "nbconvert_exporter": "python",
   "pygments_lexer": "ipython3",
   "version": "3.12.4"
  }
 },
 "nbformat": 4,
 "nbformat_minor": 4
}
