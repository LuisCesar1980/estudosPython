{
 "cells": [
  {
   "cell_type": "markdown",
   "metadata": {},
   "source": [
    "<font size=4>\n",
    "<h1>Exercícios (para serem entregues)</h1>\n",
    "\n",
    "<p>Agora é sua vez: faça os exercícios para praticar os conceitos vistos na aula sobre comandos de repetição.</p>\n",
    "\n",
    "<p>Lembre-se de <b>salvar</b> sempre o seu notebook. Ele deverá ser <b>entregue pelo tidia</b> para que você receba sua nota!</p>\n",
    "\n",
    "</font>"
   ]
  },
  {
   "cell_type": "markdown",
   "metadata": {},
   "source": [
    "<h2>Questão 0 (exemplo)</h2>\n",
    "    \n",
    "<p>Faça um programa que imprima as $n$ primeiras potências de 2, em ordem crescente.</p>\n",
    "\t\n",
    "<p><b>Entrada:</b> O programa deve receber um único número inteiro $n$ tal que $n \\geq 0$.</p>\n",
    "\t\n",
    "<p><b>Saída:</b> A resposta consistirá em $n$ linhas, cada uma com um número que é potência de 2.</p>"
   ]
  },
  {
   "cell_type": "code",
   "execution_count": 10,
   "metadata": {},
   "outputs": [
    {
     "name": "stdin",
     "output_type": "stream",
     "text": [
      "Digite o valor de n:  4\n"
     ]
    },
    {
     "name": "stdout",
     "output_type": "stream",
     "text": [
      "2 ^ 0 = 1\n",
      "2 ^ 1 = 2\n",
      "2 ^ 2 = 4\n",
      "2 ^ 3 = 8\n",
      "2 ^ 4 = 16\n"
     ]
    }
   ],
   "source": [
    "n = int(input(\"Digite o valor de n: \"))\n",
    "\n",
    "if (n >= 0):\n",
    "    # a primeira potência de 2 é 2 elevado a zero\n",
    "    for i in range(n+1): # Para i indo de zero a n+1 \n",
    "        print(\"2 ^\",i,\"=\",2**i)\n",
    "else:\n",
    "    print(\"Fim\")"
   ]
  },
  {
   "cell_type": "markdown",
   "metadata": {},
   "source": [
    "<h2>Questão 1</h2>\n",
    "\n",
    "<p>Faça um programa que mostre os números pares entre 1 e $n$, inclusive.</p>\n",
    "\n",
    "<p><b>Entrada:</b> O programa deve receber um inteiro $n > 1$.</p>\n",
    "\n",
    "<p><b>Saída:</b> Imprima todos os números pares entre 1 e $n$, inclusive, se for o caso, um em cada linha.</p>"
   ]
  },
  {
   "cell_type": "code",
   "execution_count": 11,
   "metadata": {},
   "outputs": [
    {
     "name": "stdin",
     "output_type": "stream",
     "text": [
      "Digite um número inteiro:  5\n"
     ]
    },
    {
     "name": "stdout",
     "output_type": "stream",
     "text": [
      "2\n",
      "4\n"
     ]
    }
   ],
   "source": [
    "n = int(input(\"Digite um número inteiro: \"))\n",
    "\n",
    "if (n > 1) and (n % 2 == 0):\n",
    "    for i in range(2, n + 1, 2):\n",
    "        print(i)\n",
    "        \n",
    "elif (n > 1) and (n % 2 == 1):\n",
    "        for i in range(2, n, 2):\n",
    "            print(i)\n",
    "else:\n",
    "    print(\"Fim\")\n",
    "\n"
   ]
  },
  {
   "cell_type": "markdown",
   "metadata": {},
   "source": [
    "<h2>Questão 2</h2>\n",
    "\n",
    "<p>Faça um programa que leia $n$ valores. Estes valores serão somente negativos ou positivos (nunca nulos). A seguir, mostre a quantidade de valores positivos que foram digitados.</p>\n",
    "\n",
    "<p><b>Entrada:</b> O programa deve receber inicialmente um inteiro $n$ ($n \\geq 0$). Em seguida, deve receber $n$ números reais não nulos.</p>\n",
    "\n",
    "<p><b>Saída:</b> A resposta consistirá de uma única linha, contendo a mensagem `X valores positivos`, onde `X` deve ser corretamente substituído pela quantidade de valores positivos que foram identificados.</p>"
   ]
  },
  {
   "cell_type": "code",
   "execution_count": 12,
   "metadata": {},
   "outputs": [
    {
     "name": "stdin",
     "output_type": "stream",
     "text": [
      "Digite a quantidade de números:  5\n",
      "Informe o número:  -5\n",
      "Informe o número:  -2\n",
      "Informe o número:  3\n",
      "Informe o número:  4\n",
      "Informe o número:  0\n"
     ]
    },
    {
     "name": "stdout",
     "output_type": "stream",
     "text": [
      "\n",
      "\n",
      "Quantidade de números positivos:  2\n",
      "Quantidade de números negativos:  2\n"
     ]
    }
   ],
   "source": [
    "n = int(input(\"Digite a quantidade de números: \"))\n",
    "\n",
    "positivos = 0\n",
    "negativos = 0\n",
    "\n",
    "if (n > 0):\n",
    "    for i in range(n): # Para i indo de zero até n-1 \n",
    "        numero = int(input(\"Informe o número: \"))\n",
    "        \n",
    "        if numero > 0:\n",
    "            positivos = positivos + 1 \n",
    "        elif numero < 0:\n",
    "            negativos = negativos + 1\n",
    "    \n",
    "    print(\"\\n\\nQuantidade de números positivos: \",positivos)\n",
    "    print(\"Quantidade de números negativos: \",negativos)\n",
    "\n",
    "else:\n",
    "    print(\"\\nFim do programa.\")  "
   ]
  },
  {
   "cell_type": "markdown",
   "metadata": {},
   "source": [
    "<h2>Questão 3</h2>\n",
    "\n",
    "<p>Suponha que seu computador consiga executar somente operações de soma e subtração. Escreva um programa que calcule o produto $ab$.</p>\n",
    "\t\n",
    "<p><b>Entrada:</b> O programa deverá receber dois números inteiros, $a$ e $b$, respectivamente, com $a \\geq 0$ e $b \\geq 0$.</p>\n",
    "\t\n",
    "<p><b>Saída:</b> A saída consistirá de uma única linha, contendo um único número, resultado de $ab$.</p>"
   ]
  },
  {
   "cell_type": "code",
   "execution_count": 13,
   "metadata": {},
   "outputs": [
    {
     "name": "stdout",
     "output_type": "stream",
     "text": [
      "CALCULADORA ARITMÉTICA BINÁRIA\n",
      "\n"
     ]
    },
    {
     "name": "stdin",
     "output_type": "stream",
     "text": [
      "1° termo: 2\n",
      "operador: ^\n",
      "2° termo: 3\n"
     ]
    },
    {
     "name": "stdout",
     "output_type": "stream",
     "text": [
      "\n",
      "\n",
      "Resultado da operação: 8.0\n",
      "\n",
      "===========FIM===========\n"
     ]
    }
   ],
   "source": [
    "#print(\"CALCULADORA BINÁRIA DE SOMA & SUBTRAÇÃO\")\n",
    "\n",
    "#number1 = float(input(\"1° termo:\"))\n",
    "#operador = input(\"operador:\")\n",
    "#number2 = float(input(\"2° termo:\"))\n",
    "\n",
    "#print(\"\\n\")\n",
    "        \n",
    "#if operador == \"+\":\n",
    "#    resultado = number1 + number2\n",
    "\n",
    "#elif operador == \"-\":\n",
    "#    resultado = number1 - number2  \n",
    "\n",
    "#else:\n",
    "#    resultado = \"ERRO. NÃO É POSSÍVEL REALIZAR A CONTA\"\n",
    "\n",
    "#print(\"Resultado da operação: \\n\",resultado)\n",
    "#print(\"\\n===========FIM===========\") \n",
    "\n",
    "print(\"CALCULADORA ARITMÉTICA BINÁRIA\\n\")\n",
    "\n",
    "number1 = float(input(\"1° termo:\"))\n",
    "operador = input(\"operador:\")\n",
    "number2 = float(input(\"2° termo:\"))\n",
    "\n",
    "print(\"\\n\")\n",
    "\n",
    "if operador == \"/\":\n",
    "    resultado = number1 / number2\n",
    "    print(\"Resultado da operação:\",resultado)\n",
    "    print(\"\\n===========FIM===========\")\n",
    "        \n",
    "elif operador == \"*\" or operador == \"x\":\n",
    "    resultado = number1 * number2\n",
    "    print(\"Resultado da operação:\",resultado)\n",
    "    print(\"\\n===========FIM===========\")\n",
    "    \n",
    "elif operador == \"//\":\n",
    "    resultado = number1 // number2\n",
    "    print(\"Resultado da operação:\",resultado)\n",
    "    print(\"\\n===========FIM===========\")\n",
    "    \n",
    "elif operador == \"%\":\n",
    "    resultado = number1 % number2\n",
    "    print(\"Resultado da operação:\",resultado)\n",
    "    print(\"\\n===========FIM===========\")\n",
    "    \n",
    "elif operador == \"^\":\n",
    "    resultado = number1 ** number2\n",
    "    print(\"Resultado da operação:\",resultado)\n",
    "    print(\"\\n===========FIM===========\")\n",
    "    \n",
    "elif operador == \"+\":\n",
    "    resultado = number1 + number2\n",
    "    print(\"Resultado da operação:\",resultado)\n",
    "    print(\"\\n===========FIM===========\")\n",
    "    \n",
    "elif operador == \"-\":\n",
    "    resultado = number1 - number2  \n",
    "    print(\"Resultado da operação:\",resultado)\n",
    "    print(\"\\n===========FIM===========\")\n",
    "    \n",
    "else:\n",
    "    resultado =\"ERRO. NÃO É POSSÍVEL REALIZAR A CONTA\"\n",
    "    print(\"Resultado da operação: \\n\",resultado)\n",
    "    print(\"\\n===========FIM===========\")"
   ]
  },
  {
   "cell_type": "markdown",
   "metadata": {},
   "source": [
    "<h2>Questão 4</h2>\n",
    "\n",
    "<p>Faça um programa que calcule a média, o maior número e o menor número de $n$ números inteiros fornecidos pelo usuário.</p>\n",
    "\t\n",
    "<p><b>Entrada:</b> O programa deve receber inicialmente um inteiro positivo $n$, com $n \\geq 1$, e em seguida deve receber $n$ números inteiros.</p>\n",
    "\t\n",
    "<p><b>Saída:</b> A resposta consistirá de uma única linha, contendo um número real que representa a média dos $n$ números dados, seguido por dois números inteiros que são o maior e o menor número, respectivamente, dos $n$ números dados.</p>"
   ]
  },
  {
   "cell_type": "code",
   "execution_count": 2,
   "metadata": {},
   "outputs": [
    {
     "name": "stdout",
     "output_type": "stream",
     "text": [
      "Digite a quantidade de números que serão fornecidos: 6\n",
      "\n",
      "Digite um novo número: 0\n",
      "Digite um novo número: -1\n",
      "Digite um novo número: -3\n",
      "Digite um novo número: 4\n",
      "Digite um novo número: 105\n",
      "Digite um novo número: 5\n",
      "\n",
      "Soma dos números fornecidos: 110\n",
      "Média dos números fornecidos: 18.333333333333332\n",
      "Maior valor fornecido:  105\n",
      "Menor valor fornecido:  -3\n"
     ]
    }
   ],
   "source": [
    "quant_num = int(input(\"Digite a quantidade de números que serão analisados: \"))\n",
    "\n",
    "# não sabemos quais números serão fornecidos (podem ser negativos ou positivos)\n",
    "# então vamos assumir que o primeiro desses números é o maior\n",
    "\n",
    "if (quant_num >= 1):\n",
    "    \n",
    "    maior = int(input(\"\\nDigite um novo número: \"))\n",
    "\n",
    "    maior_aux = maior\n",
    "    total = 0\n",
    "    menor = maior\n",
    "    media = 0\n",
    "\n",
    "    # o laço a seguir se repete n-1 vezes pois já lemos um dos números\n",
    "    # Observe como o valor que i assume em cada iteração não é importante\n",
    "\n",
    "    for i in range(quant_num-1):\n",
    "        valor = int(input(\"Digite um novo número: \"))\n",
    "        total = total + valor\n",
    "    \n",
    "        # Esse novo valor que foi fornecido pode ser maior do que o que estávamos \n",
    "        # considerando como maior antes. Então atualizamos o valor da variável\n",
    "        # para armazenar corretamente o maior de todos\n",
    "   \n",
    "        if valor > maior:       \n",
    "            maior = valor\n",
    "        if menor > valor:\n",
    "            menor = valor\n",
    "            \n",
    "    media = (total + maior_aux) / quant_num\n",
    "\n",
    "    print(\"\\nSoma dos números fornecidos:\",(total + maior_aux))\n",
    "    print(\"Média dos números fornecidos:\",media)\n",
    "    print(\"Maior valor fornecido: \",maior)\n",
    "    print(\"Menor valor fornecido: \",menor)\n",
    "\n",
    "else:\n",
    "    print(\"\\nFim do programa.\")"
   ]
  },
  {
   "cell_type": "markdown",
   "metadata": {},
   "source": [
    "<h2>Questão 5</h2>\n",
    "\n",
    "<p>Faça um programa que leia um inteiro $n$, com $0 \\leq n \\leq 80$, e imprima uma saída da forma:</p>\n",
    "<pre>\n",
    "1\n",
    " 2\n",
    "  3\n",
    "   4\n",
    "    .\n",
    "     .\n",
    "      .\n",
    "       n\n",
    "</pre>\n",
    "\n",
    "<i>Dica:</i> pense primeiro em como você imprimiria uma das linhas (uma linha qualquer)."
   ]
  },
  {
   "cell_type": "code",
   "execution_count": 33,
   "metadata": {},
   "outputs": [
    {
     "name": "stdin",
     "output_type": "stream",
     "text": [
      "Digite um número inteiro >= 0 e <= 80:  10\n"
     ]
    },
    {
     "name": "stdout",
     "output_type": "stream",
     "text": [
      " 0\n",
      "  1\n",
      "   2\n",
      "    3\n",
      "     4\n",
      "      5\n",
      "       6\n",
      "        7\n",
      "         8\n",
      "          9\n",
      "0\n",
      " 1\n",
      "  2\n",
      "   3\n",
      "    4\n",
      "     5\n",
      "      6\n",
      "       7\n",
      "        8\n",
      "         9\n",
      "          10\n"
     ]
    }
   ],
   "source": [
    "numero = int(input(\"Digite um número inteiro >= 0 e <= 80: \"))\n",
    "\n",
    "espaco =\"\"\n",
    "\n",
    "if (n >= 0) and (n <= 80):\n",
    "    \n",
    "    for i in range(numero): # Assim vai de zero à nove\n",
    "        print(espaco,i)\n",
    "        espaco = espaco + \" \"\n",
    "\n",
    "    for i in range(numero + 1): # Assim vai de zero à dez\n",
    "        for j in range(i): \n",
    "            print(\" \", end=\"\") \n",
    "        print(i)  \n",
    "\n",
    "else:\n",
    "    print(\"Fim do programa.\")"
   ]
  },
  {
   "cell_type": "markdown",
   "metadata": {},
   "source": [
    "<h2>Questão 6</h2>\n",
    "\n",
    "<p>Escreva um programa que leia um valor inteiro $N$. Este $N$ é a quantidade de linhas de saída que serão  apresentadas na execução do programa.</p>\n",
    "\n",
    "<p><b>Entrada:</b> O programa deve receber um único inteiro $N$ com $N > 0$.</p>\n",
    "\n",
    "<p><b>Saída:</b> Imprima a saída conforme o exemplo abaixo.</p>\n",
    "\n",
    "| Entrada | Saída esperada  | \n",
    "|---------|-----------------|\n",
    "|  7      | 1 2 3 PUM       |\n",
    "|         | 5 6 7 PUM       |\n",
    "|         | 9 10 11 PUM     |\n",
    "|         | 13 14 15 PUM    |\n",
    "|         | 17 18 19 PUM    |\n",
    "|         | 21 22 23 PUM    |\n",
    "|         | 25 26 27 PUM    |"
   ]
  },
  {
   "cell_type": "code",
   "execution_count": 34,
   "metadata": {},
   "outputs": [
    {
     "name": "stdin",
     "output_type": "stream",
     "text": [
      "Informe um número maior do que zero:  3\n"
     ]
    },
    {
     "name": "stdout",
     "output_type": "stream",
     "text": [
      "| 1 2 3 PUM\n",
      "| 4 5 6 PUM\n",
      "| 7 8 9 PUM\n",
      "\n",
      "| 1 2 3 PUM\n",
      "| 5 6 7 PUM\n",
      "| 9 10 11 PUM\n"
     ]
    }
   ],
   "source": [
    "n = int(input(\"Informe um número maior do que zero: \"))\n",
    "\n",
    "#n = 3  \"i\" vai de zero a dois.\n",
    "j = 1\n",
    "k = 2\n",
    "l = 3\n",
    "\n",
    "x = 1\n",
    "y = 2\n",
    "z = 3\n",
    "\n",
    "if (n > 0):\n",
    "    for i in range(n):         # Para \"i\" indo de \"zero\" a \"n-1\". Aqui não importa o valor  \n",
    "        print(\"|\",j,k,l,\"PUM\") # que \"i\" assumira em cada iteração, apenas a quantidade de vezes.\n",
    "        j = j + 3\n",
    "        k = k + 3\n",
    "        l = l + 3\n",
    "        \n",
    "    print()\n",
    "    \n",
    "    for i in range(n):         # Para \"i\" indo de \"zero\" a \"n-1\". Aqui não importa o valor  \n",
    "        print(\"|\",x,y,z,\"PUM\") # que \"i\" assumira em cada iteração, apenas a quantidade de vezes.\n",
    "        x = x + 4\n",
    "        y = y + 4\n",
    "        z = z + 4\n",
    "else:\n",
    "    print(\"Fim do programa.\")"
   ]
  },
  {
   "cell_type": "markdown",
   "metadata": {},
   "source": [
    "<h2>Questão 7</h2>\n",
    "\n",
    "<p>Faça um programa que teste se um dado número é primo. Um número $n$ é primo se os seus únicos divisores são o $1$ e o próprio $n$.</p>\n",
    "\t\n",
    "<p><b>Entrada:</b> O programa deve receber um único número $n$, com $n \\geq 2$.</p>\n",
    "\t\n",
    "<p><b>Saída:</b> A resposta consistirá de uma única linha, contendo a palavra `SIM`, se $n$ for primo, e `NAO`, caso contrário.</p>\n",
    "\n",
    "<i>Dica:</i> Como você resolveria esse problema \"na mão\"? Pegue uma folha de papel e, sem pensar em programação, observe como você faz para decidir se o número 431, por exemplo, é primo ou não. Pense em todos os números que são candidatos a serem divisores de $n$ que não sejam o 1 e nem o próprio $n$. Se algum deles de fato for divisor de $n$, então $n$ não é primo."
   ]
  },
  {
   "cell_type": "code",
   "execution_count": 6,
   "metadata": {},
   "outputs": [
    {
     "name": "stdin",
     "output_type": "stream",
     "text": [
      "Digite um número inteiro positivo:  7\n"
     ]
    },
    {
     "name": "stdout",
     "output_type": "stream",
     "text": [
      "É primo\n"
     ]
    }
   ],
   "source": [
    "import math\n",
    "\n",
    "# Solicita um número inteiro positivo\n",
    "numero = int(input(\"Digite um número inteiro positivo: \"))\n",
    "\n",
    "# Verifica se o número é maior ou igual a 2\n",
    "if numero < 2:\n",
    "    print(\"Números menores que 2 não são primos.\")\n",
    "else:\n",
    "    # Trata o caso especial do número 2\n",
    "    if numero == 2:\n",
    "        print(\"É primo\")\n",
    "    else:\n",
    "        # Verifica se o número é divisível por 2\n",
    "        if numero % 2 == 0:\n",
    "            print(\"Não é primo\")\n",
    "        else:\n",
    "            # Verifica divisores ímpares até a raiz quadrada do número\n",
    "            limite = int(math.sqrt(numero)) + 1\n",
    "            primo = True\n",
    "            for i in range(3, limite, 2):  # Testa apenas números ímpares\n",
    "                if numero % i == 0:\n",
    "                    print(\"Não é primo\")\n",
    "                    primo = False\n",
    "                    break\n",
    "            if primo:\n",
    "                print(\"É primo\")\n",
    "\n",
    "# Melhorias Implementadas\n",
    "\n",
    "# 1.\tEficiência:\n",
    "#     -\tA verificação de divisores agora vai apenas até a raiz quadrada de numero, reduzindo significativamente o número de iterações.\n",
    "#     -\tApenas números ímpares são verificados após o número 2.\n",
    "\n",
    "# 2.\tLegibilidade:\n",
    "#     -\tComentários reorganizados para explicar claramente cada parte do código.\n",
    "#     -\tO código foi estruturado para evitar aninhamento desnecessário.\n",
    "\n",
    "# 3.\tFunções Matemáticas:\n",
    "#     -\tFoi usada a biblioteca math para calcular a raiz quadrada.\n",
    "        \n",
    "# Como o Código Funciona\n",
    "# 1.\tSe o número for menor que 2, uma mensagem apropriada é exibida.\n",
    "# 2.\tO número 2 é tratado como um caso especial, pois é o único número primo par.\n",
    "# 3.\tPara números maiores que 2:\n",
    "#     -\tSe for par, não é primo.\n",
    "#     -\tSe for ímpar, verifica se é divisível por qualquer número ímpar até a raiz quadrada de numero.\n",
    "          \n",
    "# Complexidade\n",
    "# •\tO tempo de execução foi reduzido de O(n) para O(\\sqrt{n}) graças à verificação até a raiz quadrada do número.\n"
   ]
  },
  {
   "cell_type": "markdown",
   "metadata": {},
   "source": [
    "<h2>Questão 8</h2>\n",
    "\n",
    "<p>Faça um programa que imprima as tabuadas de todos os números entre 1 e $n$.</p>\n",
    "\n",
    "<p><b>Entrada:</b> O programa deve receber o valor de $n$.</p>\n",
    "\n",
    "<p><b>Saída</b> Para cada número $x$ entre $1$ e $n$, imprima 11 linhas: a primeira contendo o texto `Tabuada do x:` seguida por 10 linhas, cada uma contendo o texto `x * i = xi`, onde `i` vai variar entre $1$ e $10$ e `x`, `i` e `xi` devem ser devidamente substituídos.</p>"
   ]
  },
  {
   "cell_type": "code",
   "execution_count": 3,
   "metadata": {},
   "outputs": [
    {
     "name": "stdout",
     "output_type": "stream",
     "text": [
      "Informe o valor de n: 4\n",
      "\n",
      "Tabuada do 1\n",
      "1 x 1 = 1\n",
      "1 x 2 = 2\n",
      "1 x 3 = 3\n",
      "1 x 4 = 4\n",
      "1 x 5 = 5\n",
      "1 x 6 = 6\n",
      "1 x 7 = 7\n",
      "1 x 8 = 8\n",
      "1 x 9 = 9\n",
      "1 x 10 = 10\n",
      "\n",
      "Tabuada do 2\n",
      "2 x 1 = 2\n",
      "2 x 2 = 4\n",
      "2 x 3 = 6\n",
      "2 x 4 = 8\n",
      "2 x 5 = 10\n",
      "2 x 6 = 12\n",
      "2 x 7 = 14\n",
      "2 x 8 = 16\n",
      "2 x 9 = 18\n",
      "2 x 10 = 20\n",
      "\n",
      "Tabuada do 3\n",
      "3 x 1 = 3\n",
      "3 x 2 = 6\n",
      "3 x 3 = 9\n",
      "3 x 4 = 12\n",
      "3 x 5 = 15\n",
      "3 x 6 = 18\n",
      "3 x 7 = 21\n",
      "3 x 8 = 24\n",
      "3 x 9 = 27\n",
      "3 x 10 = 30\n",
      "\n",
      "Tabuada do 4\n",
      "4 x 1 = 4\n",
      "4 x 2 = 8\n",
      "4 x 3 = 12\n",
      "4 x 4 = 16\n",
      "4 x 5 = 20\n",
      "4 x 6 = 24\n",
      "4 x 7 = 28\n",
      "4 x 8 = 32\n",
      "4 x 9 = 36\n",
      "4 x 10 = 40\n",
      "\n",
      "=========FIM===========\n"
     ]
    }
   ],
   "source": [
    "n = int(input(\"Informe o valor de n: \"))\n",
    "\n",
    "x = 1\n",
    "y = 1\n",
    "\n",
    "if (n >= 1):\n",
    "    for i in range(1,n+1): \n",
    "        print(\"\\nTabuada do\",x)\n",
    "        for j in range(10): # Para \"j\" indo de \"0\" à \"9\". Dez repetições.\n",
    "            print(x,\"x\",y,\"=\",x*y)     \n",
    "            y = y + 1  \n",
    "        x = x + 1\n",
    "        y = 1 # Aqui a variável \"y\" tem o seu valor resetado para \"1\" novamente.\n",
    "\n",
    "else:\n",
    "    print(\"Fim do programa.\")\n",
    "    \n",
    "print(\"\\n=========FIM===========\")"
   ]
  },
  {
   "cell_type": "markdown",
   "metadata": {},
   "source": [
    "<h2>Questão 9</h2>\n",
    "\n",
    "<p>Faça um programa que imprima a quantidade de divisores de um número.</p>\n",
    "\t\n",
    "<p><b>Entrada:</b> O programa deve receber um único número inteiro $n$, com $n \\geq 1$.</p>\n",
    "\t\n",
    "<p><b>Saída:</b> A resposta deverá ser ser no formato `O número de divisores de n é x.`, onde `n` e `x` devem ser devidamente substituídos.</p>"
   ]
  },
  {
   "cell_type": "code",
   "execution_count": 2,
   "metadata": {},
   "outputs": [
    {
     "name": "stdout",
     "output_type": "stream",
     "text": [
      "Informe um número maior ou igual a 1: 16\n",
      "\n",
      "\n",
      "1 é um divisor de 16\n",
      "2 é um divisor de 16\n",
      "3 não é um divisor de 16\n",
      "4 é um divisor de 16\n",
      "5 não é um divisor de 16\n",
      "6 não é um divisor de 16\n",
      "7 não é um divisor de 16\n",
      "8 é um divisor de 16\n",
      "9 não é um divisor de 16\n",
      "10 não é um divisor de 16\n",
      "11 não é um divisor de 16\n",
      "12 não é um divisor de 16\n",
      "13 não é um divisor de 16\n",
      "14 não é um divisor de 16\n",
      "15 não é um divisor de 16\n",
      "16 é um divisor de 16\n",
      "\n",
      "Quantidade de divisores de 16 = 5\n"
     ]
    }
   ],
   "source": [
    "n = int(input(\"Informe um número maior ou igual a 1: \"))\n",
    "print(\"\\n\")\n",
    "\n",
    "x = 0\n",
    "\n",
    "if(n >= 1):\n",
    "    for i in range(1,n+1): # A cada iteração, \"i\" assume um novo valor.\n",
    "        if n % i == 0:\n",
    "            print(i,\"é um divisor de\",n)\n",
    "            x = x + 1\n",
    "        else:\n",
    "            print(i,\"não é um divisor de\",n)\n",
    "\n",
    "    print(\"\\nQuantidade de divisores de\",n,\"=\",x)\n",
    "\n",
    "else:\n",
    "    print(\"Fim do programa.\")"
   ]
  },
  {
   "cell_type": "markdown",
   "metadata": {},
   "source": [
    "<h2>Questão 10</h2>\n",
    "\n",
    "<p>A série de Fibonacci é a seguinte: 1, 1, 2, 3, 5, 8, 13, 21, 34, 55, \\ldots. Ou seja, o $i$-ésimo número da sequência, $f(i)$, é dado pela seguinte fórmula:\n",
    "\t$$f(i) = \\left\\{\n",
    "\t\\begin{array}{ll}\n",
    "\t1 & \\mbox{ se } i = 1\\\\\n",
    "\t1 & \\mbox{ se } i = 2\\\\\n",
    "\tf(i-1) + f(i-2) & \\mbox{ se } i > 2\n",
    "\t\\end{array}\n",
    "\t\\right.$$\n",
    "Faça um programa que imprima os $n$ primeiros números da série de Fibonacci.</p>\n",
    "\t\n",
    "<p><b>Entrada:</b> O programa deverá receber um único inteiro $n$, com $n \\geq 0$.</p>\n",
    "\t\n",
    "<p><b>Saída:</b> A resposta consistirá em $n$ linhas, cada uma contendo um número que faz parte da série de Fibonacci.</p>\n"
   ]
  },
  {
   "cell_type": "code",
   "execution_count": 6,
   "metadata": {},
   "outputs": [
    {
     "name": "stdin",
     "output_type": "stream",
     "text": [
      "Que termo deseja encontrar:  3\n"
     ]
    },
    {
     "name": "stdout",
     "output_type": "stream",
     "text": [
      "\n",
      "1, 1, 2\n",
      "\n",
      "O 3 °  termo é igual a: 2\n"
     ]
    },
    {
     "name": "stdin",
     "output_type": "stream",
     "text": [
      "\n",
      "\n",
      "Que termo deseja encontrar:  5\n"
     ]
    },
    {
     "name": "stdout",
     "output_type": "stream",
     "text": [
      "\n",
      "1, 1, 2, 3, 5\n",
      "\n",
      "contador = 4  =>  quantidade de loops realizados = 4\n",
      "\n",
      "O 5 °  termo é igual a: 5\n"
     ]
    }
   ],
   "source": [
    "# Função para calcular e exibir a sequência de Fibonacci e o n-ésimo termo\n",
    "def calcular_fibonacci(n, metodo=\"WHILE\"):\n",
    "    if n < 1:\n",
    "        print(\"Fim do programa.\")\n",
    "        return\n",
    "    \n",
    "    # Valores iniciais\n",
    "    penultimo, ultimo = 0, 1\n",
    "\n",
    "    # Exibe os primeiros termos para os casos básicos\n",
    "    if n == 1:\n",
    "        print(\"\\n1\")\n",
    "        print(f\"\\nO {n}° termo é igual a: {ultimo}\")\n",
    "        return\n",
    "    elif n == 2:\n",
    "        print(\"\\n1, 1\")\n",
    "        print(f\"\\nO {n}° termo é igual a: {ultimo}\")\n",
    "        return\n",
    "\n",
    "    # Exibe os termos para n >= 3\n",
    "    print(\"\\n1\", end=\"\")\n",
    "    \n",
    "    if metodo == \"WHILE\":\n",
    "        count = 2\n",
    "        while count <= n:\n",
    "            termo = penultimo + ultimo\n",
    "            penultimo = ultimo\n",
    "            ultimo = termo\n",
    "            count += 1\n",
    "            print(f\", {ultimo}\", end=\"\")\n",
    "    elif metodo == \"FOR\":\n",
    "        for count in range(2, n):\n",
    "            termo = penultimo + ultimo\n",
    "            penultimo = ultimo\n",
    "            ultimo = termo\n",
    "            print(f\", {ultimo}\", end=\"\")\n",
    "\n",
    "    # Resultado final\n",
    "    print(f\"\\n\\nO {n}° termo é igual a: {ultimo}\")\n",
    "\n",
    "\n",
    "# Programa principal\n",
    "# Fibonacci com laço WHILE\n",
    "n = int(input(\"Que termo deseja encontrar (WHILE): \"))\n",
    "calcular_fibonacci(n, metodo=\"WHILE\")\n",
    "\n",
    "# Fibonacci com laço FOR\n",
    "n2 = int(input(\"\\nQue termo deseja encontrar (FOR): \"))\n",
    "calcular_fibonacci(n2, metodo=\"FOR\")\n",
    "\n",
    "# Explicação das melhorias:\n",
    "# 1.\tRedução de redundâncias:\n",
    "#     o\tAmbas as versões (com while e for) agora compartilham a mesma lógica na função calcular_fibonacci.\n",
    "#     o\tUsei o parâmetro metodo para diferenciar entre WHILE e FOR.\n",
    "# 2.\tCasos básicos:\n",
    "#     o\tO código verifica explicitamente os casos n == 1 e n == 2 logo no início, evitando redundâncias de código mais abaixo.\n",
    "# 3.\tReuso de lógica:\n",
    "#     o\tA lógica principal de cálculo dos termos de Fibonacci é usada tanto no while quanto no for, mas agora controlada pelo parâmetro metodo.\n",
    "# 4.\tMelhoria de legibilidade:\n",
    "#     o\tFormatação mais limpa, com uso consistente de f-strings para exibição.\n",
    "# 5.\tEliminação de variáveis desnecessárias:\n",
    "#     o\tcontador foi removido no exemplo com for, já que o loop por si só já é suficiente para contar as iterações.\n"
   ]
  },
  {
   "cell_type": "code",
   "execution_count": null,
   "metadata": {},
   "outputs": [],
   "source": []
  }
 ],
 "metadata": {
  "kernelspec": {
   "display_name": "Python 3 (ipykernel)",
   "language": "python",
   "name": "python3"
  },
  "language_info": {
   "codemirror_mode": {
    "name": "ipython",
    "version": 3
   },
   "file_extension": ".py",
   "mimetype": "text/x-python",
   "name": "python",
   "nbconvert_exporter": "python",
   "pygments_lexer": "ipython3",
   "version": "3.12.4"
  }
 },
 "nbformat": 4,
 "nbformat_minor": 4
}
