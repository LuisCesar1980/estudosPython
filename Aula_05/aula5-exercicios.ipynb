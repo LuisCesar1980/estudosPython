{
 "cells": [
  {
   "cell_type": "markdown",
   "metadata": {},
   "source": [
    "<font size=4>\n",
    "<h1>Exercícios (para serem entregues)</h1>\n",
    "\n",
    "<p>Agora é sua vez: faça os exercícios para praticar os conceitos vistos na aula sobre funções.</p>\n",
    "\n",
    "<p>Lembre-se de <b>salvar</b> sempre o seu notebook. Ele deverá ser <b>entregue pelo tidia</b> para que você receba sua nota!</p>\n",
    "\n",
    "</font>"
   ]
  },
  {
   "cell_type": "markdown",
   "metadata": {},
   "source": [
    "<h2>Questão 1</h2>\n",
    "\n",
    "<p>Escreva um programa que mostre os dois números primos mais próximos de um dado número $n$. Por exemplo, se $n=24$, os dois números primos mais próximos dele são $23$ e $29$. Se $n=47$, então os dois números primos mais próximos dele são $47$ e $53$.</p>\n",
    "\n",
    "<p>Dica: primeiro faça uma função de nome `eh_primo` que recebe um inteiro $x$ qualquer e retorna `True` se $x$ for primo ou  `False` caso contrário.</p>\n",
    "\n",
    "<p><b>Entrada:</b> O programa deve receber um inteiro $n > 2$.</p>\n",
    "\n",
    "<p><b>Saída:</b> A resposta consistirá de uma única linha contendo dois números inteiros separados por espaço onde o primeiro dos números é o maior número primo que é menor ou igual a $n$ e o segundo dos números é o menor número primo que é maior do que $n$.</p>"
   ]
  },
  {
   "cell_type": "code",
   "execution_count": null,
   "metadata": {
    "scrolled": true
   },
   "outputs": [
    {
     "name": "stdout",
     "output_type": "stream",
     "text": [
      "Digite um número inteiro positivo: 11\n"
     ]
    }
   ],
   "source": [
    "def eh_primo(num):\n",
    "    divisao = 0\n",
    "    i = 2\n",
    "    \n",
    "    for i in range(2,num):\n",
    "        if num%i == 0:\n",
    "            divisao = divisao + 1\n",
    "        \n",
    "    if divisao == 0:\n",
    "        return 1\n",
    "    else:\n",
    "        return 0\n",
    "\n",
    "num = int(input(\"Digite um número inteiro positivo: \"))\n",
    "    \n",
    "contador = num\n",
    "while eh_primo != contador:\n",
    "    contador-=1\n",
    "    antecessor = contador\n",
    "    \n",
    "contador = num + 1\n",
    "while eh_primo != contador:\n",
    "    for i in range(contador, -1):\n",
    "        sucessor = contador\n",
    "\n",
    "print(\"O antecessor é\",antecessor,\", e o sucessor é\",sucessor)\n",
    "        "
   ]
  },
  {
   "cell_type": "markdown",
   "metadata": {},
   "source": [
    "<h2>Questão 2</h2>\n",
    "\n",
    "<p>Faça um programa que teste quais números de uma sequência fazem parte da sequência de Fibonacci.</p>\n",
    "\n",
    "<p>Dica: primeiro faça uma função de nome `eh_fibonacci` que recebe um único inteiro $n \\geq 0$ e retorna `True` se  $n$ faz parte da sequência de Fibonacci ou `False` caso contrário.</p>\n",
    "\n",
    "<p><b>Entrada:</b> O programa deve receber inicialmente um inteiro $n$ ($n \\geq 0$). Em seguida, deve receber $n$ números inteiros positivos.</p>\n",
    "\n",
    "<p><b>Saída:</b> A resposta consiste de uma única linha, com os números da sequência da entrada que fazem parte da sequência de Fibonacci separados por um espaço.</p>"
   ]
  },
  {
   "cell_type": "code",
   "execution_count": 3,
   "metadata": {},
   "outputs": [
    {
     "name": "stdout",
     "output_type": "stream",
     "text": [
      "Informe a quantidade de números que serão testados: 3\n",
      "Digite um número: 3\n"
     ]
    },
    {
     "ename": "RecursionError",
     "evalue": "maximum recursion depth exceeded",
     "output_type": "error",
     "traceback": [
      "\u001b[1;31m---------------------------------------------------------------------------\u001b[0m",
      "\u001b[1;31mRecursionError\u001b[0m                            Traceback (most recent call last)",
      "\u001b[1;32m<ipython-input-3-fa39ec258579>\u001b[0m in \u001b[0;36m<module>\u001b[1;34m()\u001b[0m\n\u001b[0;32m     12\u001b[0m         \u001b[0mprint\u001b[0m\u001b[1;33m(\u001b[0m\u001b[1;34m\"A sequência de Fibonacci começa em 1.\"\u001b[0m\u001b[1;33m)\u001b[0m\u001b[1;33m\u001b[0m\u001b[0m\n\u001b[0;32m     13\u001b[0m     \u001b[1;32mfor\u001b[0m \u001b[0mj\u001b[0m \u001b[1;32min\u001b[0m \u001b[0mrange\u001b[0m\u001b[1;33m(\u001b[0m\u001b[1;36m1\u001b[0m\u001b[1;33m,\u001b[0m \u001b[0mtestar\u001b[0m\u001b[1;33m+\u001b[0m\u001b[1;36m1\u001b[0m\u001b[1;33m)\u001b[0m\u001b[1;33m:\u001b[0m\u001b[1;33m\u001b[0m\u001b[0m\n\u001b[1;32m---> 14\u001b[1;33m         \u001b[1;32mif\u001b[0m \u001b[0meh_fibonacci\u001b[0m\u001b[1;33m(\u001b[0m\u001b[0mj\u001b[0m\u001b[1;33m)\u001b[0m\u001b[1;33m:\u001b[0m\u001b[1;33m\u001b[0m\u001b[0m\n\u001b[0m\u001b[0;32m     15\u001b[0m             \u001b[0mprint\u001b[0m\u001b[1;33m(\u001b[0m\u001b[0mj\u001b[0m\u001b[1;33m)\u001b[0m\u001b[1;33m\u001b[0m\u001b[0m\n\u001b[0;32m     16\u001b[0m \u001b[1;33m\u001b[0m\u001b[0m\n",
      "\u001b[1;32m<ipython-input-3-fa39ec258579>\u001b[0m in \u001b[0;36meh_fibonacci\u001b[1;34m(j)\u001b[0m\n\u001b[0;32m      1\u001b[0m \u001b[1;32mdef\u001b[0m \u001b[0meh_fibonacci\u001b[0m\u001b[1;33m(\u001b[0m\u001b[0mj\u001b[0m\u001b[1;33m)\u001b[0m\u001b[1;33m:\u001b[0m\u001b[1;33m\u001b[0m\u001b[0m\n\u001b[1;32m----> 2\u001b[1;33m     \u001b[1;32mif\u001b[0m \u001b[0mj\u001b[0m \u001b[1;33m==\u001b[0m \u001b[1;33m(\u001b[0m\u001b[0meh_fibonacci\u001b[0m\u001b[1;33m(\u001b[0m\u001b[0mj\u001b[0m \u001b[1;33m-\u001b[0m \u001b[1;36m1\u001b[0m\u001b[1;33m)\u001b[0m \u001b[1;33m+\u001b[0m \u001b[0meh_fibonacci\u001b[0m\u001b[1;33m(\u001b[0m\u001b[0mj\u001b[0m \u001b[1;33m-\u001b[0m \u001b[1;36m2\u001b[0m\u001b[1;33m)\u001b[0m\u001b[1;33m)\u001b[0m\u001b[1;33m:\u001b[0m\u001b[1;33m\u001b[0m\u001b[0m\n\u001b[0m\u001b[0;32m      3\u001b[0m         \u001b[1;32mreturn\u001b[0m \u001b[1;32mTrue\u001b[0m\u001b[1;33m\u001b[0m\u001b[0m\n\u001b[0;32m      4\u001b[0m     \u001b[1;32melse\u001b[0m\u001b[1;33m:\u001b[0m\u001b[1;33m\u001b[0m\u001b[0m\n\u001b[0;32m      5\u001b[0m         \u001b[1;32mreturn\u001b[0m \u001b[1;32mFalse\u001b[0m\u001b[1;33m\u001b[0m\u001b[0m\n",
      "... last 1 frames repeated, from the frame below ...\n",
      "\u001b[1;32m<ipython-input-3-fa39ec258579>\u001b[0m in \u001b[0;36meh_fibonacci\u001b[1;34m(j)\u001b[0m\n\u001b[0;32m      1\u001b[0m \u001b[1;32mdef\u001b[0m \u001b[0meh_fibonacci\u001b[0m\u001b[1;33m(\u001b[0m\u001b[0mj\u001b[0m\u001b[1;33m)\u001b[0m\u001b[1;33m:\u001b[0m\u001b[1;33m\u001b[0m\u001b[0m\n\u001b[1;32m----> 2\u001b[1;33m     \u001b[1;32mif\u001b[0m \u001b[0mj\u001b[0m \u001b[1;33m==\u001b[0m \u001b[1;33m(\u001b[0m\u001b[0meh_fibonacci\u001b[0m\u001b[1;33m(\u001b[0m\u001b[0mj\u001b[0m \u001b[1;33m-\u001b[0m \u001b[1;36m1\u001b[0m\u001b[1;33m)\u001b[0m \u001b[1;33m+\u001b[0m \u001b[0meh_fibonacci\u001b[0m\u001b[1;33m(\u001b[0m\u001b[0mj\u001b[0m \u001b[1;33m-\u001b[0m \u001b[1;36m2\u001b[0m\u001b[1;33m)\u001b[0m\u001b[1;33m)\u001b[0m\u001b[1;33m:\u001b[0m\u001b[1;33m\u001b[0m\u001b[0m\n\u001b[0m\u001b[0;32m      3\u001b[0m         \u001b[1;32mreturn\u001b[0m \u001b[1;32mTrue\u001b[0m\u001b[1;33m\u001b[0m\u001b[0m\n\u001b[0;32m      4\u001b[0m     \u001b[1;32melse\u001b[0m\u001b[1;33m:\u001b[0m\u001b[1;33m\u001b[0m\u001b[0m\n\u001b[0;32m      5\u001b[0m         \u001b[1;32mreturn\u001b[0m \u001b[1;32mFalse\u001b[0m\u001b[1;33m\u001b[0m\u001b[0m\n",
      "\u001b[1;31mRecursionError\u001b[0m: maximum recursion depth exceeded"
     ]
    }
   ],
   "source": [
    "def eh_fibonacci(j):\n",
    "    if j == (eh_fibonacci(j - 1) + eh_fibonacci(j - 2)):\n",
    "        return True\n",
    "    else: \n",
    "        return False\n",
    "        \n",
    "quantidade = int(input(\"Informe a quantidade de números que serão testados: \"))\n",
    "\n",
    "for i in range(quantidade):\n",
    "    testar = int(input(\"Digite um número: \"))\n",
    "    if testar < 0:\n",
    "        print(\"A sequência de Fibonacci começa em 1.\")\n",
    "    for j in range(1, testar+1):\n",
    "        if eh_fibonacci(j):\n",
    "            print(j)\n",
    "            \n",
    "\n",
    "# Fibonacci com laço WHILE\n",
    "n = int(input(\"Que termo deseja encontrar: \"))\n",
    "ultimo = 1\n",
    "penultimo = 0\n",
    "termo = 1\n",
    "\n",
    "if (n == 1): #or (n == 2):\n",
    "    print(\"\\n1\")\n",
    "    print(\"\\n\\nO\",n,\"°  termo é igual a:\",termo)\n",
    "elif (n == 2):\n",
    "    print(\"\\n1,1\")\n",
    "    print(\"\\n\\nO\",n,\"°  termo é igual a:\",termo)\n",
    "else:\n",
    "    print(\"\\n1\",end=\"\")\n",
    "    count = 3\n",
    "    while count <= n + 1: # n + 1 = 4 => fibonacci = 3\n",
    "        termo = ultimo + penultimo\n",
    "        penultimo = ultimo\n",
    "        ultimo = termo\n",
    "        count += 1\n",
    "        print(\",\",ultimo,end=\"\")\n",
    "        #count = count + 1\n",
    "    print(\"\\n\\nO\",n,\"°  termo é igual a:\",termo)\n",
    "\n",
    "# Fibonacci com laço FOR\n",
    "n2 = int(input(\"\\n\\nQue termo deseja encontrar: \"))\n",
    "ultimo2 = 1\n",
    "penultimo2 = 0\n",
    "termo2 = 1\n",
    "contador = 0\n",
    "\n",
    "if (n2==1):\n",
    "    print(\"\\n1\")\n",
    "    print(\"\\n\\nO\",n2,\"°  termo é igual a:\",termo2)\n",
    "elif n2 == 2:\n",
    "    print(\"\\n1,1\")\n",
    "    print(\"\\n\\nO\",n2,\"°  termo é igual a:\",termo2)\n",
    "else:\n",
    "    print(\"\\n1\",end=\"\")\n",
    "    for count2 in range(2,n2+1): # Se count inicia em 2 então ele comtara 3,4 e 5, para n = 4\n",
    "        termo2 = ultimo2 + penultimo2\n",
    "        penultimo2 = ultimo2\n",
    "        ultimo2 = termo2\n",
    "        contador = contador + 1\n",
    "        print(\",\",ultimo2,end=\"\")\n",
    "    print(\"\\n\\ncountador =\",contador,\" =>  quantidade de loops realizados =\",contador) # Para ver quantos loops foram realizados\n",
    "    print(\"\\nO\",n2,\"°  termo é igual a:\",termo2)"
   ]
  },
  {
   "cell_type": "markdown",
   "metadata": {},
   "source": [
    "<h2>Questão 3</h2>\n",
    "\n",
    "<p>Dois números inteiros são primos entre si (ou coprimos) se o único divisor comum a eles é o número 1. Faça um programa que testa se dois números são coprimos.</p>\n",
    "\n",
    "<p>Dica: primeiro faça uma função de nome `mdc` que recebe dois inteiros positivos e retorna o valor do máximo divisor comum entre eles. Você pode usar, por exemplo, o algoritmo de Euclides, ou qualquer outra forma que preferir (faça uma pesquisa).</p>\n",
    "\n",
    "<p><b>Entrada:</b> O programa deve receber dois valores inteiros e positivos.</p>\n",
    "\n",
    "<p><b>Saída:</b> A resposta consistirá de uma única linha contendo a mensagem `São coprimos` ou `Não são coprimos`, dependendo se os números forem coprimos ou não, respectivamente.</p>"
   ]
  },
  {
   "cell_type": "code",
   "execution_count": null,
   "metadata": {},
   "outputs": [],
   "source": []
  },
  {
   "cell_type": "markdown",
   "metadata": {},
   "source": [
    "<h2>Questão 4</h2>\n",
    "\n",
    "<p>Faça um programa que imprima os $n$ primeiros números primos.</p>\n",
    "\n",
    "<p><b>Entrada:</b> O programa deverá receber um único inteiro $n$, com $n \\geq 0$.</p>\n",
    "\n",
    "<p><b>Saída:</b> A resposta consistirá em $n$ linhas, cada uma contendo um número primo.</p>"
   ]
  },
  {
   "cell_type": "code",
   "execution_count": 2,
   "metadata": {},
   "outputs": [
    {
     "name": "stdout",
     "output_type": "stream",
     "text": [
      "Digite um número inteiro positivo: 37\n",
      "2\n",
      "3\n",
      "5\n",
      "7\n",
      "11\n",
      "13\n",
      "17\n",
      "19\n",
      "23\n",
      "29\n",
      "31\n",
      "37\n"
     ]
    }
   ],
   "source": [
    "def primo(x):\n",
    "    if x > 2 and x % 2 == 0:\n",
    "        return False\n",
    "    for i in range(3,x):\n",
    "        if x%i == 0:\n",
    "            return False\n",
    "    return True\n",
    "\n",
    "numero = int(input(\"Digite um número inteiro positivo: \"))\n",
    "\n",
    "if numero < 2:\n",
    "    print(\"Só existem números primos maiores do que 1.\")\n",
    "for j in range(2, numero+1):\n",
    "    if primo(j):\n",
    "        print(j)\n",
    "\n"
   ]
  },
  {
   "cell_type": "code",
   "execution_count": null,
   "metadata": {},
   "outputs": [],
   "source": []
  }
 ],
 "metadata": {
  "kernelspec": {
   "display_name": "Python 3 (ipykernel)",
   "language": "python",
   "name": "python3"
  },
  "language_info": {
   "codemirror_mode": {
    "name": "ipython",
    "version": 3
   },
   "file_extension": ".py",
   "mimetype": "text/x-python",
   "name": "python",
   "nbconvert_exporter": "python",
   "pygments_lexer": "ipython3",
   "version": "3.12.4"
  }
 },
 "nbformat": 4,
 "nbformat_minor": 4
}
