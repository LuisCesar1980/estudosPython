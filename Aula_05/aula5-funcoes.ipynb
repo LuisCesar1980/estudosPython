{
 "cells": [
  {
   "cell_type": "markdown",
   "metadata": {},
   "source": [
    "<font size=4>\n",
    "<h1>Introdução à programação em Python: funções</h1>\n",
    "\n",
    "<p>Neste notebook você vai aprender como fazer para reaproveitar trechos de código do seu programa.</p>\n",
    "</font>"
   ]
  },
  {
   "cell_type": "markdown",
   "metadata": {},
   "source": [
    "<font size=4>\n",
    "\n",
    "<p>Um aspecto importante na resolução de um problema complexo é conseguir dividi-lo em subproblemas menores.</p>\n",
    "\n",
    "<p>Funções são estruturas que agrupam um conjunto de comandos, que são executados quando a função é chamada.</p>\n",
    "\n",
    "<p>Nós já usamos várias funções até agora nesse curso.</p>"
   ]
  },
  {
   "cell_type": "code",
   "execution_count": 1,
   "metadata": {},
   "outputs": [
    {
     "name": "stdout",
     "output_type": "stream",
     "text": [
      "'print()' é uma função\n",
      "'input()' é outra função. Digite um número inteiro positivo: 5\n",
      "[2, 3, 4, 5, 6]\n"
     ]
    }
   ],
   "source": [
    "print(\"'print()' é uma função\")\n",
    "valor = input(\"'input()' é outra função. Digite um número inteiro positivo: \")\n",
    "valor = int(valor) #int() é outra função\n",
    "# lista = list(range(valor)) #list() e range() são funções\n",
    "lista = list(range(2,valor+2)) #list() e range() são funções\n",
    "print(lista)"
   ]
  },
  {
   "cell_type": "markdown",
   "metadata": {},
   "source": [
    "<font size=4><h3>Por que usar funções?</h3>\n",
    "<p>Pode ser para evitar que os blocos do programa fiquem grandes demais e, por consequência, difı́ceis de ler e entender.</p>\n",
    "    \n",
    "<p>Ou para separar o programa em partes que possam ser logicamente compreendidas de forma isolada.</p>\n",
    "\n",
    "<p>Ou para permitir o reaproveitamento de códigos, implementados por você ou por outros programadores.</p>\n",
    "\n",
    "<p>E também para evitar que um trecho de código seja repetido várias vezes, evitando inconsistências e facilitando alterações.</p>\n",
    "</font>"
   ]
  },
  {
   "cell_type": "markdown",
   "metadata": {},
   "source": [
    "<font size=3><h3>Como criar funções?</h3>\n",
    "    \n",
    "<p>A estrutura para **definir** uma função é a seguinte:</p>\n",
    "<code>def nome_da_funcao(parametro1, parametro2, ...)\n",
    "    comando usando ou não parametro1, parametro2, ...\n",
    "    comando usando ou não parametro1, parametro2, ...\n",
    "    etc.\n",
    "    return\n",
    "\n",
    "restante do programa\n",
    "</code>\n",
    "\n",
    "<p>`parametro x` é o nome de uma variável que pode ser utilizada dentro da função. Uma função pode ter zero ou mais parâmetros.</p>\n",
    "\n",
    "<p>`return` é um comando que indica o fim da função. Muitas vezes, funções produzem resultados que precisam ser devolvidos à quem as chamou. Assim, `return` é normalmente seguido de um valor/expressão.</p>\n",
    "\n",
    "<p>Definir uma função não tem efeito nenhum em um programa (no sentido de que se houver, por exemplo, um comando `print()` dentro da função, nada será impresso se você apenas definiu a função.</p>\n",
    "\n",
    "<p>Para de fato executar os comandos que estão dentros da função, você precisa fazer uma **chamada** à mesma:</p>\n",
    "<code>nome_da_funcao(argumento1, argumento2, ...)</code>\n",
    "\n",
    "<p>Você deve passar um valor para cada um dos parâmetros que aparecem na definição da função e na mesma ordem. Esses valores são chamados de argumentos durante a chamada.</p>\n",
    "\n",
    "<p>É comum se dizer que uma função \"recebe\" um ou mais valores e \"retorna\" um resultado.</p>\n",
    "\n",
    "<p>**Importante:** Uma função só pode ser chamada **depois** de sua definição.</p>\n",
    "\n",
    "<p>Veja os exemplos a seguir para entender melhor esses conceitos.</p>\n",
    "</font>"
   ]
  },
  {
   "cell_type": "markdown",
   "metadata": {},
   "source": [
    "<font size=3><h3>Exemplo 1</h3>\n",
    "\n",
    "<p>A seguir temos a definição de uma função que tem um único parâmetro. Logo em seguida temos um exemplo de seu uso.</p>\n",
    "</font>"
   ]
  },
  {
   "cell_type": "code",
   "execution_count": 3,
   "metadata": {},
   "outputs": [
    {
     "name": "stdout",
     "output_type": "stream",
     "text": [
      "Informe um valor inteiro: 5\n",
      " 25\n"
     ]
    }
   ],
   "source": [
    "# A seguir temos a definição da função quadrado()\n",
    "# Ela recebe um único parâmetro de nome x\n",
    "# Dentro dela podemos usar x como uma variável normal\n",
    "def quadrado(x):\n",
    "    return x**2\n",
    "\n",
    "# Note como a execução desse código não gerou saída alguma"
   ]
  },
  {
   "cell_type": "code",
   "execution_count": 10,
   "metadata": {},
   "outputs": [
    {
     "name": "stdout",
     "output_type": "stream",
     "text": [
      "Informe um valor inteiro: 7\n",
      "7 ² =  49\n"
     ]
    }
   ],
   "source": [
    "def quadrado_2(z):\n",
    "    return z**2\n",
    "\n",
    "z = int(input(\"Informe um valor inteiro: \"))\n",
    "w = quadrado_2(z)\n",
    "\n",
    "print(z,\"² = \",w)"
   ]
  },
  {
   "cell_type": "code",
   "execution_count": 11,
   "metadata": {},
   "outputs": [
    {
     "name": "stdout",
     "output_type": "stream",
     "text": [
      "Digite um número qualquer: 6\n",
      "O quadrado do número digitado é 36\n",
      "O quadrado do número digitado é: 36\n",
      "64\n",
      "52\n"
     ]
    }
   ],
   "source": [
    "valor = int(input(\"Digite um número qualquer: \"))\n",
    "# aqui estamos fazendo uma chamada à função quadrado() \n",
    "# devemos passar um valor específico para o parâmetro que ela espera receber\n",
    "# como ela retorna um valor, escolhemos salvá-lo em uma outra variável, para poder usá-lo depois\n",
    "y = quadrado(valor)\n",
    "print(\"O quadrado do número digitado é\",y)\n",
    "\n",
    "# Não há necessidade de salvar o valor em uma variável, no entanto\n",
    "# Você pode usar a chamada da função diretamente:\n",
    "print(\"O quadrado do número digitado é:\", quadrado(valor))\n",
    "print(quadrado(8))\n",
    "\n",
    "# E também pode usar em expressões\n",
    "soma = quadrado(4) + quadrado(6)\n",
    "print(soma)"
   ]
  },
  {
   "cell_type": "markdown",
   "metadata": {},
   "source": [
    "<font size=4><h3>O que de fato ocorre quando você faz uma chamada a uma função?</h3>\n",
    "    \n",
    "<p>Uma chamada a uma função é, essencialmente, uma cópia dos comandos que estão dentro da definição da função substituindo os valores dos parâmetros pelos valores que são passados na chamada.</p>\n",
    "\n",
    "<p>Vamos verificar o que é feito quando o interpretador vê o comando `soma = quadrado(5) + quadrado(10)` do exemplo anterior.</p>\n",
    "\n",
    "<p>Primeiro, como em qualquer comando de atribuição, ele precisa descobrir qual é o valor da expressão `quadrado(5) + quadrado(10)` para só então colocar esse valor na variável `soma`.</p>\n",
    "\n",
    "<p>`quadrado(5)` é uma chamada de função, então o interpretador vai para a definição dessa função, coloca o valor 5 no parâmetro `x` e executa todos os comandos que estão dentro da função. No caso, apenas o comando `return x**2` é feito. Essencialmente então, `quadrado(5)` é substituído por aquela expressão que está depois do comando `return`, ou seja, `25`.</p>\n",
    "\n",
    "<p>O programa volta então ao ponto onde havia parado, tendo agora a expressão `25 + quadrado(10)`. E `quadrado(10)` também é uma chamada de função, que por sua vez também é substituída pelo valor que está depois do comando `return`. Temos então `25 + 100`, que são somados e por fim atribuídos à variável `soma`.</p>\n",
    "</font>\n",
    "    "
   ]
  },
  {
   "cell_type": "markdown",
   "metadata": {},
   "source": [
    "<font size=4><h4>Exemplo 2</h4>\n",
    "    \n",
    "<p>Um coeficiente binomial é indexado por duas variáveis $n$ e $k$, com $0 \\leq k \\leq n$, e é escrito da forma $n \\choose k$. Ele é definido da seguinte forma:\n",
    "    $$ {n \\choose k} = \\frac{n!}{k!(n-k)!} $$\n",
    "onde $x!$ denota o fatorial de $x$.</p>\n",
    "\n",
    "<p>O programa a seguir calcula o coeficiente binomial de dois números lidos na entrada sem auxílio de funções.</p>\n",
    "</font>"
   ]
  },
  {
   "cell_type": "code",
   "execution_count": 13,
   "metadata": {},
   "outputs": [
    {
     "name": "stdout",
     "output_type": "stream",
     "text": [
      "Digite um número inteiro positivo (k): 3\n",
      "Digite um número inteiro positivo maior do que o anterior (n): 7\n",
      "O coeficiente binomial de k e n é 35.0\n"
     ]
    }
   ],
   "source": [
    "k = int(input(\"Digite um número inteiro positivo (k): \"))\n",
    "n = int(input(\"Digite um número inteiro positivo maior do que o anterior (n): \"))\n",
    "\n",
    "# calculando fatorial de n\n",
    "fatn = 1\n",
    "for i in range(1,n+1):\n",
    "    fatn = fatn * i\n",
    "\n",
    "# calculando fatorial de k\n",
    "fatk = 1\n",
    "for i in range(1,k+1):\n",
    "    fatk = fatk * i\n",
    "    #fatk = 1 x 1\n",
    "    #fatk = 1 x 2\n",
    "    #fatk = 2 x 3\n",
    "    #fatk = 6 x 4\n",
    "    #fatk = 24 x 5\n",
    "    \n",
    "\n",
    "# calculando fatorial de (n-k)\n",
    "# \"n\" é maior do que \"k\"\n",
    "# Exemplo: n == 7 e K == 3\n",
    "\n",
    "fatnk = 1\n",
    "for i in range(1,(n-k)+1):\n",
    "    fatnk = fatnk * i\n",
    "\n",
    "coeficiente = fatn / (fatk * fatnk)\n",
    "print(\"O coeficiente binomial de k e n é\", coeficiente)"
   ]
  },
  {
   "cell_type": "markdown",
   "metadata": {},
   "source": [
    "<font size=4>\n",
    "    \n",
    "<p>Repare como existe código repetido no programa acima!</p>\n",
    "\n",
    "<p>E se você descobrisse que estava calculando o fatorial de um número de forma errada? Ou então descobrisse uma forma melhor de calcular o fatorial de um número? Teria que sair arrumando todos os outros trechos de código onde esse cálculo aparece.</p>\n",
    "\n",
    "<p>Note a seguir como o programa é simplificado com o uso de funções.</p>\n",
    "\n",
    "</font>"
   ]
  },
  {
   "cell_type": "code",
   "execution_count": 14,
   "metadata": {},
   "outputs": [
    {
     "name": "stdout",
     "output_type": "stream",
     "text": [
      "Digite um número inteiro positivo: 3\n",
      "Digite um número inteiro positivo maior do que o anterior: 7\n",
      "O coeficiente binomial de k e n é 35.0\n"
     ]
    }
   ],
   "source": [
    "def fatorial(x):\n",
    "    fat = 1\n",
    "    for i in range(1,x+1):\n",
    "        fat = fat * i\n",
    "    return fat\n",
    "\n",
    "k = int(input(\"Digite um número inteiro positivo: \"))\n",
    "n = int(input(\"Digite um número inteiro positivo maior do que o anterior: \"))\n",
    "coeficiente = fatorial(n)/(fatorial(k) * fatorial(n-k))\n",
    "print(\"O coeficiente binomial de k e n é\", coeficiente)"
   ]
  },
  {
   "cell_type": "markdown",
   "metadata": {},
   "source": [
    "<font size=4><h4>Variáveis locais</h4>\n",
    "    \n",
    "<p>Parâmetros e variáveis que você utiliza dentro da definição da função são chamados **locais** porque fora da definição, você não tem acesso a eles.</p>\n",
    "\n",
    "<p>Veja o exemplo a seguir.</p>\n",
    "</font>\n"
   ]
  },
  {
   "cell_type": "code",
   "execution_count": 15,
   "metadata": {},
   "outputs": [
    {
     "ename": "NameError",
     "evalue": "name 'fat' is not defined",
     "output_type": "error",
     "traceback": [
      "\u001b[0;31m---------------------------------------------------------------------------\u001b[0m",
      "\u001b[0;31mNameError\u001b[0m                                 Traceback (most recent call last)",
      "\u001b[0;32m<ipython-input-15-2f2853d34942>\u001b[0m in \u001b[0;36m<module>\u001b[0;34m\u001b[0m\n\u001b[1;32m      5\u001b[0m     \u001b[0;32mreturn\u001b[0m \u001b[0mfat\u001b[0m\u001b[0;34m\u001b[0m\u001b[0;34m\u001b[0m\u001b[0m\n\u001b[1;32m      6\u001b[0m \u001b[0;34m\u001b[0m\u001b[0m\n\u001b[0;32m----> 7\u001b[0;31m \u001b[0mprint\u001b[0m\u001b[0;34m(\u001b[0m\u001b[0mfat\u001b[0m\u001b[0;34m)\u001b[0m\u001b[0;34m\u001b[0m\u001b[0;34m\u001b[0m\u001b[0m\n\u001b[0m",
      "\u001b[0;31mNameError\u001b[0m: name 'fat' is not defined"
     ]
    }
   ],
   "source": [
    "def fatorial(x):\n",
    "    fat = 1\n",
    "    for i in range(1,x+1):\n",
    "        fat = fat * i\n",
    "    return fat\n",
    "\n",
    "print(fat)"
   ]
  },
  {
   "cell_type": "markdown",
   "metadata": {},
   "source": [
    "<font size=4><p>Repare que o erro ocorre porque tentamos acessar uma variável `fat` que não foi definida no programa: ela é local à função apenas.</p>\n",
    "    \n",
    "<p>Por causa disso, não importa se o nome das variáveis que você usa dentro ou fora da função são os mesmos, porque elas são completamente diferentes. Veja o próximo exemplo.</p>\n",
    "</font>\n"
   ]
  },
  {
   "cell_type": "code",
   "execution_count": 16,
   "metadata": {},
   "outputs": [
    {
     "name": "stdout",
     "output_type": "stream",
     "text": [
      "Digite um número inteiro positivo: 3\n",
      "Digite um número inteiro positivo maior do que o anterior: 7\n",
      "O coeficiente binomial de k e n é 35.0\n"
     ]
    }
   ],
   "source": [
    "def fatorial(n):\n",
    "    fat = 1\n",
    "    for i in range(1,n+1):\n",
    "        fat = fat * i\n",
    "    return fat\n",
    "\n",
    "k = int(input(\"Digite um número inteiro positivo: \"))\n",
    "n = int(input(\"Digite um número inteiro positivo maior do que o anterior: \"))\n",
    "coeficiente = fatorial(n)/(fatorial(k) * fatorial(n-k))\n",
    "print(\"O coeficiente binomial de k e n é\", coeficiente)"
   ]
  },
  {
   "cell_type": "markdown",
   "metadata": {},
   "source": [
    "<font size=4><h4>Exemplo 3</h4>\n",
    "\n",
    "<p>No exemplo anterior de cálculo de coeficiente binomial era bem óbvio onde havia repetição de código. E funções ajudam muito quando isso acontece.</p>\n",
    "\n",
    "<p>Mas um outro motivo para utilizar funções é quando queremos separar o programa em partes que possam ser logicamente compreendidas de forma isolada. Veremos um exemplo desses agora.</p>\n",
    "\n",
    "<p>O programa a seguir verifica se um dado número é primo.</p>\n",
    "</font>    "
   ]
  },
  {
   "cell_type": "code",
   "execution_count": 17,
   "metadata": {},
   "outputs": [
    {
     "name": "stdout",
     "output_type": "stream",
     "text": [
      "Digite um número inteiro positivo: 7\n",
      "[3, 4, 5, 6]\n",
      "É primo\n"
     ]
    }
   ],
   "source": [
    "numero = int(input(\"Digite um número inteiro positivo: \"))\n",
    "\n",
    "# se ele for par e maior do que 2, já não é primo\n",
    "if numero > 2 and numero%2 == 0:\n",
    "    print(\"Não é primo\")\n",
    "else:\n",
    "    # agora basta verificar se ele tem algum divisor que não seja o 1 e ele mesmo\n",
    "    # precisamos verificar todos os candidatos a divisores entre 3 e o número\n",
    "    # se algum for divisor do número, ele não é primo\n",
    "    # note que só precisamos verificar os candidatos ímpares\n",
    "    primo = True\n",
    "    print(list(range(3,numero)))\n",
    "    for i in range(3,numero):\n",
    "        if numero%i == 0:\n",
    "            print(\"Não é primo\")\n",
    "            primo = False\n",
    "    # nesse ponto, se a variável primo ainda é verdadeira, é porque nunca entramos no if\n",
    "    # então nenhum número divide o número dado. Logo, ele é primo\n",
    "    if primo:\n",
    "        print(\"É primo\")"
   ]
  },
  {
   "cell_type": "markdown",
   "metadata": {},
   "source": [
    "<font size=4><p>Podemos separar esse programa entre a parte que verifica se um número é primo e a parte que conversa com o usuário, criando uma função cujo único objetivo é dizer se um número é primo ou não.</p>\n",
    "\n",
    "<p>E uma função que decide se um número é primo ou não é útil em várias outras aplicações.</p>\n",
    "</font>"
   ]
  },
  {
   "cell_type": "code",
   "execution_count": 16,
   "metadata": {},
   "outputs": [
    {
     "name": "stdout",
     "output_type": "stream",
     "text": [
      "Digite um número inteiro positivo: 11\n",
      "É primo\n"
     ]
    }
   ],
   "source": [
    "# essa função verifica se x é primo\n",
    "# retorna True se for verdadeiro  e False caso contrário\n",
    "def eh_primo(x): #Aqui, \"x\" vai receber o valor da variável \"numero\"\n",
    "    if x > 2 and x % 2 == 0:\n",
    "        return False\n",
    "    # Não preciso usar o else aqui, porque se a condição do if foi verdadeira,\n",
    "    # então o programa acabou assim que leu o comando return\n",
    "    for i in range(3,numero):\n",
    "        if numero%i == 0:\n",
    "            return False\n",
    "        \n",
    "    # Da mesma forma, se o programa chegar aqui é porque o for acabou e ele nunca entrou no if\n",
    "    # Porque se tivesse entrado no if, teria acabado por ter lido o comando return\n",
    "    return True\n",
    "\n",
    "numero = int(input(\"Digite um número inteiro positivo: \"))\n",
    "if eh_primo(numero):\n",
    "    print(\"É primo\")\n",
    "else:\n",
    "    print(\"Não é primo\")"
   ]
  },
  {
   "cell_type": "markdown",
   "metadata": {},
   "source": [
    "<font size=4><h3>Faça você mesmo!</h3>\n",
    "    \n",
    "<p>O programa a seguir calcula o valor de $\\sum_{i=0}^j a^i$ para cada valor de $j$ entre $0$ e $n$ onde $n$ e $a$ são valores dados pelo usuário. </p>\n",
    "\n",
    "<p>Modifique-o para que ele utilize uma função que calcula $\\sum_{i=0}^j a^i$. </p>\n",
    "</font>"
   ]
  },
  {
   "cell_type": "code",
   "execution_count": 28,
   "metadata": {},
   "outputs": [
    {
     "name": "stdout",
     "output_type": "stream",
     "text": [
      "Digite o valor de n: 3\n",
      "Digite o valor de a: 2\n",
      "Para j = 1 a soma é: 3\n",
      "Para j = 2 a soma é: 7\n",
      "Para j = 3 a soma é: 15\n"
     ]
    }
   ],
   "source": [
    "def somatorio(a, j): #a = 3 e j = 1\n",
    "    total = 0\n",
    "    for i in range (0,j+1): # i assumirá dois valores: 0 e 1\n",
    "        total = total + a**i # a^0(=1) + a^1(=3) = 4\n",
    "    return total\n",
    "\n",
    "n = int(input(\"Digite o valor de n: \")) # Exemplo n = 4 e a =3\n",
    "a = int(input(\"Digite o valor de a: \"))  \n",
    "\n",
    "for j in range(1,n+1): # Para n = 4, serão realizados 4 loops\n",
    "                       # n + 1, pois para n = 4, o índice iria de 1 até 3 (n - 1)\n",
    "   # total = 0         # j = 1, 2, 3, 4\n",
    "    #for i in range(j+1):\n",
    "      #  total = total + a**i\n",
    "    # print(\"Para j =\", j, \"a soma é\", total)\n",
    "        print(\"Para j =\", j, \"a soma é:\", somatorio(a, j))"
   ]
  },
  {
   "cell_type": "code",
   "execution_count": 27,
   "metadata": {},
   "outputs": [
    {
     "name": "stdout",
     "output_type": "stream",
     "text": [
      "Digite o valor de n: 3\n",
      "Digite o valor de a: 2\n",
      "Para j = 1 a soma é 3\n",
      "Para j = 2 a soma é 7\n",
      "Para j = 3 a soma é 15\n"
     ]
    }
   ],
   "source": [
    "# \"i\" começando em 0 e indo até j igual à 3. O valor de \"a\" é igual à 2\n",
    "# Somatório = 2° + 2¹ + 2² + 2³ = 15\n",
    "def somatorio(a, j):\n",
    "    total = 0\n",
    "    for i in range (0,j+1): # 4 Loops\n",
    "        total = total + a**i \n",
    "        #total = 0 + 1\n",
    "        #total = 1 + 2\n",
    "        #total = 3 + 4\n",
    "        #total = 7 + 8\n",
    "    return total\n",
    "\n",
    "n = int(input(\"Digite o valor de n: \"))\n",
    "a = int(input(\"Digite o valor de a: \"))\n",
    "\n",
    "for j in range(0,n+1):\n",
    "   # total = 0\n",
    "    #for i in range(j+1):\n",
    "      #  total = total + a**i\n",
    "    # print(\"Para j =\", j, \"a soma é\", total)\n",
    "    g = somatorio(a,j)\n",
    "    print(\"Para j =\", j, \"a soma é\", g) #somatorio(a, j))"
   ]
  },
  {
   "cell_type": "markdown",
   "metadata": {},
   "source": [
    "<font size=4>"
   ]
  },
  {
   "cell_type": "markdown",
   "metadata": {},
   "source": [
    "<font size=4><h1> Simulado para a prova </h1>\n",
    "\n",
    "<p> As questões a seguir idealmente devem ser feitas sem consulta a outros materiais e sem discussão com os colegas.</p>\n",
    "\n",
    "<p> Aproveite a oportunidade para testar como estão seus conhecimentos para a prova da semana que vem!</p>\n",
    "\n",
    "<p> Preste muita atenção nos exemplos e entenda bem os problemas. </p>\n",
    "</font>\n"
   ]
  },
  {
   "cell_type": "markdown",
   "metadata": {},
   "source": [
    "<h2>Questão 1</h2>\n",
    "    \n",
    "<p>Escreva um programa que lê uma coordenada $(x,y)$ e imprima como resposta o quadrante em que a coordenada $(x,y)$ está.</p>\n",
    "\t\n",
    "<p><b>Entrada:</b> O programa deve receber dois números reais $x$ e $y$.</p>\n",
    "\t\n",
    "<p><b>Saída:</b> A resposta consiste de uma única linha, contendo **apenas uma** das seguintes frases, indicando onde $(x,y)$ está: `Primeiro quadrante`, `Segundo quadrante`, `Terceiro quadrante`, `Quarto quadrante`, `Eixo x`, `Eixo y` ou `Centro`.</p>"
   ]
  },
  {
   "cell_type": "markdown",
   "metadata": {},
   "source": [
    "| Exemplos de ENTRADA | SAÍDA esperada     |\n",
    "|---------------------|--------------------|\n",
    "| 5 5                 | Primeiro quadrante |\n",
    "| -5 5                | Segundo quadrante  |\n",
    "| -5 -5               | Terceiro quadrante |\n",
    "| 5 -5                | Quarto quadrante   |\n",
    "| 0 -5                | Eixo y             |\n",
    "| 5 0                 | Eixo x             |\n",
    "| 0 0                 | Centro             |"
   ]
  },
  {
   "cell_type": "code",
   "execution_count": 42,
   "metadata": {},
   "outputs": [
    {
     "name": "stdout",
     "output_type": "stream",
     "text": [
      "Informe a coordenada 'x':0\n",
      "Informe a coordenada 'y':5\n",
      "\n",
      "\n",
      "Eixo 'Y' positivo\n"
     ]
    }
   ],
   "source": [
    "#Sentido anti-horário\n",
    "x = float(input(\"Informe a coordenada 'x':\"))\n",
    "y = float(input(\"Informe a coordenada 'y':\"))\n",
    "\n",
    "print(\"\\n\")\n",
    "\n",
    "if (x > 0 and y > 0):\n",
    "    print(\"Primeiro quadrante\")\n",
    "\n",
    "elif (x < 0 and y > 0):\n",
    "    print(\"Segundo quadrante\")\n",
    "\n",
    "elif (x < 0 and y < 0):\n",
    "    print(\"Terceiro quadrante\")\n",
    "\n",
    "elif (x > 0 and y < 0):\n",
    "    print(\"Quarto quadrante\")\n",
    "\n",
    "elif x == 0 and (y > 0 or y < 0): # Eixo \"y\" positivo ou negativo\n",
    "    if(y > 0):\n",
    "        print(\"Eixo 'Y' positivo\")\n",
    "    else:\n",
    "        print(\"Eixo 'Y' negativo\")\n",
    "\n",
    "elif (x > 0 or x < 0) and y == 0: # Eixo \"x\" positivo ou negativo\n",
    "    if(x > 0):\n",
    "        print(\"Eixo 'X' positivo\")\n",
    "    else:\n",
    "        print(\"Eixo 'X' negativo\")\n",
    "\n",
    "else: # x nulo e y nulo\n",
    "    print(\"Centro\")"
   ]
  },
  {
   "cell_type": "markdown",
   "metadata": {},
   "source": [
    "<h2>Questão 2</h2>\n",
    "    \n",
    "<p>Escreva um programa para ler $n$ números e imprimir quantos deles estão nos seguintes intervalos: $[0 \\ldots 25]$, $[26 \\ldots 50]$, $[51 \\ldots 75]$ e $[76 \\ldots 100]$.</p>\n",
    "\t\n",
    "<p><b>Entrada:</b> O programa deve receber inicialmente um inteiro $n$ ($n \\geq 0$). Em seguida, deve receber $n$ números reais **quaisquer**.</p>\n",
    "\t\n",
    "<p><b>Saída:</b> A resposta consiste de 4 linhas, cada uma contendo um intervalo e a quantidade de números lidos contidos em cada intervalo, conforme o exemplo abaixo.</p>"
   ]
  },
  {
   "cell_type": "markdown",
   "metadata": {},
   "source": [
    "| Exemplo de ENTRADA         | SAÍDA esperada         |\n",
    "|----------------------------|------------------------|\n",
    "| 10                         | Intervalo [0..25]: 3   |\n",
    "| 2.0 61.5 -1.0 0.0 88.7     | Intervalo [26..50]: 0  |\n",
    "| 94.5 55.0 3.1415 25.5 75.0 | Intervalo [51..75]: 3  |\n",
    "|                            | Intervalo [76..100]: 2 |\n"
   ]
  },
  {
   "cell_type": "code",
   "execution_count": 1,
   "metadata": {},
   "outputs": [
    {
     "name": "stdout",
     "output_type": "stream",
     "text": [
      "Digite a quantidade de números: 4\n",
      "\n",
      "\n",
      "Informe o número:66\n",
      "Informe o número:56\n",
      "Informe o número:9.9\n",
      "Informe o número:100\n",
      "\n",
      "\n",
      "Intervalo [0....25] : 1 elementos\n",
      "Intervalo [26...50] : 0 elementos\n",
      "Intervalo [51...75] : 2 elementos\n",
      "Intervalo [76..100] : 1 elementos\n"
     ]
    }
   ],
   "source": [
    "n = int(input(\"Digite a quantidade de números: \"))\n",
    "\n",
    "countA = 0\n",
    "countB = 0\n",
    "countC = 0\n",
    "countD = 0\n",
    "\n",
    "print(\"\\n\")\n",
    "\n",
    "for i in range(n):\n",
    "    numero = float(input(\"Informe o número:\"))   \n",
    "    if (numero >= 0 and numero <= 25): # n > -1 and n < 26 \n",
    "        countA = countA + 1\n",
    "    elif (numero >= 26 and numero <= 50): # n > 25 and n < 51\n",
    "        countB = countB + 1\n",
    "    elif (numero >= 51 and numero <= 75): # n > 50 and n < 76\n",
    "        countC = countC + 1\n",
    "    elif (numero >= 76 and numero <= 100): # n > 75 and n < 101\n",
    "        countD = countD + 1    \n",
    "        \n",
    "print(\"\\n\")\n",
    "print(\"Intervalo [0....25] :\",countA,\"elementos\")\n",
    "print(\"Intervalo [26...50] :\",countB,\"elementos\")\n",
    "print(\"Intervalo [51...75] :\",countC,\"elementos\")\n",
    "print(\"Intervalo [76..100] :\",countD,\"elementos\")"
   ]
  },
  {
   "cell_type": "code",
   "execution_count": 3,
   "metadata": {},
   "outputs": [
    {
     "name": "stdout",
     "output_type": "stream",
     "text": [
      "Digite a quantidade de números: 3\n",
      "Informe o número:6.6\n",
      "Informe o número:55\n",
      "Informe o número:99\n",
      "\n",
      "\n"
     ]
    },
    {
     "ename": "NameError",
     "evalue": "name 'count_1' is not defined",
     "output_type": "error",
     "traceback": [
      "\u001b[0;31m---------------------------------------------------------------------------\u001b[0m",
      "\u001b[0;31mNameError\u001b[0m                                 Traceback (most recent call last)",
      "\u001b[0;32m<ipython-input-3-b7e184e76383>\u001b[0m in \u001b[0;36m<module>\u001b[0;34m\u001b[0m\n\u001b[1;32m     24\u001b[0m \u001b[0;34m\u001b[0m\u001b[0m\n\u001b[1;32m     25\u001b[0m \u001b[0mprint\u001b[0m\u001b[0;34m(\u001b[0m\u001b[0;34m\"\\n\"\u001b[0m\u001b[0;34m)\u001b[0m\u001b[0;34m\u001b[0m\u001b[0;34m\u001b[0m\u001b[0m\n\u001b[0;32m---> 26\u001b[0;31m \u001b[0mprint\u001b[0m\u001b[0;34m(\u001b[0m\u001b[0;34m\"Intervalo [0....25] :\"\u001b[0m\u001b[0;34m,\u001b[0m\u001b[0mcount_1\u001b[0m\u001b[0;34m,\u001b[0m\u001b[0;34m\"elementos\"\u001b[0m\u001b[0;34m)\u001b[0m\u001b[0;34m\u001b[0m\u001b[0;34m\u001b[0m\u001b[0m\n\u001b[0m\u001b[1;32m     27\u001b[0m \u001b[0mprint\u001b[0m\u001b[0;34m(\u001b[0m\u001b[0;34m\"Intervalo [26...50] :\"\u001b[0m\u001b[0;34m,\u001b[0m\u001b[0mcount_2\u001b[0m\u001b[0;34m,\u001b[0m\u001b[0;34m\"elementos\"\u001b[0m\u001b[0;34m)\u001b[0m\u001b[0;34m\u001b[0m\u001b[0;34m\u001b[0m\u001b[0m\n\u001b[1;32m     28\u001b[0m \u001b[0mprint\u001b[0m\u001b[0;34m(\u001b[0m\u001b[0;34m\"Intervalo [51...75] :\"\u001b[0m\u001b[0;34m,\u001b[0m\u001b[0mcount_3\u001b[0m\u001b[0;34m,\u001b[0m\u001b[0;34m\"elementos\"\u001b[0m\u001b[0;34m)\u001b[0m\u001b[0;34m\u001b[0m\u001b[0;34m\u001b[0m\u001b[0m\n",
      "\u001b[0;31mNameError\u001b[0m: name 'count_1' is not defined"
     ]
    }
   ],
   "source": [
    "def somatorio(numero):  \n",
    "    count_1 = 0\n",
    "    count_2 = 0\n",
    "    count_3 = 0\n",
    "    count_4 = 0\n",
    "    \n",
    "    if (numero >= 0 and numero <= 25): # n > -1 and n < 26 \n",
    "        count_1 = count_1 + 1\n",
    "    elif (numero >= 26 and numero <= 50): # n > 25 and n < 51\n",
    "        count_2 = count_2 + 1\n",
    "    elif (numero >= 51 and numero <= 75): # n > 50 and n < 76\n",
    "        count_3 = count_3 + 1\n",
    "    elif (numero >= 76 and numero <= 100): # n > 75 and n < 101\n",
    "        count_4 = count_4 + 1\n",
    "    return count_1, count_2, count_3, count_4\n",
    "\n",
    "n = int(input(\"Digite a quantidade de números: \"))\n",
    "\n",
    "\n",
    "for i in range(n):\n",
    "    numero = float(input(\"Informe o número:\")) \n",
    "    \n",
    "somatorio(numero)\n",
    "        \n",
    "print(\"\\n\")\n",
    "print(\"Intervalo [0....25] :\",count_1,\"elementos\")\n",
    "print(\"Intervalo [26...50] :\",count_2,\"elementos\")\n",
    "print(\"Intervalo [51...75] :\",count_3,\"elementos\")\n",
    "print(\"Intervalo [76..100] :\",count_4,\"elementos\")"
   ]
  },
  {
   "cell_type": "markdown",
   "metadata": {},
   "source": [
    "<h2>Questão 3</h2>\n",
    "    \n",
    "<p>Um jogador da Mega-Quadra, a sensação do momento, é supersticioso e só faz jogos em que o primeiro número do jogo é par, o segundo é ímpar, o terceiro é par e o quarto é ímpar. Um jogo é definido como sendo uma sequência crescente de quatro números inteiros sem repetição, com cada número podendo valer entre 1 e 20. Note que, pelas definições acima, `2 5 26 31` é um jogo (números em ordem crescente) válido para esse jogador (números pares e ímpares intercalando) enquanto que `26 31 2 57` e `2 1 4 3` nem são jogos. Faça um programa que imprima todas as possibilidades de jogos que este jogador supersticioso pode jogar.</p>\n",
    "\t\n",
    "<p><b>Entrada:</b> Esse programa não tem entrada.</p>\n",
    "\t\n",
    "<p><b>Saída:</b> A resposta consiste de várias linhas, cada uma contendo seis números inteiros separados por espaço que indicam um possível jogo.</p>"
   ]
  },
  {
   "cell_type": "markdown",
   "metadata": {},
   "source": [
    "| Exemplo de parte da SAÍDA |\n",
    "|---------------------------|\n",
    "| 2 3 4 5                   |\n",
    "| 2 3 4 7                   |\n",
    "| 2 3 4 9                   |\n",
    "| $\\ldots$                  |\n",
    "| 2 3 4 19                  |\n",
    "| 2 3 6 7                   |\n",
    "| 2 3 6 9                   |\n",
    "| 2 3 6 11                  |\n",
    "| $\\ldots$                  |\n",
    "| $\\ldots$                  |\n",
    "| 14 17 18 19               |\n",
    "| 16 17 18 19               |"
   ]
  },
  {
   "cell_type": "code",
   "execution_count": 24,
   "metadata": {},
   "outputs": [
    {
     "name": "stdout",
     "output_type": "stream",
     "text": [
      "2     3     4     5\n",
      "2     3     4     7\n",
      "2     3     4     9\n",
      "2     3     4     11\n",
      "2     3     4     13\n",
      "2     3     4     15\n",
      "2     3     4     17\n",
      "2     3     4     19\n",
      "2     3     6     7\n",
      "2     3     6     9\n",
      "2     3     6     11\n",
      "2     3     6     13\n",
      "2     3     6     15\n",
      "2     3     6     17\n",
      "2     3     6     19\n",
      "2     3     8     9\n",
      "2     3     8     11\n",
      "2     3     8     13\n",
      "2     3     8     15\n",
      "2     3     8     17\n",
      "2     3     8     19\n",
      "2     3     10     11\n",
      "2     3     10     13\n",
      "2     3     10     15\n",
      "2     3     10     17\n",
      "2     3     10     19\n",
      "2     3     12     13\n",
      "2     3     12     15\n",
      "2     3     12     17\n",
      "2     3     12     19\n",
      "2     3     14     15\n",
      "2     3     14     17\n",
      "2     3     14     19\n",
      "2     3     16     17\n",
      "2     3     16     19\n",
      "2     3     18     19\n",
      "2     5     6     7\n",
      "2     5     6     9\n",
      "2     5     6     11\n",
      "2     5     6     13\n",
      "2     5     6     15\n",
      "2     5     6     17\n",
      "2     5     6     19\n",
      "2     5     8     9\n",
      "2     5     8     11\n",
      "2     5     8     13\n",
      "2     5     8     15\n",
      "2     5     8     17\n",
      "2     5     8     19\n",
      "2     5     10     11\n",
      "2     5     10     13\n",
      "2     5     10     15\n",
      "2     5     10     17\n",
      "2     5     10     19\n",
      "2     5     12     13\n",
      "2     5     12     15\n",
      "2     5     12     17\n",
      "2     5     12     19\n",
      "2     5     14     15\n",
      "2     5     14     17\n",
      "2     5     14     19\n",
      "2     5     16     17\n",
      "2     5     16     19\n",
      "2     5     18     19\n",
      "2     7     8     9\n",
      "2     7     8     11\n",
      "2     7     8     13\n",
      "2     7     8     15\n",
      "2     7     8     17\n",
      "2     7     8     19\n",
      "2     7     10     11\n",
      "2     7     10     13\n",
      "2     7     10     15\n",
      "2     7     10     17\n",
      "2     7     10     19\n",
      "2     7     12     13\n",
      "2     7     12     15\n",
      "2     7     12     17\n",
      "2     7     12     19\n",
      "2     7     14     15\n",
      "2     7     14     17\n",
      "2     7     14     19\n",
      "2     7     16     17\n",
      "2     7     16     19\n",
      "2     7     18     19\n",
      "2     9     10     11\n",
      "2     9     10     13\n",
      "2     9     10     15\n",
      "2     9     10     17\n",
      "2     9     10     19\n",
      "2     9     12     13\n",
      "2     9     12     15\n",
      "2     9     12     17\n",
      "2     9     12     19\n",
      "2     9     14     15\n",
      "2     9     14     17\n",
      "2     9     14     19\n",
      "2     9     16     17\n",
      "2     9     16     19\n",
      "2     9     18     19\n",
      "2     11     12     13\n",
      "2     11     12     15\n",
      "2     11     12     17\n",
      "2     11     12     19\n",
      "2     11     14     15\n",
      "2     11     14     17\n",
      "2     11     14     19\n",
      "2     11     16     17\n",
      "2     11     16     19\n",
      "2     11     18     19\n",
      "2     13     14     15\n",
      "2     13     14     17\n",
      "2     13     14     19\n",
      "2     13     16     17\n",
      "2     13     16     19\n",
      "2     13     18     19\n",
      "2     15     16     17\n",
      "2     15     16     19\n",
      "2     15     18     19\n",
      "2     17     18     19\n",
      "4     5     6     7\n",
      "4     5     6     9\n",
      "4     5     6     11\n",
      "4     5     6     13\n",
      "4     5     6     15\n",
      "4     5     6     17\n",
      "4     5     6     19\n",
      "4     5     8     9\n",
      "4     5     8     11\n",
      "4     5     8     13\n",
      "4     5     8     15\n",
      "4     5     8     17\n",
      "4     5     8     19\n",
      "4     5     10     11\n",
      "4     5     10     13\n",
      "4     5     10     15\n",
      "4     5     10     17\n",
      "4     5     10     19\n",
      "4     5     12     13\n",
      "4     5     12     15\n",
      "4     5     12     17\n",
      "4     5     12     19\n",
      "4     5     14     15\n",
      "4     5     14     17\n",
      "4     5     14     19\n",
      "4     5     16     17\n",
      "4     5     16     19\n",
      "4     5     18     19\n",
      "4     7     8     9\n",
      "4     7     8     11\n",
      "4     7     8     13\n",
      "4     7     8     15\n",
      "4     7     8     17\n",
      "4     7     8     19\n",
      "4     7     10     11\n",
      "4     7     10     13\n",
      "4     7     10     15\n",
      "4     7     10     17\n",
      "4     7     10     19\n",
      "4     7     12     13\n",
      "4     7     12     15\n",
      "4     7     12     17\n",
      "4     7     12     19\n",
      "4     7     14     15\n",
      "4     7     14     17\n",
      "4     7     14     19\n",
      "4     7     16     17\n",
      "4     7     16     19\n",
      "4     7     18     19\n",
      "4     9     10     11\n",
      "4     9     10     13\n",
      "4     9     10     15\n",
      "4     9     10     17\n",
      "4     9     10     19\n",
      "4     9     12     13\n",
      "4     9     12     15\n",
      "4     9     12     17\n",
      "4     9     12     19\n",
      "4     9     14     15\n",
      "4     9     14     17\n",
      "4     9     14     19\n",
      "4     9     16     17\n",
      "4     9     16     19\n",
      "4     9     18     19\n",
      "4     11     12     13\n",
      "4     11     12     15\n",
      "4     11     12     17\n",
      "4     11     12     19\n",
      "4     11     14     15\n",
      "4     11     14     17\n",
      "4     11     14     19\n",
      "4     11     16     17\n",
      "4     11     16     19\n",
      "4     11     18     19\n",
      "4     13     14     15\n",
      "4     13     14     17\n",
      "4     13     14     19\n",
      "4     13     16     17\n",
      "4     13     16     19\n",
      "4     13     18     19\n",
      "4     15     16     17\n",
      "4     15     16     19\n",
      "4     15     18     19\n",
      "4     17     18     19\n",
      "6     7     8     9\n",
      "6     7     8     11\n",
      "6     7     8     13\n",
      "6     7     8     15\n",
      "6     7     8     17\n",
      "6     7     8     19\n",
      "6     7     10     11\n",
      "6     7     10     13\n",
      "6     7     10     15\n",
      "6     7     10     17\n",
      "6     7     10     19\n",
      "6     7     12     13\n",
      "6     7     12     15\n",
      "6     7     12     17\n",
      "6     7     12     19\n",
      "6     7     14     15\n",
      "6     7     14     17\n",
      "6     7     14     19\n",
      "6     7     16     17\n",
      "6     7     16     19\n",
      "6     7     18     19\n",
      "6     9     10     11\n",
      "6     9     10     13\n",
      "6     9     10     15\n",
      "6     9     10     17\n",
      "6     9     10     19\n",
      "6     9     12     13\n",
      "6     9     12     15\n",
      "6     9     12     17\n",
      "6     9     12     19\n",
      "6     9     14     15\n",
      "6     9     14     17\n",
      "6     9     14     19\n",
      "6     9     16     17\n",
      "6     9     16     19\n",
      "6     9     18     19\n",
      "6     11     12     13\n",
      "6     11     12     15\n",
      "6     11     12     17\n",
      "6     11     12     19\n",
      "6     11     14     15\n",
      "6     11     14     17\n",
      "6     11     14     19\n",
      "6     11     16     17\n",
      "6     11     16     19\n",
      "6     11     18     19\n",
      "6     13     14     15\n",
      "6     13     14     17\n",
      "6     13     14     19\n",
      "6     13     16     17\n",
      "6     13     16     19\n",
      "6     13     18     19\n",
      "6     15     16     17\n",
      "6     15     16     19\n",
      "6     15     18     19\n",
      "6     17     18     19\n",
      "8     9     10     11\n",
      "8     9     10     13\n",
      "8     9     10     15\n",
      "8     9     10     17\n",
      "8     9     10     19\n",
      "8     9     12     13\n",
      "8     9     12     15\n",
      "8     9     12     17\n",
      "8     9     12     19\n",
      "8     9     14     15\n",
      "8     9     14     17\n",
      "8     9     14     19\n",
      "8     9     16     17\n",
      "8     9     16     19\n",
      "8     9     18     19\n",
      "8     11     12     13\n",
      "8     11     12     15\n",
      "8     11     12     17\n",
      "8     11     12     19\n",
      "8     11     14     15\n",
      "8     11     14     17\n",
      "8     11     14     19\n",
      "8     11     16     17\n",
      "8     11     16     19\n",
      "8     11     18     19\n",
      "8     13     14     15\n",
      "8     13     14     17\n",
      "8     13     14     19\n",
      "8     13     16     17\n",
      "8     13     16     19\n",
      "8     13     18     19\n",
      "8     15     16     17\n",
      "8     15     16     19\n",
      "8     15     18     19\n",
      "8     17     18     19\n",
      "10     11     12     13\n",
      "10     11     12     15\n",
      "10     11     12     17\n",
      "10     11     12     19\n",
      "10     11     14     15\n",
      "10     11     14     17\n",
      "10     11     14     19\n",
      "10     11     16     17\n",
      "10     11     16     19\n",
      "10     11     18     19\n",
      "10     13     14     15\n",
      "10     13     14     17\n",
      "10     13     14     19\n",
      "10     13     16     17\n",
      "10     13     16     19\n",
      "10     13     18     19\n",
      "10     15     16     17\n",
      "10     15     16     19\n",
      "10     15     18     19\n",
      "10     17     18     19\n",
      "12     13     14     15\n",
      "12     13     14     17\n",
      "12     13     14     19\n",
      "12     13     16     17\n",
      "12     13     16     19\n",
      "12     13     18     19\n",
      "12     15     16     17\n",
      "12     15     16     19\n",
      "12     15     18     19\n",
      "12     17     18     19\n",
      "14     15     16     17\n",
      "14     15     16     19\n",
      "14     15     18     19\n",
      "14     17     18     19\n",
      "16     17     18     19\n"
     ]
    }
   ],
   "source": [
    "for x1 in range(2,20,2): # Par\n",
    "    for x2 in range(3,20,2): # Ímpar\n",
    "        for x3 in range(4,20,2): # Par\n",
    "            for x4 in range(5,20,2): #Ímpar\n",
    "                if (x1 < x2 < x3 < x4):\n",
    "                    print(x1,\"   \",x2,\"   \",x3,\"   \",x4)"
   ]
  },
  {
   "cell_type": "code",
   "execution_count": null,
   "metadata": {},
   "outputs": [],
   "source": []
  }
 ],
 "metadata": {
  "anaconda-cloud": {},
  "kernelspec": {
   "display_name": "Python 3 (ipykernel)",
   "language": "python",
   "name": "python3"
  },
  "language_info": {
   "codemirror_mode": {
    "name": "ipython",
    "version": 3
   },
   "file_extension": ".py",
   "mimetype": "text/x-python",
   "name": "python",
   "nbconvert_exporter": "python",
   "pygments_lexer": "ipython3",
   "version": "3.12.4"
  }
 },
 "nbformat": 4,
 "nbformat_minor": 4
}
