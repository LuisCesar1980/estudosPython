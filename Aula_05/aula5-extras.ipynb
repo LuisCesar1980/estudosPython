{
 "cells": [
  {
   "cell_type": "markdown",
   "metadata": {},
   "source": [
    "<font size=4>\n",
    "<h1>Exercícios (não precisam ser entregues)</h1>\n",
    "\n",
    "<p>Essa lista de exercícios é extra, para você treinar mais para a primeira prova.</p>\n",
    "\n",
    "</font>"
   ]
  },
  {
   "cell_type": "markdown",
   "metadata": {},
   "source": [
    "<h2>Questão 1</h2>\n",
    "\n",
    "<p>Escreva um programa que receba três valores e, caso eles formem um triângulo, decida se ele é retângulo,  isósceles, equilátero, escaleno, ou nenhum dos anteriores. Seu programa deve lidar com a possibilidade de os números lidos serem negativos. Note que um triângulo pode se encaixar em mais de uma dessas categorias.</p>\n",
    "\n",
    "<p><b>Entrada:</b> O programa deve receber três números decimais.</p>\n",
    "\n",
    "<p><b>Saída:</b> A resposta pode consistir de uma ou mais linhas, cada uma contendo apenas uma das cinco opções a seguir, de acordo com os valores dados: `Triângulo retângulo`, `Triângulo isósceles`, `Triângulo equilátero`,  `Triângulo escaleno` ou `Não é triângulo`.</p>"
   ]
  },
  {
   "cell_type": "code",
   "execution_count": 29,
   "metadata": {},
   "outputs": [
    {
     "name": "stdout",
     "output_type": "stream",
     "text": [
      "Digite o lado ab do triângulo:15\n",
      "Digite o lado bc do triângulo:9\n",
      "Digite o lado ac do triângulo:12\n",
      "Os valores formam um triângulo.\n",
      "Triângulo Escaleno e Retângulo.\n"
     ]
    }
   ],
   "source": [
    "#Os três valores têm que ser positivos e não nulos mas, além disso, \n",
    "#em um triângulo vale a propriedade de que cada um dos seus lados \n",
    "#é menor do que a soma dos outros dois lados.\n",
    "\n",
    "#Equilátero: todos os lados possuem uma mesma media\n",
    "#Isósceles: dois de seus lados possuem a mesma medida\n",
    "#Escaleno: todos os lados possuem medidas diferentes\n",
    "\n",
    "#lado A = ab\n",
    "#Lado B = bc\n",
    "#Lado C = ac\n",
    "\n",
    "ab = float(input(\"Digite o lado ab do triângulo:\"))\n",
    "bc = float(input(\"Digite o lado bc do triângulo:\"))\n",
    "ac = float(input(\"Digite o lado ac do triângulo:\"))\n",
    "\n",
    "if (ab > 0 and bc > 0 and ac > 0) and (ab < bc + ac and bc < ab + ac and ac < ab + bc):\n",
    "    print(\"Os valores formam um triângulo.\")\n",
    "    if (ab == bc and bc == ac and ac == ab):\n",
    "        print(\"Triângulo Equilátero.\")\n",
    "    elif (ab != bc and bc != ac and ac != ab):\n",
    "        if(ab**2 == bc**2 + ac**2) or (bc**2 == ab**2 + ac**2) or (ac**2 == ab**2 + bc**2):\n",
    "            print(\"Triângulo Escaleno e Retângulo.\") # a = ab = 15\n",
    "        else:                                        # b = bc = 9  \n",
    "            print(\"Triângulo Escaleno.\")             # c = ac = 12\n",
    "    else:\n",
    "        if(ab**2 == bc**2 + ac**2) or (bc**2 == ab**2 + ac**2) or (ac**2 == ab**2 + bc**2): \n",
    "            print(\"Triângulo Isósceles Retângulo.\") # a = ab = 15\n",
    "        else:                                       # b = bc = 9\n",
    "            print(\"Triângulo Isósceles.\")           # c = ac = 12\n",
    "else:\n",
    "    print(\"É impossível formar um triângulo com estes lados.\")"
   ]
  },
  {
   "cell_type": "markdown",
   "metadata": {},
   "source": [
    "<h2>Questão 2</h2>\n",
    "\n",
    "<p>Suponha que seu computador consiga executar somente operações de soma, subtração e multiplicação. Faça um programa que calcule $a^b$ (sem utilizar `**`, portanto).</p>\n",
    "\n",
    "<p><b>Entrada:</b> O programa deverá receber dois números inteiros, $a$ e $b$, respectivamente, com $a \\neq 0$ e $b \\geq 0$.</p>\n",
    "\n",
    "<p><b>Saída:</b> A saída consistirá de uma única linha, contendo um único número, resultado de $a^b$.</p>"
   ]
  },
  {
   "cell_type": "code",
   "execution_count": null,
   "metadata": {},
   "outputs": [],
   "source": []
  },
  {
   "cell_type": "markdown",
   "metadata": {},
   "source": [
    "<h2>Questão 3</h2>\n",
    "\n",
    "<p>Um número inteiro positivo é dito perfeito se a soma dos seus divisores positivos (excluindo ele mesmo) é igual ao próprio número. Por exemplo, 6 é perfeito pois $1+2+3=6$. Faça um programa que determine se um dado número é perfeito.</p>\n",
    "\n",
    "<p><b>Entrada:</b> O programa deve receber um único número inteiro $n$, com $n \\geq 1$.</p>\n",
    "\n",
    "<p><b>Saída:</b> A resposta consistirá de uma única linha, contendo a palavra `Sim`, se $n$ for perfeito, e `Não`, caso contrário.</p>"
   ]
  },
  {
   "cell_type": "code",
   "execution_count": null,
   "metadata": {},
   "outputs": [],
   "source": []
  },
  {
   "cell_type": "markdown",
   "metadata": {},
   "source": [
    "<h2>Questão 4</h2>\n",
    "\n",
    "<p>Faça um programa que calcule a média ponderada de $n$ números de acordo com a fórmula $$\\frac{\\sum_{i=1}^n p_i x_i}{\\sum_{i=1}^n p_i}.$$</p>\n",
    "\n",
    "<p><b>Entrada:</b> O programa deve receber inicialmente um inteiro positivo $n$. Em seguida, deve receber $n$ pares de números reais $p_i$ e $x_i$.</p>\n",
    "\n",
    "<p><b>Saída:</b> A resposta consistirá de uma única linha, contendo apenas um valor real que é a média ponderada dos valores lidos, de acordo com a fórmula acima.</p>"
   ]
  },
  {
   "cell_type": "code",
   "execution_count": null,
   "metadata": {},
   "outputs": [],
   "source": []
  },
  {
   "cell_type": "markdown",
   "metadata": {},
   "source": [
    "<h2>Questão 5</h2>\n",
    "\n",
    "<p>Faça um programa que teste se uma sequência de números é crescente ou não. Não use nada para armazenar os números.</p>\n",
    "\n",
    "<p><b>Entrada:</b> O programa deve receber $n$ números inteiros.</p>\n",
    "\n",
    "<p><b>Saída:</b> A resposta consistirá de uma única linha, contendo a palavra `Sim`, se a sequência de números for crescente, e `Não`, caso contrário.</p>"
   ]
  },
  {
   "cell_type": "code",
   "execution_count": 57,
   "metadata": {},
   "outputs": [
    {
     "name": "stdout",
     "output_type": "stream",
     "text": [
      "Informe a quantidade de números a ser testada: 5\n",
      "Informe o número:6\n",
      "A sequência de números não é crescente.\n",
      "Informe o número:44\n",
      "A sequência de números não é crescente.\n",
      "Informe o número:4\n",
      "A sequência de números não é crescente.\n",
      "Informe o número:41\n",
      "A sequência de números não é crescente.\n",
      "Informe o número:54\n",
      "A sequência de números não é crescente.\n"
     ]
    }
   ],
   "source": [
    "#TEM QUE TERMINAR\n",
    "\n",
    "n = int(input(\"Informe a quantidade de números a ser testada: \"))\n",
    "\n",
    "for i in range(n):\n",
    "    anterior = float(input(\"Informe o número:\"))\n",
    "    \n",
    "    atual = True\n",
    "    \n",
    "    aux = n\n",
    "    \n",
    "    if(atual > anterior):\n",
    "        print(\"A sequência de números é crescente.\")\n",
    "    else:\n",
    "        print(\"A sequência de números não é crescente.\")"
   ]
  },
  {
   "cell_type": "markdown",
   "metadata": {},
   "source": [
    "<h2>Questão 6</h2>\n",
    "\n",
    "<p>Leia um par de inteiros $m$ e $n$, mostre a sequência de inteiros que existem do menor até o maior deles e mostre também a soma desses inteiros (incluindo o $m$ e o $n$).</p>\n",
    "\n",
    "<p><b>Entrada:</b> O programa deve receber dois inteiros $m$ e $n$, com $m > 0$ e $n > 0$.</p>\n",
    "\n",
    "<p><b>Saída:</b> A resposta consiste de uma única linha, contendo os inteiros entre $\\min\\{m,n\\}$ e $\\max\\{m,n\\}$, seguido da mensagem `Soma = X`, onde X deve ser corretamente substituı́do pela soma dos valores inteiros entre os dois lidos.</p>\n",
    "\n",
    "<p>Exemplo: se $m=9$ e $n=3$, então a saída deve ser `3 4 5 6 7 8 9 Soma = 42`.</p>"
   ]
  },
  {
   "cell_type": "code",
   "execution_count": 1,
   "metadata": {},
   "outputs": [
    {
     "name": "stdout",
     "output_type": "stream",
     "text": [
      "Digite um valor inteiro para m:3\n",
      "Digite um valor inteiro para n:9\n",
      "Sequência de números entre 3 e 9 : [3, 4, 5, 6, 7, 8, 9]\n",
      "Soma dos números entre 3 e 9 : 42\n"
     ]
    }
   ],
   "source": [
    "m = int(input(\"Digite um valor inteiro para m:\"))\n",
    "n = int(input(\"Digite um valor inteiro para n:\"))\n",
    "\n",
    "total = 0\n",
    "\n",
    "if(m > 0 and n > 0):\n",
    "    if m == n:\n",
    "        print(\"Os números são iguais.\\nNão há sequência, apenas o número\",m,\".\")\n",
    "    \n",
    "    elif m > n:\n",
    "        lista = list(range(n, m + 1))\n",
    "        for i in range(n, m + 1):\n",
    "            total = total + i\n",
    "        print(\"Sequência de números entre\",n,\"e\",m,\":\",lista)\n",
    "        print(\"Soma dos números entre\",n,\"e\",m,\":\",total)\n",
    "    \n",
    "    else:\n",
    "        lista = list(range(m, n + 1))\n",
    "        for i in range(m, n + 1):\n",
    "            total = total + i\n",
    "        print(\"Sequência de números entre\",m,\"e\",n,\":\",lista)\n",
    "        print(\"Soma dos números entre\",m,\"e\",n,\":\",total)   \n",
    "\n",
    "else:\n",
    "    if m <= 0 and n <= 0:\n",
    "        print(\"Números inválidos. Digite números maiores do que zero.\")\n",
    "    elif m <= 0:\n",
    "        print(\"O primeiro número é menor ou igual a zero.\")\n",
    "        print(\"Digite um número maior do que zero\")\n",
    "    else: \n",
    "        print(\"O segundo número é menor ou igual a zero.\")\n",
    "        print(\"Digite um número maior do que zero\")"
   ]
  },
  {
   "cell_type": "code",
   "execution_count": null,
   "metadata": {},
   "outputs": [],
   "source": []
  }
 ],
 "metadata": {
  "kernelspec": {
   "display_name": "Python 3 (ipykernel)",
   "language": "python",
   "name": "python3"
  },
  "language_info": {
   "codemirror_mode": {
    "name": "ipython",
    "version": 3
   },
   "file_extension": ".py",
   "mimetype": "text/x-python",
   "name": "python",
   "nbconvert_exporter": "python",
   "pygments_lexer": "ipython3",
   "version": "3.12.4"
  }
 },
 "nbformat": 4,
 "nbformat_minor": 4
}
