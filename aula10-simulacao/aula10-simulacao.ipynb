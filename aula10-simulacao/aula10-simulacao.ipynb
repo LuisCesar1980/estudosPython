{
 "cells": [
  {
   "cell_type": "markdown",
   "metadata": {},
   "source": [
    "# Modelagem e simulação\n",
    "\n",
    "As atividades de modelagem e simulação se referem ao processo de obtenção de um _modelo_ (uma representação, em geral simplificada de aspectos físicos e operacionais de um _sistema_) e à realização de _simulações computacionais_ (fazer experimentações em um ambiente computacional, com o propósito de entender o comportamento do sistema ou de avaliar estratégias para a operação do sistema).\n",
    "\n",
    "Dessa forma, experimentações reais, que podem ser muito custosas e consumir muito tempo, podem ser evitadas.\n",
    "\n",
    "Podemos usar computadores para simular explosões nucleares, efeitos de furacões e outras catástrofes naturais, missões de exploração espacial, reações químicas, comportamento de moléculas e muitas outras coisas.\n",
    "\n",
    "Os vídeos a seguir mostram bons exemplos de simulações computacionais."
   ]
  },
  {
   "cell_type": "code",
   "execution_count": null,
   "metadata": {},
   "outputs": [],
   "source": [
    "from IPython.display import HTML\n",
    "display(HTML('<iframe width=\"560\" height=\"315\" src=\"https://www.youtube.com/embed/iKR_L0xswdw\" frameborder=\"0\" allow=\"autoplay; encrypted-media\" allowfullscreen></iframe>'))\n",
    "display(HTML('<iframe width=\"560\" height=\"315\" src=\"https://www.youtube.com/embed/Stk_mhpNcOo\" frameborder=\"0\" allow=\"autoplay; encrypted-media\" allowfullscreen></iframe>'))\n",
    "display(HTML('<iframe width=\"560\" height=\"315\" src=\"https://www.youtube.com/embed/GVds0q0y5RM\" frameborder=\"0\" allow=\"autoplay; encrypted-media\" allowfullscreen></iframe>'))\n",
    "display(HTML('<iframe width=\"560\" height=\"315\" src=\"https://www.youtube.com/embed/x8Fo2slT2WA\" frameborder=\"0\" allow=\"autoplay; encrypted-media\" allowfullscreen></iframe>'))"
   ]
  },
  {
   "cell_type": "markdown",
   "metadata": {},
   "source": [
    "Acho que você já deve ter imaginado que nessa disciplina não será possível aprender a fazer modelos como os dos exemplos acima... :(\n",
    "\n",
    "Mesmo assim, podemos ver alguns conceitos que estão envolvidos em modelagem.\n",
    "\n",
    "## Números aleatórios entre 0 e 1\n",
    "\n",
    "Em simulações, muitas vezes precisamos de um gerador de números aleatórios. \n",
    "\n",
    "Esses números não são aleatórios de verdade, mas eles tentam *parecer* aleatórios e são chamados de *pseudo-aleatórios*. \n",
    "\n",
    "No fundo, o computador usa alguns dados como por exemplo o horário para gerar esses números. \n",
    "\n",
    "No Python, a biblioteca para gerar esses números é a biblioteca **`random`**.\n",
    "\n",
    "Vamos começar importando essa biblioteca (vamos dar o apelido de **`rd`** para ela): "
   ]
  },
  {
   "cell_type": "code",
   "execution_count": null,
   "metadata": {},
   "outputs": [],
   "source": [
    "import random as rd"
   ]
  },
  {
   "cell_type": "markdown",
   "metadata": {},
   "source": [
    "Para criar um número entre 0 e 1 usamos a função **`random()`**:"
   ]
  },
  {
   "cell_type": "code",
   "execution_count": null,
   "metadata": {},
   "outputs": [],
   "source": [
    "print(rd.random())"
   ]
  },
  {
   "cell_type": "markdown",
   "metadata": {},
   "source": [
    "### Faça você mesmo!\n",
    "\n",
    "Execute a célula acima várias vezes."
   ]
  },
  {
   "cell_type": "markdown",
   "metadata": {},
   "source": [
    "Como você pode ver, cada vez que executamos `rd.random()`, criamos um número diferente entre 0 e 1.\n",
    "\n",
    "Informalmente, a intuição por trás dessa função `rd.random()` é que qualquer número entre 0 e 1 tem (aproximadamente) a mesma chance (probabilidade) de ser escolhido.\n",
    "\n",
    "Então qual é a chance do número escolhido ser menor do que 0.5? \n",
    "\n",
    "Bom, a chance é (aproximadamente) 0.5 (que é o mesmo que 50%). \n",
    "\n",
    "Por quê?\n",
    "\n",
    "Porque metade dos números entre 0 e 1 estão abaixo de 0.5.\n",
    "\n",
    "E qual a chance de ser menor que 0.6?\n",
    "\n",
    "A chance é (aproximadamente) 0.6, que é o mesmo que 60%, pois 60% dos números entre 0 e 1 estão abaixo de 0.6.\n",
    "\n",
    "Então podemos simular o lançamento de uma moeda que dá `Cara` com 60% de chance e `Coroa` com 40% de chance:"
   ]
  },
  {
   "cell_type": "code",
   "execution_count": null,
   "metadata": {},
   "outputs": [],
   "source": [
    "numAleatorio = rd.random()\n",
    "if numAleatorio < 0.6:\n",
    "    print(\"Cara\")\n",
    "else:\n",
    "    print(\"Coroa\")"
   ]
  },
  {
   "cell_type": "markdown",
   "metadata": {},
   "source": [
    "### Faça você mesmo!\n",
    "Execute a célula acima várias vezes para observar os diferentes resultados."
   ]
  },
  {
   "cell_type": "markdown",
   "metadata": {},
   "source": [
    "Será que o resultado é `Cara` em aproximadamente 60% das vezes mesmo?\n",
    "\n",
    "Vamos executar o código acima **1000** vezes e ver se `Cara` acontece cerca de 60% das vezes (ou seja, perto de 600 vezes)?\n",
    "\n",
    "Para isso, vamos usar um laço `for` e contar o número de caras e coroas:"
   ]
  },
  {
   "cell_type": "code",
   "execution_count": null,
   "metadata": {},
   "outputs": [],
   "source": [
    "numCaras = 0\n",
    "numCoroas = 0\n",
    "\n",
    "for i in range(1000):\n",
    "    numAleatorio = rd.random()\n",
    "    if (numAleatorio < 0.6):\n",
    "        numCaras = numCaras + 1\n",
    "    else:\n",
    "        numCoroas = numCoroas + 1\n",
    "        \n",
    "print(\"Número de caras:\", numCaras)\n",
    "print(\"Número de coroas:\", numCoroas)"
   ]
  },
  {
   "cell_type": "markdown",
   "metadata": {},
   "source": [
    "O que você acha? Foi próximo o suficiente de 60%? (Esperamos que sim!)"
   ]
  },
  {
   "cell_type": "markdown",
   "metadata": {},
   "source": [
    "O Python também fornece a função **`rd.randint()`**, que aleatoriamente gera números inteiros dentro de um intervalo.\n",
    "\n",
    "Similar à geração de números entre 0 e 1, cada número do intervalo tem a mesma chance de ser gerado.\n",
    "\n",
    "O comando na célula a seguir sorteia um número entre 1 e 6.\n",
    "\n",
    "Ele é basicamente o resultado de um dado!\n",
    "\n",
    "Execute-o várias vezes para ver o que acontece:"
   ]
  },
  {
   "cell_type": "code",
   "execution_count": null,
   "metadata": {},
   "outputs": [],
   "source": [
    "print(rd.randint(1,6))"
   ]
  },
  {
   "cell_type": "markdown",
   "metadata": {},
   "source": [
    "Podemos usar **`randint`** para fazer um jogador-automático de par ou ímpar.\n",
    "\n",
    "Em cada rodada, o computador escolhe um número entre 1 e 10 e o usuário digita um número entre 1 e 10. \n",
    "\n",
    "O usuário ganha se a soma for par (digamos que ele sempre aposta no par):"
   ]
  },
  {
   "cell_type": "code",
   "execution_count": null,
   "metadata": {},
   "outputs": [],
   "source": [
    "numJogador = int(input(\"Digite o seu número: \"))\n",
    "numComputador = rd.randint(1, 10)\n",
    "\n",
    "print(\"O meu número é\", numComputador)\n",
    "\n",
    "if (numJogador + numComputador) % 2 == 0:\n",
    "    print(\"Deu par! Você ganhou!\")\n",
    "else:\n",
    "    print(\"Deu ímpar! Você perdeu!\")"
   ]
  },
  {
   "cell_type": "markdown",
   "metadata": {},
   "source": [
    "## Simulando movimentos\n",
    "\n",
    "Por fim, que tal uma simulação de Física?\n",
    "\n",
    "Suponha que uma partícula tem o seguinte comportamento:\n",
    "* Ela vai andar em uma superfície começando em um ponto de origem $(0,0)$.\n",
    "* Ela vai andar 50 passos, sendo um passo por segundo.\n",
    "* A cada passo ela vai andar em linha reta para cima, baixo, direita ou esquerda.\n",
    "* Ela escolhe, para cada passo, uma velocidade aleatória entre 1 e 5 metros por segundo e uma direção aleatória."
   ]
  },
  {
   "cell_type": "markdown",
   "metadata": {},
   "source": [
    "Primeira decisão: como simular a escolha da direção aleatória?\n",
    "\n",
    "Podemos usar `randint(1, 4)`, que gera algum número entre 1 e 4, sendo que vamos determinar que o número 1 indica o movimento para cima, 2 indica para baixo, 3 indica para a direita e 4 indica para a esquerda:"
   ]
  },
  {
   "cell_type": "code",
   "execution_count": null,
   "metadata": {},
   "outputs": [],
   "source": [
    "direcao = rd.randint(1,4)\n",
    "if direcao == 1:\n",
    "    print(\"cima\")\n",
    "elif direcao == 2:\n",
    "    print(\"baixo\")\n",
    "elif direcao == 3:\n",
    "    print(\"direita\")\n",
    "else:\n",
    "    print(\"esquerda\")"
   ]
  },
  {
   "cell_type": "markdown",
   "metadata": {},
   "source": [
    "Segunda decisão: como simular a escolha da velocidade?\n",
    "\n",
    "Podemos usar a função `uniform(1, 5)` para escolher um número que não necessariamente vai ser um inteiro (mas vai ser um número entre 1 e 5):"
   ]
  },
  {
   "cell_type": "code",
   "execution_count": null,
   "metadata": {},
   "outputs": [],
   "source": [
    "velocidade = rd.uniform(1,5)\n",
    "print(velocidade)"
   ]
  },
  {
   "cell_type": "markdown",
   "metadata": {},
   "source": [
    "Terceira decisão: como modificar a posição da partícula?\n",
    "\n",
    "Ela inicia na posição $(0,0)$, mas a cada segunda anda para uma direção a uma certa velocidade.\n",
    "\n",
    "Se a partícula está na posição $(x,y)$ e ela vai andar para cima por $1$ segundo a $2 m/s$, para onde ela irá?\n",
    "\n",
    "Bom, andar para cima significa modificar o valor do eixo $y$ (aumentando-o) e ficar parado no eixo $x$.\n",
    "\n",
    "Como a velocidade é $2 m/s$, vamos parar em $(x,y+2)$.\n",
    "\n",
    "E se a direção fosse para baixo?\n",
    "\n",
    "Nesse caso ficaríamos em $(x,y-2)$ (diminuímos o $y$).\n",
    "\n",
    "No código a seguir vamos simular os 50 passos da partícula e observar isso em um gráfico:"
   ]
  },
  {
   "cell_type": "code",
   "execution_count": null,
   "metadata": {},
   "outputs": [],
   "source": [
    "import matplotlib.pyplot as plt\n",
    "%matplotlib inline\n",
    "\n",
    "# posicao inicial:\n",
    "x = 0 \n",
    "y = 0\n",
    "# marcando a posição inical para observar graficamente o movimento:\n",
    "# a opção 'bo' indica que o gráfico terá círculos azuis (blue)\n",
    "plt.plot(x, y, 'bo')\n",
    "\n",
    "for i in range(1,50):\n",
    "    # escolhe uma velocidade e direção para andar:\n",
    "    velocidade = rd.uniform(1, 5)\n",
    "    direcao = rd.randint(1, 4)\n",
    "    \n",
    "    if direcao == 1: #cima\n",
    "        y = y + velocidade\n",
    "    elif direcao == 2: # baixo\n",
    "        y = y - velocidade\n",
    "    elif direcao == 3: # direita\n",
    "        x = x + velocidade\n",
    "    else: # esquerda\n",
    "        x = x - velocidade\n",
    "    # marcando a nova posição para observar no gráfico:\n",
    "    plt.plot(x, y, 'bo')"
   ]
  },
  {
   "cell_type": "markdown",
   "metadata": {},
   "source": [
    "O problema do gráfico a cima é que não dá para ter ideia da trajetória em si que a partícula tomou (podemos saber por quais pontos ela passou apenas, mas não a ordem entre eles).\n",
    "\n",
    "O ideal seria colocar uma linha ligando os pontos, indicando a ordem.\n",
    "\n",
    "Uma forma de fazer isso delas é lembrar qual é a posição anterior e juntá-la com a seguinte.\n",
    "\n",
    "Isso está sendo feito no código abaixo:"
   ]
  },
  {
   "cell_type": "code",
   "execution_count": null,
   "metadata": {},
   "outputs": [],
   "source": [
    "import matplotlib.pyplot as plt\n",
    "%matplotlib inline\n",
    "\n",
    "# posicao inicial:\n",
    "xAtual = 0                                  \n",
    "yAtual = 0\n",
    "# marcando a posição inicial:\n",
    "plt.plot(xAtual, yAtual, 'bo')\n",
    "\n",
    "for i in range(1,50):\n",
    "    # salva a posição atual antes de gerar a nova\n",
    "    xAnterior = xAtual \n",
    "    yAnterior = yAtual\n",
    "    \n",
    "    # escolhe uma velocidade e direção para andar:\n",
    "    velocidade = rd.uniform(1,5)\n",
    "    direcao = rd.randint(1,4)\n",
    "    \n",
    "    if direcao == 1: # cima\n",
    "        yAtual = yAtual + velocidade\n",
    "    elif direcao == 2: # baixo\n",
    "        yAtual = yAtual - velocidade\n",
    "    elif direcao == 3: # direita\n",
    "        xAtual = xAtual + velocidade\n",
    "    else: # esquerda\n",
    "        xAtual = xAtual - velocidade\n",
    "        \n",
    "    # a opção 'bo-' serve para indicar que queremos as linhas entre os círculos azuis:\n",
    "    plt.plot((xAnterior, xAtual), (yAnterior, yAtual), 'bo-')"
   ]
  }
 ],
 "metadata": {
  "anaconda-cloud": {},
  "kernelspec": {
   "display_name": "Python 3",
   "language": "python",
   "name": "python3"
  },
  "language_info": {
   "codemirror_mode": {
    "name": "ipython",
    "version": 3
   },
   "file_extension": ".py",
   "mimetype": "text/x-python",
   "name": "python",
   "nbconvert_exporter": "python",
   "pygments_lexer": "ipython3",
   "version": "3.5.2"
  }
 },
 "nbformat": 4,
 "nbformat_minor": 1
}
