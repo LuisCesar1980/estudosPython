{
 "cells": [
  {
   "cell_type": "markdown",
   "metadata": {},
   "source": [
    "# Meu primeiro notebook\n",
    "\n",
    "<br>\n",
    "\n",
    "<font size=\"4\"><p>É assim que todo notebook se parece: temos células com texto ou com código.</p>\n",
    "    \n",
    "<p>Essa é uma célula de texto.</p>\n",
    "\n",
    "<p>As células a seguir, que começam com `In [ ]:`, são células de código.</p>\n",
    "\n",
    "<p>Você sempre pode (e deve) executar qualquer código que apareça dentro de uma célula de código. </p>\n",
    "\n",
    "<p>Para isso, basta clicar na célula e digitar `SHIFT+ENTER`.</p>\n",
    "\n",
    "<p>Clique em cada célula abaixo e digite `SHIFT+ENTER` e veja o que acontece!</p></font>"
   ]
  },
  {
   "cell_type": "code",
   "execution_count": 2,
   "metadata": {},
   "outputs": [
    {
     "name": "stdout",
     "output_type": "stream",
     "text": [
      "Hello World!\n"
     ]
    }
   ],
   "source": [
    "print(\"Hello World!\")"
   ]
  },
  {
   "cell_type": "code",
   "execution_count": 3,
   "metadata": {},
   "outputs": [
    {
     "name": "stdout",
     "output_type": "stream",
     "text": [
      "8\n"
     ]
    }
   ],
   "source": [
    "print(3+5)"
   ]
  },
  {
   "cell_type": "code",
   "execution_count": 4,
   "metadata": {},
   "outputs": [
    {
     "name": "stdout",
     "output_type": "stream",
     "text": [
      "24\n"
     ]
    }
   ],
   "source": [
    "print(4*6)"
   ]
  },
  {
   "cell_type": "code",
   "execution_count": 5,
   "metadata": {},
   "outputs": [
    {
     "name": "stdout",
     "output_type": "stream",
     "text": [
      "3.0\n"
     ]
    }
   ],
   "source": [
    "print(12/4)"
   ]
  },
  {
   "cell_type": "markdown",
   "metadata": {},
   "source": [
    "<font size=4><p>Note que se você digitar apenas `ENTER` em uma célula de código, uma nova linha será criada.</p>\n",
    "    \n",
    "<p>Volte nas células acima e faça um teste!</p>\n",
    "\n",
    "<hr>\n",
    "\n",
    "<h3>Faça você mesmo!</h3>\n",
    "\n",
    "<p>Modifique o código a seguir para que seu nome seja impresso.</p>"
   ]
  },
  {
   "cell_type": "code",
   "execution_count": 6,
   "metadata": {},
   "outputs": [
    {
     "name": "stdout",
     "output_type": "stream",
     "text": [
      "Luis Cesar Gonçalves!\n"
     ]
    }
   ],
   "source": [
    "print(\"Luis Cesar Gonçalves!\")"
   ]
  },
  {
   "cell_type": "markdown",
   "metadata": {},
   "source": [
    "<hr>\n",
    "\n",
    "<font size=4><p>Todos os notebooks que usaremos nesse curso serão dessa forma: textos explicativos e códigos para que você execute, modifique e entenda os conceitos.</p>\n",
    "    \n",
    "<p>Por isso, é sempre importante <b>salvar</b> o arquivo toda vez que você fizer uma modificação.</p>\n",
    "\n",
    "<p>Você pode fazer isso clicando no primeiro ícone ao topo da tela ou então clicando em `File > Save and Checkpoint`.</p>\n",
    "\n",
    "<p>Pronto, agora você está apto a realizar todas as atividades práticas dessa disciplina!</p>\n",
    "</font>"
   ]
  }
 ],
 "metadata": {
  "kernelspec": {
   "display_name": "Python 3 (ipykernel)",
   "language": "python",
   "name": "python3"
  },
  "language_info": {
   "codemirror_mode": {
    "name": "ipython",
    "version": 3
   },
   "file_extension": ".py",
   "mimetype": "text/x-python",
   "name": "python",
   "nbconvert_exporter": "python",
   "pygments_lexer": "ipython3",
   "version": "3.12.4"
  }
 },
 "nbformat": 4,
 "nbformat_minor": 4
}
