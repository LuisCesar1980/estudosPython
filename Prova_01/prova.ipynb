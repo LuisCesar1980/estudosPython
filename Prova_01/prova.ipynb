{
 "cells": [
  {
   "cell_type": "markdown",
   "metadata": {},
   "source": [
    "<font size=4>\n",
    "<h1>Prova</h1>\n",
    "    \n",
    "<p>Leia atentamente as instruções a seguir. Elas fazem parte da prova:</p>\n",
    "\n",
    "<ul>\n",
    "    <li>Desligue seu celular e guarde em sua bolsa.</li>\n",
    "    <li>Salve seu trabalho frequentemente.</li>\n",
    "    <li>Ao término, salve e submeta este arquivo ao tidia na atividade Prova, da mesma forma como é feito nas listas de exercícios.</li>\n",
    "    <li>A compreensão e interpretação do enunciado é parte integrante da avaliação.</li>\n",
    "    <li>Não é permitida a consulta a nenhum material online (Internet) nem offline (cadernos, livros, etc.) e nem a colegas.</li>\n",
    "    <li>Em caso de fraude, **todos** os envolvidos receberão **nota final zero** na disciplina, sem prejuı́zo de outras sanções.</li>\n",
    "</ul>\n",
    "\n",
    "<p>Critério de correção de cada exercı́cio: 0 se incorreto e/ou não executa; 0.5 se correto e executa mas não segue os padrões de submissão (**leia com atenção como deve ser a saı́da: nenhum outro texto deve ser impresso pelo seu programa além do que estiver especificado no campo \"Saı́da\"**); 1 caso contrário. Seu programa está **correto** se funciona para qualquer entrada especificada no campo \"Entrada\" do problema.</p>\n",
    "\n",
    "<p><center>BOA PROVA!</center></p>\n",
    "\n",
    "</font>"
   ]
  },
  {
   "cell_type": "markdown",
   "metadata": {},
   "source": [
    "<h2>Questão 1 (Valor: 2,0)</h2>\n",
    "\n",
    "<p>Faça um programa que leia os valores (decimais) correspondentes aos três lados $a$, $b$ e $c$ de um triângulo. O programa deve então calcular a área $A$ do triângulo utilizando a fórmula de Heron dada a seguir:\n",
    "$$A=\\sqrt{s(s-a)(s-b)(s-c)}$$\n",
    "onde\n",
    "$$s=\\frac{a+b+c}{2}$$\n",
    "</p>\n",
    "\n",
    "<p><b>Entrada:</b> O programa deve receber três números decimais positivos que formam um triângulo.</p>\n",
    "\n",
    "<p><b>Saída:</b> A resposta consiste de um único número decimal, que indica a área do triângulo dado.</p>\n",
    "\n",
    "| Exemplos de ENTRADA | SAÍDA esperada (valor aproximado)     |\n",
    "|---------------------|--------------------|\n",
    "| 3 4 5               | 6.0                |\n",
    "| 15 20.3 7.8         | 49.25              |\n",
    "| 3.14 2.71 4.2       | 4.25               |\n",
    "| 42 42 42            | 763.83              |"
   ]
  },
  {
   "cell_type": "code",
   "execution_count": 1,
   "metadata": {},
   "outputs": [
    {
     "name": "stdout",
     "output_type": "stream",
     "text": [
      "Entre com o valor do lado A do triângulo: 15\n",
      "Entre com o valor do lado B do triângulo: 20.3\n",
      "Entre com o valor do lado C do triângulo: 7.8\n",
      "\n",
      "O valor da área do triângulo é  49.25503622727315\n"
     ]
    }
   ],
   "source": [
    "a = float(input(\"Entre com o valor do lado A do triângulo: \"))\n",
    "b = float(input(\"Entre com o valor do lado B do triângulo: \"))\n",
    "c = float(input(\"Entre com o valor do lado C do triângulo: \"))\n",
    "\n",
    "s = (a + b + c) / 2\n",
    "\n",
    "area = (s*(s-a)*(s-b)*(s-c))**0.5\n",
    "\n",
    "print(\"\")\n",
    "print(\"O valor da área do triângulo é \",area)\n",
    "    "
   ]
  },
  {
   "cell_type": "markdown",
   "metadata": {},
   "source": [
    "<h2>Questão 2 (Valor: 2,0)</h2>\n",
    "\n",
    "<p>Leia quatro números ($N_1$, $N_2$, $N_3$, $N_4$), que correspondem às quatro notas de um aluno. Calcule a média com pesos 2, 3, 4 e 1 para cada uma destas notas, respectivamente, e mostre esta média acompanhada pela mensagem ``Media: ``. Se esta média for maior ou igual a 7.0, imprima também a mensagem ``Aluno aprovado.``. Se a média calculada for inferior a 5.0, imprima a mensagem ``Aluno reprovado.``. Se a média calculada for um valor entre 5.0 e 6.9, inclusive estes, o programa deve imprimir a mensagem ``Aluno em exame.``. Cada mensagem deve ser impressa em uma única linha (veja os exemplos).</p>\n",
    "\n",
    "<p>No caso do aluno estar em exame (e apenas nesse caso), leia ainda um valor correspondente à nota do exame obtida pelo aluno. Imprima então a mensagem ``Nota do exame: `` acompanhada pela nota digitada. Recalcule a média (some a pontuação do exame com a média anteriormente calculada e divida por 2) e imprima a mensagem ``Aluno aprovado.``,  caso a média final seja 5.0 ou mais, ou ``Aluno reprovado.``, caso a média tenha ficado menor do que 5.0. Para estes dois casos (aprovado ou reprovado após ter pego exame), apresente na última linha uma mensagem  ``Media final: `` seguida da média final para esse aluno.</p>\n",
    "\n",
    "<p><b>Entrada:</b> A entrada inicialmente consiste de quatro números reais $N_1$, $N_2$, $N_3$, $N_4$ indicando as quatro notas de um aluno. Ela pode ser seguida de um quinto número real que indica a nota obtida pelo aluno no exame.</p>\n",
    "\n",
    "<p><b>Saída:</b> As mensagens devem ser impressas conforme a descrição do problema. Não esqueça de imprimir uma mensagem por linha apenas.</p>\n",
    "\n",
    "| Exemplo de entrada | Saída esperada |\n",
    "|--------------------|----------------|\n",
    "| 2.0 4.0 7.5 8.0    | Media: 5.4     |\n",
    "| 6.4                | Aluno em exame.|\n",
    "|                    | Nota do exame: 6.4 |\n",
    "|                    | Aluno aprovado.|\n",
    "|                    | Media final: 5.9 |\n",
    "\n",
    "| Exemplo de entrada | Saída esperada |\n",
    "|--------------------|----------------|\n",
    "| 2.0 6.5 4.0 9.0    | Media: 4.8     |\n",
    "|                    | Aluno reprovado. |\n",
    "\n",
    "| Exemplo de entrada | Saída esperada |\n",
    "|--------------------|----------------|\n",
    "| 9.0 4.0 8.5 9.0    | Media: 7.3     |\n",
    "|                    | Aluno aprovado.|\n"
   ]
  },
  {
   "cell_type": "code",
   "execution_count": 2,
   "metadata": {},
   "outputs": [
    {
     "name": "stdout",
     "output_type": "stream",
     "text": [
      "Entre com o valor da prova 1: 9\n",
      "Entre com o valor da prova 2: 4\n",
      "Entre com o valor da prova 3: 8.5\n",
      "Entre com o valor da prova 4: 9\n",
      "Média:  7.300000000000001\n",
      "Aluno aprovado.\n"
     ]
    },
    {
     "ename": "NameError",
     "evalue": "name 'media2' is not defined",
     "output_type": "error",
     "traceback": [
      "\u001b[1;31m---------------------------------------------------------------------------\u001b[0m",
      "\u001b[1;31mNameError\u001b[0m                                 Traceback (most recent call last)",
      "\u001b[1;32m<ipython-input-2-6bb6a09b96a3>\u001b[0m in \u001b[0;36m<module>\u001b[1;34m()\u001b[0m\n\u001b[0;32m     23\u001b[0m     \u001b[0mmedia2\u001b[0m \u001b[1;33m=\u001b[0m \u001b[1;33m(\u001b[0m\u001b[0mmedia\u001b[0m \u001b[1;33m+\u001b[0m \u001b[0mexame\u001b[0m\u001b[1;33m)\u001b[0m \u001b[1;33m/\u001b[0m \u001b[1;36m2\u001b[0m\u001b[1;33m\u001b[0m\u001b[0m\n\u001b[0;32m     24\u001b[0m \u001b[1;33m\u001b[0m\u001b[0m\n\u001b[1;32m---> 25\u001b[1;33m \u001b[1;32mif\u001b[0m\u001b[1;33m(\u001b[0m\u001b[0mmedia2\u001b[0m \u001b[1;33m>=\u001b[0m \u001b[1;36m5.0\u001b[0m\u001b[1;33m)\u001b[0m\u001b[1;33m:\u001b[0m\u001b[1;33m\u001b[0m\u001b[0m\n\u001b[0m\u001b[0;32m     26\u001b[0m     \u001b[0mprint\u001b[0m\u001b[1;33m(\u001b[0m\u001b[1;34m\"\"\u001b[0m\u001b[1;33m)\u001b[0m\u001b[1;33m\u001b[0m\u001b[0m\n\u001b[0;32m     27\u001b[0m     \u001b[0mprint\u001b[0m\u001b[1;33m(\u001b[0m\u001b[1;34m\"Média: \"\u001b[0m\u001b[1;33m,\u001b[0m \u001b[0mmedia\u001b[0m\u001b[1;33m)\u001b[0m\u001b[1;33m\u001b[0m\u001b[0m\n",
      "\u001b[1;31mNameError\u001b[0m: name 'media2' is not defined"
     ]
    }
   ],
   "source": [
    "p1 = float(input(\"Entre com o valor da prova 1: \"))\n",
    "p2 = float(input(\"Entre com o valor da prova 2: \"))\n",
    "p3 = float(input(\"Entre com o valor da prova 3: \"))\n",
    "p4 = float(input(\"Entre com o valor da prova 4: \"))\n",
    "\n",
    "nota1 = p1 * 0.2\n",
    "nota2 = p2 * 0.3\n",
    "nota3 = p3 * 0.4\n",
    "nota4 = p4 * 0.1\n",
    "\n",
    "media = (nota1 + nota2 + nota3 + nota4)\n",
    "\n",
    "\n",
    "if(media >= 7.0):\n",
    "    print(\"Média: \", media)\n",
    "    print(\"Aluno aprovado.\")\n",
    "elif(media < 5):\n",
    "    print(\"Média: \", media)\n",
    "    print(\"Aluno reprovado\")\n",
    "elif(media >= 5 and media <= 6.9):\n",
    "    print(\"\")\n",
    "    exame = float(input(\"Entre com a nota do Exame: \"))\n",
    "    media2 = (media + exame) / 2\n",
    "        \n",
    "if(media2 >= 5.0):\n",
    "    print(\"\")\n",
    "    print(\"Média: \", media)\n",
    "    print(\"Aluno em exame.\")\n",
    "    print(\"Nota do exame: \",exame)\n",
    "    print(\"Aluno aprovado.\")\n",
    "    print(\"Média final: \",media2)\n",
    "else:\n",
    "    print(\"\")\n",
    "    print(\"Média: \", media)\n",
    "    print(\"Aluno em exame.\")\n",
    "    print(\"Nota do exame: \",exame)\n",
    "    print(\"Aluno reprovado.\")\n",
    "    print(\"Média final: \",media2)\n",
    "            \n",
    "    \n"
   ]
  },
  {
   "cell_type": "markdown",
   "metadata": {},
   "source": [
    "<h2>Questão 3 (Valor: 3.0)</h2>\n",
    "\n",
    "<p>Um número inteiro positivo é dito perfeito se a soma dos seus divisores positivos (excluindo ele mesmo) é igual ao próprio número. Por exemplo, 6 é perfeito pois $1+2+3=6$. Faça um programa que determine se um dado número é perfeito. Lembre-se que os divisores de um número $n$ são todos os números entre $1$ e $n$ que dividem $n$ de forma exata (sem resto).</p>\n",
    "\n",
    "<p><b>Entrada:</b> O programa deve receber um único número inteiro $n$, com $n \\geq 1$.</p>\n",
    "\n",
    "<p><b>Saída:</b> A resposta consistirá de uma única linha, contendo a palavra `Sim`, se $n$ for perfeito, e `Não`, caso contrário.</p>"
   ]
  },
  {
   "cell_type": "code",
   "execution_count": null,
   "metadata": {},
   "outputs": [],
   "source": [
    "n = int(input(\"Entre com o número inteiro: \"))"
   ]
  },
  {
   "cell_type": "markdown",
   "metadata": {},
   "source": [
    "<h2>Questão 4 (Valor: 3.0)</h2>\n",
    "\n",
    "<p>Considere o seguinte algoritmo:</p>\n",
    "<code>\n",
    "(1) receba um número n\n",
    "(2) se n for 1, então pare\n",
    "(3) se n for ímpar, então faça n = 3*n+1\n",
    "(4) senão, faça n = n/2\n",
    "(5) vá para a linha (2)\n",
    "</code>\n",
    "\n",
    "<p>Por exemplo, quando $n=22$ é lido, a seguinte sequência de números será gerada: ``22 11 34 17 52 26 13 40 20 10 5 16 8 4 2 1``.</p>\n",
    "\n",
    "<p>Há uma conjectura de que o algoritmo acima irá terminar (ou seja, o número 1 será gerado) para qualquer\n",
    "valor $n$ positivo. Desconsiderando a simplicidade do algoritmo, não é sabido se a conjectura é\n",
    "verdadeira. Ela foi verificada, no entanto, para todos os inteiros $n$ tais que $0 < n < 1.000.000$ (e, de fato, para muito mais números maiores que isto).</p>\n",
    "\n",
    "<p>Dado um valor $n$, é possível determinar a quantidade de números gerados na sequência (incluindo o 1). Para um dado $n$, isto é chamado *tamanho cíclico* de $n$. No exemplo anterior, o tamanho cíclico de 22 é 16.</p>\n",
    "\n",
    "<p>Para quaisquer dois números $i$ e $j$, você deve determinar o tamanho cíclico de todos os números entre $i$ e $j$ *inclusive ambos* (ou seja, para todo $n$ tal que $i \\leq n \\leq j$).</p>\n",
    "    \n",
    "<p><b>Entrada:</b> O programa deve receber dois números inteiros $i$ e $j$, com $0 < i \\leq j \\leq 10.000$.</p>\n",
    "\n",
    "<p><b>Saída:</b> A resposta consistirá de $j-i+1$ linhas, uma para cada número $n$ entre $i$ e $j$ (inclusive). Cada linha deve conter dois números: o $n$ e o tamanho cíclico de $n$.</p>\n",
    "\n",
    "| Exemplo de entrada | Saída esperada |\n",
    "|--------------------|----------------|\n",
    "| 10 22              |  10 7  | \n",
    "|                    |  11 15 | \n",
    "|                    |  12 10 | \n",
    "|                    |  13 10 | \n",
    "|                    |  14 18 | \n",
    "|                    |  15 18 | \n",
    "|                    |  16 5  | \n",
    "|                    |  17 13 | \n",
    "|                    |  18 21 | \n",
    "|                    |  19 21 | \n",
    "|                    |  20 8  | \n",
    "|                    |  21 8  | \n",
    "|                    |  22 16 | "
   ]
  },
  {
   "cell_type": "code",
   "execution_count": null,
   "metadata": {},
   "outputs": [],
   "source": []
  }
 ],
 "metadata": {
  "kernelspec": {
   "display_name": "Python 3",
   "language": "python",
   "name": "python3"
  },
  "language_info": {
   "codemirror_mode": {
    "name": "ipython",
    "version": 3
   },
   "file_extension": ".py",
   "mimetype": "text/x-python",
   "name": "python",
   "nbconvert_exporter": "python",
   "pygments_lexer": "ipython3",
   "version": "3.6.5"
  }
 },
 "nbformat": 4,
 "nbformat_minor": 1
}
