{
 "cells": [
  {
   "cell_type": "markdown",
   "metadata": {},
   "source": [
    "# Prova\n",
    "    \n",
    "Leia atentamente as instruções a seguir. Elas fazem parte da prova:\n",
    "\n",
    "*  Desligue seu celular e guarde em sua bolsa.\n",
    "*  Salve seu trabalho frequentemente.\n",
    "*  Ao término, salve e submeta este arquivo ao tidia na atividade Prova, da mesma forma como é feito nas listas de exercícios.\n",
    "*  A compreensão e interpretação do enunciado é parte integrante da avaliação.\n",
    "*  Não é permitida a consulta a nenhum material online (Internet) nem offline (cadernos, livros, etc.) e nem a colegas.\n",
    "*  Em caso de fraude, **todos** os envolvidos receberão **nota final zero** na disciplina, sem prejuı́zo de outras sanções.\n",
    "\n",
    "Critério de correção de cada exercı́cio: 0 se incorreto e/ou não executa; 0.5 se correto e executa mas não segue os padrões de submissão (**leia com atenção como deve ser a saı́da: nenhum outro texto deve ser impresso pelo seu programa além do que estiver especificado no campo \"Saı́da\"**); 1 caso contrário. Seu programa está **correto** se funciona para qualquer entrada especificada no campo \"Entrada\" do problema.\n",
    "\n",
    "***\n",
    "\n",
    "<center>**_BOA PROVA!_**</center>\n",
    "\n",
    "***"
   ]
  },
  {
   "cell_type": "markdown",
   "metadata": {},
   "source": [
    "## Questão 1 (Valor: 2,0)\n",
    "\n",
    "Faça um programa que leia os valores (decimais) correspondentes aos três lados $a$, $b$ e $c$ de um triângulo. O programa deve então calcular a área $A$ do triângulo utilizando a fórmula de Heron dada a seguir:\n",
    "$$A=\\sqrt{s(s-a)(s-b)(s-c)}$$\n",
    "onde\n",
    "$$s=\\frac{a+b+c}{2}$$\n",
    "\n",
    "**Entrada:** O programa deve receber três números decimais positivos que formam um triângulo.\n",
    "\n",
    "**Saída:** A resposta consiste de um único número decimal, que indica a área do triângulo dado.\n",
    "\n",
    "| Exemplos de ENTRADA | SAÍDA esperada (valor aproximado)     |\n",
    "|---------------------|--------------------|\n",
    "| 3 4 5               | 6.0                |\n",
    "| 15 20.3 7.8         | 49.25              |\n",
    "| 3.14 2.71 4.2       | 4.25               |\n",
    "| 42 42 42            | 763.83              |"
   ]
  },
  {
   "cell_type": "code",
   "execution_count": 2,
   "metadata": {},
   "outputs": [
    {
     "name": "stdout",
     "output_type": "stream",
     "text": [
      "Digite o valor do primeiro lado: 15\n",
      "Digite o valor do segundo lado: 20.3\n",
      "Digite o valor do terceiro lado: 7.8\n",
      "49.25503622727315\n"
     ]
    }
   ],
   "source": [
    "a = float(input(\"Digite o valor do primeiro lado: \"))\n",
    "b = float(input(\"Digite o valor do segundo lado: \"))\n",
    "c = float(input(\"Digite o valor do terceiro lado: \"))\n",
    "\n",
    "s = (a + b + c)/2\n",
    "A = (s * (s-a) * (s-b) * (s-c))**0.5\n",
    "\n",
    "print(A)"
   ]
  },
  {
   "cell_type": "markdown",
   "metadata": {},
   "source": [
    "## Questão 2 (Valor: 2,0)\n",
    "\n",
    "Leia quatro números ($N_1$, $N_2$, $N_3$, $N_4$), que correspondem às quatro notas de um aluno. Calcule a média com pesos 2, 3, 4 e 1 para cada uma destas notas, respectivamente, e mostre esta média acompanhada pela mensagem `Media: `. Se esta média for maior ou igual a 7.0, imprima também a mensagem `Aluno aprovado.`. Se a média calculada for inferior a 5.0, imprima a mensagem `Aluno reprovado.`. Se a média calculada for um valor entre 5.0 e 6.9, inclusive estes, o programa deve imprimir a mensagem `Aluno em exame.`. Cada mensagem deve ser impressa em uma única linha (veja os exemplos).\n",
    "\n",
    "No caso do aluno estar em exame (e apenas nesse caso), leia ainda um valor correspondente à nota do exame obtida pelo aluno. Imprima então a mensagem ``Nota do exame: `` acompanhada pela nota digitada. Recalcule a média (some a pontuação do exame com a média anteriormente calculada e divida por 2) e imprima a mensagem ``Aluno aprovado.``,  caso a média final seja 5.0 ou mais, ou ``Aluno reprovado.``, caso a média tenha ficado menor do que 5.0. Para estes dois casos (aprovado ou reprovado após ter pego exame), apresente na última linha uma mensagem  ``Media final: `` seguida da média final para esse aluno.\n",
    "\n",
    "**Entrada:** A entrada inicialmente consiste de quatro números reais $N_1$, $N_2$, $N_3$, $N_4$ indicando as quatro notas de um aluno. Ela pode ser seguida de um quinto número real que indica a nota obtida pelo aluno no exame.\n",
    "\n",
    "**Saída:** As mensagens devem ser impressas conforme a descrição do problema. Não esqueça de imprimir uma mensagem por linha apenas.\n",
    "\n",
    "| Exemplo de entrada | Saída esperada |\n",
    "|--------------------|----------------|\n",
    "| 2.0 4.0 7.5 8.0    | Media: 5.4     |\n",
    "| 6.4                | Aluno em exame.|\n",
    "|                    | Nota do exame: 6.4 |\n",
    "|                    | Aluno aprovado.|\n",
    "|                    | Media final: 5.9 |\n",
    "\n",
    "| Exemplo de entrada | Saída esperada |\n",
    "|--------------------|----------------|\n",
    "| 2.0 6.5 4.0 9.0    | Media: 4.8     |\n",
    "|                    | Aluno reprovado. |\n",
    "\n",
    "| Exemplo de entrada | Saída esperada |\n",
    "|--------------------|----------------|\n",
    "| 9.0 4.0 8.5 9.0    | Media: 7.3     |\n",
    "|                    | Aluno aprovado.|\n"
   ]
  },
  {
   "cell_type": "code",
   "execution_count": 2,
   "metadata": {},
   "outputs": [
    {
     "name": "stdout",
     "output_type": "stream",
     "text": [
      "Digite a nota da primeira prova: 9\n",
      "Digite a nota da segunda prova: 4\n",
      "Digite a nota da terceira prova: 8.5\n",
      "Digite a nota da quarta prova: 9\n",
      "Media: 7.3\n",
      "Aluno aprovado.\n"
     ]
    }
   ],
   "source": [
    "n1 = float(input(\"Digite a nota da primeira prova: \"))\n",
    "n2 = float(input(\"Digite a nota da segunda prova: \"))\n",
    "n3 = float(input(\"Digite a nota da terceira prova: \"))\n",
    "n4 = float(input(\"Digite a nota da quarta prova: \"))\n",
    "\n",
    "# numa média ponderada, dividimos pela soma dos pesos, que no caso é 10\n",
    "media = (2*n1 + 3*n2 + 4*n3 + 1*n4)/10 \n",
    "print(\"Media:\", media)\n",
    "\n",
    "if media >= 7:\n",
    "    print(\"Aluno aprovado.\")\n",
    "elif media < 5:\n",
    "    print(\"Aluno reprovado.\")\n",
    "else:\n",
    "    print(\"Aluno em exame.\")\n",
    "    exame = float(input(\"Digite a nota do exame: \"))\n",
    "    media = (media + exame)/2\n",
    "    if media >= 5:\n",
    "        print(\"Aluno aprovado.\")\n",
    "    else:\n",
    "        print(\"Aluno reprovado.\")\n",
    "    print(\"Media final:\", media)"
   ]
  },
  {
   "cell_type": "markdown",
   "metadata": {},
   "source": [
    "## Questão 3 (Valor: 3.0)\n",
    "\n",
    "Um número inteiro positivo é dito perfeito se a soma dos seus divisores positivos (excluindo ele mesmo) é igual ao próprio número. Por exemplo, 6 é perfeito pois $1+2+3=6$. Faça um programa que determine se um dado número é perfeito. Lembre-se que os divisores de um número $n$ são todos os números entre $1$ e $n$ que dividem $n$ de forma exata (sem resto).\n",
    "\n",
    "**Entrada:** O programa deve receber um único número inteiro $n$, com $n \\geq 1$.\n",
    "\n",
    "**Saída:** A resposta consistirá de uma única linha, contendo a palavra `Sim`, se $n$ for perfeito, e `Não`, caso contrário."
   ]
  },
  {
   "cell_type": "code",
   "execution_count": 5,
   "metadata": {},
   "outputs": [
    {
     "name": "stdout",
     "output_type": "stream",
     "text": [
      "Digite um número inteiro maior que 1: 28\n",
      "Sim\n"
     ]
    }
   ],
   "source": [
    "n = int(input(\"Digite um número inteiro maior que 1: \"))\n",
    "\n",
    "soma_div = 0\n",
    "# vamos testar todos os candidatos a dividores do n: os números entre 1 e n-1\n",
    "for i in range(1,n):\n",
    "    # se o número for divisor do n, então some este à variável soma_div\n",
    "    if n % i == 0:\n",
    "        soma_div = soma_div + i\n",
    "    \n",
    "# se o que foi acumulado na soma for igual ao número, temos um número perfeito\n",
    "if soma_div == n:\n",
    "    print(\"Sim\")\n",
    "else:\n",
    "    print(\"Não\")"
   ]
  },
  {
   "cell_type": "markdown",
   "metadata": {},
   "source": [
    "## Questão 4 (Valor: 3.0)\n",
    "\n",
    "Considere o seguinte algoritmo:\n",
    "\n",
    "~~~\n",
    "(1) receba um número n\n",
    "(2) se n for 1, então pare\n",
    "(3) se n for ímpar, então faça n = 3*n+1\n",
    "(4) senão, faça n = n/2\n",
    "(5) vá para a linha (2)\n",
    "~~~\n",
    "\n",
    "Por exemplo, quando $n=22$ é lido, a seguinte sequência de números será gerada: ``22 11 34 17 52 26 13 40 20 10 5 16 8 4 2 1``.\n",
    "\n",
    "Há uma conjectura de que o algoritmo acima irá terminar (ou seja, o número 1 será gerado) para qualquer\n",
    "valor $n$ positivo. Desconsiderando a simplicidade do algoritmo, não é sabido se a conjectura é\n",
    "verdadeira. Ela foi verificada, no entanto, para todos os inteiros $n$ tais que $0 < n < 1.000.000$ (e, de fato, para muito mais números maiores que isto).\n",
    "\n",
    "Dado um valor $n$, é possível determinar a quantidade de números gerados na sequência (incluindo o 1). Para um dado $n$, isto é chamado *tamanho cíclico* de $n$. No exemplo anterior, o tamanho cíclico de 22 é 16.\n",
    "\n",
    "Para quaisquer dois números $i$ e $j$, você deve determinar o tamanho cíclico de todos os números entre $i$ e $j$ *inclusive ambos* (ou seja, para todo $n$ tal que $i \\leq n \\leq j$).\n",
    "    \n",
    "**Entrada:** O programa deve receber dois números inteiros $i$ e $j$, com $0 < i \\leq j \\leq 10.000$.\n",
    "\n",
    "**Saída:** A resposta consistirá de $j-i+1$ linhas, uma para cada número $n$ entre $i$ e $j$ (inclusive). Cada linha deve conter dois números: o $n$ e o tamanho cíclico de $n$.\n",
    "\n",
    "| Exemplo de entrada | Saída esperada |\n",
    "|--------------------|----------------|\n",
    "| 10 22              |  10 7  | \n",
    "|                    |  11 15 | \n",
    "|                    |  12 10 | \n",
    "|                    |  13 10 | \n",
    "|                    |  14 18 | \n",
    "|                    |  15 18 | \n",
    "|                    |  16 5  | \n",
    "|                    |  17 13 | \n",
    "|                    |  18 21 | \n",
    "|                    |  19 21 | \n",
    "|                    |  20 8  | \n",
    "|                    |  21 8  | \n",
    "|                    |  22 16 | "
   ]
  },
  {
   "cell_type": "code",
   "execution_count": 7,
   "metadata": {},
   "outputs": [
    {
     "name": "stdout",
     "output_type": "stream",
     "text": [
      "Digite o primeiro número do intervalo: 10\n",
      "Digite o segundo número do intervalo: 22\n",
      "10 7\n",
      "11 15\n",
      "12 10\n",
      "13 10\n",
      "14 18\n",
      "15 18\n",
      "16 5\n",
      "17 13\n",
      "18 21\n",
      "19 21\n",
      "20 8\n",
      "21 8\n",
      "22 16\n"
     ]
    }
   ],
   "source": [
    "i = int(input(\"Digite o primeiro número do intervalo: \"))\n",
    "j = int(input(\"Digite o segundo número do intervalo: \"))\n",
    "\n",
    "# para todo valor dentro do intervalo de i a j (inclusive) precisamos calcular o tamanho cíclico\n",
    "for n in range(i,j+1):\n",
    "    tam_ciclico = 1 # variável para contar o tamanho cíclico\n",
    "    auxn = n # salvando o valor de n para imprimir depois\n",
    "    # precisamos simular a criação da sequência para poder contar o tamanho dela\n",
    "    while n > 1:\n",
    "        if n % 2 == 0:\n",
    "            n = n / 2\n",
    "        else:\n",
    "            n = 3*n + 1\n",
    "        # contamos um número a mais toda vez que o geramos\n",
    "        tam_ciclico = tam_ciclico + 1\n",
    "    print(auxn, tam_ciclico)"
   ]
  },
  {
   "cell_type": "code",
   "execution_count": null,
   "metadata": {},
   "outputs": [],
   "source": []
  }
 ],
 "metadata": {
  "kernelspec": {
   "display_name": "Python 3 (ipykernel)",
   "language": "python",
   "name": "python3"
  },
  "language_info": {
   "codemirror_mode": {
    "name": "ipython",
    "version": 3
   },
   "file_extension": ".py",
   "mimetype": "text/x-python",
   "name": "python",
   "nbconvert_exporter": "python",
   "pygments_lexer": "ipython3",
   "version": "3.12.4"
  }
 },
 "nbformat": 4,
 "nbformat_minor": 4
}
