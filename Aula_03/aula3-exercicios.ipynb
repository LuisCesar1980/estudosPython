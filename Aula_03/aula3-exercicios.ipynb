{
 "cells": [
  {
   "cell_type": "markdown",
   "metadata": {},
   "source": [
    "<font size=4>\n",
    "<h1>Exercícios (para serem entregues)</h1>\n",
    "\n",
    "<p>Agora é sua vez: faça os exercícios para praticar os conceitos vistos na aula sobre comandos condicionais.</p>\n",
    "\n",
    "<p>Lembre-se de <b>salvar</b> sempre o seu notebook. Ele deverá ser <b>entregue pelo tidia</b> para que você receba sua nota!</p>\n",
    "\n",
    "</font>"
   ]
  },
  {
   "cell_type": "markdown",
   "metadata": {},
   "source": [
    "<h2>Questão 0 (exemplo)</h2>\n",
    "    \n",
    "<p>Dizemos que dois números inteiros $a$ e $b$ são múltiplos se $a$ é divisível por $b$ ou vice versa.</b>\n",
    "\n",
    "<p>Faça um programa que verifique se dois números são múltiplos ou não.</p>\n",
    "\n",
    "<p><b>Entrada:</b> O programa deverá ler um inteiro $a$ e em seguida outro inteiro $b$.</p>\n",
    "\n",
    "<p><b>Saída:</b> A resposta deverá ser no formato conforme os exemplos a seguir.</p>\n",
    "\n",
    "<p>Exemplos:</p>\n",
    "<ul>\n",
    "    <li>4 e 2 são múltiplos</li>\n",
    "    <li>2 e 4 são múltiplos</li>\n",
    "    <li>2 e 3 não são múltiplos</li>\n",
    "</ul>"
   ]
  },
  {
   "cell_type": "code",
   "execution_count": 2,
   "metadata": {},
   "outputs": [
    {
     "name": "stdin",
     "output_type": "stream",
     "text": [
      "Digite um número inteiro:  4\n",
      "Digite outro número inteiro:  2\n"
     ]
    },
    {
     "name": "stdout",
     "output_type": "stream",
     "text": [
      "\n",
      "4 e 2 são múltiplos\n"
     ]
    }
   ],
   "source": [
    "a = int(input(\"Digite um número inteiro: \"))\n",
    "b = int(input(\"Digite outro número inteiro: \"))\n",
    "\n",
    "print()\n",
    "if a % b == 0 or b % a == 0:\n",
    "    print(a,\"e\",b,\"são múltiplos\")\n",
    "\n",
    "else:\n",
    "    print(a,\"e\",b,\"não são múltiplos\")"
   ]
  },
  {
   "cell_type": "markdown",
   "metadata": {},
   "source": [
    "<h2>Questão 1</h2>\n",
    "\n",
    "<p>Alice e Bob querem jogar par ou ímpar.</p>\n",
    "\n",
    "<p>Alice sempre aposta no par e Bob no ímpar.</p>\n",
    "\n",
    "<p>Faça um programa que mostre quem é o ganhador em um jogo dos dois.</p>\n",
    "\n",
    "<p><b>Entrada:</b> O programa deve receber inicialmente um inteiro, que é o valor escolhido pela Alice, e em seguida outro inteiro, que é o valor escolhido por Bob.</p>\n",
    "\n",
    "<p><b>Saída:</b> A resposta deverá ser o nome do ganhador do jogo.</p>"
   ]
  },
  {
   "cell_type": "code",
   "execution_count": 8,
   "metadata": {},
   "outputs": [
    {
     "name": "stdout",
     "output_type": "stream",
     "text": [
      "JOGO DO PAR OU ÍMPAR\n",
      "Informe um número par escolhido por Alice: 5\n",
      "Informe um número ímpar escolhido por Bob: 4\n",
      "\n",
      "O vencedor do jogo é a Alice.\n",
      "\n",
      "fim do programa\n"
     ]
    }
   ],
   "source": [
    "print(\"JOGO DO PAR OU ÍMPAR\")\n",
    "\n",
    "alice = int(input(\"Informe o número par escolhido: \"))\n",
    "bob = int(input(\"Informe o número ímpar escolhido: \"))\n",
    "\n",
    "# Validação dos números inseridos\n",
    "if alice % 2 != 0:\n",
    "    print(\"Erro: O número escolhido por Alice não é par.\")\n",
    "elif bob % 2 == 0:\n",
    "    print(\"Erro: O número escolhido por Bob não é ímpar.\")\n",
    "else:\n",
    "    # Comparação dos números válidos\n",
    "    if alice > bob:\n",
    "        print(\"O vencedor do jogo é a Alice.\\n\")\n",
    "    elif bob > alice:\n",
    "        print(\"O vencedor do jogo é o Bob.\\n\")\n",
    "    else:\n",
    "        print(\"Empate! Os dois escolheram o mesmo número.\\n\")\n",
    "\n",
    "print(\"Fim do programa\")"
   ]
  },
  {
   "cell_type": "markdown",
   "metadata": {},
   "source": [
    "<h2>Questão 2</h2>\n",
    "\n",
    "<p>Faça um programa que ordene 3 números.</p>\n",
    "\n",
    "<p><b>Entrada:</b> O programa deve receber três números.</p>\n",
    "\n",
    "<p><b>Saída:</b> A reposta deve ser os três números, escritos na mesma linha, em ordem crescente.</p>"
   ]
  },
  {
   "cell_type": "code",
   "execution_count": 1,
   "metadata": {},
   "outputs": [
    {
     "name": "stdin",
     "output_type": "stream",
     "text": [
      "Informe o primeiro número:  3\n",
      "Informe o segundo número:  2\n",
      "Informe o terceiro número:  1\n"
     ]
    },
    {
     "name": "stdout",
     "output_type": "stream",
     "text": [
      "Os números em ordem crescente são: 1.0 , 2.0 , 3.0\n",
      "Fim do programa.\n"
     ]
    },
    {
     "name": "stdin",
     "output_type": "stream",
     "text": [
      "\n",
      "\n",
      "Informe o primeiro número:  1\n",
      "Informe o segundo número:  2\n",
      "Informe o terceiro número:  3\n"
     ]
    },
    {
     "name": "stdout",
     "output_type": "stream",
     "text": [
      "Os números em ordem crescente são: 1.0, 2.0, 3.0\n",
      "Fim do programa.\n"
     ]
    }
   ],
   "source": [
    "primeiro = float(input(\"Informe o primeiro número: \"))\n",
    "segundo = float(input(\"Informe o segundo número: \"))\n",
    "terceiro = float(input(\"Informe o terceiro número: \"))\n",
    "\n",
    "\n",
    "if primeiro >= segundo and primeiro >= terceiro and segundo >= terceiro:\n",
    "    print(\"Os números em ordem crescente são:\",terceiro,\",\",segundo,\",\",primeiro)\n",
    "elif primeiro >= segundo and primeiro >= terceiro and terceiro >= segundo:\n",
    "    print(\"Os números em ordem crescente são:\",segundo,\",\",terceiro,\",\",primeiro)\n",
    "elif segundo >= primeiro and segundo >= terceiro and primeiro >= terceiro:\n",
    "    print(\"Os números em ordem crescente são:\",terceiro,\",\",primeiro,\",\",segundo)\n",
    "elif segundo >= primeiro and segundo >= terceiro and terceiro >= primeiro:\n",
    "    print(\"Os números em ordem crescente são:\",primeiro,\",\",terceiro,\",\",segundo)\n",
    "elif terceiro >= primeiro and terceiro >= segundo and segundo >= primeiro:\n",
    "    print(\"Os números em ordem crescente são:\",primeiro,\",\",segundo,\",\",terceiro)\n",
    "else:\n",
    "    print(\"Os números em ordem crescente são:\",segundo,\",\",primeiro,\",\",terceiro)\n",
    "    \n",
    "print(\"Fim do programa.\")\n",
    "\n",
    "\n",
    "# Solicitar os números ao usuário\n",
    "primeiro = float(input(\"\\n\\nInforme o primeiro número: \"))\n",
    "segundo = float(input(\"Informe o segundo número: \"))\n",
    "terceiro = float(input(\"Informe o terceiro número: \"))\n",
    "\n",
    "# Criar uma lista com os números e ordená-los\n",
    "numeros = [primeiro, segundo, terceiro]\n",
    "numeros_ordenados = sorted(numeros)\n",
    "\n",
    "# Exibir o resultado\n",
    "print(\"Os números em ordem crescente são:\", \", \".join(map(str, numeros_ordenados)))\n",
    "\n",
    "print(\"Fim do programa.\")\n",
    "\n",
    "# Usando estruturas como listas e a função sorted() para ordenar os números automaticamente.\n",
    "# Lista: Os números inseridos são armazenados em uma lista chamada numeros.\n",
    "# Função sorted(): A função embutida sorted() é usada para ordenar os números em ordem crescente.\n",
    "# Exibição: A lista ordenada é convertida para uma string com os números separados por vírgula usando \", \".join(map(str, numeros_ordenados)).\n",
    "\n",
    "# Por que é melhor?\n",
    "# Menos código e mais legível.\n",
    "# Não precisa de vários if-else para verificar as condições.\n",
    "# Fácil de modificar se precisar trabalhar com mais de 3 números. 🎉\n",
    "\n",
    "# Se você substituir os operadores \">=\" por \">\", o programa não estará completamente correto. \n",
    "# Isso ocorre porque, ao usar apenas o operador \">\", você está excluindo a possibilidade dos números serem iguais.\n",
    "\n",
    "# No caso da ordenação de três números, é importante considerar todas as possibilidades, incluindo quando os números são \n",
    "# iguais. Portanto, ao usar os operadores \">=\", você está permitindo que os números sejam iguais e garantindo que o \n",
    "# programa funcione corretamente em todos os cenários.\n",
    "\n",
    "# Se você usar apenas o operador \">\", o programa não tratará corretamente os casos em que dois ou mais números são iguais, \n",
    "# resultando em uma ordenação incorreta.\n",
    "\n",
    "# Portanto, é recomendado manter os operadores \">=\" para garantir a corretude do programa."
   ]
  },
  {
   "cell_type": "markdown",
   "metadata": {},
   "source": [
    "<h2>Questão 3</h2>\n",
    "\n",
    "<p>Escreva um programa que, dadas a nota da prova, do trabalho e dos exercícios de um aluno de Bases Computacionais da Ciência, calcula o conceito final desse aluno antes da recuperação.</p>\n",
    "\n",
    "<p>Recapitulando, a média final é dada pela fórmula $$\\mbox{MF} = 0.45 \\times P + 0.35 \\times T + 0.2 \\times L$$ sendo $P$ a nota da prova, $T$ a nota do trabalho e $L$ a média das listas de exercícios.</p>\n",
    "\n",
    "<p>E o conceito final é<p>\n",
    "\t<td>\n",
    "\t<div align=\"center\">\n",
    "    <tt>A</tt>, se <tt>MF &geq; 8.5</tt><br>\n",
    "    <tt>B</tt>, se <tt>7.0 &ge; MF &lt; 8.5</tt><br>\n",
    "    <tt>C</tt>, se <tt>6.0 &ge; MF &lt; 7.0</tt><br>\n",
    "    <tt>D</tt>, se <tt>5.0 &ge; MF &lt; 6.0</tt><br>\n",
    "    <tt>F</tt>, se <tt>0.0 &ge; MF &lt; 5.0</tt><br>\n",
    "    </div>\n",
    "    </td>\n",
    "\n",
    "\n",
    "<p><b>Entrada:</b> O programa deverá receber três números decimais positivos maiores ou iguais a 0 e menores ou iguais a 10, nessa ordem: $P$, $T$ e $L$.</p>\n",
    "\n",
    "<p><b>Saída:</b> A resposta deverá ser escrita no formato `Conceito final = X`, onde $X$ deve ser devidamente substituído.</p>\n"
   ]
  },
  {
   "cell_type": "code",
   "execution_count": 6,
   "metadata": {},
   "outputs": [
    {
     "name": "stdin",
     "output_type": "stream",
     "text": [
      "Informe a nota da prova:  2\n",
      "Informe a nota do trabalho:  5\n",
      "Informe a média das listas:  5\n"
     ]
    },
    {
     "name": "stdout",
     "output_type": "stream",
     "text": [
      "Conceito Final = Reprovado\n"
     ]
    }
   ],
   "source": [
    "prova = float(input(\"Informe a nota da prova: \"))\n",
    "trabalho = float(input(\"Informe a nota do trabalho: \"))\n",
    "media_listas = float(input(\"Informe a média das listas: \"))\n",
    "\n",
    "media_final = prova * 0.45 + trabalho * 0.35 + media_listas * 0.20\n",
    "\n",
    "if media_final >= 8.5: # Maior ou igual à 8.5\n",
    "    conceito_final = \"A\"\n",
    "elif media_final >= 7.0: # Entre 7.0 e 8.4\n",
    "    conceito_final = \"B\"\n",
    "elif media_final >= 6.0: # Entre 6.0 e 6.9\n",
    "    conceito_final = \"C\"\n",
    "elif media_final >= 5.0: # Entre 5.0 e 5.9\n",
    "    conceito_final = \"Recuperação\"\n",
    "else: # Menor ou igual à 4.9\n",
    "    conceito_final = \"Reprovado\"\n",
    "\n",
    "print(\"Conceito Final =\", conceito_final)\n",
    "\n",
    "# Podemos simplificar o código eliminando as redundâncias \n",
    "# nos testes das condições elif. \n",
    "# Isso é possível porque, após um if ou elif ser verdadeiro, \n",
    "# os casos anteriores já são automaticamente descartados"
   ]
  },
  {
   "cell_type": "markdown",
   "metadata": {},
   "source": [
    "<h2>Questão 4</h2>\n",
    "\n",
    "<p>A empresa ABC resolveu conceder um aumento de salários a seus funcionários de acordo com as regras abaixo:</p>\n",
    "<ul>\n",
    "    <li>Se o salário está entre 0 e 400.00, então o reajuste é de 15%</li>\n",
    "    <li>Se o salário está entre 400.01 e 800.00, então o reajuste é de 12%</li>\n",
    "    <li>Se o salário está entre 800.01 e 1200.00, então o reajuste é de 10%</li>\n",
    "    <li>Se o salário está entre 1200.01 e 2000.00, então o reajuste é de 7%</li>\n",
    "    <li>Se o salário está acima de 2000.00, então o reajuste é de 4%</li>\n",
    "</ul>\n",
    "\n",
    "<p>Faça um programa que calcule o novo salário de um funcinário, bem como o valor de reajuste ganho e o índice reajustado, em percentual.</p>\n",
    "\n",
    "<p><b>Entrada:</b> O programa deve receber um único valor decimal, que indica o salário atual do empregado.</p>\n",
    "\n",
    "<p><b>Saída:</b> A resposta consistirá de 3 linhas. A primeira deve ter o texto `Novo salario:` seguido do novo salário. A segunda deve ter o texto `Reajuste ganho:` seguido do valor do reajuste. E a terceira linha deve ter o texto `Em percentual:` seguido do percentual do reajuste ganho.</p>"
   ]
  },
  {
   "cell_type": "code",
   "execution_count": 9,
   "metadata": {},
   "outputs": [
    {
     "name": "stdin",
     "output_type": "stream",
     "text": [
      "Informe o seu salário:  1200\n"
     ]
    },
    {
     "name": "stdout",
     "output_type": "stream",
     "text": [
      "\n",
      "Novo Salário: R$ 1320.0\n",
      "Reajuste ganho: R$ 120.0\n",
      "Em percentual = 10%\n"
     ]
    },
    {
     "name": "stdin",
     "output_type": "stream",
     "text": [
      "\n",
      "\n",
      "Informe o seu salário:  1200\n"
     ]
    },
    {
     "name": "stdout",
     "output_type": "stream",
     "text": [
      "\n",
      "Novo Salário: 1320.0\n",
      "Reajuste ganho: 120.0\n",
      "Em percentual = 10%\n"
     ]
    }
   ],
   "source": [
    "salario = float(input(\"Informe o seu salário: \"))\n",
    "\n",
    "if salario > 2000.00:\n",
    "    novo_salario = salario + salario * 0.04\n",
    "    reajuste = salario * 0.04\n",
    "    percentual_reajuste = \"4%\"\n",
    "    \n",
    "elif salario >= 1200.01:\n",
    "    novo_salario = salario + salario * 0.07\n",
    "    reajuste = salario * 0.07\n",
    "    percentual_reajuste = \"7%\"\n",
    "    \n",
    "elif salario >= 800.01:\n",
    "    novo_salario = salario + salario * 0.10\n",
    "    reajuste = salario * 0.10\n",
    "    percentual_reajuste = \"10%\"\n",
    "    \n",
    "elif salario >= 400.01:\n",
    "    novo_salario = salario + salario * 0.12\n",
    "    reajuste = salario * 0.12\n",
    "    percentual_reajuste = \"12%\"\n",
    "else:\n",
    "    novo_salario = salario + salario * 0.15\n",
    "    reajuste = salario * 0.15\n",
    "    percentual_reajuste = \"15%\"\n",
    "\n",
    "print(\"\\nNovo Salário: R$\",novo_salario)\n",
    "print(\"Reajuste ganho: R$\",reajuste)\n",
    "print(\"Em percentual =\",percentual_reajuste)\n",
    "\n",
    "##########################################################################\n",
    "\n",
    "salario = float(input(\"\\n\\nInforme o seu salário: \"))\n",
    "\n",
    "# Determinar o percentual de reajuste com base no salário\n",
    "if salario > 2000.00: # Maior ou igual à 2000.00\n",
    "    percentual = 0.04  # 4%\n",
    "elif salario >= 1200.01: # Entre 1200.01 e 1999.99\n",
    "    percentual = 0.07  # 7%\n",
    "elif salario >= 800.01: # Entre 800.01 e 1200.00\n",
    "    percentual = 0.10  # 10%\n",
    "elif salario >= 400.01: # Entre 400.01 e 800.00\n",
    "    percentual = 0.12  # 12%\n",
    "else: # Menor ou igual à 400.00\n",
    "    percentual = 0.15  # 15%\n",
    "\n",
    "# Calcular o reajuste e o novo salário\n",
    "reajuste = salario * percentual\n",
    "novo_salario = salario + reajuste\n",
    "\n",
    "# Converter o percentual para formato de string (ex: \"4%\")\n",
    "percentual_reajuste = f\"{int(percentual * 100)}%\"\n",
    "\n",
    "# Exibir os resultados\n",
    "print(\"\\nNovo Salário:\", round(novo_salario, 2))\n",
    "print(\"Reajuste ganho:\", round(reajuste, 2))\n",
    "print(\"Em percentual =\", percentual_reajuste)\n"
   ]
  },
  {
   "cell_type": "markdown",
   "metadata": {},
   "source": [
    "<h2>Questão 5</h2>\n",
    "\n",
    "<p>Faça um programa que indique se um ano é bissexto ou não.</p>\n",
    "\n",
    "<p>OBS: Todos os anos múltiplos de 400 são bissextos. Não sendo múltiplo de 400, são bissextos todos os anos múltiplos de  4 mas que não são múltiplos de 100.</p>\n",
    "\n",
    "<p><b>Entrada:</b> O programa deve receber um único número inteiro que representa o ano desejado.</p>\n",
    "\n",
    "<p><b>Saída:</b> A resposta deverá ser a palavra `sim` ou `não`, indicando se o ano dado é bissexto ou não.</p>"
   ]
  },
  {
   "cell_type": "code",
   "execution_count": 13,
   "metadata": {},
   "outputs": [
    {
     "name": "stdin",
     "output_type": "stream",
     "text": [
      "Informe o ano para verificarmos se é bissexto:  123\n"
     ]
    },
    {
     "name": "stdout",
     "output_type": "stream",
     "text": [
      "\n",
      "O ano 123 não é bissexto\n"
     ]
    },
    {
     "name": "stdin",
     "output_type": "stream",
     "text": [
      "Informe o ano para verificarmos se é bissexto:  2\n"
     ]
    },
    {
     "name": "stdout",
     "output_type": "stream",
     "text": [
      "\n",
      "O ano 2 não é bissexto.\n"
     ]
    }
   ],
   "source": [
    "#Dizemos que dois números inteiros \"a\" e \"b\" são múltiplos \n",
    "#se \"a\" é divisível por \"b\" ou vice versa.\n",
    "\n",
    "#4 e 2 são múltiplos\n",
    "#2 e 4 são múltiplos\n",
    "#2 e 3 não são múltiplos\n",
    "\n",
    "#http://www.ponteiro.com.br/bisse.php (todos os anos bissextos)\n",
    "\n",
    "#OBS: Todos os anos múltiplos de 400 são bissextos. Não sendo múltiplo de 400, \n",
    "#são bissextos todos os anos múltiplos de 4, mas que não são múltiplos de 100.\n",
    "\n",
    "#Veja que a definição diz que se o ano é múltiplo de 400, então ele é bissexto.\n",
    "#De fato esse teste você faz com \"ano % 400 == 0\".\n",
    "#Mas o enunciado diz que se não é múltiplo de 400, então vai ser bissexto se for \n",
    "#múltiplo de 4 e não for múltiplo de 100.\n",
    "#Como testamos se é múltiplo de 4 e não é múltiplo de 100 ao mesmo tempo?\n",
    "#Isso deveria estar no segundo caso do seu \"or\".\n",
    "\n",
    "# Um ano é bissexto se for divisível por 400 ou (se for divisível por 4 e não divisível por 100).\n",
    "# (ano % 400 == 0) cobre os anos como 1600, 2000, etc.\n",
    "# ((ano % 4 == 0) and (ano % 100 != 0)) cobre os anos que são múltiplos de 4, \n",
    "# mas não de 100, como 1996, 2004, 2024, etc.\n",
    "\n",
    "ano = int(input(\"Informe o ano para verificarmos se é bissexto: \"))\n",
    "\n",
    "if (ano % 400 == 0) or ((ano % 4 == 0) and (ano % 100 != 0)):\n",
    "    print(\"\\nO ano\",ano,\"é bissexto\")\n",
    "else:\n",
    "    print(\"\\nO ano\",ano,\"não é bissexto\")\n",
    "\n",
    "############################################################################\n",
    "\n",
    "def verifica_bissexto(ano):\n",
    "    \"\"\"Verifica se um ano é bissexto e retorna o resultado.\"\"\"\n",
    "    if (ano % 400 == 0) or ((ano % 4 == 0) and (ano % 100 != 0)):\n",
    "        return True\n",
    "    return False\n",
    "\n",
    "# Entrada do usuário\n",
    "ano = int(input(\"Informe o ano para verificarmos se é bissexto: \"))\n",
    "\n",
    "# Verificação e saída\n",
    "if verifica_bissexto(ano):\n",
    "    print(f\"\\nO ano {ano} é bissexto.\")\n",
    "else:\n",
    "    print(f\"\\nO ano {ano} não é bissexto.\")\n",
    "\n",
    "# Melhorias feitas:\n",
    "\n",
    "# 1-Função verifica_bissexto:\n",
    "# Extraí a lógica de verificação para uma função reutilizável, tornando o código mais modular.\n",
    "# Isso facilita a reutilização do código em outros contextos e torna mais fácil fazer testes.\n",
    "\n",
    "# 2-F-strings:\n",
    "# Usei f-strings no print, que são mais modernas e legíveis para formatação de strings.\n",
    "\n",
    "# A função verifica_bissexto recebe um argumento (ano), verifica se ele é bissexto, \n",
    "# e retorna True (se for) ou False (se não for).\n",
    "\n",
    "# O que faz:\n",
    "                                  \n",
    "# 1-Parâmetro: Recebe o ano como parâmetro.\n",
    "# 2-Condição:\n",
    "#     O ano é bissexto se:\n",
    "#         É divisível por 400, ou\n",
    "#         É divisível por 4 e não por 100.\n",
    "# 3-Retorno:\n",
    "#     Se a condição for verdadeira, retorna True.\n",
    "#     Caso contrário, retorna False.\n",
    "\n",
    "# Como usar:\n",
    "# Após definir a função, você pode utilizá-la em qualquer parte do código:"
   ]
  },
  {
   "cell_type": "markdown",
   "metadata": {},
   "source": [
    "<h2>Questão 6</h2>\n",
    "\n",
    "<p>Escreva um programa que determina a data cronologicamente maior de duas datas fornecidas pelo usuário.</p>\n",
    "\n",
    "<p><b>Entrada:</b> O programa deve receber seis valores inteiros, onde os três primeiros representam o dia, mês e ano da primeira data e os três últimos representam o dia, mês e ano da segunda data.</p>\n",
    "\n",
    "<p><b>Saída:</b> A resposta deverá ser uma única linha com o texto `dd/mm/aaaa`, indicando corretamente a maior das duas datas.</p>"
   ]
  },
  {
   "cell_type": "code",
   "execution_count": 12,
   "metadata": {},
   "outputs": [
    {
     "name": "stdout",
     "output_type": "stream",
     "text": [
      ".::INFORME A PRIMEIRA DATA::.\n"
     ]
    },
    {
     "name": "stdin",
     "output_type": "stream",
     "text": [
      "Dia: 132\n",
      "Mês: 132\n",
      "Ano: 123\n"
     ]
    },
    {
     "name": "stdout",
     "output_type": "stream",
     "text": [
      "\n",
      ".::INFORME A SEGUNDA DATA::.\n"
     ]
    },
    {
     "name": "stdin",
     "output_type": "stream",
     "text": [
      "Dia: 123\n",
      "Mês: 123\n",
      "Ano: 123\n"
     ]
    },
    {
     "name": "stdout",
     "output_type": "stream",
     "text": [
      "\n",
      "A maior data cronológica é: 132 / 132 / 123\n"
     ]
    }
   ],
   "source": [
    "#  A cronologia (do grego chronos = tempo, + logos = estudo) é a ciência cuja finalidade \n",
    "#é datar acontecimentos históricos, os descrevendo e agrupando numa sequência lógica\n",
    "#fonte: https://pt.wikipedia.org/wiki/Cronologia\n",
    "\n",
    "print(\".::INFORME A PRIMEIRA DATA::.\")\n",
    "dia_1 = int(input(\"Dia:\"))\n",
    "mes_1 = int(input(\"Mês:\"))\n",
    "ano_1 = int(input(\"Ano:\"))\n",
    "\n",
    "print(\"\\n.::INFORME A SEGUNDA DATA::.\")\n",
    "dia_2 = int(input(\"Dia:\"))\n",
    "mes_2 = int(input(\"Mês:\"))\n",
    "ano_2 = int(input(\"Ano:\"))\n",
    "\n",
    "# O else está dizendo que o ano_1 não é maior que ano_2. Então ele é menor.\n",
    "      \n",
    "if(ano_1 == ano_2):\n",
    "    if (mes_1 == mes_2):\n",
    "        if (dia_1 == dia_2):\n",
    "            print(\"\\nAs datas são iguais.\")\n",
    "        elif (dia_1 > dia_2):\n",
    "            print(\"\\nA maior data cronológica é:\",dia_1,\"/\",mes_1,\"/\",ano_1) \n",
    "        else:\n",
    "            print(\"\\nA maior data cronológica é:\",dia_2,\"/\",mes_2,\"/\",ano_2)\n",
    "    elif(mes_1 > mes_2):\n",
    "        print(\"\\nA maior data cronológica é:\",dia_1,\"/\",mes_1,\"/\",ano_1)\n",
    "    else:\n",
    "        print(\"\\nA maior data cronológica é:\",dia_2,\"/\",mes_2,\"/\",ano_2)\n",
    "\n",
    "#==============================================================================\n",
    "\n",
    "elif (ano_1 > ano_2):\n",
    "    print(\"\\nA maior data cronológica é:\",dia_1,\"/\",mes_1,\"/\",ano_1)\n",
    "\n",
    "#==============================================================================\n",
    "\n",
    "else: \n",
    "    print(\"\\nA maior data cronológica é:\",dia_2,\"/\",mes_2,\"/\",ano_2)\n",
    "\n",
    "################################################################################\n",
    "\n",
    "print(\".::INFORME A PRIMEIRA DATA::.\")\n",
    "dia_1 = int(input(\"Dia: \"))\n",
    "mes_1 = int(input(\"Mês: \"))\n",
    "ano_1 = int(input(\"Ano: \"))\n",
    "\n",
    "print(\"\\n.::INFORME A SEGUNDA DATA::.\")\n",
    "dia_2 = int(input(\"Dia: \"))\n",
    "mes_2 = int(input(\"Mês: \"))\n",
    "ano_2 = int(input(\"Ano: \"))\n",
    "\n",
    "# Comparando as datas diretamente\n",
    "data_1 = (ano_1, mes_1, dia_1)\n",
    "data_2 = (ano_2, mes_2, dia_2)\n",
    "\n",
    "if data_1 == data_2:\n",
    "    print(\"\\nAs datas são iguais.\")\n",
    "elif data_1 > data_2:\n",
    "    print(\"\\nA maior data cronológica é:\", dia_1, \"/\", mes_1, \"/\", ano_1)\n",
    "else:\n",
    "    print(\"\\nA maior data cronológica é:\", dia_2, \"/\", mes_2, \"/\", ano_2)\n",
    "\n",
    "# Melhorias aplicadas:\n",
    "# 1-Uso de tuplas: As tuplas data_1 e data_2 foram criadas para facilitar a comparação direta das datas, \n",
    "# eliminando a necessidade de várias verificações manuais de anos, meses e dias.\n",
    "# 2-Redução de redundância: A comparação manual de cada parte da data foi substituída por comparações \n",
    "# diretas entre as tuplas.\n",
    "# 3-Legibilidade: O código ficou mais curto e fácil de entender, com menor repetição de lógica."
   ]
  },
  {
   "cell_type": "markdown",
   "metadata": {},
   "source": [
    "<h2>Questão 7</h2>\n",
    "\n",
    "<p>Sequência de inteiros entre dois números.</p>\n",
    "\n",
    "<p><b>Entrada:</b> O programa deve receber dois inteiros $m$ e $n$ (não necessariamente um é menor que o outro). Você pode considerar que $m > 0$ e $n > 0$.</p>\n",
    "\n",
    "<p><b>Saída:</b> A resposta deve ser uma lista contendo todos os inteiros que existem do menor dentre $m$ e $n$ até o maior deles (incluindo $m$ e $n$).</p>"
   ]
  },
  {
   "cell_type": "code",
   "execution_count": 9,
   "metadata": {},
   "outputs": [
    {
     "name": "stdin",
     "output_type": "stream",
     "text": [
      "Digite um número: 8\n",
      "Digite outro número: 2\n"
     ]
    },
    {
     "name": "stdout",
     "output_type": "stream",
     "text": [
      "\n",
      "[2, 3, 4, 5, 6, 7, 8]\n",
      "\n",
      "===========FIM===========\n"
     ]
    }
   ],
   "source": [
    "a = int(input(\"Digite um número:\"))\n",
    "b = int(input(\"Digite outro número:\"))\n",
    "\n",
    "print()\n",
    "\n",
    "if (a < b):\n",
    "    sequencia = list(range(a,b+1))\n",
    "    print(sequencia)\n",
    "elif(a > b):\n",
    "    # sequencia = list(range(a,b-1,-1)) Mostra os números em ordem decrescente\n",
    "    sequencia = list(range(b,a+1))\n",
    "    print(sequencia)\n",
    "else:\n",
    "    print(a)\n",
    "    \n",
    "print(\"\\n===========FIM===========\")"
   ]
  },
  {
   "cell_type": "markdown",
   "metadata": {},
   "source": [
    "<h2>Questão 8</h2>\n",
    "\n",
    "<p>Faça um programa que implemente a Fórmula de Bhaskara (se você esqueceu, use o Google) para resolver equações de segundo grau, isto é, equações do tipo\n",
    "$$ a x^2 + b x + c = 0.$$</p>\n",
    "\n",
    "<p><b>Entrada:</b> O programa deve receber os valores $a$, $b$ e $c$, nessa ordem (decimais).</p>\n",
    "\n",
    "<p><b>Saída:</b> A resposta consistirá de uma, duas ou três linhas. A primeira (que sempre existe) deve conter um texto dizendo quantas soluções existem (pode ser 0, 1 ou 2). Se houver solução, as próximas linhas devem indicar seus valores. </p>"
   ]
  },
  {
   "cell_type": "code",
   "execution_count": 11,
   "metadata": {},
   "outputs": [
    {
     "name": "stdout",
     "output_type": "stream",
     "text": [
      "Informe o valor de ax²:2\n",
      "Informe o valor de bx:6\n",
      "Informe o valor de c:3\n",
      "\n",
      "Delta: 12.0\n",
      "Raiz de x1 = -0.6339745962155614\n",
      "Raiz de x2 = -2.3660254037844384\n",
      "\n",
      "Delta: 12.0\n",
      "Raiz de x' = -0.6339745962155614 \n",
      "Raiz de x''= -2.3660254037844384\n"
     ]
    }
   ],
   "source": [
    "# math: Este módulo fornece acesso às funções matemáticas definidas pelo padrão C. \n",
    "# Essas funções não podem ser usadas com números complexos; use as funções de mesmo nome \n",
    "# do módulo cmath se você precisar de suporte para números complexos.\n",
    "\n",
    "# o módulo math é um módulo que nos dá acesso a várias funções matemáticas, como raiz quadrada,\n",
    "# seno, arredondamentos, etc.\n",
    "# O módulo math é um dos módulos conhecidos como built in (pronto para uso); ou seja, podemos \n",
    "# usá-lo sem instalar nenhuma dependência externa, uma vez que fazem parte da biblioteca padrão do Python. \n",
    "\n",
    "import math\n",
    "\n",
    "a = float(input(\"Informe o valor de ax²:\"))\n",
    "b = float(input(\"Informe o valor de bx:\"))\n",
    "c = float(input(\"Informe o valor de c:\"))\n",
    "\n",
    "delta = (b**2 - 4*a*c) \n",
    "\n",
    "if delta < 0:\n",
    "    print(\"\\nNão existe nenhuma solução.\")\n",
    "    print (\"Delta negativo, raiz impossivel de ser extraida.\") \n",
    "else: \n",
    "    print (\"\\nDelta: %s\" % delta) \n",
    "    x1=(-b+(delta**(1/2)))/(2*a) #delta elevado a 1 sobre 2 é igual raiz quadrada de delta\n",
    "    x2=(-b-(delta**(1/2)))/(2*a) #delta elevado a 0,5 é igual raiz quadrada de delta\n",
    "    print (\"Raiz de x1 = %s\" % x1)\n",
    "    print (\"Raiz de x2 = %s\" % x2)\n",
    "\n",
    "    print (\"\\nDelta: %s\" % delta)\n",
    "    raiz=math.sqrt(delta)\n",
    "    x1=(-b+raiz)/(2*a)\n",
    "    x2=(-b-raiz)/(2*a)\n",
    "    print (\"Raiz de x' = %s \\nRaiz de x''=\" % x1, x2)"
   ]
  },
  {
   "cell_type": "markdown",
   "metadata": {},
   "source": [
    "<h2>Questão 9</h2>\n",
    "\n",
    "<p>Construa uma calculadora que efetue operações aritméticas binárias (entre dois números).</p>\n",
    "\n",
    "<p><b>Entrada:</b> O programa deve receber um valor qualquer, seguido de um operador (que pode ser `+` para soma, `-` para subtração, `*` para multiplicação, `/` para divisão exata, `//` para divisão inteira, `%` para resto de divisão ou `^` para exponenciação), seguido de outro número qualquer. </p>\n",
    "\n",
    "<p><b>Saída:</b> A resposta deverá ser um único número, resultado da operação dada na entrada, ou a mensagem `erro` se não for possível realizar a conta (divisões por zero).</p>"
   ]
  },
  {
   "cell_type": "code",
   "execution_count": 15,
   "metadata": {},
   "outputs": [
    {
     "name": "stdout",
     "output_type": "stream",
     "text": [
      "CALCULADORA ARITMÉTICA BINÁRIA\n",
      "\n"
     ]
    },
    {
     "name": "stdin",
     "output_type": "stream",
     "text": [
      "1° termo: 2\n",
      "operador: ^\n",
      "2° termo: 4\n"
     ]
    },
    {
     "name": "stdout",
     "output_type": "stream",
     "text": [
      "\n",
      "Resultado da operação: 16.0\n",
      "\n",
      "===========FIM===========\n"
     ]
    }
   ],
   "source": [
    "print(\"CALCULADORA ARITMÉTICA BINÁRIA\\n\")\n",
    "\n",
    "number1 = float(input(\"1° termo:\"))\n",
    "operador = input(\"operador:\")\n",
    "number2 = float(input(\"2° termo:\"))\n",
    "\n",
    "print()\n",
    "\n",
    "#if operador == \"/\":\n",
    "    #resultado = number1 / number2\n",
    "\n",
    "if operador == \"/\":\n",
    "    if number2 != 0:\n",
    "        resultado = number1 / number2\n",
    "    else:\n",
    "        resultado = \"ERRO. NÃO É POSSÍVEL REALIZAR DIVISÃO POR ZERO.\"     \n",
    "    \n",
    "elif operador == \"*\" or operador == \"x\":\n",
    "    resultado = number1 * number2\n",
    "\n",
    "elif operador == \"//\":\n",
    "    if number2 != 0:\n",
    "        resultado = number1 // number2\n",
    "    else:\n",
    "        resultado = \"ERRO. NÃO É POSSÍVEL REALIZAR DIVISÃO POR ZERO.\"\n",
    "        \n",
    "elif operador == \"%\":\n",
    "    if number2 != 0:\n",
    "        resultado = number1 % number2\n",
    "    else:\n",
    "        resultado = \"ERRO. NÃO É POSSÍVEL REALIZAR DIVISÃO POR ZERO.\"\n",
    "        \n",
    "elif operador == \"^\":\n",
    "    resultado = number1 ** number2\n",
    "        \n",
    "elif operador == \"+\":\n",
    "    resultado = number1 + number2\n",
    "\n",
    "elif operador == \"-\":\n",
    "    resultado = number1 - number2  \n",
    "\n",
    "else:\n",
    "    resultado = \"ERRO. NÃO É POSSÍVEL REALIZAR A CONTA\"\n",
    "\n",
    "print(\"Resultado da operação:\",resultado)\n",
    "print(\"\\n===========FIM===========\")\n"
   ]
  },
  {
   "cell_type": "code",
   "execution_count": null,
   "metadata": {},
   "outputs": [],
   "source": []
  }
 ],
 "metadata": {
  "kernelspec": {
   "display_name": "Python 3 (ipykernel)",
   "language": "python",
   "name": "python3"
  },
  "language_info": {
   "codemirror_mode": {
    "name": "ipython",
    "version": 3
   },
   "file_extension": ".py",
   "mimetype": "text/x-python",
   "name": "python",
   "nbconvert_exporter": "python",
   "pygments_lexer": "ipython3",
   "version": "3.12.4"
  }
 },
 "nbformat": 4,
 "nbformat_minor": 4
}
