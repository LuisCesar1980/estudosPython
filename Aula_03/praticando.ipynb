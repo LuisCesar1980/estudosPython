{
 "cells": [
  {
   "cell_type": "code",
   "execution_count": 3,
   "metadata": {},
   "outputs": [
    {
     "name": "stdout",
     "output_type": "stream",
     "text": [
      "Digite o primeiro valor:10\n",
      "Digite o segundo valor:1\n",
      "\n",
      "[1, 2, 3, 4, 5, 6, 7, 8, 9, 10]\n",
      "\n",
      "===========FIM===========\n"
     ]
    }
   ],
   "source": [
    "a = int(input(\"Digite o primeiro valor:\"))\n",
    "b = int(input(\"Digite o segundo valor:\"))\n",
    "\n",
    "print()\n",
    "\n",
    "if (a < b):\n",
    "    sequencia = list(range(a,b+1))\n",
    "    print(sequencia)\n",
    "elif(a > b):\n",
    "    sequencia = list(range(b,a+1)) \n",
    "    print(sequencia)\n",
    "else:\n",
    "    print(a)\n",
    "    \n",
    "print(\"\\n===========FIM===========\")"
   ]
  },
  {
   "cell_type": "code",
   "execution_count": 11,
   "metadata": {},
   "outputs": [
    {
     "name": "stdout",
     "output_type": "stream",
     "text": [
      "Digite o primeiro valor:10\n",
      "Digite o segundo valor:1\n",
      "\n",
      "[10, 9, 8, 7, 6, 5, 4, 3, 2, 1]\n",
      "\n",
      "===========FIM===========\n"
     ]
    }
   ],
   "source": [
    "a = int(input(\"Digite o primeiro valor:\"))\n",
    "b = int(input(\"Digite o segundo valor:\"))\n",
    "\n",
    "print()\n",
    "\n",
    "if a < b:\n",
    "    sequencia = list(range(a, b+1))\n",
    "    print(sequencia)\n",
    "elif a > b:\n",
    "    sequencia = list(range(a, b-1, -1)) \n",
    "    #sequencia = list(range(b, a+1))\n",
    "    print(sequencia)\n",
    "else: #a e b são iguais\n",
    "    print(a)\n",
    "\n",
    "print(\"\\n===========FIM===========\")"
   ]
  },
  {
   "cell_type": "code",
   "execution_count": null,
   "metadata": {},
   "outputs": [],
   "source": []
  }
 ],
 "metadata": {
  "kernelspec": {
   "display_name": "Python 3 (ipykernel)",
   "language": "python",
   "name": "python3"
  },
  "language_info": {
   "codemirror_mode": {
    "name": "ipython",
    "version": 3
   },
   "file_extension": ".py",
   "mimetype": "text/x-python",
   "name": "python",
   "nbconvert_exporter": "python",
   "pygments_lexer": "ipython3",
   "version": "3.9.12"
  },
  "vscode": {
   "interpreter": {
    "hash": "ad2bdc8ecc057115af97d19610ffacc2b4e99fae6737bb82f5d7fb13d2f2c186"
   }
  }
 },
 "nbformat": 4,
 "nbformat_minor": 2
}
