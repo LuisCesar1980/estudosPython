{
 "cells": [
  {
   "cell_type": "markdown",
   "metadata": {},
   "source": [
    "<font size=4>\n",
    "<h1>Introdução à programação em Python: comandos condicionais</h1>\n",
    "\n",
    "<p>Você já teve contato com alguns elementos de programação em Python.</p>\n",
    "\n",
    "<p>Você fez alguns programas que trocam mensagens com o usuário e fazem cálculos básicos.</p>\n",
    "\n",
    "<p>Porém, até agora, seus programas não conseguem tomar rumos diferentes de acordo com a informação recebida: uma linha é executada depois da outra <b>sempre</b>.</p>\n",
    "\n",
    "<p>Neste notebook, você vai aprender a tomar decisões sobre executar algum trecho de código ou não.</p>\n",
    "\n",
    "<p>Comandos condicionais servem para isso: testam se uma condição é verdadeira ou falsa e então decidem quais ações tomar.</p>\n",
    "\n",
    "<p>Começaremos vendo quais tipos de condições esses comandos podem testar.</p>\n",
    "\n",
    "<p>Lembre-se que para executar uma célula de código, basta clicar nela e digitar `SHIFT+ENTER`.</p>\n",
    "\n",
    "<hr>\n",
    "\n",
    "<h2>Comparações numéricas</h2>\n",
    "\n",
    "<p>As condições mais simples são as que comparam números, por exemplo:</p></font>"
   ]
  },
  {
   "cell_type": "code",
   "execution_count": 5,
   "metadata": {},
   "outputs": [
    {
     "name": "stdout",
     "output_type": "stream",
     "text": [
      "True\n"
     ]
    }
   ],
   "source": [
    "#print(5.000000001 > 5)\n",
    "print(2 > 5)"
   ]
  },
  {
   "cell_type": "markdown",
   "metadata": {},
   "source": [
    "<font size=4><p>A condição anterior vale **`False`** (falso), pois 2 **não é** maior do que 5.\n",
    "    <p>A condição seguinte é **`True`** (verdadeiro), pois 3 é igual a 3:</p></font>"
   ]
  },
  {
   "cell_type": "code",
   "execution_count": 6,
   "metadata": {},
   "outputs": [
    {
     "name": "stdout",
     "output_type": "stream",
     "text": [
      "True\n"
     ]
    }
   ],
   "source": [
    "print(3 >= 3)"
   ]
  },
  {
   "cell_type": "markdown",
   "metadata": {},
   "source": [
    "<font size=4><h3>Comparadores numéricos de Python</h3>\n",
    "\n",
    "<p>Na tabela abaixo estão todos os operadores de comparação:</p></font>\n",
    "\n",
    "| operador | significado      | \n",
    "|:--------:|------------------|\n",
    "|     `==` | igual a          |\n",
    "|     `!=` | diferente de     |\n",
    "|      `>` | maior que        |\n",
    "|      `<` | menor que        |\n",
    "|     `>=` | maior ou igual a |\n",
    "|     `<=` | menor ou igual a |\n",
    "\n",
    "<font size=4><p>E a seguir você pode ver alguns exemplos com todos eles.</p>\n",
    "    \n",
    "<p>Analise cada exemplo e entenda bem o resultado que foi impresso.</p></font>"
   ]
  },
  {
   "cell_type": "code",
   "execution_count": 7,
   "metadata": {},
   "outputs": [
    {
     "name": "stdout",
     "output_type": "stream",
     "text": [
      "5 é igual a 5? True\n",
      "3 é igual a 5? False\n",
      "5 é igual a 5.0? True\n",
      "5 é igual a 5.0001? False\n",
      "'carla' é igual a 'carla'? True\n",
      "'carla' é igual a 'Carla'? False\n",
      "'5' é igual a 5? False\n",
      "int('5') é igual a 5? True\n"
     ]
    }
   ],
   "source": [
    "print(\"5 é igual a 5?\", 5 == 5)\n",
    "print(\"3 é igual a 5?\", 3 == 5)\n",
    "print(\"5 é igual a 5.0?\", 5 == 5.0)\n",
    "print(\"5 é igual a 5.0001?\", 5 == 5.0001)\n",
    "print(\"'carla' é igual a 'carla'?\", \"carla\" == \"carla\")\n",
    "print(\"'carla' é igual a 'Carla'?\", \"carla\" == \"Carla\")\n",
    "print(\"'5' é igual a 5?\", \"5\" == 5)\n",
    "print(\"int('5') é igual a 5?\", int(\"5\") == 5)"
   ]
  },
  {
   "cell_type": "code",
   "execution_count": 17,
   "metadata": {},
   "outputs": [
    {
     "name": "stdout",
     "output_type": "stream",
     "text": [
      "5 é diferente de 5? True\n",
      "3 é diferente de 5? False\n",
      "5 é diferente de 5.0? True\n",
      "5 é diferente de 5.0001? False\n",
      "'carla' é diferente de 'carla'? True\n",
      "'carla' é diferente de 'Carla'? False\n",
      "'5' é diferente de 5? False\n",
      "int('5') é diferente de 5? True\n"
     ]
    }
   ],
   "source": [
    "print(\"5 é diferente de 5?\", 5 == 5)\n",
    "print(\"3 é diferente de 5?\", 3 == 5)\n",
    "print(\"5 é diferente de 5.0?\", 5 == 5.0)\n",
    "print(\"5 é diferente de 5.0001?\", 5 == 5.0001)\n",
    "print(\"'carla' é diferente de 'carla'?\", \"carla\" == \"carla\")\n",
    "print(\"'carla' é diferente de 'Carla'?\", \"carla\" == \"Carla\")\n",
    "print(\"'5' é diferente de 5?\", \"5\" == 5)\n",
    "print(\"int('5') é diferente de 5?\", int(\"5\") == 5)"
   ]
  },
  {
   "cell_type": "code",
   "execution_count": 18,
   "metadata": {},
   "outputs": [
    {
     "name": "stdout",
     "output_type": "stream",
     "text": [
      "5 é maior do que 3? True\n",
      "5 é maior ou igual a 3? True\n",
      "5 é maior do que 5? False\n",
      "5 é maior ou igual a 5? True\n",
      "5 é menor do que 3? False\n",
      "5 é menor ou igual a 3? False\n",
      "5 é menor do que 5? False\n",
      "5 é menor ou igual a 5? True\n"
     ]
    }
   ],
   "source": [
    "print(\"5 é maior do que 3?\", 5 > 3)\n",
    "print(\"5 é maior ou igual a 3?\", 5 >= 3)\n",
    "print(\"5 é maior do que 5?\", 5 > 5)\n",
    "print(\"5 é maior ou igual a 5?\", 5 >= 5)\n",
    "print(\"5 é menor do que 3?\", 5 < 3)\n",
    "print(\"5 é menor ou igual a 3?\", 5 <= 3)\n",
    "print(\"5 é menor do que 5?\", 5 < 5)\n",
    "print(\"5 é menor ou igual a 5?\", 5 <= 5)"
   ]
  },
  {
   "cell_type": "markdown",
   "metadata": {},
   "source": [
    "<font size=4><h4>Faça você mesmo:</h4>\n",
    "\n",
    "<p>Os resultados a seguir são todos `False`. Mude os números ou operadores para que virem todos `True`.</p></font>"
   ]
  },
  {
   "cell_type": "code",
   "execution_count": 19,
   "metadata": {},
   "outputs": [
    {
     "name": "stdout",
     "output_type": "stream",
     "text": [
      "False\n",
      "True\n"
     ]
    }
   ],
   "source": [
    "print(4-1 <= 2) \n",
    "print(4-1 >= 2)"
   ]
  },
  {
   "cell_type": "code",
   "execution_count": 20,
   "metadata": {},
   "outputs": [
    {
     "name": "stdout",
     "output_type": "stream",
     "text": [
      "False\n",
      "True\n"
     ]
    }
   ],
   "source": [
    "print(3.5/3 == 1) \n",
    "print(3.5/3 >= 1)"
   ]
  },
  {
   "cell_type": "code",
   "execution_count": 21,
   "metadata": {},
   "outputs": [
    {
     "name": "stdout",
     "output_type": "stream",
     "text": [
      "False\n",
      "True\n"
     ]
    }
   ],
   "source": [
    "x = 3\n",
    "print(2**x != 4*2) \n",
    "\n",
    "x = 3\n",
    "print(2**x == 4*2)"
   ]
  },
  {
   "cell_type": "code",
   "execution_count": 22,
   "metadata": {},
   "outputs": [
    {
     "name": "stdout",
     "output_type": "stream",
     "text": [
      "False\n",
      "True\n"
     ]
    }
   ],
   "source": [
    "x = 4\n",
    "y = 2\n",
    "print(x/2 != y) \n",
    "\n",
    "x = 4\n",
    "y = 3\n",
    "print(x/2 != y)"
   ]
  },
  {
   "cell_type": "markdown",
   "metadata": {},
   "source": [
    "<font size=4><h1>**Atenção!!** Não confunda o operador de comparação de igualdade (`==`) com a atribuição (`=`)</h1></font>"
   ]
  },
  {
   "cell_type": "markdown",
   "metadata": {},
   "source": [
    "## Verdadeiro ou falso\n",
    "\n",
    "Ao executar os exemplos da seção acima, você percebeu que o resultado de uma comparação é sempre **`True`** ou **`False`**. Estes são dois valores especiais em Python.\n",
    "\n",
    "Você pode guardá-los em uma variável, se precisar. Veja os exemplos:"
   ]
  },
  {
   "cell_type": "code",
   "execution_count": 23,
   "metadata": {},
   "outputs": [
    {
     "name": "stdout",
     "output_type": "stream",
     "text": [
      "False\n"
     ]
    }
   ],
   "source": [
    "teste1 = 3 < 8 / 3\n",
    "print(teste1)"
   ]
  },
  {
   "cell_type": "code",
   "execution_count": 24,
   "metadata": {},
   "outputs": [
    {
     "name": "stdout",
     "output_type": "stream",
     "text": [
      "True\n"
     ]
    }
   ],
   "source": [
    "teste2 = True\n",
    "print(teste2)"
   ]
  },
  {
   "cell_type": "markdown",
   "metadata": {},
   "source": [
    "<font size=4><hr>\n",
    "<h2>Checando itens de uma lista</h2>\n",
    "    \n",
    "<p>Podemos verificar se um item está armazenado dentro de uma lista usando a palavra `in`.</p>\n",
    "</font>"
   ]
  },
  {
   "cell_type": "code",
   "execution_count": 29,
   "metadata": {},
   "outputs": [
    {
     "name": "stdout",
     "output_type": "stream",
     "text": [
      "True\n",
      "False\n"
     ]
    }
   ],
   "source": [
    "vogais = [\"a\", \"e\", \"i\", \"o\", \"u\"]\n",
    "print(\"a\" in vogais)\n",
    "print(\"b\" in vogais)"
   ]
  },
  {
   "cell_type": "markdown",
   "metadata": {},
   "source": [
    "<font size=4><h2>Condicionais</h2>\n",
    "\n",
    "<p>Finalmente, vamos ver como fazer para indicar que partes de um código serão executadas somente no caso em que uma condição é verdadeira.</p>\n",
    "\n",
    "<p>Para isso, vamos usar o comando `if`, que significa \"se\" em inglês.</p>\n",
    "\n",
    "<p>Veja o exemplo abaixo, execute-o e depois veja a explicação.</p></font>"
   ]
  },
  {
   "cell_type": "code",
   "execution_count": 13,
   "metadata": {},
   "outputs": [
    {
     "name": "stdout",
     "output_type": "stream",
     "text": [
      "A é maior que B\n",
      "===============\n",
      "fim do programa\n",
      "\n",
      "\n",
      "Digite um número: 9.9\n",
      "Digite outro número: 9.91\n",
      "O número 9.91 é maior do que o número 9.9\n",
      "==========================\n",
      "fim do programa\n"
     ]
    }
   ],
   "source": [
    "# Para comentar blocos de código, basta selecionar as linhas de código que deseja comentar \n",
    "# (não precisa selecioná-las por completo, ou seja, até o final da linha) e pressionar CTRL+/.\n",
    "\n",
    "# A = 9\n",
    "A = 11\n",
    "B = 10\n",
    "if A > B: \n",
    "    print(\"A é maior que B\")\n",
    "    print(\"===============\")\n",
    "print(\"fim do programa\\n\\n\")\n",
    "\n",
    "# inteiro_1 = int(input(\"Digite um número inteiro: \"))\n",
    "# inteiro_2 = int(input(\"Digite outro número inteiro: \"))\n",
    "inteiro_1 = float(input(\"Digite um número: \"))\n",
    "inteiro_2 = float(input(\"Digite outro número: \"))\n",
    "\n",
    "if inteiro_1 > inteiro_2:\n",
    "    print(\"O número\",inteiro_1,\"é maior do que o número\",inteiro_2)\n",
    "    print(\"==========================\")\n",
    "elif inteiro_1 < inteiro_2:\n",
    "    print(\"O número\",inteiro_2,\"é maior do que o número\",inteiro_1)\n",
    "    print(\"==========================\")\n",
    "else:\n",
    "    print(\"O número\",inteiro_1,\"e o número\",inteiro_2,\"são iguais\")\n",
    "    print(\"==========================\")\n",
    "print(\"fim do programa\")\n"
   ]
  },
  {
   "cell_type": "markdown",
   "metadata": {},
   "source": [
    "<font size=4>Veja que os dois comandos `print(...)` que aparecem logo após o comando **`if`** não foram executados, pois `A > B` é falso para os valores atribuídos a `A` e `B`.</font>"
   ]
  },
  {
   "cell_type": "markdown",
   "metadata": {},
   "source": [
    "<font size=4>\n",
    "<h4> Faça você mesmo: </h4>\n",
    "\n",
    "<ol>\n",
    "<li>No código acima, mude o valor de `A` para qualquer valor maior do que 10, re-execute a célula e veja o que acontece.</li>\n",
    "<li>Depois disso, mude o código acima para que `A` e `B` sejam inteiros digitados pelo usuário. </li>\n",
    "</ol>\n",
    "</font>"
   ]
  },
  {
   "cell_type": "markdown",
   "metadata": {},
   "source": [
    "<font size=4><h3>O comando `if`</h3>\n",
    "\n",
    "<p>O comando `if` tem a seguinte estrutura:</p>\n",
    "\n",
    "<code>if condição:\n",
    "    comando  \n",
    "    comando\n",
    "    comando\n",
    "    etc...\n",
    "continuação do programa\n",
    "</code>\n",
    "    \n",
    "<p>As linhas de código que você quiser executar quando a condição for verdadeira devem vir *indentadas* (alinhadas um pouco mais a frente do que o **`if`**) logo após o comando **`if`**. Você pode usar a tecla `TAB` para alinhar as linhas.</p>\n",
    "\n",
    "<p>Chamaremos o conjunto de comandos executados caso a condição do `if` seja verdadeira de **bloco de comandos do `if`**.</p>\n",
    "\n",
    "<p>Uma linha sem *indentação* marca o fim do bloco de comandos do **`if`**.</p>\n",
    "\n",
    "<p>**Atenção:** se você não *indentar* o código corretamente, o programa terá um comportamento diferente daquele que você espera!</p>\n",
    "\n",
    "<p>Por exemplo, o código a seguir dá erro por falta de indentação (execute-o e veja a mensagem de erro).</p></font>"
   ]
  },
  {
   "cell_type": "code",
   "execution_count": 14,
   "metadata": {},
   "outputs": [
    {
     "name": "stdout",
     "output_type": "stream",
     "text": [
      "A é menor que B\n",
      "===============\n",
      "fim do programa\n"
     ]
    }
   ],
   "source": [
    "#A = 2\n",
    "#B = 10\n",
    "#if A > B:\n",
    "#print(\"A é maior que B\")\n",
    "#print(\"===============\")\n",
    "#print(\"fim do programa\")\n",
    "\n",
    "A = 2\n",
    "B = 10\n",
    "if A < B:\n",
    "    print(\"A é menor que B\")\n",
    "    print(\"===============\")\n",
    "print(\"fim do programa\")"
   ]
  },
  {
   "cell_type": "markdown",
   "metadata": {},
   "source": [
    "<font size=4><p>O código a seguir sempre imprime \"===============\", pois o comando para imprimir isso já está *fora* do bloco do if.</p></font>"
   ]
  },
  {
   "cell_type": "code",
   "execution_count": 16,
   "metadata": {},
   "outputs": [
    {
     "name": "stdout",
     "output_type": "stream",
     "text": [
      "Digite um número inteiro: 54\n",
      "Digite outro número inteiro: 45\n",
      "54 é maior que 45\n",
      "\n",
      "\n",
      "===============\n",
      "fim do programa\n"
     ]
    }
   ],
   "source": [
    "#A = 2\n",
    "#B = 10\n",
    "#if A > B:\n",
    "#    print(\"A é maior que B\")\n",
    "#print(\"===============\")\n",
    "#print(\"fim do programa\")\n",
    "\n",
    "A = int(input(\"Digite um número inteiro: \"))\n",
    "B = int(input(\"Digite outro número inteiro: \"))\n",
    "\n",
    "if A > B:\n",
    "    print(A,\"é maior que\",B)\n",
    "else:\n",
    "    print(B,\"é maior que\",A)\n",
    "print(\"\\n\\n===============\")\n",
    "print(\"fim do programa\")"
   ]
  },
  {
   "cell_type": "markdown",
   "metadata": {},
   "source": [
    "<font size=4><p>**Observação**: É uma prática comum em programação, de forma geral, fazer indentação de código para que ele fique mais legível. Na maioria das linguagens de programação como Java e C, a indentação tem um propósito puramente estético. Em Python, no entanto, a indentação é **obrigatória** em vários casos. O bloco do **`if`** é um desses casos.</p></font>\n",
    "\n"
   ]
  },
  {
   "cell_type": "markdown",
   "metadata": {},
   "source": [
    "<font size=4>**Importante:** você pode escrever qualquer comando que nós já vimos dentro do bloco de comandos do `if`, inclusive outros comandos `if`:</font>"
   ]
  },
  {
   "cell_type": "code",
   "execution_count": 20,
   "metadata": {},
   "outputs": [
    {
     "name": "stdout",
     "output_type": "stream",
     "text": [
      "Digite o primeiro número ('inteiro'): 16\n",
      "Digite o segundo número ('inteiro'): 3\n",
      "O resultado da divisão de 16 por 3 é 5 e o resto é 1\n",
      "FIM\n"
     ]
    }
   ],
   "source": [
    "A = int(input(\"Digite o primeiro número ('inteiro'): \"))\n",
    "B = int(input(\"Digite o segundo número ('inteiro'): \"))\n",
    "if B != 0:\n",
    "    divisao = A // B\n",
    "    resto = A % B\n",
    "    if resto == 0:\n",
    "        print(A, \"é divisível por\", B, \"e o resultado da divisao é\", divisao)\n",
    "    if resto != 0:\n",
    "        print(\"O resultado da divisão de\", A, \"por\", B, \"é\", divisao, \"e o resto é\", resto)\n",
    "print(\"FIM\")"
   ]
  },
  {
   "cell_type": "markdown",
   "metadata": {},
   "source": [
    "<font size=4>Entenda bem o programa anterior: ele testa se um número é divisível pelo outro. Esse tipo de teste será muito utilizado posteriormente.</font>"
   ]
  },
  {
   "cell_type": "markdown",
   "metadata": {},
   "source": [
    "<font size=4><h4>Faça você mesmo!</h4>\n",
    "    \n",
    "<p>Complete o código a seguir de modo que ele tenha o seguinte comportamento:\n",
    "<ul>\n",
    "    <li>Pergunta ao usuário quantos anos ele tem.</li>\n",
    "    <li>Se o usuário tem idade par, mostra uma mensagem a ele informando-o desse fato. No caso ímpar você não precisa fazer nada.</li>\n",
    "</ul></p>\n",
    "\n",
    "<p>Dica: um número é par se ele é divisível por 2.</p></font>"
   ]
  },
  {
   "cell_type": "code",
   "execution_count": 22,
   "metadata": {},
   "outputs": [
    {
     "name": "stdout",
     "output_type": "stream",
     "text": [
      "Quantos anos você tem? 20\n",
      "Sua idade é par.\n",
      "\n",
      "Fim do programa.\n"
     ]
    }
   ],
   "source": [
    "idade = int(input(\"Quantos anos você tem? \"))\n",
    "if idade != 0:\n",
    "    resto = idade % 2\n",
    "    if resto == 0:\n",
    "        print(\"Sua idade é par.\")\n",
    "    else:\n",
    "        print(\"Sua idade é impar.\")\n",
    "print(\"\")\n",
    "print(\"Fim do programa.\")"
   ]
  },
  {
   "cell_type": "markdown",
   "metadata": {},
   "source": [
    "<font size=4><h4>Faça você mesmo!</h4>\n",
    "    \n",
    "<p>Identifique o que o código a seguir está fazendo e complete a mensagem.</p>\n",
    "</font>"
   ]
  },
  {
   "cell_type": "code",
   "execution_count": 15,
   "metadata": {},
   "outputs": [
    {
     "name": "stdout",
     "output_type": "stream",
     "text": [
      "Digite um inteiro qualquer: 10\n",
      "O número digitado é positivo, menor ou igual à 100 e é par\n"
     ]
    }
   ],
   "source": [
    "#x = int(input(\"Digite um inteiro qualquer: \"))\n",
    "#if x in range(1,100,2):\n",
    "#    print(\"O número digitado é positivo, menor do que 100 e é impar\")\n",
    "#else:\n",
    "#    print(\"O número digitado é positivo, menor do que 100 e é par\")\n",
    "    \n",
    "y = int(input(\"Digite um inteiro qualquer: \"))\n",
    "\n",
    "if y >= 1:\n",
    "    if y in range(1,100,2):\n",
    "        print(\"O número digitado é positivo, menor do que 100 e é impar\")\n",
    "    elif y > 100:\n",
    "        print(\"O número digitado é maior do que 100 e não faz parte da lista.\")\n",
    "    else:\n",
    "        print(\"O número digitado é positivo, menor ou igual à 100 e é par\")\n",
    "elif y == 0:\n",
    "        print(\"O número digitado é igual à zero.\")\n",
    "else: \n",
    "    print(\"O número digitado é negativo.\")"
   ]
  },
  {
   "cell_type": "markdown",
   "metadata": {},
   "source": [
    "<font size=4><h3>O comando **`if..else`**</h3>\n",
    "\n",
    "<p>Agora que você já entendeu o funcionamento do **`if`**, vamos aprender como executar uma ação (ou várias ações) caso a condição do **`if`** seja falsa.</p>\n",
    "\n",
    "<p>Por exemplo, no exercício da idade par ou impar, se quiséssemos mostrar uma mensagem ao usuário também no caso ímpar, poderíamos fazer algo do tipo:</p></font>"
   ]
  },
  {
   "cell_type": "code",
   "execution_count": 1,
   "metadata": {},
   "outputs": [
    {
     "name": "stdout",
     "output_type": "stream",
     "text": [
      "Quantos anos você tem? 8\n",
      "Sua idade é par.\n"
     ]
    }
   ],
   "source": [
    "idade = int(input(\"Quantos anos você tem? \"))\n",
    "if idade % 2 == 0:\n",
    "    print(\"Sua idade é par.\")\n",
    "if idade % 2 == 1:\n",
    "    print(\"Sua idade é ímpar.\")"
   ]
  },
  {
   "cell_type": "markdown",
   "metadata": {},
   "source": [
    "<font size=4>\n",
    "<p>O código acima está funcionando da seguinte forma:</p>\n",
    "<ul>\n",
    "    <li>primeiro, ele testa se `idade % 2 == 0`</li>\n",
    "    <li>se for verdade, ele imprime a mensagem `Sua idade é par.` e se não for verdade ele não imprime essa mensagem</li>\n",
    "    <li>em seguida, ele testa se `idade % 2 == 1`</li>\n",
    "    <li>se for verdade, ele imprime `Sua idade é ímpar.` e se não for verdade ele não imprime nada</li>\n",
    "</ul>\n",
    "    \n",
    "<p>Não há nada de errado com esse comportamento, afinal nós já vimos que os comandos de um programa são executados dessa forma: um após o outro.</p>\n",
    "\n",
    "<p>Inclusive, esse código está funcionando corretamente: ele vai indicar, corretamente, se o número digitado pelo usuário é par ou ímpar.</p>\n",
    "\n",
    "<p>Acontece que nós sabemos que um número só pode ser par ou ímpar, e nunca ambos ao mesmo tempo.</p>\n",
    "\n",
    "<p>Assim, se `idade` é um número par e a mensagem `Sua idade é par.` for impressa, não há necessidade em fazer o teste `idade % 2 == 1`.</p>\n",
    "    \n",
    "<p>Com o comando **`else`** (que significa \"senão\" em inglês) é possível melhorar esse programa. Veja e teste o exemplo abaixo.</p></font>"
   ]
  },
  {
   "cell_type": "code",
   "execution_count": 4,
   "metadata": {},
   "outputs": [
    {
     "name": "stdout",
     "output_type": "stream",
     "text": [
      "Quantos anos você tem? 32\n",
      "Sua idade é par.\n"
     ]
    }
   ],
   "source": [
    "idade = int(input(\"Quantos anos você tem? \"))\n",
    "if idade % 2 == 0:\n",
    "    print(\"Sua idade é par.\")\n",
    "else:\n",
    "    print(\"Sua idade é ímpar.\")"
   ]
  },
  {
   "cell_type": "markdown",
   "metadata": {},
   "source": [
    "<font size=4><p>Ou seja, o código no bloco do **`else`** só é executado se a condição do **`if`** for falsa.</p></font>"
   ]
  },
  {
   "cell_type": "markdown",
   "metadata": {},
   "source": [
    "<font size=4>**Observação:** você pode escrever qualquer comando que nós já vimos dentro do bloco de comandos do `if` e dentro do bloco de comandos do `else`, inclusive outros comandos `if` ou `if..else`.</font>"
   ]
  },
  {
   "cell_type": "markdown",
   "metadata": {},
   "source": [
    "<font size=4><h3>Importante</h3>\n",
    "    \n",
    "<p>O comando `if..else` só deve ser utilizado quando temos certeza de que apenas um dos caminhos deve ser seguido.</p>\n",
    "\n",
    "<p>Teste o exemplo a seguir:</p></font>"
   ]
  },
  {
   "cell_type": "code",
   "execution_count": 7,
   "metadata": {},
   "outputs": [
    {
     "name": "stdout",
     "output_type": "stream",
     "text": [
      "Digite um inteiro qualquer: -32\n",
      "O número é negativo\n",
      "O número é par\n"
     ]
    }
   ],
   "source": [
    "valor = int(input(\"Digite um inteiro qualquer: \"))\n",
    "\n",
    "if valor > 0:\n",
    "    print(\"O número é positivo\")\n",
    "    if valor % 2 == 0:\n",
    "            print(\"O número é par\")\n",
    "    else:\n",
    "            print(\"O número é impar\")\n",
    "#else:\n",
    "#    if valor < 0:\n",
    "#        print(\"O número é negativo\")\n",
    "#    if valor % 2 == 0:\n",
    "#        print(\"O número é par\")\n",
    "#    else:\n",
    "#        print(\"O número é impar\")\n",
    "        \n",
    "elif valor < 0:\n",
    "    print(\"O número é negativo\")\n",
    "    if valor % 2 == 0:\n",
    "        print(\"O número é par\")\n",
    "    else:\n",
    "        print(\"O número é impar\")\n",
    "\n",
    "else:\n",
    "    print(\"O número digitado é igual à zero.\")"
   ]
  },
  {
   "cell_type": "markdown",
   "metadata": {},
   "source": [
    "<font size=4><p>Note que um número pode ser positivo e par ao mesmo tempo.</p>\n",
    "    \n",
    "<p>Assim, supondo que a intenção do código acima é fornecer todas as informações possíveis sobre o número digitado, então ele está errado.</p>\n",
    "\n",
    "<p>Volte e **corrija-o**.</p></font>"
   ]
  },
  {
   "cell_type": "markdown",
   "metadata": {},
   "source": [
    "<font size=4><h3>Exemplo</h3>\n",
    "    \n",
    "<p>O programa a seguir quer testar qual é o maior dentre dois números lidos na entrada.</p>\n",
    "\n",
    "<p>Modifique-o para fazer isso de forma mais eficiente.</p>\n",
    "</font>"
   ]
  },
  {
   "cell_type": "code",
   "execution_count": 9,
   "metadata": {},
   "outputs": [
    {
     "name": "stdout",
     "output_type": "stream",
     "text": [
      "Digite um número: 0.1\n",
      "Digite outro número: 0.100000000000000000000000000001\n",
      "\n",
      "Os números digitados são iguais\n",
      "==========================\n",
      "\n",
      "fim do programa\n"
     ]
    }
   ],
   "source": [
    "#Aqui está sendo usado dois \"if\"\n",
    "#a = int(input(\"Digite um número: \"))\n",
    "#b = int(input(\"Digite outro número: \"))\n",
    "#if a >= b:\n",
    "#    print(\"O número\", a, \"é maior ou igual ao número\", b)\n",
    "#if a < b:\n",
    "#    print(\"O número\", b, \"é maior do que o número\", a)\n",
    "\n",
    "a = float(input(\"Digite um número: \"))\n",
    "b = float(input(\"Digite outro número: \"))\n",
    "\n",
    "if a > b:\n",
    "    print(\"\\nO número\",a,\"é maior do que o número\",b) #\\n pula uma linha\n",
    "    print(\"==========================\\n\")\n",
    "elif a < b:\n",
    "    print(\"\\nO número\",b,\"é maior do que o número\",a)\n",
    "    print(\"==========================\\n\")\n",
    "else:\n",
    "    print(\"\\nOs números digitados são iguais\")\n",
    "    print(\"==========================\\n\")\n",
    "print(\"fim do programa\")"
   ]
  },
  {
   "cell_type": "markdown",
   "metadata": {},
   "source": [
    "<font size=4><p>O exemplo a seguir envolve listas.</p>\n",
    "\n",
    "<p>Note que um elemento pode estar ou não em uma lista: não há outras opções e ele precisa satisfazer uma dessas duas.</p>\n",
    "</font>"
   ]
  },
  {
   "cell_type": "code",
   "execution_count": 11,
   "metadata": {
    "scrolled": true
   },
   "outputs": [
    {
     "name": "stdout",
     "output_type": "stream",
     "text": [
      "Digite sua sobremesa favorita: Sorvete\n",
      "Humm, eu não havia pensado nessa!!\n"
     ]
    }
   ],
   "source": [
    "minhas_sobremesas = [\"bolo de chocolate\", \"sorvete\", \"pudim\", \"paçoca\", \"brigadeiro\"]\n",
    "x = input(\"Digite sua sobremesa favorita: \")\n",
    "\n",
    "if x in minhas_sobremesas:\n",
    "    print(\"Essa também é uma das minhas sobremesas favoritas!\")\n",
    "else:\n",
    "    print(\"Humm, eu não havia pensado nessa!!\")"
   ]
  },
  {
   "cell_type": "markdown",
   "metadata": {},
   "source": [
    "<font size=4><h3>Faça você mesmo!</h3>\n",
    "\n",
    "<p>Profa. Alice ministra a disciplina de Fenômenos Quânticos na UFABC. Ela dará duas provas ($P_1$ e $P_2$), e o critério de aprovação é ter média maior ou igual a $5.0$. Faça um programa em Python que ajude a Profa. Alice a decidir se um aluno foi aprovado ou não. Seu programa deve executar os seguintes passos:\n",
    "<ul>\n",
    "    <li> Perguntar a nota da $P_1$.</li>\n",
    "    <li> Perguntar a nota da $P_2$.</li>\n",
    "    <li> Calcular a média simples das provas.</li>\n",
    "    <li> Se a média das provas for maior ou igual a $5.0$, mostrar a mensagem \"Aprovado\".</li>\n",
    "    <li> Senão, mostrar \"Reprovado\".</li>\n",
    "</ul>\n",
    "</p></font>"
   ]
  },
  {
   "cell_type": "code",
   "execution_count": 51,
   "metadata": {},
   "outputs": [
    {
     "name": "stdout",
     "output_type": "stream",
     "text": [
      "Informe a nota da P1: 4.5\n",
      "Informe  anota da P2: 5.5\n",
      "Parabéns jovem, o senhorito está aprovado\n"
     ]
    }
   ],
   "source": [
    "p1 = float(input(\"Informe a nota da P1: \"))\n",
    "p2 = float(input(\"Informe  anota da P2: \"))\n",
    "\n",
    "media = (p1 + p2) / 2\n",
    "\n",
    "if media >= 5.0:\n",
    "    print(\"Parabéns, você está aprovado!\")\n",
    "else:\n",
    "    print(\"Você não foi aprovado!\")"
   ]
  },
  {
   "cell_type": "markdown",
   "metadata": {},
   "source": [
    "\n",
    ".\n",
    ".<font size=4><h3>Combinando condições</h3>\n",
    "\n",
    "<p>Podemos criar condições mais complexas combinando condições simples. Vejamos um exemplo.</p>\n",
    "\n",
    "<p>Em algumas disciplinas da UFABC, não basta que a média das duas provas ($P1$ e $P2$) de um aluno seja maior ou igual a $5.0$: ele também deve tirar uma nota mínima $3.0$ na $P2$.</p>\n",
    "\n",
    "<p>Ou seja, para que seja aprovado o aluno precisa que\n",
    "\n",
    "$$\\frac{P1 + P2}{2} \\geq 5 \\quad\\quad\\text{ E }\\quad\\quad P2 \\geq 3.$$</p>\n",
    "\n",
    "<p>Em Python, podemos usar a palavra **`and`** para exigir que duas condições valham ao mesmo tempo:</p></font>"
   ]
  },
  {
   "cell_type": "code",
   "execution_count": 28,
   "metadata": {},
   "outputs": [
    {
     "name": "stdout",
     "output_type": "stream",
     "text": [
      "Qual a nota da P1? 7\n",
      "Qual a nota da P2? 3\n",
      "Aprovado\n"
     ]
    }
   ],
   "source": [
    "#P1 = float(input(\"Qual a nota da P1? \"))\n",
    "#P2 = float(input(\"Qual a nota da P2? \"))\n",
    "#if (P1 + P2)/2 >= 5.0 and P2 >= 3.0:\n",
    "#    print(\"Aprovado\")\n",
    "#else:\n",
    "#    print(\"Reprovado\")\n",
    "    \n",
    "P1 = float(input(\"Qual a nota da P1? \"))\n",
    "P2 = float(input(\"Qual a nota da P2? \"))\n",
    "\n",
    "#if (P1 + P2)/2 >= 5.0 and P2 >= 3.0:\n",
    "# É possível colocar dois \"and\" na mesma condição\n",
    "if (P1 + P2)/2 >= 5.0 and P1 >= 3.0 and P2 >= 3.0:\n",
    "    print(\"Aprovado\")\n",
    "else:\n",
    "    print(\"Reprovado\")"
   ]
  },
  {
   "cell_type": "markdown",
   "metadata": {},
   "source": [
    "<font size=4><p>O operador **`and`** funciona assim: a condição composta `(condição1 and condição2)` é avaliada como **`True`** (verdadeira) só quando a `condição1` é **`True`** e, simultaneamente, a `condição2` também é **`True`**. </p></font>"
   ]
  },
  {
   "cell_type": "markdown",
   "metadata": {},
   "source": [
    "<font size=4><h4>Faça você mesmo:</h4>\n",
    "\n",
    "<p>Modifique o código acima para que a nota da $P_1$ também tenha que ser pelo menos 3.</p>\n",
    "\n",
    "<p>No código abaixo, altere o valor das variáveis `chuva` e `sol` para ver como isso afeta o programa.</p>\n",
    "\n",
    "</font>"
   ]
  },
  {
   "cell_type": "code",
   "execution_count": 17,
   "metadata": {},
   "outputs": [
    {
     "name": "stdout",
     "output_type": "stream",
     "text": [
      "False \n",
      "\n",
      "True\n"
     ]
    }
   ],
   "source": [
    "#As duas condições precisam ser verdadeiras\n",
    "chuva = False\n",
    "sol = True\n",
    "arcoiris = chuva and sol\n",
    "print(arcoiris,\"\\n\")\n",
    "\n",
    "#Apenas uma das condições precisa ser verdadeira\n",
    "chuva = False\n",
    "sol = True\n",
    "arcoiris = chuva or sol\n",
    "print(arcoiris)"
   ]
  },
  {
   "cell_type": "markdown",
   "metadata": {},
   "source": [
    "<font size=4><h4>Faça você mesmo!</h4>\n",
    "\n",
    "<p>Vamos assumir que um professor universitário federal pode se aposentar desde que tenha pelo menos 35 anos de serviço e pelo menos 60 anos de idade. Faça um programa para ajudar o professor a descobrir se ele já pode se aposentar.</p> \n",
    "\n",
    "<p>Seu programa deve fazer o seguinte:\n",
    "<ul>\n",
    "    <li>Pergunte ao professor pelo ano em que nasceu.</li>\n",
    "    <li> Pergunte pelo ano em que começou a trabalhar.</li>\n",
    "    <li> Pergunte ao professor pelo ano em que estamos.</li>\n",
    "    <li> Baseando-se nas respostas que ele deu ao seu programa, diga se ele pode se aposentar este ano.</li>\n",
    "</ul></p></font>"
   ]
  },
  {
   "cell_type": "code",
   "execution_count": 39,
   "metadata": {},
   "outputs": [
    {
     "name": "stdout",
     "output_type": "stream",
     "text": [
      "Em que ano você nasceu? 1980\n",
      "Em que ano você começou a trabalhar? 2000\n",
      "Informe em que ano estamos: 2022\n",
      "Você não possui tempo de serviço e \n",
      "nem a idade suficiente para se aposentar. \n"
     ]
    }
   ],
   "source": [
    "ano_nasc = int(input(\"Em que ano você nasceu? \"))\n",
    "comecou_trab = int(input(\"Em que ano você começou a trabalhar? \"))\n",
    "ano_atual = int(input(\"Informe em que ano estamos: \"))\n",
    "\n",
    "tempo_trab = ano_atual - comecou_trab\n",
    "idade = ano_atual - ano_nasc\n",
    "tempo_restante = 35 - tempo_trab \n",
    "idade_restante = 60 - idade\n",
    "\n",
    "if (tempo_trab >= 35) and (idade >= 60):\n",
    "    print(\"Você já pode se aposentar.\")\n",
    "elif (tempo_trab < 35) and (idade >= 60):\n",
    "    print(\"Você precisa trabalhar mais \",tempo_restante,\"anos para se aposentar.\")\n",
    "elif (tempo_trab >= 35) and (idade < 60):\n",
    "    print(\"Faltam\",idade_restante,\"anos para você completar a idade obrigatória.\")\n",
    "else:\n",
    "    print(\"Você não possui tempo de serviço e \\nnem a idade suficiente para se aposentar. \")"
   ]
  },
  {
   "cell_type": "markdown",
   "metadata": {},
   "source": [
    "<font size=4><h3>Outros operadores</h3>\n",
    "    \n",
    "<p>Python tem ainda os operadores **`or`** e **`not`**. </p>\n",
    "\n",
    "<p>O operador **`not`** pode ser usado para inverter a validade de uma condição. Veja:</p></font>"
   ]
  },
  {
   "cell_type": "code",
   "execution_count": 9,
   "metadata": {},
   "outputs": [
    {
     "data": {
      "text/plain": [
       "True"
      ]
     },
     "execution_count": 9,
     "metadata": {},
     "output_type": "execute_result"
    }
   ],
   "source": [
    "not (2 > 5)"
   ]
  },
  {
   "cell_type": "markdown",
   "metadata": {},
   "source": [
    "<font size=4><p>Uma condição da forma `(condição1 or condição2)` será verdadeira se pelo menos uma das duas condições envolvidas for verdadeira.</p>\n",
    "\n",
    "<p>Diferentemente do que estamos acostumados em português, o operador **`or`** não é um ou-exclusivo, ou seja, se as duas condições `condição1` e `condição2` forem ambas verdadeiras, então o resultado de `(condição1 or condição2)` também será verdadeiro. </p></font>"
   ]
  },
  {
   "cell_type": "markdown",
   "metadata": {},
   "source": [
    "<font size=4><h4>Faça você mesmo:</h4>\n",
    "\n",
    "<p>No código abaixo, altere o valor das variáveis `chuva` e `sol` para ver como isso afeta o programa.</p>\n",
    "</font>"
   ]
  },
  {
   "cell_type": "code",
   "execution_count": 50,
   "metadata": {},
   "outputs": [
    {
     "name": "stdout",
     "output_type": "stream",
     "text": [
      "True\n"
     ]
    }
   ],
   "source": [
    "#Apenas uma das condições precisa ser verdadeira\n",
    "frio = False\n",
    "chuva = True\n",
    "tempoRuim = frio or chuva\n",
    "print(tempoRuim)"
   ]
  },
  {
   "cell_type": "markdown",
   "metadata": {},
   "source": [
    "<font size=4><h4>Mais exemplos</h4>\n",
    "    \n",
    "<p>O resultado da condição composta abaixo é **`True`** porque, apesar da primeira condição ser falsa, a segunda é verdadeira.</p></font>"
   ]
  },
  {
   "cell_type": "code",
   "execution_count": 2,
   "metadata": {},
   "outputs": [
    {
     "name": "stdout",
     "output_type": "stream",
     "text": [
      "True\n"
     ]
    }
   ],
   "source": [
    "print(2 > 5 or 1 < 2)"
   ]
  },
  {
   "cell_type": "markdown",
   "metadata": {},
   "source": [
    "<font size=4><p>No próximo exemplo, as duas condições são verdadeiras.</p>"
   ]
  },
  {
   "cell_type": "code",
   "execution_count": 3,
   "metadata": {
    "scrolled": true
   },
   "outputs": [
    {
     "name": "stdout",
     "output_type": "stream",
     "text": [
      "True\n"
     ]
    }
   ],
   "source": [
    "print(4 == 2 + 2 or 2 > 0)"
   ]
  },
  {
   "cell_type": "markdown",
   "metadata": {},
   "source": [
    "<font size=4>**Observação:** Os operadores `and`, `or` e `not` podem ser combinados em expressões maiores, de forma similar ao que fazemos com os operadores aritméticos (como `+` e `*`).</font>"
   ]
  },
  {
   "cell_type": "code",
   "execution_count": 22,
   "metadata": {},
   "outputs": [
    {
     "name": "stdout",
     "output_type": "stream",
     "text": [
      "Digite um número inteiro: 3333\n",
      "O número digitado é válido.\n"
     ]
    }
   ],
   "source": [
    "x = int(input(\"Digite um número inteiro: \"))\n",
    "# Nesse problema, um número é considerado válido se satisfaz uma das duas propriedades:\n",
    "# * ele está no intervalo entre 100 e 1000\n",
    "# * ele é múltiplo de 3\n",
    "if (100 <= x and x <= 1000) or (x % 3 == 0):\n",
    "    print(\"O número digitado é válido.\")\n",
    "else:\n",
    "    print(\"O número digitado não é válido.\")"
   ]
  },
  {
   "cell_type": "markdown",
   "metadata": {},
   "source": [
    "<font size=4><h3>Múltiplas possibilidades</h3>\n",
    "\n",
    "<p>É bastante comum lidarmos com situações em que não existem apenas duas possibilidades para o comportamento do programa.</p>\n",
    "\n",
    "<p>Suponha que temos que criar um programa para classificar o nível do *low-density lipoprotein* (LDL), conhecido em português com o nome de colesterol \"ruim\". Segundo um estudo citado pelo [*CDC*](http://www.cdc.gov/dhdsp/data_statistics/fact_sheets/fs_cholesterol.htm) Norte Americano, os níveis de LDL podem ser classificados segundo a tabela abaixo.</p></font>\n",
    "\n",
    "|    Nível de LDL | Classificação |\n",
    "|----------------:|---------------|\n",
    "|   menor que 100 | Ótimo         |\n",
    "| entre 100 e 129 | Baixo         |\n",
    "| entre 130 e 159 | Limítrofe     |\n",
    "| entre 160 e 189 | Alto          |\n",
    "|   maior que 190 | Muito alto    |\n",
    "\n",
    "<font size=4><p>Se tivéssemos que fazer um programa que perguntasse pelo nível de LDL e que mostrasse a classificação correspondente, poderíamos usar os conhecimentos de **`if..else`** que adquirimos até agora e construir o seguinte programa.</p></font>"
   ]
  },
  {
   "cell_type": "code",
   "execution_count": 25,
   "metadata": {},
   "outputs": [
    {
     "name": "stdout",
     "output_type": "stream",
     "text": [
      "Qual o nível de LDL? 190\n",
      "Muito alto\n"
     ]
    }
   ],
   "source": [
    "LDL = float(input(\"Qual o nível de LDL? \"))\n",
    "\n",
    "if LDL < 100: # Menor que 100\n",
    "    print(\"Ótimo\")\n",
    "if 100 <= LDL and LDL < 130: # Entre 100 e 129\n",
    "    print(\"Baixo\")\n",
    "if 130 <= LDL and LDL < 160: # Entre 130 e 159\n",
    "    print(\"Limítrofe\")\n",
    "if 160 <= LDL and LDL < 190: # Entre 160 e 189\n",
    "    print(\"Alto\")\n",
    "#if 190 <= LDL:\n",
    "if LDL >= 190: # Maior ou igual à 190\n",
    "    print(\"Muito alto\")"
   ]
  },
  {
   "cell_type": "markdown",
   "metadata": {},
   "source": [
    "<font size=4><p>O programa acima está correto, mas essa não é a melhor forma de realizar esses testes.</p>\n",
    "    \n",
    "<p>No código acima, todos os testes serão feitos, mesmo sabendo que apenas um deles pode ser verdadeiro, qualquer que seja o valor de `LDL`.</p>\n",
    "    \n",
    "<p>Uma forma de melhorar isso é dada a seguir.</p> \n",
    "\n",
    "<p>Estude bem essa forma para entender o que está acontecendo.</p>\n",
    "</font>"
   ]
  },
  {
   "cell_type": "code",
   "execution_count": 26,
   "metadata": {},
   "outputs": [
    {
     "name": "stdout",
     "output_type": "stream",
     "text": [
      "Qual o nível de LDL? 190\n",
      "Muito alto\n"
     ]
    }
   ],
   "source": [
    "LDL = float(input(\"Qual o nível de LDL? \"))\n",
    "\n",
    "if LDL < 100:\n",
    "    print(\"Ótimo\")\n",
    "else: # aqui sabemos que LDL >= 100\n",
    "    if LDL < 130: # por isso basta testar se é menor do que 130\n",
    "        print(\"Baixo\")\n",
    "    else: # aqui sabemos que LDL >= 130\n",
    "        if LDL < 160: # por isso basta testar se é menor do que 160\n",
    "            print(\"Limítrofe\")\n",
    "        else: # aqui sabemos que LDL >= 160\n",
    "            if LDL < 190: # por isso basta testar se é menor do que 190\n",
    "                print(\"Alto\")\n",
    "            else: # aqui sabemos que LDL >= 190\n",
    "                print(\"Muito alto\")"
   ]
  },
  {
   "cell_type": "markdown",
   "metadata": {},
   "source": [
    "<font size=4><p>Existe uma forma ainda melhor de escrevê-lo em Python, que é usando o comando **`elif`** (abreviação de \"else if\"; em português, \"senão, se\"). </p>\n",
    "\n",
    "<p>Você pode usar diversos comandos **`elif`** associados a um **`if`**, mas eles devem sempre vir atrelados a um comando **`if`**. </p>\n",
    "\n",
    "<p>Veja como é mais simples classificar os níveis de LDL com o comando **`elif`**: </p></font>"
   ]
  },
  {
   "cell_type": "code",
   "execution_count": 27,
   "metadata": {},
   "outputs": [
    {
     "name": "stdout",
     "output_type": "stream",
     "text": [
      "Qual o nível de LDL? 100\n",
      "Baixo\n"
     ]
    }
   ],
   "source": [
    "LDL = float(input(\"Qual o nível de LDL? \"))\n",
    "\n",
    "if LDL < 100:   # Menor que 100\n",
    "    print(\"Ótimo\")\n",
    "elif LDL < 130: # Entre 100 e 129\n",
    "    print(\"Baixo\")\n",
    "elif LDL < 160: # Entre 130 e 159\n",
    "    print(\"Limítrofe\")\n",
    "elif LDL < 190: # Entre 160 e 189\n",
    "    print(\"Alto\")\n",
    "else:           # Maior ou igual à 190\n",
    "    print(\"Muito alto\")"
   ]
  },
  {
   "cell_type": "markdown",
   "metadata": {},
   "source": [
    "<font size=4><p>Quando o teste `LDL < 100` resulta em verdadeiro, os comandos do seu bloco são executados e **nenhum** outro comando da construção `if .. elif .. else` é executado (em particular, nenhum teste é feito).</p>\n",
    "    \n",
    "<p>Por outro lado, se o teste `LDL < 100` for falso, então os outros testes serão feitos, mas para todos eles já sabemos que temos um valor de `LDL` maior ou igual a 100 e, por isso, não há necessidade de indicar esse teste nas condições seguintes.</p>\n",
    "    \n",
    "<p>No programa acima, o trecho `print(\"Alto\")` só será executado se:\n",
    "<ul>\n",
    "    <li> a condição do **`if`** for falsa (isto é, se LDL >= 100) **e**</li>\n",
    "    <li> a condição do primeiro **`elif`** for falsa (isto é, se LDL >= 130) **e**</li>\n",
    "    <li> a condição do segundo **`elif`** for falsa (isto é, se LDL >= 160) **e**</li>\n",
    "    <li> a condição do terceiro **`elif`** for verdadeira (isto é, se LDL < 190).</li>\n",
    "</ul>\n",
    "\n",
    "<p>De forma mais geral, um trecho de código dentro de um bloco **`elif`** só será executado se <u>a condição daquele **`elif`** for verdadeira, mas todas as condições dos **`elif`** que o precedem, incluindo a condição do **`if`**, forem todas falsas!</u></p>\n",
    "\n",
    "<p>Por fim, fique sabendo que usar um comando **`elif`** dentro de um **`if`** não proíbe você de usar um **`else`** também, desde que o **`else`** venha por último.</p>\n",
    "\n",
    "<p>O trecho de código dentro do **`else`** só será executado se <u>**todas**</u> as condições que o precederam forem falsas.</p></font>"
   ]
  },
  {
   "cell_type": "markdown",
   "metadata": {},
   "source": [
    "<font size=4><h4>Faça você mesmo!</h4>\n",
    "    \n",
    "<p>Se uma pessoa tem peso $P$ e altura $A$, então o índice de massa corporal (*IMC*) dessa pessoa é\n",
    "$$IMC = \\frac{P}{A^2}.$$</p>\n",
    "\n",
    "<p>Faça um programa que pede para o usuário digitar a sua altura e depois o seu peso. Calcule e mostre\n",
    "o IMC do usuário e diga em que categoria ele está. Use a seguinte tabela:</p></font>\n",
    "\n",
    "| Faixa                | Categoria      |\n",
    "|---------------------:|----------------|\n",
    "|           IMC < 18.5 | Abaixo do peso |\n",
    "| 18.5 &ge; IMC < 25.0 | Normal         |\n",
    "| 25.0 &ge; IMC < 30.0 | Sobrepeso      |\n",
    "|          30 &ge; IMC | Obeso          |\n"
   ]
  },
  {
   "cell_type": "code",
   "execution_count": 1,
   "metadata": {},
   "outputs": [
    {
     "name": "stdout",
     "output_type": "stream",
     "text": [
      "Informe a sua altura em centímetros(cm):180\n",
      "Informe o seu peso em quilogramas(Kg): 88\n",
      "Sobrepeso\n",
      "Índice de massa corporal (IMC) = 27.160493827160494\n"
     ]
    }
   ],
   "source": [
    "altura = float(input(\"Informe a sua altura em centímetros(cm):\"))\n",
    "peso = float(input(\"Informe o seu peso em quilogramas(Kg): \"))\n",
    "\n",
    "imc = (peso / ((altura/100)**2))\n",
    "\n",
    "if imc < 18.5:\n",
    "    print(\"Abaixo do peso\")\n",
    "    print(\"Índice de massa corporal (IMC) = \",imc)\n",
    "else: # aqui sabemos que IMC >= 18.5\n",
    "    if imc < 25: # por isso basta testar se é menor do que 25\n",
    "        print(\"Normal\")\n",
    "        print(\"Índice de massa corporal (IMC) =\",imc)\n",
    "    else: # aqui sabemos que IMC >= 25\n",
    "        if imc < 30: # por isso basta testar se é menor do que 30\n",
    "            print(\"Sobrepeso\")\n",
    "            print(\"Índice de massa corporal (IMC) =\",imc)\n",
    "        else:\n",
    "            print(\"Obeso\")\n",
    "            print(\"Índice de massa corporal (IMC) =\",imc)\n",
    "            \n",
    "            "
   ]
  },
  {
   "cell_type": "markdown",
   "metadata": {},
   "source": [
    "<font size=4><h2>Outro exemplo</h2>\n",
    "    \n",
    "<p>Suponha que queremos descobrir se três dados números são os lados de um triângulo.</p>\n",
    "\n",
    "<p>Obviamente os três valores têm que ser positivos e não nulos mas, além disso, em um triângulo vale a propriedade de que cada um dos seus lados é menor do que a soma dos outros dois lados.</p>\n",
    "\n",
    "<p>Os três códigos a seguir fazem essa verificação de formas diferentes.</p>\n",
    "\n",
    "<p>Estude cada uma delas atentamente.</p>\n",
    "</font>"
   ]
  },
  {
   "cell_type": "code",
   "execution_count": 2,
   "metadata": {},
   "outputs": [
    {
     "name": "stdout",
     "output_type": "stream",
     "text": [
      "Digite um número inteiro: 7\n",
      "Digite outro número inteiro: 7\n",
      "Digite o último número inteiro: 7\n",
      "Os valores formam um triângulo.\n"
     ]
    }
   ],
   "source": [
    "a = int(input(\"Digite um número inteiro: \"))\n",
    "b = int(input(\"Digite outro número inteiro: \"))\n",
    "c = int(input(\"Digite o último número inteiro: \"))\n",
    "\n",
    "if a <= 0 or b <= 0 or c <= 0: # se algum dos números for negativo ou nuloh os lados não formam um triângulo\n",
    "    print(\"Esses valores não formam um triângulo.\")\n",
    "# a seguir sabemos, portanto, que todos os valores são positivos\n",
    "elif a < b+c and b < a+c and c < a+b: # aqui basta testar se cada lado é menor que a soma dos outros dois\n",
    "    print(\"Os valores formam um triângulo.\")\n",
    "# a seguir ainda sabemos que todos os valores são positivos\n",
    "else: # porém algum dos lados deve ser maior ou igual a soma dos outros dois\n",
    "    print(\"Esses valores não formam um triângulo.\")"
   ]
  },
  {
   "cell_type": "code",
   "execution_count": 1,
   "metadata": {},
   "outputs": [
    {
     "name": "stdout",
     "output_type": "stream",
     "text": [
      "Digite um número inteiro: 5\n",
      "Digite outro número inteiro: 4\n",
      "Digite um último número inteiro: 8\n",
      "Os valores formam um triângulo.\n"
     ]
    }
   ],
   "source": [
    "a = int(input(\"Digite um número inteiro: \"))\n",
    "b = int(input(\"Digite outro número inteiro: \"))\n",
    "c = int(input(\"Digite o último número inteiro: \"))\n",
    "\n",
    "if (a > 0 and b > 0 and c > 0) and (a < b+c and b < a+c and c < a+b):\n",
    "    print(\"Os valores formam um triângulo.\")\n",
    "else:\n",
    "    print(\"Esses valores não formam um triângulo.\")"
   ]
  },
  {
   "cell_type": "code",
   "execution_count": 63,
   "metadata": {},
   "outputs": [
    {
     "name": "stdout",
     "output_type": "stream",
     "text": [
      "Digite um número inteiro: 1\n",
      "Digite outro número inteiro: 3\n",
      "Digite um último número inteiro: 2\n",
      "\n",
      "Esses valores não formam um triângulo.\n"
     ]
    }
   ],
   "source": [
    "a = int(input(\"Digite um número inteiro: \"))\n",
    "b = int(input(\"Digite outro número inteiro: \"))\n",
    "c = int(input(\"Digite o último número inteiro: \"))\n",
    "\n",
    "#              >= vira <, <= vira > e or vira and\n",
    "\n",
    "#     (a > 0 and b > 0 and c >  0) and    (a < b+c and b < a+c and c <  a+b):\n",
    "if not(a <= 0 or b <= 0 or c <= 0) and not(a >= b+c or b >= a+c or c >= a+b):\n",
    "    print(\"\\nOs valores formam um triângulo.\")\n",
    "else:\n",
    "    print(\"\\nEsses valores não formam um triângulo.\")"
   ]
  },
  {
   "cell_type": "markdown",
   "metadata": {},
   "source": [
    "<hr><font size=4><h2>Outro exemplo</h2>\n",
    "\n",
    "<p>O problema agora é descobrir qual é o maior número dentre três números inteiros dados pelo usuário.</p>\n",
    "\n",
    "<p>Note que não é dada nenhuma informação sobre os números com relação a eles serem negativos ou positivos ou mesmo se eles estão todos dentro de algum intervalo.</p>\n",
    "\n",
    "</font>"
   ]
  },
  {
   "cell_type": "code",
   "execution_count": 57,
   "metadata": {},
   "outputs": [
    {
     "name": "stdout",
     "output_type": "stream",
     "text": [
      "Digite o primeiro número: 2\n",
      "Digite o segundo número: 1\n",
      "Digite o terceiro número: 3\n",
      "\n",
      "O maior dos três números é 3\n"
     ]
    }
   ],
   "source": [
    "a = int(input(\"Digite o primeiro número: \"))\n",
    "b = int(input(\"Digite o segundo número: \"))\n",
    "c = int(input(\"Digite o terceiro número: \"))\n",
    "\n",
    "# vamos usar uma variável de nome \"maior\" que vai manter qual dos três é o maior deles\n",
    "if a >= b and a >= c:\n",
    "    maior = a\n",
    "elif b >= a and b >= c:\n",
    "    maior = b\n",
    "else:\n",
    "    maior = c\n",
    "\n",
    "print(\"\\nO maior dos três números é\", maior)"
   ]
  },
  {
   "cell_type": "markdown",
   "metadata": {},
   "source": [
    "<font size=4><hr><h2>Agora é a sua vez!</h2>\n",
    "    \n",
    "<p>Resolva a lista de exercícios dessa aula para fixar melhor todo esse conteúdo!</p>\n",
    "\n",
    "<p>Boa sorte e não se esqueça de ir ao horário de atendimento da professora caso esteja com dúvidas ou tenha algum problema.</p>\n",
    "\n",
    "</font>"
   ]
  }
 ],
 "metadata": {
  "kernelspec": {
   "display_name": "Python 3 (ipykernel)",
   "language": "python",
   "name": "python3"
  },
  "language_info": {
   "codemirror_mode": {
    "name": "ipython",
    "version": 3
   },
   "file_extension": ".py",
   "mimetype": "text/x-python",
   "name": "python",
   "nbconvert_exporter": "python",
   "pygments_lexer": "ipython3",
   "version": "3.9.12"
  }
 },
 "nbformat": 4,
 "nbformat_minor": 1
}
